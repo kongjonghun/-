{
 "cells": [
  {
   "cell_type": "code",
   "execution_count": 7,
   "metadata": {},
   "outputs": [
    {
     "name": "stdout",
     "output_type": "stream",
     "text": [
      "10\n",
      "1 1 2 3 5 8 13 21 34 55\n",
      "5\n"
     ]
    }
   ],
   "source": [
    "n=int(input())\n",
    "data=list(map(int, input().split()))\n",
    "dp=[0]*(n+1)\n",
    "dp[1]=data[0]\n",
    "dp[2]=min(data[1], data[0]*2)\n",
    "\n",
    "for i in range(3, n+1):\n",
    "    dp[i]=min(min([dp[j]+dp[i-j] for j in range(1, i//2+1)]), data[i-1])\n",
    "print(dp[-1])"
   ]
  },
  {
   "cell_type": "code",
   "execution_count": 6,
   "metadata": {},
   "outputs": [
    {
     "name": "stdout",
     "output_type": "stream",
     "text": [
      "10\n",
      "1 1 2 3 5 8 13 21 34 55\n",
      "[0, 1, 1, 2, 2, 3, 3, 4, 4, 5, 5]\n"
     ]
    }
   ],
   "source": [
    "n=int(input())\n",
    "data=list(map(int, input().split()))\n",
    "dp=[0]*(n+1)\n",
    "dp[1]=data[0]\n",
    "dp[2]=min(data[1], data[0]*2)\n",
    "\n",
    "for i in range(3, n+1):\n",
    "    dp[i]=data[i-1]\n",
    "    for j in range(i//2+1):\n",
    "        dp[i]=min(dp[j]+dp[i-j], dp[i])\n",
    "print(dp[-1])"
   ]
  }
 ],
 "metadata": {
  "kernelspec": {
   "display_name": "Python 3",
   "language": "python",
   "name": "python3"
  },
  "language_info": {
   "codemirror_mode": {
    "name": "ipython",
    "version": 3
   },
   "file_extension": ".py",
   "mimetype": "text/x-python",
   "name": "python",
   "nbconvert_exporter": "python",
   "pygments_lexer": "ipython3",
   "version": "3.7.6"
  }
 },
 "nbformat": 4,
 "nbformat_minor": 4
}
