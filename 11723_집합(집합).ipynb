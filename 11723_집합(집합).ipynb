{
 "cells": [
  {
   "cell_type": "code",
   "execution_count": 4,
   "metadata": {},
   "outputs": [
    {
     "name": "stdout",
     "output_type": "stream",
     "text": [
      "26\n",
      "add 1\n",
      "add 2\n",
      "check 1\n",
      "1\n",
      "check 2\n",
      "1\n",
      "check 3\n",
      "0\n",
      "remove 2\n",
      "check 1\n",
      "1\n",
      "check 2\n",
      "0\n",
      "toggle 3\n",
      "check 1\n",
      "1\n",
      "check 2\n",
      "0\n",
      "check 3\n",
      "1\n",
      "check 4\n",
      "0\n",
      "all\n",
      "check 10\n",
      "1\n",
      "check 20\n",
      "1\n",
      "toggle 10\n",
      "remove 20\n",
      "check 10\n",
      "0\n",
      "check 20\n",
      "0\n",
      "empty\n",
      "check 1\n",
      "0\n",
      "toggle 1\n",
      "check 1\n",
      "1\n",
      "toggle 1\n",
      "check 1\n",
      "0\n"
     ]
    }
   ],
   "source": [
    "n=int(input())\n",
    "s=set()\n",
    "for _ in range(n):\n",
    "    lst=list(input().split())\n",
    "    if len(lst)==1:        \n",
    "        if lst[0]=='all':\n",
    "            s=set([i for i in range(1, 21)])\n",
    "        else:\n",
    "            s=set()\n",
    "        continue\n",
    "        \n",
    "    cal, num = lst[0], lst[1]\n",
    "    num=int(num)\n",
    "    \n",
    "    if cal=='check':\n",
    "        print(1 if num in s else 0)\n",
    "    elif cal=='add':        \n",
    "        s.add(num)\n",
    "    elif cal=='remove':\n",
    "        s.discard(num)\n",
    "    elif cal=='toggle':\n",
    "        if num in s:\n",
    "            s.remove(num)\n",
    "        else:\n",
    "            s.add(num)    "
   ]
  }
 ],
 "metadata": {
  "kernelspec": {
   "display_name": "Python 3",
   "language": "python",
   "name": "python3"
  },
  "language_info": {
   "codemirror_mode": {
    "name": "ipython",
    "version": 3
   },
   "file_extension": ".py",
   "mimetype": "text/x-python",
   "name": "python",
   "nbconvert_exporter": "python",
   "pygments_lexer": "ipython3",
   "version": "3.7.6"
  }
 },
 "nbformat": 4,
 "nbformat_minor": 4
}
