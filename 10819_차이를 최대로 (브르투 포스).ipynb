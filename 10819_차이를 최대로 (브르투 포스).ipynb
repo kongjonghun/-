{
 "cells": [
  {
   "cell_type": "markdown",
   "metadata": {},
   "source": [
    "브르투 포스 : 완전 탐색 → 모든 경우의 수? 순열, dfs"
   ]
  },
  {
   "cell_type": "markdown",
   "metadata": {},
   "source": [
    "### 순열"
   ]
  },
  {
   "cell_type": "code",
   "execution_count": 4,
   "metadata": {},
   "outputs": [
    {
     "name": "stdout",
     "output_type": "stream",
     "text": [
      "6\n",
      "20 1 15 8 4 10\n",
      "62\n"
     ]
    }
   ],
   "source": [
    "from itertools import permutations\n",
    "#import sys\n",
    "#input = sys.stdin.readline \n",
    "N=int(input())\n",
    "A=map(int, input().split())\n",
    "\n",
    "per=permutations(A)\n",
    "\n",
    "sum_per=0\n",
    "for i in per:\n",
    "    sum_a=0\n",
    "    for j in range(len(i)-1):\n",
    "        sum_a+=abs(i[j]-i[j+1])\n",
    "    sum_per=max(sum_per, sum_a)\n",
    "\n",
    "print(sum_per)    "
   ]
  },
  {
   "cell_type": "markdown",
   "metadata": {},
   "source": [
    "### DFS : 브루트 포스 + 백트래킹"
   ]
  },
  {
   "cell_type": "code",
   "execution_count": 7,
   "metadata": {},
   "outputs": [
    {
     "name": "stdout",
     "output_type": "stream",
     "text": [
      "6\n",
      "20 1 15 8 4 10\n",
      "62\n"
     ]
    }
   ],
   "source": [
    "# import sys\n",
    "# input = sys.stdin.readline\n",
    "def dfs(depth):\n",
    "    if depth==N:\n",
    "        res.append(sum(abs(temp[i+1]-temp[i]) for i in range(len(temp)-1)))\n",
    "        return\n",
    "    for i in range(N):\n",
    "        if chk[i]:\n",
    "            continue\n",
    "        temp.append(A[i])\n",
    "        chk[i]=1\n",
    "        dfs(depth+1)\n",
    "        temp.pop()\n",
    "        chk[i]=0\n",
    "\n",
    "N=int(input())\n",
    "A=list(map(int, input().split()))\n",
    "res,temp=[],[]\n",
    "chk=[0]*N\n",
    "dfs(0)\n",
    "print(max(res))"
   ]
  }
 ],
 "metadata": {
  "kernelspec": {
   "display_name": "Python 3",
   "language": "python",
   "name": "python3"
  },
  "language_info": {
   "codemirror_mode": {
    "name": "ipython",
    "version": 3
   },
   "file_extension": ".py",
   "mimetype": "text/x-python",
   "name": "python",
   "nbconvert_exporter": "python",
   "pygments_lexer": "ipython3",
   "version": "3.7.6"
  }
 },
 "nbformat": 4,
 "nbformat_minor": 4
}
