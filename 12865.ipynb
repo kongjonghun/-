{
 "cells": [
  {
   "cell_type": "markdown",
   "metadata": {},
   "source": [
    "# 12865 : 평범한 배낭"
   ]
  },
  {
   "cell_type": "markdown",
   "metadata": {},
   "source": [
    "https://www.acmicpc.net/problem/12865"
   ]
  },
  {
   "cell_type": "markdown",
   "metadata": {},
   "source": [
    "><b>핵심 아이디어</b> : <u>모든 무게</u>에 대하여 최대 가치를 저장하기  \n",
    "- D[i][j] = 배낭에 넣은 물품의 무게 합이 j일 때 얻을 수 있는 최대 가치  \n",
    "- 각 물품의 번호(i)에 따라 최대 가치 테이블(D[i][j])을 갱신하여 문제를 해결"
   ]
  },
  {
   "cell_type": "markdown",
   "metadata": {},
   "source": [
    "### 알고리즘  \n",
    "1) x축엔 가방 1~K 까지의 무게, y축은 물건 N개 개수 만큼의 배열을 만들어준다.\n",
    "\n",
    "2) 행을 차례대로 돌며 다음과 같은 알고리즘을 수행해준다.\n",
    "\n",
    " \n",
    "3-0) 현재 물건이 현재 돌고있는 무게보다 작다면 바로 [이전 물건][같은 무게] (dp[i-1][j]를 입력해준다.\n",
    "\n",
    "3-1) 현재 물건을 넣어준다. 물건을 넣은 뒤의 남은 무게를 채울 수 있는 최댓값(dp[i-1][j-weight]을 위의 행에서 가져와 더해준다.\n",
    "\n",
    "3-2) 현재 물건을 넣어주는 것보다. 다른 물건들로 채우는 값(dp[i-1][j])을 가져온다.\n",
    "\n",
    "4) 3-1과 3-2 중 더 큰 값을 dp[i][j]에 저장해준다. 이 값은 현재까지의 물건들로 구성할 수 있는 가장 가치 높은 구성이다.\n",
    "\n",
    "5) dp[N][K]는 곧, K무게일 때의 최댓값을 가리킨다."
   ]
  },
  {
   "cell_type": "markdown",
   "metadata": {},
   "source": [
    "### 수식\n",
    "결국 수식으로 표현하면 다음과 같다.\n",
    "\n",
    "dp[i][j] = max(현재 물건 가치 + dp[이전 물건][현재 가방 무게 - 현재 물건 무게],  dp[이전 물건][현재 가방 무게])  \n",
    "\n",
    "\n",
    "→ dp[i][j] = max(현재 물건 가치 + 이전 물건의 (현재 가방 무게 - 현재 물건 무게)의 최대 가치, 이전 물건의 현재 가방 무게의 가치)\n",
    "\n",
    "\n",
    "\n",
    "dp[i][j] = max(value + dp[i - 1][j - weight],  dp[i - 1][j])"
   ]
  },
  {
   "cell_type": "markdown",
   "metadata": {},
   "source": [
    "### 점화식\n",
    "![title](12865_2.png)"
   ]
  },
  {
   "cell_type": "markdown",
   "metadata": {},
   "source": [
    "![title](12865.png)"
   ]
  },
  {
   "cell_type": "code",
   "execution_count": 2,
   "metadata": {},
   "outputs": [
    {
     "name": "stdout",
     "output_type": "stream",
     "text": [
      "4 7\n",
      "6 13\n",
      "4 8\n",
      "3 6\n",
      "5 12\n",
      "14\n"
     ]
    }
   ],
   "source": [
    "n, k = map(int, input().split())\n",
    "dp = [[0]*(k+1) for _ in range(n+1)] # 2차원 배열 생성\n",
    "\n",
    "for i in range(1, n+1):  # 각 물품별로 최대가치 탐색\n",
    "    w, v = map(int, input().split()) \n",
    "    for j in range(1, k+1): # 모든 가방 무게에 대해 탐색\n",
    "        if w>j:  # 현재 물품 무게 > 현재 가방 무게 → 이전 물품의 현재 가방 무게의 최대 가치\n",
    "            dp[i][j]=dp[i-1][j]\n",
    "        else:    # 현재 물품 무게 <= 현재 가방 무게 → max(이전 물품 중 나머지 무게의 가치+현재 물품 무게의 가치, 이전 물품 무게의 가치)\n",
    "            dp[i][j]= max(dp[i-1][j-w]+v, dp[i-1][j]) \n",
    "print(dp[n][k])            "
   ]
  }
 ],
 "metadata": {
  "kernelspec": {
   "display_name": "Python 3",
   "language": "python",
   "name": "python3"
  },
  "language_info": {
   "codemirror_mode": {
    "name": "ipython",
    "version": 3
   },
   "file_extension": ".py",
   "mimetype": "text/x-python",
   "name": "python",
   "nbconvert_exporter": "python",
   "pygments_lexer": "ipython3",
   "version": "3.7.6"
  }
 },
 "nbformat": 4,
 "nbformat_minor": 4
}
