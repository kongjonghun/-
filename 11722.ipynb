{
 "cells": [
  {
   "cell_type": "markdown",
   "metadata": {},
   "source": [
    "# 11722 : 가장 긴 감소하는 부분 수열"
   ]
  },
  {
   "cell_type": "markdown",
   "metadata": {},
   "source": [
    "- 11053 : 가장 긴 증가하는 부분 수열"
   ]
  },
  {
   "cell_type": "markdown",
   "metadata": {},
   "source": [
    "https://www.acmicpc.net/problem/11722"
   ]
  },
  {
   "cell_type": "markdown",
   "metadata": {},
   "source": [
    "DP 이용"
   ]
  },
  {
   "cell_type": "markdown",
   "metadata": {},
   "source": [
    "![title](11722.jpg)"
   ]
  },
  {
   "cell_type": "markdown",
   "metadata": {},
   "source": [
    "![](111722.png)"
   ]
  },
  {
   "cell_type": "code",
   "execution_count": 2,
   "metadata": {},
   "outputs": [
    {
     "name": "stdout",
     "output_type": "stream",
     "text": [
      "6\n",
      "10 30 10 20 20 10\n",
      "3\n"
     ]
    }
   ],
   "source": [
    "n=int(input())\n",
    "array=list(map(int, input().split()))\n",
    "dp=[1]*n\n",
    "\n",
    "for i in range(1,n):\n",
    "    for j in range(0,i):\n",
    "        if array[j]>array[i]:\n",
    "            dp[i]=max(dp[i], dp[j]+1)\n",
    "print(max(dp))            "
   ]
  }
 ],
 "metadata": {
  "kernelspec": {
   "display_name": "Python 3",
   "language": "python",
   "name": "python3"
  },
  "language_info": {
   "codemirror_mode": {
    "name": "ipython",
    "version": 3
   },
   "file_extension": ".py",
   "mimetype": "text/x-python",
   "name": "python",
   "nbconvert_exporter": "python",
   "pygments_lexer": "ipython3",
   "version": "3.7.6"
  }
 },
 "nbformat": 4,
 "nbformat_minor": 4
}
