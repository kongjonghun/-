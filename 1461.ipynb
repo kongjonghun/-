{
 "cells": [
  {
   "cell_type": "markdown",
   "metadata": {},
   "source": [
    "# 1461 : 도서관"
   ]
  },
  {
   "cell_type": "markdown",
   "metadata": {},
   "source": [
    "https://www.acmicpc.net/problem/1461"
   ]
  },
  {
   "cell_type": "markdown",
   "metadata": {},
   "source": [
    "<img src=\"1461.jpg\" height=\"60%\" width=\"80%\">"
   ]
  },
  {
   "cell_type": "markdown",
   "metadata": {},
   "source": [
    "### 문풀 1 : 112ms"
   ]
  },
  {
   "cell_type": "code",
   "execution_count": 3,
   "metadata": {},
   "outputs": [
    {
     "name": "stdout",
     "output_type": "stream",
     "text": [
      "7 2\n",
      "-37 2 -6 -39 -29 11 -28\n",
      "131\n"
     ]
    }
   ],
   "source": [
    "n,m =map(int, input().split())\n",
    "books=list(map(int, input().split()))\n",
    "books.sort()\n",
    "books1=[]\n",
    "books2=[]\n",
    "result=[]\n",
    "for i in books:\n",
    "    if i<0:\n",
    "        books1.append(i)  # 음수 리스트\n",
    "    else:\n",
    "        books2.append(i)  # 양수 리스트\n",
    "        \n",
    "for i in range(0, len(books1), m):    # m간격으로 데이터 입력(음수리스트) / 오름차순으로 입력\n",
    "    result.append(abs(books1[i])) \n",
    "                  \n",
    "for i in range(len(books2)-1, -1, -m): # m간격으로 데이터 입력(양수리스트) / 내림차순으로 입력\n",
    "    result.append(books2[i])\n",
    "\n",
    "print(sum(result)*2 - max(result))  # 각 경로 * 2 - 최대경로"
   ]
  },
  {
   "cell_type": "markdown",
   "metadata": {},
   "source": [
    "### 문풀 2 : 132ms"
   ]
  },
  {
   "cell_type": "code",
   "execution_count": 5,
   "metadata": {},
   "outputs": [
    {
     "name": "stdout",
     "output_type": "stream",
     "text": [
      "7 2\n",
      "-37 2 -6 -39 -29 11 -28\n",
      "131\n"
     ]
    }
   ],
   "source": [
    "import heapq\n",
    "n,m =map(int, input().split())\n",
    "array=list(map(int, input().split()))\n",
    "positive=[]\n",
    "negative=[]\n",
    "\n",
    "largest=max(max(array), -min(array))\n",
    "\n",
    "for i in array:\n",
    "    if i>0:\n",
    "        heapq.heappush(positive, -i)  # 양수일경우, maxheap을 위해 -데이터 push\n",
    "    else:\n",
    "        heapq.heappush(negative, i)\n",
    "\n",
    "result=0\n",
    "\n",
    "while positive:\n",
    "    result+=heapq.heappop(positive)  # m개 단위마다 하나씩 result에 저장\n",
    "    for _ in range(m-1):           # m-1개만큼 빼기 : 간격 조절\n",
    "        if positive:\n",
    "            heapq.heappop(positive)\n",
    "\n",
    "while negative:\n",
    "    result+=heapq.heappop(negative)    # m개 단위마다 하나씩 result에 저장\n",
    "    for _ in range(m-1):              # m-1개만큼 빼기 : 간격 조절\n",
    "        if negative:\n",
    "            heapq.heappop(negative)\n",
    "\n",
    "print(-result*2 - largest)"
   ]
  }
 ],
 "metadata": {
  "kernelspec": {
   "display_name": "Python 3",
   "language": "python",
   "name": "python3"
  },
  "language_info": {
   "codemirror_mode": {
    "name": "ipython",
    "version": 3
   },
   "file_extension": ".py",
   "mimetype": "text/x-python",
   "name": "python",
   "nbconvert_exporter": "python",
   "pygments_lexer": "ipython3",
   "version": "3.7.6"
  }
 },
 "nbformat": 4,
 "nbformat_minor": 4
}
