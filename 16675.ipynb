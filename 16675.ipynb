{
 "cells": [
  {
   "cell_type": "markdown",
   "metadata": {},
   "source": [
    "# 16675 : 두 개의 손"
   ]
  },
  {
   "cell_type": "markdown",
   "metadata": {},
   "source": [
    "### 구현1"
   ]
  },
  {
   "cell_type": "code",
   "execution_count": 11,
   "metadata": {},
   "outputs": [
    {
     "name": "stdout",
     "output_type": "stream",
     "text": [
      "P P S R\n",
      "TK\n"
     ]
    }
   ],
   "source": [
    "ML, MR , TL, TR =input().split()\n",
    "\n",
    "if ML!=MR and TL!=TR:\n",
    "    print('?')\n",
    "elif ML==MR and TL!=TR:\n",
    "    if ML=='R' and 'P' in (TL, TR):\n",
    "            print('TK')\n",
    "    elif ML=='S' and 'R' in (TL, TR):\n",
    "            print('TK')\n",
    "    elif ML=='P' and 'S' in (TL, TR):\n",
    "            print('TK')    \n",
    "    else:\n",
    "        print('?')                        \n",
    "elif ML!=MR and TL==TR:\n",
    "    if TL=='R' and 'P' in (ML, MR):\n",
    "            print('MS')\n",
    "    elif TL=='S' and 'R' in (ML, MR):\n",
    "            print('MS')\n",
    "    elif TL=='P' and 'S' in (ML, MR):\n",
    "            print('MS')\n",
    "    else:\n",
    "        print('?')\n",
    "else:\n",
    "    if ML=='R':\n",
    "        if TL=='P':\n",
    "            print('TK')\n",
    "        elif TL=='S':\n",
    "            print('MS')\n",
    "        else:\n",
    "            print('?')\n",
    "    elif ML=='S':\n",
    "        if TL=='R':\n",
    "            print('TK')\n",
    "        elif TL=='P':\n",
    "            print('MS')        \n",
    "        else:\n",
    "            print('?')\n",
    "    else:\n",
    "        if TL=='S':\n",
    "            print('TK')\n",
    "        elif TL=='R':\n",
    "            print('MS')\n",
    "        else:\n",
    "            print('?')"
   ]
  },
  {
   "cell_type": "markdown",
   "metadata": {},
   "source": [
    "### 풀이2"
   ]
  },
  {
   "cell_type": "markdown",
   "metadata": {},
   "source": [
    "### 리스트 오른쪽 이동하는 방법(리스트 오른쪽 참조하는 방법)  \n",
    "리스트 길이 N  \n",
    "(index+1) % N  "
   ]
  },
  {
   "cell_type": "markdown",
   "metadata": {},
   "source": [
    "### Find(), Index()\n",
    "* #### 공통점  \n",
    "문자열에서 원하는 문자나 문자열이 어디 있는지를 알려주는 것  (index로 반환)\n",
    "\n",
    "* #### 차이점  \n",
    "찾는 문자나 문자열이 없을 경우  \n",
    "find : -1   \n",
    "index : 오류\n",
    "\n",
    "문자열.find('문자')  \n",
    "문자열.index('문자')"
   ]
  },
  {
   "cell_type": "code",
   "execution_count": 12,
   "metadata": {},
   "outputs": [
    {
     "name": "stdout",
     "output_type": "stream",
     "text": [
      "R S P R\n",
      "?\n"
     ]
    }
   ],
   "source": [
    "ML, MR, TL, TR = ('SRP'.index(i) for i in input().split())\n",
    "\n",
    "if ML==MR and (ML+1)%3 in [TL, TR]:\n",
    "    print('TK')\n",
    "elif TL==TR and (TL+1)%3 in [ML, MR]:\n",
    "    print('MS')\n",
    "else:\n",
    "    print('?')"
   ]
  },
  {
   "cell_type": "code",
   "execution_count": 14,
   "metadata": {},
   "outputs": [
    {
     "name": "stdout",
     "output_type": "stream",
     "text": [
      "R S P R\n",
      "?\n"
     ]
    }
   ],
   "source": [
    "ML, MR, TL, TR = ('SRP'.find(i) for i in input().split())\n",
    "\n",
    "if ML==MR and (ML+1)%3 in [TL, TR]:\n",
    "    print('TK')\n",
    "elif TL==TR and (TL+1)%3 in [ML, MR]:\n",
    "    print('MS')\n",
    "else:\n",
    "    print('?')"
   ]
  }
 ],
 "metadata": {
  "kernelspec": {
   "display_name": "Python 3",
   "language": "python",
   "name": "python3"
  },
  "language_info": {
   "codemirror_mode": {
    "name": "ipython",
    "version": 3
   },
   "file_extension": ".py",
   "mimetype": "text/x-python",
   "name": "python",
   "nbconvert_exporter": "python",
   "pygments_lexer": "ipython3",
   "version": "3.7.6"
  }
 },
 "nbformat": 4,
 "nbformat_minor": 4
}
