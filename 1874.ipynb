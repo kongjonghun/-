{
 "cells": [
  {
   "cell_type": "markdown",
   "metadata": {},
   "source": [
    "# 1874 : 스택 수열"
   ]
  },
  {
   "cell_type": "markdown",
   "metadata": {},
   "source": [
    "스택 (stack)은 기본적인 자료구조 중 하나로, 컴퓨터 프로그램을 작성할 때 자주 이용되는 개념이다. 스택은 자료를 넣는 (push) 입구와 자료를 뽑는 (pop) 입구가 같아 제일 나중에 들어간 자료가 제일 먼저 나오는 (LIFO, Last in First out) 특성을 가지고 있다.\n",
    "\n",
    "1부터 n까지의 수를 스택에 넣었다가 뽑아 늘어놓음으로써, 하나의 수열을 만들 수 있다. 이때, 스택에 push하는 순서는 반드시 오름차순을 지키도록 한다고 하자. 임의의 수열이 주어졌을 때 스택을 이용해 그 수열을 만들 수 있는지 없는지, 있다면 어떤 순서로 push와 pop 연산을 수행해야 하는지를 알아낼 수 있다. 이를 계산하는 프로그램을 작성하라."
   ]
  },
  {
   "cell_type": "markdown",
   "metadata": {},
   "source": [
    "- '구분자'.join(리스트) : 리스트에 있는 요소 하나하나를 구분자 기준으로 합쳐서 하나의 문자열로 바꾸어 반환하는 함수\n",
    "     ex) '_'.join([1,2,3,4]) => 1_2_3_4\n",
    "- exit(0) : 프로그램 종료"
   ]
  },
  {
   "cell_type": "markdown",
   "metadata": {},
   "source": [
    "### 풀이1"
   ]
  },
  {
   "cell_type": "code",
   "execution_count": 7,
   "metadata": {},
   "outputs": [
    {
     "name": "stdout",
     "output_type": "stream",
     "text": [
      "8\n",
      "4\n",
      "3\n",
      "6\n",
      "8\n",
      "7\n",
      "5\n",
      "2\n",
      "1\n",
      "+\n",
      "+\n",
      "+\n",
      "+\n",
      "-\n",
      "-\n",
      "+\n",
      "+\n",
      "-\n",
      "+\n",
      "+\n",
      "-\n",
      "-\n",
      "-\n",
      "-\n",
      "-\n"
     ]
    }
   ],
   "source": [
    "n=int(input())\n",
    "stack=[]\n",
    "result=[]\n",
    "cnt=1\n",
    "tf=True\n",
    "for i in range(n):\n",
    "    data=int(input())\n",
    "    while cnt<=data:\n",
    "        result.append('+')\n",
    "        stack.append(cnt)\n",
    "        cnt+=1\n",
    "    if data==stack[-1]:\n",
    "        stack.pop()\n",
    "        result.append('-')\n",
    "    else:\n",
    "        tf=False\n",
    "        break\n",
    "\n",
    "if tf:\n",
    "    for i in result:\n",
    "        print(i)    \n",
    "else:\n",
    "    print(\"NO\")"
   ]
  },
  {
   "cell_type": "markdown",
   "metadata": {},
   "source": [
    "### 풀이2"
   ]
  },
  {
   "cell_type": "code",
   "execution_count": 1,
   "metadata": {},
   "outputs": [
    {
     "name": "stdout",
     "output_type": "stream",
     "text": [
      "8\n",
      "4\n",
      "3\n",
      "6\n",
      "8\n",
      "7\n",
      "5\n",
      "2\n",
      "1\n",
      "+\n",
      "+\n",
      "+\n",
      "+\n",
      "-\n",
      "-\n",
      "+\n",
      "+\n",
      "-\n",
      "+\n",
      "+\n",
      "-\n",
      "-\n",
      "-\n",
      "-\n",
      "-\n"
     ]
    }
   ],
   "source": [
    "n =int(input())\n",
    "stack = list()\n",
    "result = list()\n",
    "cnt = 1\n",
    "\n",
    "for i in range(1, n+1):\n",
    "    data = int(input())\n",
    "    while cnt <= data:        \n",
    "        stack.append(cnt)\n",
    "        cnt += 1\n",
    "        result.append(\"+\")\n",
    "    if stack[-1] == data:\n",
    "        stack.pop()\n",
    "        result.append(\"-\")\n",
    "    else:\n",
    "        print(\"NO\")\n",
    "        exit(0)\n",
    "        \n",
    "print('\\n'.join(result))"
   ]
  }
 ],
 "metadata": {
  "kernelspec": {
   "display_name": "Python 3",
   "language": "python",
   "name": "python3"
  },
  "language_info": {
   "codemirror_mode": {
    "name": "ipython",
    "version": 3
   },
   "file_extension": ".py",
   "mimetype": "text/x-python",
   "name": "python",
   "nbconvert_exporter": "python",
   "pygments_lexer": "ipython3",
   "version": "3.7.6"
  }
 },
 "nbformat": 4,
 "nbformat_minor": 4
}
