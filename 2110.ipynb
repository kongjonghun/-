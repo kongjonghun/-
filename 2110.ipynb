{
 "cells": [
  {
   "cell_type": "markdown",
   "metadata": {},
   "source": [
    "# 2110 : 공유기 설치"
   ]
  },
  {
   "cell_type": "markdown",
   "metadata": {},
   "source": [
    "https://www.acmicpc.net/problem/2110"
   ]
  },
  {
   "cell_type": "markdown",
   "metadata": {},
   "source": [
    "### 이진탐색\n",
    "- 가장 인접한 두 공유기 사이의 최대 거리를 <b>이진탐색</b>으로 찾는다.\n",
    "- 집을 정렬해서 최소 거리와 최대 거리를 계산하고 이들의 중간값(거리)을 계산\n",
    "- 중간값을 기준으로 집의 개수를 셌을 때 C보다 크다면, 최소값을 중간값 + 1로 갱신하고,\n",
    "- 중간값을 기준으로 집의 개수를 셌을 때 C보다 작다면, 최댓값을 중간값 - 1로 갱신한다.\n",
    "- 이걸 계속 반복하는 데, 최솟값과 최댓값이 같아질 때까지 반복한다."
   ]
  },
  {
   "cell_type": "markdown",
   "metadata": {},
   "source": [
    "시간 복잡도 : log(10억)x20만 (O(logx * N))"
   ]
  },
  {
   "cell_type": "markdown",
   "metadata": {},
   "source": [
    "- 가장 인접한 두 공유기 사이의 최대 거리를 1부터 시작하여 최대거리간격(아래 예 : 8)까지 하나씩 탐색 가능하다.  \n",
    "\n",
    "ex) 가장 인접 최대 거리  \n",
    "    1 → 1,2,4,8,9 (5개)    \n",
    "    2 → 1,4,8 (3개)  \n",
    "    3 → 1,4,9 (3개)  \n",
    "    4 → 1,8 (2개)  \n",
    "    5 → 1,8 (2개)  \n",
    "    6 → 1,8 (2개)  \n",
    "    7 → 1,8 (2개)  \n",
    "    8 → 1,9 (2개)  \n",
    "    결과 : result=[2,3]   \n",
    "\n",
    "\n",
    "- 그러나 집의 좌표 x는 10억개로 <b>완전 탐색</b>시 O(X) 시간복잡도로 시간이 매우 걸리게 된다.  \n",
    "- 이를 해결하고자, <b>이진 탐색</b>을 사용하여 O(log(x)) 시간복잡도를 가지게 된다."
   ]
  },
  {
   "cell_type": "markdown",
   "metadata": {},
   "source": [
    "![title](2110.jpg)"
   ]
  },
  {
   "cell_type": "markdown",
   "metadata": {},
   "source": [
    "### 풀이1 : result를 리스트로"
   ]
  },
  {
   "cell_type": "code",
   "execution_count": 12,
   "metadata": {},
   "outputs": [
    {
     "name": "stdout",
     "output_type": "stream",
     "text": [
      "5 3\n",
      "1\n",
      "2\n",
      "8\n",
      "4\n",
      "9\n",
      "3\n"
     ]
    }
   ],
   "source": [
    "n, c =list(map(int, input().split()))\n",
    "data=[]\n",
    "result=[]                       # 결과는 List에 저장\n",
    "for _ in range(n):\n",
    "    data.append(int(input()))\n",
    "data.sort()\n",
    "\n",
    "min, max = 1, data[-1]-data[0]   # Gap차이는 최소 : 1, 최대 : 마지막데이터-처음데이터\n",
    "\n",
    "while min<=max:\n",
    "    mid=(min+max)//2    \n",
    "    dif=data[0]\n",
    "    cnt=1\n",
    "    for i in range(1, len(data)): # Gap차이 나는 숫자 탐색\n",
    "        if data[i]-dif>=mid:\n",
    "            dif=data[i]\n",
    "            cnt+=1            \n",
    "    if cnt>=c:     # C개 이상의 공유기를 설치할 수 있는 경우\n",
    "        min=mid+1\n",
    "        result.append(mid)\n",
    "    else:          # C개 이상의 공유기를 설치할 수 없는 경우\n",
    "        max=mid-1            \n",
    "\n",
    "print(result[-1])"
   ]
  },
  {
   "cell_type": "markdown",
   "metadata": {},
   "source": [
    "### 풀이 2 : result를 정수로"
   ]
  },
  {
   "cell_type": "code",
   "execution_count": 15,
   "metadata": {},
   "outputs": [
    {
     "name": "stdout",
     "output_type": "stream",
     "text": [
      "5 3\n",
      "1\n",
      "2\n",
      "8\n",
      "4\n",
      "9\n",
      "3\n"
     ]
    }
   ],
   "source": [
    "n, c =list(map(int, input().split()))\n",
    "array=[]\n",
    "\n",
    "for _ in range(n):\n",
    "    array.append(int(input()))\n",
    "array.sort()\n",
    "\n",
    "min, max = 1, array[-1]-array[0] \n",
    "result=0\n",
    "\n",
    "while min<=max:              # 집의 좌표 : O(log(10억))\n",
    "    mid=(min+max)//2    \n",
    "    dif=array[0]\n",
    "    cnt=1\n",
    "    for i in range(1, len(array)): # mid는 Gap을 의미 / 집의 개수 반복문 : O(200,000)\n",
    "        if array[i]-dif>=mid: \n",
    "            dif=array[i]\n",
    "            cnt+=1            \n",
    "    if cnt>=c:    \n",
    "        min=mid+1 \n",
    "        result=mid\n",
    "    else:          \n",
    "        max=mid-1    \n",
    "        \n",
    "print(result)"
   ]
  }
 ],
 "metadata": {
  "kernelspec": {
   "display_name": "Python 3",
   "language": "python",
   "name": "python3"
  },
  "language_info": {
   "codemirror_mode": {
    "name": "ipython",
    "version": 3
   },
   "file_extension": ".py",
   "mimetype": "text/x-python",
   "name": "python",
   "nbconvert_exporter": "python",
   "pygments_lexer": "ipython3",
   "version": "3.7.6"
  }
 },
 "nbformat": 4,
 "nbformat_minor": 4
}
