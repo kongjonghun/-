{
 "cells": [
  {
   "cell_type": "markdown",
   "metadata": {},
   "source": [
    "# 2484 : 주사위 네개"
   ]
  },
  {
   "cell_type": "code",
   "execution_count": 10,
   "metadata": {},
   "outputs": [
    {
     "name": "stdout",
     "output_type": "stream",
     "text": [
      "4\n",
      "3 3 3 3\n",
      "3 3  6 3\n",
      "2 2 6 6\n",
      "6 2 1 5\n",
      "65000\n"
     ]
    }
   ],
   "source": [
    "n=int(input())\n",
    "max_money=0\n",
    "for _ in range(n):\n",
    "    dice=sorted(list(map(int, input().split())))    \n",
    "    if len(set(dice))==1:\n",
    "        money = 50000 + dice[0]*5000\n",
    "    if len(set(dice))==2:\n",
    "        if dice[1]==dice[2]:\n",
    "            money = 10000 + dice[1]*1000\n",
    "        else:\n",
    "            money = 2000 + dice[1]*500 + dice[2]*500    \n",
    "    if len(set(dice))==3:\n",
    "        for i in range(len(dice)-1):\n",
    "            if dice[i]==dice[i+1]:\n",
    "                money=1000 + dice[i]*100        \n",
    "    if len(set(dice))==4:\n",
    "        money = dice[-1]*100\n",
    "                \n",
    "    max_money=max(max_money, money)\n",
    "    \n",
    "print(max_money)        "
   ]
  },
  {
   "cell_type": "code",
   "execution_count": 19,
   "metadata": {},
   "outputs": [
    {
     "name": "stdout",
     "output_type": "stream",
     "text": [
      "4\n",
      "3 3 3 3\n",
      "3 3 6 3\n",
      "2 2 6 6 \n",
      "6 2 1 5\n",
      "65000\n"
     ]
    }
   ],
   "source": [
    "def money():\n",
    "    dice=sorted(list(map(int, input().split())))\n",
    "    if len(set(dice))==1:\n",
    "        return 50000 + dice[0]*5000\n",
    "    if len(set(dice))==2:\n",
    "        if dice[1]==dice[2]:\n",
    "            return 10000 + dice[1]*1000\n",
    "        else:\n",
    "            return 2000 + dice[1]*500 + dice[2]*500  \n",
    "    if len(set(dice))==3:\n",
    "        for i in range(len(dice)-1):\n",
    "            if dice[i]==dice[i+1]:\n",
    "                return 1000 + dice[i]*100        \n",
    "    if len(set(dice))==4:\n",
    "        return dice[-1]*100                \n",
    "        \n",
    "n=int(input())\n",
    "\n",
    "print(max(money() for i in range(n)))"
   ]
  }
 ],
 "metadata": {
  "kernelspec": {
   "display_name": "Python 3",
   "language": "python",
   "name": "python3"
  },
  "language_info": {
   "codemirror_mode": {
    "name": "ipython",
    "version": 3
   },
   "file_extension": ".py",
   "mimetype": "text/x-python",
   "name": "python",
   "nbconvert_exporter": "python",
   "pygments_lexer": "ipython3",
   "version": "3.7.6"
  }
 },
 "nbformat": 4,
 "nbformat_minor": 4
}
