{
 "cells": [
  {
   "cell_type": "markdown",
   "metadata": {},
   "source": [
    "# 2747 : 피보나치 수"
   ]
  },
  {
   "cell_type": "markdown",
   "metadata": {},
   "source": [
    "피보나치 수는 0과 1로 시작한다. 0번째 피보나치 수는 0이고, 1번째 피보나치 수는 1이다. 그 다음 2번째 부터는 바로 앞 두 피보나치 수의 합이 된다.\n",
    "\n",
    "이를 식으로 써보면 Fn = Fn-1 + Fn-2 (n ≥ 2)가 된다.\n",
    "\n",
    "n=17일때 까지 피보나치 수를 써보면 다음과 같다.\n",
    "\n",
    "0, 1, 1, 2, 3, 5, 8, 13, 21, 34, 55, 89, 144, 233, 377, 610, 987, 1597\n",
    "\n",
    "n이 주어졌을 때, n번째 피보나치 수를 구하는 프로그램을 작성하시오."
   ]
  },
  {
   "cell_type": "markdown",
   "metadata": {},
   "source": [
    "* <b>동적계획법(DP:Dynamic Porgramming)</b> : 입력크기가 작은 부분 문제들을 해결한 후, 해당 부분 문제의 해를 활용해서, 보다 큰 크기의 부분 문제를 해결, 최종적으로 전체 문제를 해결하는 알고리즘  \n",
    "\n",
    "\n",
    "    - 상향식 접근법\n",
    "    - 부분 문제는 중복, 상위 문제 해결 시 재활용\n",
    "    - Memoization 기법  \n",
    "ex) 피보나치 수열     \n",
    "    \n",
    "    \n",
    "* <b>분할정복(Divide and Conquer)</b> : 문제를 나눌 수 없을 때까지 나누어 각각 풀면서 다시 합병하여 문제의 답을 얻는 알고리즘\n",
    "\n",
    "\n",
    "    - 하향식 접근법\n",
    "    - 부분 문제는 중복 X\n",
    "    - Memoization 기법 X  \n",
    "ex) 병합,퀵 정렬"
   ]
  },
  {
   "cell_type": "markdown",
   "metadata": {},
   "source": [
    "#### 재귀적 용법 O(2^N) : 타임아웃 - 동일부분 중복 호출"
   ]
  },
  {
   "cell_type": "code",
   "execution_count": 6,
   "metadata": {},
   "outputs": [
    {
     "name": "stdout",
     "output_type": "stream",
     "text": [
      "10\n",
      "55\n"
     ]
    }
   ],
   "source": [
    "def fibo(n):       \n",
    "    if n == 0:\n",
    "        return 0\n",
    "    if n == 1:\n",
    "        return 1        \n",
    "    return fibo(n-1) + fibo(n-2)\n",
    "\n",
    "print(fibo(int(input())))"
   ]
  },
  {
   "cell_type": "markdown",
   "metadata": {},
   "source": [
    "#### 동적계획법(DP) "
   ]
  },
  {
   "cell_type": "code",
   "execution_count": 3,
   "metadata": {},
   "outputs": [
    {
     "name": "stdout",
     "output_type": "stream",
     "text": [
      "1597\n"
     ]
    }
   ],
   "source": [
    "def fibo_dp(n):\n",
    "    array=[0 for i in range(n+1)]\n",
    "    array[0]=0\n",
    "    array[1]=1\n",
    "    for i in range(2, n+1):\n",
    "        array[i] = array[i-1] + array[i-2]\n",
    "    return array[n]\n",
    "\n",
    "print(fibo_dp(int(input())))"
   ]
  },
  {
   "cell_type": "markdown",
   "metadata": {},
   "source": [
    "n을 가장 작은 단위로 쪼개고, 부분 문제들을 해결하고 이 해를 이용하여 상위 부분 문제들을 해결  \n",
    "0, 1 → 1 → 2 → 3 → 5 → 8 → 13 → 21 → 34 → 55 → 89 ..."
   ]
  },
  {
   "cell_type": "markdown",
   "metadata": {},
   "source": [
    "#### 강의 풀이"
   ]
  },
  {
   "cell_type": "code",
   "execution_count": 14,
   "metadata": {},
   "outputs": [
    {
     "name": "stdout",
     "output_type": "stream",
     "text": [
      "10\n",
      "55\n"
     ]
    }
   ],
   "source": [
    "n=int(input())\n",
    "a,b = 0,1\n",
    "while n>0:\n",
    "    a,b = b, a+b    \n",
    "    n-=1\n",
    "\n",
    "print(a)"
   ]
  }
 ],
 "metadata": {
  "kernelspec": {
   "display_name": "Python 3",
   "language": "python",
   "name": "python3"
  },
  "language_info": {
   "codemirror_mode": {
    "name": "ipython",
    "version": 3
   },
   "file_extension": ".py",
   "mimetype": "text/x-python",
   "name": "python",
   "nbconvert_exporter": "python",
   "pygments_lexer": "ipython3",
   "version": "3.7.6"
  }
 },
 "nbformat": 4,
 "nbformat_minor": 4
}
