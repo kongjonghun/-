{
 "cells": [
  {
   "cell_type": "markdown",
   "metadata": {},
   "source": [
    "# 17413 : 단어 뒤집기2"
   ]
  },
  {
   "cell_type": "code",
   "execution_count": null,
   "metadata": {},
   "outputs": [],
   "source": [
    ">> arr = range(10)   \n",
    ">> arr [0,1,2,3,4,5,6,7,8,9]  \n",
    "\n",
    "-- 일반화\n",
    ">> arr[1:6:2] # index 1 부터 index 6 까지 두 칸 간격으로 [1,3,5]  \n",
    "\n",
    "-- 정방향\n",
    ">> arr[::2] # 처음부터 끝까지 두 칸 간격으로 [0,2,4,6,8]   \n",
    ">> arr[1::2] # index 1 부터 끝까지 두 칸 간격으로 [1,3,5,7,9]   \n",
    "\n",
    "-- 역방향\n",
    ">> arr[::-1] # 처음부터 끝까지 -1칸 간격으로 ( == 역순으로) [9,8,7,6,5,4,3,2,1,0]   \n",
    ">> arr[::-2] # 처음부터 끝까지 -2칸 간격으로 ( == 역순, 두 칸 간격으로) [9,7,5,3,1]   \n",
    ">> arr[3::-1] # index 3 부터 끝까지 -1칸 간격으로 ( == 역순으로) [3,2,1,0]   "
   ]
  },
  {
   "cell_type": "code",
   "execution_count": 17,
   "metadata": {},
   "outputs": [
    {
     "name": "stdout",
     "output_type": "stream",
     "text": [
      "<int><max>7463847412<long long><max>7085774586302733229\n",
      "<int><max>2147483647<long long><max>9223372036854775807"
     ]
    }
   ],
   "source": [
    "S = input()\n",
    "start=False\n",
    "tmp=\"\"\n",
    "for s in S:             # 기호 있는 경우 case 분석\n",
    "    if s==' ':          # 공백일경우\n",
    "        if not start:  # > 이후면\n",
    "            print(tmp[::-1], end=' ') # 뒤집기\n",
    "            tmp=\"\"                   # tmp 리셋\n",
    "        else:                       # < 중이라면 공백 출력\n",
    "            print(s, end='')   \n",
    "    elif s=='<':      \n",
    "        start=True \n",
    "        print(tmp[::-1], end='')   # 공백 후 < 전 문자열 뒤집기\n",
    "        tmp=\"\"\n",
    "        print('<', end='')\n",
    "    elif s=='>':\n",
    "        start=False\n",
    "        print('>', end='')\n",
    "    else:                    # 기호를 제외한 문자,숫자\n",
    "        if start:            #  < 중이라면\n",
    "            print(s, end='')\n",
    "        else:               # > 이후면\n",
    "            tmp+=s          # 문자열 추가\n",
    "                        \n",
    "print(tmp[::-1], end='')"
   ]
  }
 ],
 "metadata": {
  "kernelspec": {
   "display_name": "Python 3",
   "language": "python",
   "name": "python3"
  },
  "language_info": {
   "codemirror_mode": {
    "name": "ipython",
    "version": 3
   },
   "file_extension": ".py",
   "mimetype": "text/x-python",
   "name": "python",
   "nbconvert_exporter": "python",
   "pygments_lexer": "ipython3",
   "version": "3.7.6"
  }
 },
 "nbformat": 4,
 "nbformat_minor": 4
}
