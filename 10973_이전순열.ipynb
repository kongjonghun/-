{
 "cells": [
  {
   "cell_type": "markdown",
   "metadata": {},
   "source": [
    "# 10973 : 이전 순열"
   ]
  },
  {
   "cell_type": "code",
   "execution_count": null,
   "metadata": {},
   "outputs": [],
   "source": [
    "[3,4,1,2,5]의 이전 순열 : [3,2,5,4,1]\n",
    "\n",
    "1. i : 오름차순 수열 중 가장 왼쪽의 index     \n",
    "ex) a=[3,4,1,2,5] / 오름차순 수열: 1,2,5 / a[i]=1\n",
    "1.1 i가 0이 되면, [1,2,3,4,5]과 같이 정렬되어있는 값이라 순열의 끝. 그러므로 False 반환  \n",
    "ex) a=[1,2,3,4,5]\n",
    "2. j : 오름차순 수열 중 a[i-1] 이전으로 작은 수의 index (=오름차순 수열 앞자리의 바꿀 수 찾기)\n",
    "ex) a[i-1]=4, a[j]=2\n",
    "3. a[i-1], a[j] swap (=앞자리 수 바꿔주기)\n",
    "ex) a=[3,2,1,4,5]\n",
    "4. i이후의 값들을 내림차순 정렬 (=이미 오름차순 정렬되어 있으므로, 양쪽 끝끼리 swap하며 내림차순으로 정렬)\n",
    "ex) a=[3,2,5,4,1]"
   ]
  },
  {
   "cell_type": "code",
   "execution_count": 5,
   "metadata": {},
   "outputs": [
    {
     "name": "stdout",
     "output_type": "stream",
     "text": [
      "4\n",
      "4 3 2 1\n",
      "4 3 1 2 "
     ]
    }
   ],
   "source": [
    "n=int(input())\n",
    "data=list(map(int, input().split()))\n",
    "\n",
    "i=n-1\n",
    "while i>0 and data[i-1]<=data[i]:\n",
    "    i-=1\n",
    "if i==0:\n",
    "    print(-1)\n",
    "else:\n",
    "    j=n-1\n",
    "    while data[i-1]<=data[j]:\n",
    "        j-=1\n",
    "    data[j],data[i-1]=data[i-1],data[j]\n",
    "    ans=data[:i] + sorted(data[i:], reverse=True)\n",
    "    for i in ans:\n",
    "        print(i, end=' ')          "
   ]
  },
  {
   "cell_type": "code",
   "execution_count": 6,
   "metadata": {},
   "outputs": [
    {
     "name": "stdout",
     "output_type": "stream",
     "text": [
      "4\n",
      "4 3 2 1\n",
      "4 3 1 2 "
     ]
    }
   ],
   "source": [
    "n = int(input())\n",
    "a = list(map(int, input().split()))\n",
    "\n",
    "def next_permutation(a):\n",
    "    n=len(a)-1    \n",
    "    i=n\n",
    "    while i>0 and a[i-1]<=a[i]:###  # 1.\n",
    "        i-=1           \n",
    "    if i==0:                      # 1.1 \n",
    "        return False            \n",
    "    j=n\n",
    "    while a[i-1]<=a[j]:       ###  # 2.\n",
    "        j-=1        \n",
    "    a[i-1],a[j]=a[j],a[i-1]       # 3.        \n",
    "    k=n\n",
    "    while i<k:                   # 4.\n",
    "        a[i],a[k]=a[k],a[i]\n",
    "        i+=1\n",
    "        k-=1\n",
    "    return True\n",
    "\n",
    "if next_permutation(a):\n",
    "    for i in a:              # print(' '.join(map(str, a)))\n",
    "        print(i, end=' ')    # \n",
    "else:\n",
    "    print(-1)"
   ]
  }
 ],
 "metadata": {
  "kernelspec": {
   "display_name": "Python 3",
   "language": "python",
   "name": "python3"
  }
 },
 "nbformat": 4,
 "nbformat_minor": 4
}
