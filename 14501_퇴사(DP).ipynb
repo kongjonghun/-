{
 "cells": [
  {
   "cell_type": "code",
   "execution_count": null,
   "metadata": {},
   "outputs": [],
   "source": [
    "* 뒤에서부터 접근\n",
    "* 점화식\n",
    "N번째 날 : N+1번째 날 기준 수익(dp) / N번째 날 수익 + Tn 만큼 지난 후 수익(dp) 중 큰 값\n",
    "dp[N]=max(dp[N+1], data[N]+dp[N+Tn])"
   ]
  },
  {
   "cell_type": "code",
   "execution_count": 12,
   "metadata": {},
   "outputs": [
    {
     "name": "stdout",
     "output_type": "stream",
     "text": [
      "10\n",
      "5 50\n",
      "4 40\n",
      "3 30\n",
      "2 20\n",
      "1 10\n",
      "1 10\n",
      "2 20\n",
      "3 30\n",
      "4 40\n",
      "5 50\n",
      "90\n"
     ]
    }
   ],
   "source": [
    "n=int(input())\n",
    "data=[]\n",
    "dp=[0]*20\n",
    "\n",
    "for _ in range(n):s\n",
    "    T,P=map(int, input().split())\n",
    "    data.append([T,P])\n",
    "    \n",
    "for i in range(n-1, -1, -1): \n",
    "    if i+data[i][0]>n:\n",
    "        dp[i] = dp[i+1]\n",
    "    else:\n",
    "        dp[i]=max(dp[i+1], data[i][1]+dp[i+data[i][0]])\n",
    "        \n",
    "print(dp[0])"
   ]
  },
  {
   "cell_type": "code",
   "execution_count": 13,
   "metadata": {},
   "outputs": [
    {
     "name": "stdout",
     "output_type": "stream",
     "text": [
      "10\n",
      "5 50\n",
      "4 40\n",
      "3 30\n",
      "2 20\n",
      "1 10\n",
      "1 10\n",
      "2 20\n",
      "3 30\n",
      "4 40\n",
      "5 50\n",
      "[90, 80, 70, 60, 50, 40, 30, 30, 0, 0, 0, 0, 0, 0, 0, 0, 0, 0, 0, 0]\n"
     ]
    }
   ],
   "source": [
    "n=int(input())\n",
    "data=[]\n",
    "dp=[0]*20\n",
    "\n",
    "for _ in range(n):\n",
    "    T,P=map(int, input().split())\n",
    "    data.append([T,P])\n",
    "    \n",
    "for i in range(n-1, -1, -1):\n",
    "    if i+data[i][0]>n:\n",
    "        dp[i] = dp[i+1]\n",
    "    else:\n",
    "        dp[i]=max(dp[i+1], data[i][1]+dp[i+data[i][0]])\n",
    "        \n",
    "print(dp)"
   ]
  }
 ],
 "metadata": {
  "kernelspec": {
   "display_name": "Python 3",
   "language": "python",
   "name": "python3"
  },
  "language_info": {
   "codemirror_mode": {
    "name": "ipython",
    "version": 3
   },
   "file_extension": ".py",
   "mimetype": "text/x-python",
   "name": "python",
   "nbconvert_exporter": "python",
   "pygments_lexer": "ipython3",
   "version": "3.7.6"
  }
 },
 "nbformat": 4,
 "nbformat_minor": 4
}
