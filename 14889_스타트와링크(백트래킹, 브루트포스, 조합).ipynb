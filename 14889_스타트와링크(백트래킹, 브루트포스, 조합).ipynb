{
 "cells": [
  {
   "cell_type": "markdown",
   "metadata": {},
   "source": [
    "### 문풀1 : combinations"
   ]
  },
  {
   "cell_type": "code",
   "execution_count": 14,
   "metadata": {},
   "outputs": [
    {
     "name": "stdout",
     "output_type": "stream",
     "text": [
      "6\n",
      "0 1 2 3 4 5\n",
      "1 0 2 3 4 5\n",
      "1 2 0 3 4 5\n",
      "1 2 3 0 4 5 \n",
      "1 2 3 4 0 5 \n",
      "1 2 3 4 5 0\n",
      "2\n"
     ]
    }
   ],
   "source": [
    "from itertools import combinations\n",
    "n=int(input())\n",
    "point=[list(map(int, input().split())) for _ in range(n)]\n",
    "members=[j for j in combinations([i for i in range(n)], n//2)]\n",
    "result=[]\n",
    "\n",
    "for i in range(len(members)//2):    \n",
    "    sum_pt1,sum_pt2=0,0\n",
    "    for j in members[i]:\n",
    "        for k in members[i]:\n",
    "            if j==k:             # 생략가능 : point[j][k]=0이므로\n",
    "                continue        # \n",
    "            sum_pt1+=point[j][k]\n",
    "            \n",
    "    for j in members[-1-i]:\n",
    "        for k in members[-1-i]:\n",
    "            if j==k:\n",
    "                continue\n",
    "            sum_pt2+=point[j][k]\n",
    "        \n",
    "    result.append(abs(sum_pt2-sum_pt1))\n",
    "    \n",
    "print(min(result))    "
   ]
  },
  {
   "cell_type": "markdown",
   "metadata": {},
   "source": [
    "### 문풀2 : DFS 조합"
   ]
  },
  {
   "cell_type": "code",
   "execution_count": 17,
   "metadata": {},
   "outputs": [
    {
     "name": "stdout",
     "output_type": "stream",
     "text": [
      "6\n",
      "0 1 2 3 4 5\n",
      "1 0 2 3 4 5\n",
      "1 2 0 3 4 5\n",
      "1 2 3 0 4 5\n",
      "1 2 3 4 0 5\n",
      "1 2 3 4 5 0\n",
      "2\n"
     ]
    }
   ],
   "source": [
    "import sys\n",
    "n=int(input())\n",
    "s=[list(map(int, input().split())) for _ in range(n)]\n",
    "members=[i for i in range(1, n+1)]\n",
    "combi,result=[],[]\n",
    "\n",
    "def DFS(depth, idx):\n",
    "    if depth==n//2:        \n",
    "        result.append(combi[:])\n",
    "        return\n",
    "    for i in range(idx, n):\n",
    "        combi.append(members[i])\n",
    "        DFS(depth+1, i+1)\n",
    "        combi.pop() \n",
    "\n",
    "DFS(0,0)\n",
    "min_diff=sys.maxsize\n",
    "for group1 in result:\n",
    "    sum_g1,sum_g2=0,0\n",
    "    for i in group1:\n",
    "        for j in group1:            \n",
    "            sum_g1+=s[i-1][j-1]                   \n",
    "        \n",
    "    group2=list(set(members)-set(group1))\n",
    "    for i in group2:\n",
    "        for j in group2:            \n",
    "            sum_g2+=s[i-1][j-1]        \n",
    "    \n",
    "    min_diff=min(min_diff, abs(sum_g1-sum_g2))\n",
    "    \n",
    "print(min_diff)"
   ]
  },
  {
   "cell_type": "code",
   "execution_count": 22,
   "metadata": {},
   "outputs": [
    {
     "name": "stdout",
     "output_type": "stream",
     "text": [
      "6\n",
      "0 1 2 3 4 5\n",
      "1 0 2 3 4 5\n",
      "1 2 0 3 4 5\n",
      "1 2 3 0 4 5\n",
      "1 2 3 4 0 5\n",
      "1 2 3 4 5 0\n",
      "2\n"
     ]
    }
   ],
   "source": [
    "import sys\n",
    "\n",
    "def DFS(depth, idx):\n",
    "    global ans\n",
    "    if depth==n//2:\n",
    "        group1,group2=0,0\n",
    "        for i in range(n):\n",
    "            for j in range(n):\n",
    "                if visited[i] and visited[j]:\n",
    "                    group1+=s[i][j]\n",
    "                elif not visited[i] and not visited[j]:\n",
    "                    group2+=s[i][j]\n",
    "        ans=min(ans, abs(group1-group2))\n",
    "        return\n",
    "    \n",
    "    for i in range(idx, n):\n",
    "        visited[i]=1\n",
    "        DFS(depth+1, i+1)\n",
    "        visited[i]=0            \n",
    "\n",
    "n=int(input())\n",
    "s=[list(map(int, input().split())) for _ in range(n)]\n",
    "visited=[0]*n\n",
    "ans=sys.maxsize\n",
    "DFS(0,0)\n",
    "print(ans)"
   ]
  }
 ],
 "metadata": {
  "kernelspec": {
   "display_name": "Python 3",
   "language": "python",
   "name": "python3"
  },
  "language_info": {
   "codemirror_mode": {
    "name": "ipython",
    "version": 3
   },
   "file_extension": ".py",
   "mimetype": "text/x-python",
   "name": "python",
   "nbconvert_exporter": "python",
   "pygments_lexer": "ipython3",
   "version": "3.7.6"
  }
 },
 "nbformat": 4,
 "nbformat_minor": 4
}
