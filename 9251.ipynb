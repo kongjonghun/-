{
 "cells": [
  {
   "cell_type": "markdown",
   "metadata": {},
   "source": [
    "# 9251 : LCS(최장 공통 부분 수열) (DP)"
   ]
  },
  {
   "cell_type": "markdown",
   "metadata": {},
   "source": [
    "https://www.acmicpc.net/problem/9251"
   ]
  },
  {
   "cell_type": "markdown",
   "metadata": {},
   "source": [
    "### 핵심 아이디어\n",
    "두 수열(문자열)을 각각 X, Y라고 할 때, X와 Y의 문자열을 각각 하나씩 늘려가며 <u>현재까지 만들 수 있는 <b>공통 부분 수열의 최대 길이</b></u>를 매번 갱신"
   ]
  },
  {
   "cell_type": "markdown",
   "metadata": {},
   "source": [
    "### 점화식\n",
    "![title](9251.png)"
   ]
  },
  {
   "cell_type": "markdown",
   "metadata": {},
   "source": [
    "### 로직\n",
    "![title](9251_2.jpg)"
   ]
  },
  {
   "cell_type": "markdown",
   "metadata": {},
   "source": [
    "각 수는 두 수열의 해당 길이까지의 <b>최장 공통 부분 수열의 길이</b>  \n",
    "\n",
    "ex) AC / CAPC → AC : 2"
   ]
  },
  {
   "cell_type": "markdown",
   "metadata": {},
   "source": [
    "### 풀이1"
   ]
  },
  {
   "cell_type": "code",
   "execution_count": 14,
   "metadata": {},
   "outputs": [
    {
     "name": "stdout",
     "output_type": "stream",
     "text": [
      "ACAYKP\n",
      "CAPCAK\n",
      "4\n"
     ]
    }
   ],
   "source": [
    "array1=input()\n",
    "array2=input()\n",
    "\n",
    "dp=[[0]*(len(array2)+1) for _ in range(len(array1)+1)] # array1과 array2의 행,열 선정 주의!\n",
    "\n",
    "for i in range(1, len(array1)+1):\n",
    "    for j in range(1, len(array2)+1):\n",
    "        if array1[i-1]==array2[j-1]: # 대각선 +1 \n",
    "            dp[i][j]=dp[i-1][j-1]+1\n",
    "        else:\n",
    "            dp[i][j]=max(dp[i][j-1], dp[i-1][j]) # 왼쪽 or 위 중 큰 값\n",
    "\n",
    "print(dp[len(array1)][len(array2)])"
   ]
  },
  {
   "cell_type": "markdown",
   "metadata": {},
   "source": [
    "### 풀이2(동일)"
   ]
  },
  {
   "cell_type": "code",
   "execution_count": 16,
   "metadata": {},
   "outputs": [
    {
     "name": "stdout",
     "output_type": "stream",
     "text": [
      "ACAYKP\n",
      "CAPCAK\n",
      "4\n"
     ]
    }
   ],
   "source": [
    "x=input()\n",
    "y=input()\n",
    "\n",
    "dp=[[0]*(len(y)+1) for _ in range(len(x)+1)]\n",
    "\n",
    "for i in range(1, len(x)+1):\n",
    "    for j in range(1, len(y)+1):\n",
    "        if x[i-1]==y[j-1]:\n",
    "            dp[i][j]=dp[i-1][j-1]+1\n",
    "        else:\n",
    "            dp[i][j]=max(dp[i][j-1], dp[i-1][j])\n",
    "            \n",
    "print(dp[len(x)][len(y)])"
   ]
  }
 ],
 "metadata": {
  "kernelspec": {
   "display_name": "Python 3",
   "language": "python",
   "name": "python3"
  },
  "language_info": {
   "codemirror_mode": {
    "name": "ipython",
    "version": 3
   },
   "file_extension": ".py",
   "mimetype": "text/x-python",
   "name": "python",
   "nbconvert_exporter": "python",
   "pygments_lexer": "ipython3",
   "version": "3.7.6"
  }
 },
 "nbformat": 4,
 "nbformat_minor": 4
}
