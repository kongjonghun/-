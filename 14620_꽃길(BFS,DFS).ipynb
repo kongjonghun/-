{
 "cells": [
  {
   "cell_type": "markdown",
   "metadata": {},
   "source": [
    "# 14620 : 꽃길"
   ]
  },
  {
   "cell_type": "markdown",
   "metadata": {},
   "source": [
    "https://www.acmicpc.net/problem/14620"
   ]
  },
  {
   "cell_type": "code",
   "execution_count": null,
   "metadata": {},
   "outputs": [],
   "source": [
    "아래의 한 개의 셀을 i라고 할때\n",
    "x = i//N  (N으로 나눈 몫)\n",
    "y = i%N  (N으로 나눈 나머지)\n",
    "# 0 1 2 3 4 5\n",
    "0  1  2  3  4  5   # 0\n",
    "6  7  8  9  10 11  # 1\n",
    "12 13 14 15 16 17  # 2\n",
    "18 19 20 21 22 23  # 3\n",
    "24 25 26 27 28 29  # 4\n",
    "30 31 32 33 34 35  # 5"
   ]
  },
  {
   "cell_type": "code",
   "execution_count": 2,
   "metadata": {},
   "outputs": [
    {
     "name": "stdout",
     "output_type": "stream",
     "text": [
      "6\n",
      "1 0 2 3 3 4\n",
      "1 1 1 1 1 1\n",
      "0 0 1 1 1 1\n",
      "3 9 9 0 1 99\n",
      "9 11 3 1 0 3\n",
      "12 3 0 0 0 1\n",
      "12\n"
     ]
    }
   ],
   "source": [
    "N=int(input())\n",
    "G=[list(map(int, input().split())) for _ in range(N)]\n",
    "dx, dy=[0,1,0,-1,0], [0,0,1,0,-1]\n",
    "ans=3000\n",
    "\n",
    "def chk(lst):\n",
    "    sum_cost=0\n",
    "    flow=[]\n",
    "    for flower in lst:\n",
    "        x=flower//N       \n",
    "        y=flower%N\n",
    "        if x==0 or x==N-1 or y==0 or y==N-1:\n",
    "            return 3000\n",
    "        for w in range(5):\n",
    "            sum_cost+=G[x+dx[w]][y+dy[w]]\n",
    "            flow.append((x+dx[w], y+dy[w]))\n",
    "            \n",
    "    if len(set(flow))!=15:\n",
    "        return 3000            \n",
    "    \n",
    "    return sum_cost\n",
    "\n",
    "for i in range(N*N):         # 꽃 세개에 대한 FOR문 3개\n",
    "    for j in range(i+1, N*N):\n",
    "        for k in range(j+1, N*N):\n",
    "            ans=min(ans, chk([i,j,k]))\n",
    "print(ans)        "
   ]
  }
 ],
 "metadata": {
  "kernelspec": {
   "display_name": "Python 3",
   "language": "python",
   "name": "python3"
  },
  "language_info": {
   "codemirror_mode": {
    "name": "ipython",
    "version": 3
   },
   "file_extension": ".py",
   "mimetype": "text/x-python",
   "name": "python",
   "nbconvert_exporter": "python",
   "pygments_lexer": "ipython3",
   "version": "3.7.6"
  }
 },
 "nbformat": 4,
 "nbformat_minor": 4
}
