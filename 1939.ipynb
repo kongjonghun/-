{
 "cells": [
  {
   "cell_type": "markdown",
   "metadata": {},
   "source": [
    "# 1939 : 중량제한"
   ]
  },
  {
   "cell_type": "markdown",
   "metadata": {},
   "source": [
    "https://www.acmicpc.net/problem/1939"
   ]
  },
  {
   "cell_type": "markdown",
   "metadata": {},
   "source": [
    "## 큐 구현\n",
    "- <b>list.append() / list.pop()</b> : <b>O(N)</b> → 비효율적    \n",
    "- <b>collections 라이브러리의 deque</b>를 사용 - collections.deque(list).append(something) : <b>O(1)</b> → 시간 절약 가능  \n",
    "- <b>이전 노드 중 방문하지 않았던 노드를 큐에 넣을때</b> : <b>set()</b> 사용"
   ]
  },
  {
   "cell_type": "markdown",
   "metadata": {},
   "source": [
    "## deque\n",
    "double-ended queue 의 줄임말로, 앞과 뒤에서 즉, 양방향에서 데이터를 처리할 수 있는 queue형 자료구조를 의미한다. 아래의 [그림1]은 deque의 구조를 나타낸 그림이다.  \n",
    "![title](1939_3.png)"
   ]
  },
  {
   "cell_type": "markdown",
   "metadata": {},
   "source": [
    "## deque 메소드\n",
    "from collections import deque  \n",
    "deq = deque(list)\n",
    ">- <b>deq.append(x)</b> : 리스트 오른쪽 데이터 추가\n",
    ">- deq.appendleft(x) : 리스트 왼쪽 데이터 추가\n",
    ">\n",
    ">\n",
    ">- <b>deq.extend(list2)</b> : 리스트 오른쪽 리스트2 연장\n",
    ">- deq.extendleft(list2) : 리스트 왼쪽 리스트2 연장\n",
    ">\n",
    ">\n",
    ">- <b>deq.pop()</b> : 리스트 오른쪽 데이터 제거/반환\n",
    ">- deq.popleft() : 리스트 왼쪽 데이터 제거/반환 (list.pop(0))과 동일\n",
    ">\n",
    ">\n",
    ">- <b>deq.rotate(n)</b> : n만큼 리스트 회전 (- : 왼쪽 회전 / + : 오른쪽 회전)  \n",
    ">\n",
    ">ex) list=[1,2,3,4,5]  \n",
    ">list.rotate(2) → [4,5,1,2,3]  \n",
    ">list.rotate(-1) → [2,3,4,5,1]      "
   ]
  },
  {
   "cell_type": "markdown",
   "metadata": {},
   "source": [
    "## BFS, DFS \n",
    "- 그래프를 탐색할 때 사용하는 기법  \n",
    "- 그래프에서 특정 노드에서 특정 노드로 이동가능한지 탐색하는 기법\n",
    "- 기준 : 어떤 것을 우선 순위로 하는지  "
   ]
  },
  {
   "cell_type": "markdown",
   "metadata": {},
   "source": [
    "## BFS  : 너비우선탐색 (큐)\n",
    "![title](1939.gif)"
   ]
  },
  {
   "cell_type": "markdown",
   "metadata": {},
   "source": [
    "![title](1939_4.png)"
   ]
  },
  {
   "cell_type": "code",
   "execution_count": 45,
   "metadata": {},
   "outputs": [],
   "source": [
    "graph = {'A': ['B','C'],\n",
    "        'B': ['A','D'],\n",
    "        'C': ['A','G','H','I'],\n",
    "        'D': ['B','E','F'],\n",
    "        'E': ['D'],\n",
    "        'F': ['D'],\n",
    "        'G':['C'],\n",
    "        'H':['C'],\n",
    "        'I':['C','J'],\n",
    "        'J':['I']}\n",
    "root='A'"
   ]
  },
  {
   "cell_type": "code",
   "execution_count": 47,
   "metadata": {},
   "outputs": [
    {
     "name": "stdout",
     "output_type": "stream",
     "text": [
      "deque(['B', 'C'])\n",
      "['A']\n",
      "deque(['C', 'A', 'D'])\n",
      "['A', 'B']\n",
      "deque(['A', 'D', 'A', 'G', 'H', 'I'])\n",
      "['A', 'B', 'C']\n",
      "deque(['A', 'G', 'H', 'I', 'B', 'E', 'F'])\n",
      "['A', 'B', 'C', 'D']\n",
      "deque(['H', 'I', 'B', 'E', 'F', 'C'])\n",
      "['A', 'B', 'C', 'D', 'G']\n",
      "deque(['I', 'B', 'E', 'F', 'C', 'C'])\n",
      "['A', 'B', 'C', 'D', 'G', 'H']\n",
      "deque(['B', 'E', 'F', 'C', 'C', 'C', 'J'])\n",
      "['A', 'B', 'C', 'D', 'G', 'H', 'I']\n",
      "deque(['F', 'C', 'C', 'C', 'J', 'D'])\n",
      "['A', 'B', 'C', 'D', 'G', 'H', 'I', 'E']\n",
      "deque(['C', 'C', 'C', 'J', 'D', 'D'])\n",
      "['A', 'B', 'C', 'D', 'G', 'H', 'I', 'E', 'F']\n",
      "deque(['D', 'D', 'I'])\n",
      "['A', 'B', 'C', 'D', 'G', 'H', 'I', 'E', 'F', 'J']\n",
      "['A', 'B', 'C', 'D', 'G', 'H', 'I', 'E', 'F', 'J']\n"
     ]
    }
   ],
   "source": [
    "from collections import deque\n",
    "\n",
    "def BFS(graph, root):\n",
    "    visited = []\n",
    "    queue = deque([root])\n",
    "    \n",
    "    while queue:\n",
    "        node = queue.popleft() ## queue : FIFO\n",
    "        if node not in visited:\n",
    "            visited.append(node)            \n",
    "            queue.extend(graph[node])\n",
    "            print(queue)\n",
    "            print(visited)\n",
    "    return visited\n",
    "  \n",
    "print(BFS(graph, root))"
   ]
  },
  {
   "cell_type": "code",
   "execution_count": 50,
   "metadata": {},
   "outputs": [
    {
     "name": "stdout",
     "output_type": "stream",
     "text": [
      "['A', 'B', 'C', 'D', 'G', 'H', 'I', 'E', 'F', 'J']\n"
     ]
    }
   ],
   "source": [
    "from collections import deque\n",
    "\n",
    "def BFS(graph, root):\n",
    "    visited = []\n",
    "    queue = deque([root])\n",
    "    \n",
    "    while queue:\n",
    "        node = queue.popleft()\n",
    "        if node not in visited:\n",
    "            visited.append(node)            \n",
    "            queue.extend(graph[node])            \n",
    "    return visited\n",
    "  \n",
    "print(BFS(graph, root))"
   ]
  },
  {
   "cell_type": "markdown",
   "metadata": {},
   "source": [
    "## DFS  : 깊이우선탐색\n",
    "![title](1939_2.gif)"
   ]
  },
  {
   "cell_type": "markdown",
   "metadata": {},
   "source": [
    "![title](1939_5.png)"
   ]
  },
  {
   "cell_type": "code",
   "execution_count": 9,
   "metadata": {},
   "outputs": [],
   "source": [
    "graph = {'A': ['B','C'],\n",
    "        'B': ['A','D'],\n",
    "        'C': ['A','G','H','I'],\n",
    "        'D': ['B','E','F'],\n",
    "        'E': ['D'],\n",
    "        'F': ['D'],\n",
    "        'G':['C'],\n",
    "        'H':['C'],\n",
    "        'I':['C','J'],\n",
    "        'J':['I']}\n",
    "root='A'"
   ]
  },
  {
   "cell_type": "code",
   "execution_count": 10,
   "metadata": {},
   "outputs": [
    {
     "name": "stdout",
     "output_type": "stream",
     "text": [
      "deque(['B', 'C'])\n",
      "['A']\n",
      "deque(['B', 'A', 'G', 'H', 'I'])\n",
      "['A', 'C']\n",
      "deque(['B', 'A', 'G', 'H', 'C', 'J'])\n",
      "['A', 'C', 'I']\n",
      "deque(['B', 'A', 'G', 'H', 'C', 'I'])\n",
      "['A', 'C', 'I', 'J']\n",
      "deque(['B', 'A', 'G', 'C'])\n",
      "['A', 'C', 'I', 'J', 'H']\n",
      "deque(['B', 'A', 'C'])\n",
      "['A', 'C', 'I', 'J', 'H', 'G']\n",
      "deque(['A', 'D'])\n",
      "['A', 'C', 'I', 'J', 'H', 'G', 'B']\n",
      "deque(['A', 'B', 'E', 'F'])\n",
      "['A', 'C', 'I', 'J', 'H', 'G', 'B', 'D']\n",
      "deque(['A', 'B', 'E', 'D'])\n",
      "['A', 'C', 'I', 'J', 'H', 'G', 'B', 'D', 'F']\n",
      "deque(['A', 'B', 'D'])\n",
      "['A', 'C', 'I', 'J', 'H', 'G', 'B', 'D', 'F', 'E']\n",
      "['A', 'C', 'I', 'J', 'H', 'G', 'B', 'D', 'F', 'E']\n"
     ]
    }
   ],
   "source": [
    "from collections import deque\n",
    "\n",
    "def DFS(graph, root):\n",
    "    visited = []\n",
    "    queue = deque([root])\n",
    "    \n",
    "    while queue:\n",
    "        node = queue.pop()         ## DFS (stack) : LIFO / BFS(queue) : FIFO  - node = queue.popleft() : queue\n",
    "        if node not in visited:\n",
    "            visited.append(node)            \n",
    "            queue.extend(graph[node])\n",
    "            print(queue)\n",
    "            print(visited)\n",
    "    return visited\n",
    "  \n",
    "print(DFS(graph, root))"
   ]
  },
  {
   "cell_type": "code",
   "execution_count": 59,
   "metadata": {},
   "outputs": [
    {
     "name": "stdout",
     "output_type": "stream",
     "text": [
      "['A', 'C', 'I', 'J', 'H', 'G', 'B', 'D', 'F', 'E']\n"
     ]
    }
   ],
   "source": [
    "from collections import deque\n",
    "\n",
    "def DFS(graph, root):\n",
    "    visited = []\n",
    "    queue = deque([root])\n",
    "    \n",
    "    while queue:\n",
    "        node = queue.pop()     ## stack : LIFO\n",
    "        if node not in visited:\n",
    "            visited.append(node)            \n",
    "            queue.extend(graph[node])     \n",
    "    return visited\n",
    "  \n",
    "print(DFS(graph, root))"
   ]
  },
  {
   "cell_type": "code",
   "execution_count": 11,
   "metadata": {},
   "outputs": [],
   "source": [
    "graph = {'A': ['B','C'],\n",
    "        'B': ['A','D'],\n",
    "        'C': ['A','D'],\n",
    "        'D': ['C','B']}\n",
    "root='A'"
   ]
  },
  {
   "cell_type": "code",
   "execution_count": 12,
   "metadata": {},
   "outputs": [
    {
     "name": "stdout",
     "output_type": "stream",
     "text": [
      "deque(['B', 'C'])\n",
      "['A']\n",
      "deque(['B', 'A', 'D'])\n",
      "['A', 'C']\n",
      "deque(['B', 'A', 'C', 'B'])\n",
      "['A', 'C', 'D']\n",
      "deque(['B', 'A', 'C', 'A', 'D'])\n",
      "['A', 'C', 'D', 'B']\n",
      "['A', 'C', 'D', 'B']\n"
     ]
    }
   ],
   "source": [
    "from collections import deque\n",
    "\n",
    "def DFS(graph, root):\n",
    "    visited = []\n",
    "    queue = deque([root])\n",
    "    \n",
    "    while queue:\n",
    "        node = queue.pop()         ## DFS (stack) : LIFO / BFS(queue) : FIFO  - node = queue.popleft() : queue\n",
    "        if node not in visited:\n",
    "            visited.append(node)            \n",
    "            queue.extend(graph[node])\n",
    "            print(queue)\n",
    "            print(visited)\n",
    "    return visited\n",
    "  \n",
    "print(DFS(graph, root))"
   ]
  },
  {
   "cell_type": "markdown",
   "metadata": {},
   "source": [
    "### 문풀"
   ]
  },
  {
   "cell_type": "markdown",
   "metadata": {},
   "source": [
    "### 이진 탐색 + bfs"
   ]
  },
  {
   "cell_type": "code",
   "execution_count": 2,
   "metadata": {},
   "outputs": [
    {
     "name": "stdout",
     "output_type": "stream",
     "text": [
      "3 3\n",
      "1 2 2\n",
      "3 1 3\n",
      "2 3 2\n",
      "1 3\n",
      "3\n"
     ]
    }
   ],
   "source": [
    "from collections import deque\n",
    "\n",
    "n,m = map(int, input().split())\n",
    "adj = [[] for _ in range(n+1)] # (인접노드, 가중치)\n",
    "\n",
    "min_weight = 1000000000\n",
    "max_weight = 1\n",
    "\n",
    "for _ in range(m):\n",
    "    x,y,weight = map(int, input().split())\n",
    "    adj[x].append((y,weight))\n",
    "    adj[y].append((x,weight))\n",
    "    min_weight = min(min_weight, weight) \n",
    "    max_weight = max(max_weight, weight)\n",
    "    \n",
    "from_n, to_n = map(int, input().split())    \n",
    "\n",
    "def bfs(mid):\n",
    "    queue = deque([from_n])\n",
    "    visited=[False] * (n+1)  # 매 함수 호출시 방문 초기화\n",
    "    visited[from_n] = True\n",
    "    while queue:\n",
    "        x = queue.popleft()\n",
    "        for y, weight in adj[x]:\n",
    "            if not visited[y] and weight>=mid:  # 다리 가중치 >= 예상 최대 중량 : 건널수있음\n",
    "                visited[y]=True                  \n",
    "                queue.append(y)                   \n",
    "    return visited[to_n]         # to_node를 방문했으면 True 반환 / 방문 안했으면 False 반환 \n",
    "                                  # True일 경우 해당 예상 최대 중량으로 from -> to 이동 가능하다는 뜻                                  \n",
    "        \n",
    "result = min_weight                   \n",
    "while min_weight<=max_weight:            # 이진 탐색\n",
    "    mid = (min_weight + max_weight)//2\n",
    "    if bfs(mid):                         # 해당 예상 최대 중량으로 전체 탐색 가능 -> 중량을 높여보자\n",
    "        result = mid\n",
    "        min_weight = mid + 1\n",
    "    else:                               # 해당 예상 최대 중량으로 전체 탐색 불가능 -> 중량을 낮추자\n",
    "        max_weight = mid - 1\n",
    "\n",
    "print(result)        "
   ]
  }
 ],
 "metadata": {
  "kernelspec": {
   "display_name": "Python 3",
   "language": "python",
   "name": "python3"
  },
  "language_info": {
   "codemirror_mode": {
    "name": "ipython",
    "version": 3
   },
   "file_extension": ".py",
   "mimetype": "text/x-python",
   "name": "python",
   "nbconvert_exporter": "python",
   "pygments_lexer": "ipython3",
   "version": "3.7.6"
  }
 },
 "nbformat": 4,
 "nbformat_minor": 4
}
