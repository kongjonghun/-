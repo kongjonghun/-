{
 "cells": [
  {
   "cell_type": "markdown",
   "metadata": {},
   "source": [
    "# 1439 : 뒤집기"
   ]
  },
  {
   "cell_type": "markdown",
   "metadata": {},
   "source": [
    "https://www.acmicpc.net/problem/1439"
   ]
  },
  {
   "cell_type": "markdown",
   "metadata": {},
   "source": [
    "![title](1439.jpg)"
   ]
  },
  {
   "cell_type": "code",
   "execution_count": 8,
   "metadata": {},
   "outputs": [
    {
     "name": "stdout",
     "output_type": "stream",
     "text": [
      "0001100\n",
      "1\n"
     ]
    }
   ],
   "source": [
    "s=list(map(int, input()))\n",
    "result=[s[0]] # 문자열의 첫문자 입력\n",
    "\n",
    "for i in range(1, len(s)): # 문자열의 index 1번째부터 탐색\n",
    "    data=s[i]              \n",
    "    if result[-1]==data:  # result의 마지막 데이터 == 탐색 데이터? 하나의 그룹이므로 생략\n",
    "        continue    \n",
    "    result.append(data)   # result의 마지막 데이터 != 탐색 데이터? 다른 그룹이므로 result에 추가\n",
    "    \n",
    "cnt_1 = sum(result)           # 1의 개수\n",
    "cnt_0 = len(result) - cnt_1   # 0의 개수\n",
    "\n",
    "print(min(cnt_1, cnt_0))    "
   ]
  },
  {
   "cell_type": "code",
   "execution_count": 1,
   "metadata": {},
   "outputs": [
    {
     "name": "stdout",
     "output_type": "stream",
     "text": [
      "0001100\n",
      "1\n"
     ]
    }
   ],
   "source": [
    "s, tot = input(), 0\n",
    "for i in range(1, len(s)):\n",
    "    if s[i]!=s[i-1]:\n",
    "        tot+=1\n",
    "print((tot+1)//2)"
   ]
  },
  {
   "cell_type": "code",
   "execution_count": null,
   "metadata": {},
   "outputs": [],
   "source": []
  }
 ],
 "metadata": {
  "kernelspec": {
   "display_name": "Python 3",
   "language": "python",
   "name": "python3"
  },
  "language_info": {
   "codemirror_mode": {
    "name": "ipython",
    "version": 3
   },
   "file_extension": ".py",
   "mimetype": "text/x-python",
   "name": "python",
   "nbconvert_exporter": "python",
   "pygments_lexer": "ipython3",
   "version": "3.7.6"
  }
 },
 "nbformat": 4,
 "nbformat_minor": 4
}
