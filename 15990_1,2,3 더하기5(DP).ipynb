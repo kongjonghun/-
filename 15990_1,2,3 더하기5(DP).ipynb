{
 "cells": [
  {
   "cell_type": "markdown",
   "metadata": {},
   "source": [
    "<img src=\"15990.jpg\" width=\"90%\" height=\"80%\">"
   ]
  },
  {
   "cell_type": "code",
   "execution_count": null,
   "metadata": {},
   "outputs": [],
   "source": [
    "dp[i][j] : i가 되는 조합 중 끝자리가 j인 경우의 수\n",
    "\n",
    "dp[i][1]=dp[i-1][2]+dp[i-1][3]\n",
    "dp[i][2]=dp[i-2][1]+dp[i-2][3]\n",
    "dp[i][3]=dp[i-3][1]+dp[i-3][2]\n",
    "\n",
    "ex) dp[6][1] : 6이 되는 조합 중 끝자리가 1인 경우의 수\n",
    "    \n",
    "dp[6][1]=dp[5][2]+dp[5][3] : 5가 되는 조합 중 끝자리가 2인 경우의 수 + 5가 되는 조합 중 끝자리가 3인 경우의 수\n",
    "dp[6][2]=dp[4][1]+dp[4][3] : 4이 되는 조합 중 끝자리가 1인 경우의 수 + 4이 되는 조합 중 끝자리가 3인 경우의 수\n",
    "dp[6][3]=dp[3][1]+dp[3][2] : 3이 되는 조합 중 끝자리가 1인 경우의 수 + 3이 되는 조합 중 끝자리가 2인 경우의 수"
   ]
  },
  {
   "cell_type": "code",
   "execution_count": 2,
   "metadata": {},
   "outputs": [
    {
     "name": "stdout",
     "output_type": "stream",
     "text": [
      "3\n",
      "4\n",
      "3\n",
      "7\n",
      "9\n",
      "10\n",
      "27\n"
     ]
    }
   ],
   "source": [
    "# import sys\n",
    "# input=sys.stdin.readline\n",
    "dp=[[0]*4 for _ in range(100001)]\n",
    "dp[1]=[0,1,0,0]\n",
    "dp[2]=[0,0,1,0]\n",
    "dp[3]=[0,1,1,1]\n",
    "\n",
    "for i in range(4,100001):\n",
    "    dp[i][1]=dp[i-1][2]%1000000009+dp[i-1][3]%1000000009\n",
    "    dp[i][2]=dp[i-2][1]%1000000009+dp[i-2][3]%1000000009\n",
    "    dp[i][3]=dp[i-3][1]%1000000009+dp[i-3][2]%1000000009\n",
    "    \n",
    "for _ in range(int(input())):\n",
    "    data=int(input())\n",
    "    print(sum(dp[data])%1000000009)            "
   ]
  }
 ],
 "metadata": {
  "kernelspec": {
   "display_name": "Python 3",
   "language": "python",
   "name": "python3"
  },
  "language_info": {
   "codemirror_mode": {
    "name": "ipython",
    "version": 3
   },
   "file_extension": ".py",
   "mimetype": "text/x-python",
   "name": "python",
   "nbconvert_exporter": "python",
   "pygments_lexer": "ipython3",
   "version": "3.7.6"
  }
 },
 "nbformat": 4,
 "nbformat_minor": 4
}
