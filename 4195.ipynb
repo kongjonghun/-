{
 "cells": [
  {
   "cell_type": "markdown",
   "metadata": {},
   "source": [
    "# 4195 : 친구 네트워크"
   ]
  },
  {
   "cell_type": "markdown",
   "metadata": {},
   "source": [
    "민혁이는 소셜 네트워크 사이트에서 친구를 만드는 것을 좋아하는 친구이다. 우표를 모으는 취미가 있듯이, 민혁이는 소셜 네트워크 사이트에서 친구를 모으는 것이 취미이다.\n",
    "\n",
    "어떤 사이트의 친구 관계가 생긴 순서대로 주어졌을 때, 두 사람의 친구 네트워크에 몇 명이 있는지 구하는 프로그램을 작성하시오.\n",
    "\n",
    "친구 네트워크란 친구 관계만으로 이동할 수 있는 사이를 말한다."
   ]
  },
  {
   "cell_type": "markdown",
   "metadata": {},
   "source": [
    "- Python에서는 Dictionary 자료형을 해시처럼 사용 가능"
   ]
  },
  {
   "cell_type": "markdown",
   "metadata": {},
   "source": [
    "## Union-Find 알고리즘(합집합 찾기)  \n",
    "#### 원소들의 연결 여부를 확인하는 알고리즘  \n",
    "#### 서로 중복되지 않은 부분 집합들을 합칠 때 사용 \n",
    "#### 노드들 중 연결된 노드를 찾거나 / 노드들을 서로 연결(합칠 때)할 때 사용  \n",
    "\n"
   ]
  },
  {
   "cell_type": "markdown",
   "metadata": {},
   "source": [
    "- Union : 두 개별 집합을 하나의 집합으로 합침 / 두 트리를 하나의 트리로\n",
    "- Find : 선택된 두 노드가 서로 같은 그래프에 속하는지 판별하기 위해, 루트 노드를 비교 / 입력 원소의 Root 노드를 반환한다"
   ]
  },
  {
   "cell_type": "markdown",
   "metadata": {},
   "source": [
    "### Union-Find"
   ]
  },
  {
   "cell_type": "code",
   "execution_count": 2,
   "metadata": {},
   "outputs": [],
   "source": [
    "# node의 Root node를 찾아주는 함수\n",
    "def find(node):\n",
    "    if parent[node]==node:\n",
    "        return node\n",
    "    else:\n",
    "        parent[node] = find(parent[node])\n",
    "        return parent[node]\n",
    "\n",
    "# node1, node2의 Root node가 동일하지 않다면, node2의 Root node가 node1을 가리키도록\n",
    "def Union(node1, node2):\n",
    "    root_1 = find(node1)\n",
    "    root_2 = find(node2)\n",
    "    \n",
    "    if root_1 != root_2:\n",
    "        parent[root_2] = root_1            "
   ]
  },
  {
   "cell_type": "markdown",
   "metadata": {},
   "source": [
    "### 문풀1"
   ]
  },
  {
   "cell_type": "code",
   "execution_count": 3,
   "metadata": {},
   "outputs": [
    {
     "name": "stdout",
     "output_type": "stream",
     "text": [
      "2\n",
      "3\n",
      "Fred Barney\n",
      "2\n",
      "Barney Betty\n",
      "3\n",
      "Betty Wilma\n",
      "4\n",
      "3\n",
      "Fred Barney\n",
      "2\n",
      "Betty Wilma\n",
      "2\n",
      "Barney Betty\n",
      "4\n"
     ]
    }
   ],
   "source": [
    "def find(node):\n",
    "    if parent[node] == node:\n",
    "        return node\n",
    "    else:\n",
    "        parent[node]=find(parent[node])\n",
    "        return parent[node]\n",
    "\n",
    "def Union(node1, node2):\n",
    "    root_1 = find(node1)\n",
    "    root_2 = find(node2)\n",
    "    \n",
    "    if root_1 != root_2:\n",
    "        parent[root_2] = root_1\n",
    "        number[root_1] += number[root_2]\n",
    "\n",
    "test_case = int(input())\n",
    "\n",
    "for _ in range(test_case):\n",
    "    parent = dict()\n",
    "    number = dict()\n",
    "    f = int(input())\n",
    "    \n",
    "    for _ in range(f):\n",
    "        node1, node2 = input().split(' ')\n",
    "        \n",
    "        if node1 not in parent:\n",
    "            parent[node1] = node1\n",
    "            number[node1] = 1\n",
    "        if node2 not in parent:\n",
    "            parent[node2] = node2\n",
    "            number[node2] = 1\n",
    "        \n",
    "        Union(node1, node2)\n",
    "        print(number[find(node1)])"
   ]
  },
  {
   "cell_type": "markdown",
   "metadata": {},
   "source": [
    "### 문풀2"
   ]
  },
  {
   "cell_type": "code",
   "execution_count": 5,
   "metadata": {},
   "outputs": [
    {
     "name": "stdout",
     "output_type": "stream",
     "text": [
      "2\n",
      "3\n",
      "Fred Barney\n",
      "2\n",
      "Barney Betty\n",
      "3\n",
      "Betty Wilma\n",
      "4\n",
      "{'Fred': 'Fred', 'Barney': 'Fred', 'Betty': 'Fred', 'Wilma': 'Fred'}\n",
      "{'Fred': 4, 'Barney': 1, 'Betty': 1, 'Wilma': 1}\n",
      "3\n",
      "Fred Barney\n",
      "2\n",
      "Betty Wilma\n",
      "2\n",
      "Barney Betty\n",
      "4\n",
      "{'Fred': 'Fred', 'Barney': 'Fred', 'Betty': 'Fred', 'Wilma': 'Betty'}\n",
      "{'Fred': 4, 'Barney': 1, 'Betty': 2, 'Wilma': 1}\n"
     ]
    }
   ],
   "source": [
    "def find(x):\n",
    "    if x == parent[x]:\n",
    "        return x\n",
    "    else:\n",
    "        root_x = find(parent[x])\n",
    "        parent[x] = root_x\n",
    "        return parent[x]\n",
    "\n",
    "# y의 Root 노드가 x의 Root 노드와 같지 않으면 \n",
    "# y의 Root 노드가 x의 Root 노드의 자식이 되도록 하는 함수\n",
    "def union(x,y):\n",
    "    root_x = find(x)\n",
    "    root_y = find(y)\n",
    "\n",
    "    if root_x!=root_y:\n",
    "        parent[root_y] = root_x\n",
    "        number[root_x] +=number[root_y]\n",
    "        \n",
    "    \n",
    "test_cases = int(input())\n",
    "\n",
    "for _ in range(test_cases):\n",
    "    parent = dict()\n",
    "    number = dict()\n",
    "\n",
    "    f = int(input())\n",
    "\n",
    "    for _ in range(f):\n",
    "        x,y = input().split(\" \")\n",
    "        \n",
    "        if x not in parent:\n",
    "            parent[x] = x\n",
    "            number[x] = 1\n",
    "        if y not in parent:\n",
    "            parent[y] = y\n",
    "            number[y] = 1\n",
    "        \n",
    "        union (x,y)\n",
    "        print(number[find(x)])\n",
    "    print(parent)\n",
    "    print(number)"
   ]
  }
 ],
 "metadata": {
  "kernelspec": {
   "display_name": "Python 3",
   "language": "python",
   "name": "python3"
  },
  "language_info": {
   "codemirror_mode": {
    "name": "ipython",
    "version": 3
   },
   "file_extension": ".py",
   "mimetype": "text/x-python",
   "name": "python",
   "nbconvert_exporter": "python",
   "pygments_lexer": "ipython3",
   "version": "3.7.6"
  }
 },
 "nbformat": 4,
 "nbformat_minor": 4
}
