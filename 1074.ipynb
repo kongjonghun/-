{
 "cells": [
  {
   "cell_type": "markdown",
   "metadata": {},
   "source": [
    "# 1074 : z"
   ]
  },
  {
   "cell_type": "markdown",
   "metadata": {},
   "source": [
    "#### 분할과 정복(Divide and Conquer)\n",
    "- 4분면으로 쪼개기\n",
    "- 찾고자하는 행,렬이 몇 사분면에 있는지\n",
    "- 해당 사분면 기준으로 위 반복\n",
    "- 2x2 나올경우 멈추고 해당 데이터가 2x2에서 어디 있는지 탐색 후 data += 값"
   ]
  },
  {
   "cell_type": "code",
   "execution_count": 1,
   "metadata": {},
   "outputs": [
    {
     "name": "stdout",
     "output_type": "stream",
     "text": [
      "2 3 1\n",
      "11\n"
     ]
    }
   ],
   "source": [
    "def search(n, r, c):\n",
    "    data=0    \n",
    "    while n>=2: # 2x2 까지 쪼개기          \n",
    "        if r<n/2 and c>=n/2:       # 2사분면\n",
    "            data += (n*n)/4     # data += 1사분면 칸 개수\n",
    "            c-= n/2             # 컬럼/2\n",
    "        if r>=n/2 and c<n/2:      # 3사분면           \n",
    "            data += (2*n*n)/4  # data += 1사분면, 2사분면 칸 개수\n",
    "            r-= n/2            # 로우/2\n",
    "        if r>=n/2 and c>=n/2:     # 4사분면   \n",
    "            data += (3*n*n)/4 # data += 1사분면, 2사분면, 3사분면 칸 개수\n",
    "            c-= n/2           # 컬럼/2\n",
    "            r-= n/2           # 로우/2\n",
    "        n=n/2                 # 쪼개기\n",
    "                              # 2x2 상태에서 어디에 / 1사분면, 2사분면, 3사분면, 4사분면\n",
    "    if r==0 and c==0:\n",
    "        data+=1\n",
    "    if r==0 and c==1:\n",
    "        data+=2\n",
    "    if r==1 and c==0:\n",
    "        data+=3\n",
    "    if c==1 and r==1:\n",
    "        data+=4\n",
    "    print(int(data-1))\n",
    "\n",
    "N, R, C = map(int, input().split())\n",
    "search(2**N, R, C)"
   ]
  },
  {
   "cell_type": "markdown",
   "metadata": {},
   "source": [
    "#### 재귀함수 활용"
   ]
  },
  {
   "cell_type": "code",
   "execution_count": 11,
   "metadata": {},
   "outputs": [
    {
     "name": "stdout",
     "output_type": "stream",
     "text": [
      "3 7 7\n",
      "63\n"
     ]
    }
   ],
   "source": [
    "def search(n, x, y):\n",
    "    global data\n",
    "    if n==2:\n",
    "        if x==R and y==C:\n",
    "            print(data)\n",
    "            return\n",
    "        data+=1\n",
    "        if x==R and y+1==C:\n",
    "            print(data)\n",
    "            return\n",
    "        data+=1\n",
    "        if x+1==R and y==C:\n",
    "            print(data)\n",
    "            return\n",
    "        data+=1\n",
    "        if x+1==R and y+1==C:\n",
    "            print(data)\n",
    "            return\n",
    "        data+=1\n",
    "        return\n",
    "    \n",
    "    search(n/2, x, y)           # 1사분면\n",
    "    search(n/2, x, y+n/2)       # 2사분면\n",
    "    search(n/2, x+n/2, y)       # 3사분면\n",
    "    search(n/2, x+n/2, y+n/2)   # 4사분면\n",
    "\n",
    "data = 0\n",
    "N, R, C = map(int, input().split())\n",
    "search(2**N, 0, 0)"
   ]
  },
  {
   "cell_type": "code",
   "execution_count": null,
   "metadata": {},
   "outputs": [],
   "source": [
    "import sys\n",
    "\n",
    "def search(n, x, y):\n",
    "    global data\n",
    "    if n==2:\n",
    "        if x==R and y==C:\n",
    "            print(data)\n",
    "            return\n",
    "        data+=1\n",
    "        if x==R and y+1==C:\n",
    "            print(data)\n",
    "            return\n",
    "        data+=1\n",
    "        if x+1==R and y==C:\n",
    "            print(data)\n",
    "            return\n",
    "        data+=1\n",
    "        if x+1==R and y+1==C:\n",
    "            print(data)\n",
    "            return\n",
    "        data+=1\n",
    "        return\n",
    "    \n",
    "    search(n/2, x, y)\n",
    "    search(n/2, x, y+n/2)\n",
    "    search(n/2, x+n/2, y)\n",
    "    search(n/2, x+n/2, y+n/2)\n",
    "\n",
    "data = 0    \n",
    "N, R, C = map(int, sys.stdin.readline().split())\n",
    "search(2**N, 0, 0)"
   ]
  }
 ],
 "metadata": {
  "kernelspec": {
   "display_name": "Python 3",
   "language": "python",
   "name": "python3"
  },
  "language_info": {
   "codemirror_mode": {
    "name": "ipython",
    "version": 3
   },
   "file_extension": ".py",
   "mimetype": "text/x-python",
   "name": "python",
   "nbconvert_exporter": "python",
   "pygments_lexer": "ipython3",
   "version": "3.7.6"
  }
 },
 "nbformat": 4,
 "nbformat_minor": 4
}
