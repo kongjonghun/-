{
 "cells": [
  {
   "cell_type": "markdown",
   "metadata": {},
   "source": [
    "# 1302 : 베스트셀러"
   ]
  },
  {
   "cell_type": "markdown",
   "metadata": {},
   "source": [
    "https://www.acmicpc.net/problem/1302"
   ]
  },
  {
   "cell_type": "markdown",
   "metadata": {},
   "source": [
    "<b>dictionary</b>  \n",
    "- dict.keys() : 키만 출력  \n",
    "- dict.values() : value만 출력  \n",
    "- dict.items() : 키:value 출력"
   ]
  },
  {
   "cell_type": "markdown",
   "metadata": {},
   "source": [
    "<b>Counter(iterable)</b>  \n",
    "- 컨테이너에 동일한 값의 자료가 몇개인지를 파악하는데 사용하는 객체   \n",
    "- collections.Counter()의 결과값(return)은 <u>딕셔너리</u> 형태로 출력\n",
    "\n",
    "<b>Counter().most_common(n)</b>\n",
    "- 가장 빈도수가 높은 key, value 쌍부터 <u>튜플</u> 형태로 반환  \n",
    "- 인자로 숫자(개수)를 전달하면 가장 빈도수가 높은 것부터 해당 개수만큼의 쌍만이 반환됨  "
   ]
  },
  {
   "cell_type": "code",
   "execution_count": 63,
   "metadata": {},
   "outputs": [
    {
     "name": "stdout",
     "output_type": "stream",
     "text": [
      "Counter({'aa': 2, 'cc': 1, 'dd': 1, 'bb': 1, 'ee': 1})\n",
      "[('aa', 2), ('cc', 1), ('dd', 1), ('bb', 1), ('ee', 1)]\n",
      "[('aa', 2)]\n",
      "[('aa', 2), ('cc', 1)]\n",
      "[('aa', 2), ('cc', 1), ('dd', 1)]\n",
      "[('aa', 2), ('cc', 1), ('dd', 1), ('bb', 1)]\n"
     ]
    }
   ],
   "source": [
    "import collections\n",
    "lst = ['aa', 'cc', 'dd', 'aa', 'bb', 'ee'] \n",
    "print(collections.Counter(lst))             # 빈도가 동일할 경우, 입력 순으로 나열\n",
    "print(collections.Counter(lst).most_common())\n",
    "print(collections.Counter(lst).most_common(1))\n",
    "print(collections.Counter(lst).most_common(2))\n",
    "print(collections.Counter(lst).most_common(3))\n",
    "print(collections.Counter(lst).most_common(4))"
   ]
  },
  {
   "cell_type": "markdown",
   "metadata": {},
   "source": [
    "### 풀이1 : Counter().most_common() 이용"
   ]
  },
  {
   "cell_type": "code",
   "execution_count": 69,
   "metadata": {
    "scrolled": true
   },
   "outputs": [
    {
     "name": "stdout",
     "output_type": "stream",
     "text": [
      "4\n",
      "top\n",
      "top\n",
      "kim\n",
      "top\n",
      "top\n"
     ]
    }
   ],
   "source": [
    "from collections import Counter\n",
    "data=[]\n",
    "\n",
    "n=int(input())\n",
    "for _ in range(n):\n",
    "    data.append(input())\n",
    "    \n",
    "print(Counter(sorted(data)).most_common(1)[0][0])"
   ]
  },
  {
   "cell_type": "markdown",
   "metadata": {},
   "source": [
    "### 풀이2 : dict 이용"
   ]
  },
  {
   "cell_type": "code",
   "execution_count": 29,
   "metadata": {},
   "outputs": [
    {
     "name": "stdout",
     "output_type": "stream",
     "text": [
      "5\n",
      "a\n",
      "a\n",
      "b\n",
      "b\n",
      "c\n",
      "a\n"
     ]
    }
   ],
   "source": [
    "n=int(input())\n",
    "data={}\n",
    "for i in range(n):\n",
    "    book=input()\n",
    "    if book not in data:\n",
    "        data[book]=1\n",
    "    else:\n",
    "        data[book]+=1\n",
    "        \n",
    "best=max(data.values())\n",
    "array=[]\n",
    "\n",
    "for key,value in data.items():\n",
    "    if value==best:\n",
    "        array.append(key)\n",
    "array=sorted(array)[0]\n",
    "print(array[0])"
   ]
  }
 ],
 "metadata": {
  "kernelspec": {
   "display_name": "Python 3",
   "language": "python",
   "name": "python3"
  },
  "language_info": {
   "codemirror_mode": {
    "name": "ipython",
    "version": 3
   },
   "file_extension": ".py",
   "mimetype": "text/x-python",
   "name": "python",
   "nbconvert_exporter": "python",
   "pygments_lexer": "ipython3",
   "version": "3.7.6"
  }
 },
 "nbformat": 4,
 "nbformat_minor": 4
}
