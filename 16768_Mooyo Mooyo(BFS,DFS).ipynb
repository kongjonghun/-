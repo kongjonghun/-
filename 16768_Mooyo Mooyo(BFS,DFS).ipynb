{
 "cells": [
  {
   "cell_type": "markdown",
   "metadata": {},
   "source": [
    "# 16768 : Mooyo Mooyo"
   ]
  },
  {
   "cell_type": "markdown",
   "metadata": {},
   "source": [
    "https://www.acmicpc.net/problem/16768"
   ]
  },
  {
   "cell_type": "markdown",
   "metadata": {},
   "source": [
    "### BFS + 배열조정"
   ]
  },
  {
   "cell_type": "code",
   "execution_count": null,
   "metadata": {},
   "outputs": [],
   "source": [
    "1. 지울게 없을 때까지 while문 반복\n",
    "\n",
    "2. graph를 모두 순회하며 '0'이 아니고 방문하지 않은 곳만 DFS수행\n",
    "2.1 DFS 수행하며 그루핑 \n",
    "2.2 그루핑 개수 res 저장\n",
    "2.3 그루핑 요소 위치 group=[]에 저장\n",
    "\n",
    "3. res가 k보다 크다면 그룹 요소 제거\n",
    "3.1 make_zero() 수행하여 group=[] 요소들 0으로 만들기\n",
    "\n",
    "4. Donw() 수행하여 0 요소 제외 밑으로 내리기\n",
    "\n",
    "5. 지울게 없을 때까지 while문 반복\n",
    "\n",
    "6. 출력"
   ]
  },
  {
   "cell_type": "code",
   "execution_count": 5,
   "metadata": {},
   "outputs": [
    {
     "name": "stdout",
     "output_type": "stream",
     "text": [
      "6 3\n",
      "0000000000\n",
      "0000000300\n",
      "0054000300\n",
      "1054502230\n",
      "2211122220\n",
      "1111111223\n",
      "0000000000\n",
      "0000000000\n",
      "0000000000\n",
      "0000000000\n",
      "1054000000\n",
      "2254500000\n"
     ]
    }
   ],
   "source": [
    "n, k = map(int ,input().split())\n",
    "graph=[list(input()) for _ in range(n)] \n",
    "group=[]                  # group : 그루핑할 시 그루핑 멤버 위치 저장 배열\n",
    "\n",
    "def DFS(x,y):            # 그룹 내 수 세기        \n",
    "    visited[x][y]=True    \n",
    "    group.append((x,y))  # 그루핑 요소들 위치 저장\n",
    "    res=1            \n",
    "    for i,j in [(x+1, y),(x-1, y),(x, y+1),(x, y-1)]:\n",
    "        if 0<=i<n and 0<=j<10 and not visited[i][j] and graph[i][j]==graph[x][y]:                        \n",
    "            res+=DFS(i,j)                    \n",
    "    return res          # 그루핑 요소들 개수 반환\n",
    "\n",
    "def make_zero():        # 지우기            \n",
    "    for i,j in group:\n",
    "        graph[i][j]='0'\n",
    "                    \n",
    "def Down():             # 내리기\n",
    "    for i in range(10): # 각 열별 순환하며 0아닌 경우 tmp에 저장하고 마지막에 나열\n",
    "        tmp=[]\n",
    "        for j in range(n):                # 0이 아닌 요소 추출\n",
    "            if graph[j][i]!='0':\n",
    "                tmp.append(graph[j][i])\n",
    "        for j in range(n-len(tmp)):      # 0먼저 나열\n",
    "            graph[j][i]='0'\n",
    "        for j in range(n-len(tmp), n):  # 0이 아닌 요소 나열\n",
    "            graph[j][i]=tmp[j-(n-len(tmp))]\n",
    "            \n",
    "while True:\n",
    "    exist=False\n",
    "    visited=[[False]*10 for _ in range(n)]    \n",
    "    for i in range(n):\n",
    "        for j in range(10):\n",
    "            res=0                    \n",
    "            group=[]\n",
    "            if graph[i][j] !='0' and not visited[i][j]:                \n",
    "                res=DFS(i,j)         # 그룹 개수 세기\n",
    "            if res >= k:\n",
    "                make_zero()          # 지우기\n",
    "                exist=True\n",
    "    if not exist:                   # 지운게 없을때 탈출\n",
    "        break\n",
    "    Down()                          # 지운게 있다면? 내리기\n",
    "                \n",
    "for i in graph:\n",
    "    print(''.join(i))"
   ]
  }
 ],
 "metadata": {
  "kernelspec": {
   "display_name": "Python 3",
   "language": "python",
   "name": "python3"
  },
  "language_info": {
   "codemirror_mode": {
    "name": "ipython",
    "version": 3
   },
   "file_extension": ".py",
   "mimetype": "text/x-python",
   "name": "python",
   "nbconvert_exporter": "python",
   "pygments_lexer": "ipython3",
   "version": "3.7.6"
  }
 },
 "nbformat": 4,
 "nbformat_minor": 4
}
