{
 "cells": [
  {
   "cell_type": "markdown",
   "metadata": {},
   "source": [
    "# 10539 : 수빈이와 수열"
   ]
  },
  {
   "cell_type": "code",
   "execution_count": 1,
   "metadata": {},
   "outputs": [
    {
     "name": "stdout",
     "output_type": "stream",
     "text": [
      "4\n",
      "3 2 3 5\n",
      "[3, 1, 5, 11]\n"
     ]
    }
   ],
   "source": [
    "import sys\n",
    "input = sys.stdin.readline\n",
    "\n",
    "N, lst = int(input()), list(map(int, input().split()))\n",
    "result=[lst[0]]\n",
    "\n",
    "for i in range(1, N):    \n",
    "    result.append(lst[i]*(i+1)- sum(result))\n",
    "            \n",
    "for i in result:\n",
    "    print(i, end=' ')"
   ]
  },
  {
   "cell_type": "code",
   "execution_count": 3,
   "metadata": {},
   "outputs": [
    {
     "name": "stdout",
     "output_type": "stream",
     "text": [
      "4\n",
      "3 2 3 5\n",
      "3 1 5 11 "
     ]
    }
   ],
   "source": [
    "#import sys\n",
    "#input = sys.stdin.readline\n",
    "\n",
    "N, lst = int(input()), list(map(int, input().split()))\n",
    "result=[0 for _ in range(N)]\n",
    "result[0]=lst[0]\n",
    "\n",
    "for i in range(1, N):    \n",
    "    result[i] = lst[i]*(i+1)- sum(result)\n",
    "            \n",
    "for i in result:\n",
    "    print(i, end=' ')"
   ]
  }
 ],
 "metadata": {
  "kernelspec": {
   "display_name": "Python 3",
   "language": "python",
   "name": "python3"
  },
  "language_info": {
   "codemirror_mode": {
    "name": "ipython",
    "version": 3
   },
   "file_extension": ".py",
   "mimetype": "text/x-python",
   "name": "python",
   "nbconvert_exporter": "python",
   "pygments_lexer": "ipython3",
   "version": "3.7.6"
  }
 },
 "nbformat": 4,
 "nbformat_minor": 4
}
