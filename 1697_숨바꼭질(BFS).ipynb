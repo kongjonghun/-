{
 "cells": [
  {
   "cell_type": "markdown",
   "metadata": {},
   "source": [
    "# 1697 : 숨바꼭질"
   ]
  },
  {
   "cell_type": "markdown",
   "metadata": {},
   "source": [
    "https://www.acmicpc.net/problem/1697"
   ]
  },
  {
   "cell_type": "markdown",
   "metadata": {},
   "source": [
    "### Short-circuit evaluation(SCE) in Python : 숏 서킷\n",
    "- and , or 연산에 있어서 앞의 비교에서 결과가 확실하게 예측 되었을 때 뒤의 연산을 수행하지 않고 바로 결과를 내는 것이다.\n",
    "- 불필요한 조건 실행을 생략하므로 효율적이고, 대부분의 컴퓨터 연산작업은 이렇게 lazy 하게 동작한다.\n",
    "- Python에서도 or , and 연산자는 short-circuit operator이다.\n",
    "\n",
    "><b>AND</b> : False and (whatever) : x and y → x가 false 이면 뒤의 연산은 생략  \n",
    "<b>OR</b> : True or (whatever) : x or y → x가 True 이면 뒤의 연산은 생략"
   ]
  },
  {
   "cell_type": "markdown",
   "metadata": {},
   "source": [
    "런타임 에러(IndexError)"
   ]
  },
  {
   "cell_type": "code",
   "execution_count": 24,
   "metadata": {},
   "outputs": [
    {
     "name": "stdout",
     "output_type": "stream",
     "text": [
      "5 17\n",
      "4\n"
     ]
    }
   ],
   "source": [
    "from collections import deque\n",
    "max = 100001\n",
    "n, k = map(int, input().split())\n",
    "visited=[0]*max\n",
    "\n",
    "def BFS():    \n",
    "    q=deque([n])\n",
    "    while q:\n",
    "        node=q.popleft()\n",
    "        if node==k:\n",
    "            return visited[node]    \n",
    "        for i in (node-1, node+1, 2*node):                \n",
    "            if not visited[i] and (0<=i<max) :\n",
    "                visited[i]=visited[node]+1\n",
    "                q.append(i)\n",
    "print(BFS())"
   ]
  },
  {
   "cell_type": "markdown",
   "metadata": {},
   "source": [
    "#### 즉, if not visited[i] and (0<=i<max)에서 not visited[i]가 false일 경우 (0<=i<max)연산은 생략!   \n",
    "\n",
    "\n",
    "#### 만약 i가 100000보다 크거나 0보다 작은 값이면 not visited[i]에서 visited의 리스트 범위인 0~100001을 벗어나므로 indexError 발생!  \n",
    "\n",
    "#### 순서를 바꾸어 (0<=i<max) and not visited[i] 이면 i가 visited의 리스트 범위 안에일 경우에만 visited[i] 조건 검증\n",
    "\n",
    "#### 그러므로 and, or 연산자에서는 연산자 앞에 우선순위 조건식을 작성!  "
   ]
  },
  {
   "cell_type": "markdown",
   "metadata": {},
   "source": [
    "문풀"
   ]
  },
  {
   "cell_type": "code",
   "execution_count": 41,
   "metadata": {},
   "outputs": [
    {
     "name": "stdout",
     "output_type": "stream",
     "text": [
      "5 17\n",
      "4\n"
     ]
    }
   ],
   "source": [
    "from collections import deque\n",
    "n,k=map(int, input().split())\n",
    "time=[0]*100001\n",
    "\n",
    "def bfs():\n",
    "    q=deque([n])\n",
    "    while q:\n",
    "        move=q.popleft()\n",
    "        if move==k:\n",
    "            return time[move]\n",
    "        for i in (move-1, move+1, move*2):\n",
    "            if 0<=i<=100000 and not time[i]:\n",
    "                time[i]=time[move]+1\n",
    "                q.append(i)\n",
    "print(bfs())"
   ]
  },
  {
   "cell_type": "markdown",
   "metadata": {},
   "source": [
    "![title](1697.jpg)"
   ]
  },
  {
   "cell_type": "code",
   "execution_count": 38,
   "metadata": {},
   "outputs": [
    {
     "name": "stdout",
     "output_type": "stream",
     "text": [
      "5 12\n",
      "5\n",
      "4\n",
      "6\n",
      "10\n",
      "3\n",
      "8\n",
      "7\n",
      "12\n",
      "None\n"
     ]
    }
   ],
   "source": [
    "from collections import deque\n",
    "\n",
    "n, k=map(int, input().split())\n",
    "visited=[False]*100001\n",
    "\n",
    "def bfs():\n",
    "    q=deque([n])\n",
    "    while q:\n",
    "        node=q.popleft()\n",
    "        print(node)\n",
    "        visited[node]=True\n",
    "        if node==k:\n",
    "            return \n",
    "        for i in (node-1, node+1, node*2):\n",
    "            if not visited[i]:\n",
    "                visited[i]=True\n",
    "                q.append(i) \n",
    "print(bfs())"
   ]
  }
 ],
 "metadata": {
  "kernelspec": {
   "display_name": "Python 3",
   "language": "python",
   "name": "python3"
  },
  "language_info": {
   "codemirror_mode": {
    "name": "ipython",
    "version": 3
   },
   "file_extension": ".py",
   "mimetype": "text/x-python",
   "name": "python",
   "nbconvert_exporter": "python",
   "pygments_lexer": "ipython3",
   "version": "3.7.6"
  }
 },
 "nbformat": 4,
 "nbformat_minor": 4
}
