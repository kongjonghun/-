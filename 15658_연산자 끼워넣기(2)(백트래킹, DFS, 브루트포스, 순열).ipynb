{
 "cells": [
  {
   "cell_type": "markdown",
   "metadata": {},
   "source": [
    "### Permutations : 시간 초과"
   ]
  },
  {
   "cell_type": "code",
   "execution_count": null,
   "metadata": {},
   "outputs": [],
   "source": [
    "from itertools import permutations\n",
    "import sys\n",
    "input = sys.stdin.readline\n",
    "\n",
    "n=int(input())\n",
    "data=list(map(int, input().split()))\n",
    "cnt=list(map(int, input().split()))\n",
    "op=['+']*cnt[0] + ['-']*cnt[1] + ['*']*cnt[2] + ['%']*cnt[3]     # 2 1 1 1 인경우 : op=['+','+','-','*','%']\n",
    "\n",
    "max_data=-1e9\n",
    "min_data=1e9\n",
    "\n",
    "def solve():\n",
    "    global max_data, min_data\n",
    "    for case in permutations(op, n-1):\n",
    "        j,total=0,data[0]\n",
    "        for opt in case:\n",
    "            j+=1\n",
    "            if opt=='+':\n",
    "                total+=data[j]                \n",
    "            if opt=='-':\n",
    "                total-=data[j]\n",
    "            if opt=='*':\n",
    "                total*=data[j]\n",
    "            if opt=='%':\n",
    "                total=int(total/data[j])\n",
    "        \n",
    "        max_data=max(max_data, total)\n",
    "        min_data=min(min_data, total)\n",
    "    \n",
    "solve()\n",
    "print(max_data)\n",
    "print(min_data)"
   ]
  },
  {
   "cell_type": "markdown",
   "metadata": {},
   "source": [
    "### DFS : 통과"
   ]
  },
  {
   "cell_type": "code",
   "execution_count": 10,
   "metadata": {},
   "outputs": [
    {
     "name": "stdout",
     "output_type": "stream",
     "text": [
      "3\n",
      "3 4 5\n",
      "2 1 2 1\n",
      "60\n",
      "-5\n"
     ]
    }
   ],
   "source": [
    "n=int(input())\n",
    "data=list(map(int, input().split()))\n",
    "cnt=list(map(int, input().split()))\n",
    "\n",
    "maximum=-1e9\n",
    "minimum=1e9\n",
    "\n",
    "def DFS(depth, total, plus, minus, multiple, divide):\n",
    "    global maximum, minimum\n",
    "    if depth==n:\n",
    "        maximum=max(maximum, total)\n",
    "        minimum=min(minimum, total)\n",
    "        return\n",
    "    if plus:\n",
    "        DFS(depth+1, total+data[depth], plus-1, minus, multiple, divide)\n",
    "    if minus:\n",
    "        DFS(depth+1, total-data[depth], plus, minus-1, multiple, divide)\n",
    "    if multiple:\n",
    "        DFS(depth+1, total*data[depth], plus, minus, multiple-1, divide)\n",
    "    if divide:\n",
    "        DFS(depth+1, int(total/data[depth]), plus, minus, multiple, divide-1)\n",
    "        \n",
    "DFS(1, data[0], cnt[0], cnt[1], cnt[2], cnt[3])\n",
    "\n",
    "print(maximum)\n",
    "print(minimum)"
   ]
  }
 ],
 "metadata": {
  "kernelspec": {
   "display_name": "Python 3",
   "language": "python",
   "name": "python3"
  },
  "language_info": {
   "codemirror_mode": {
    "name": "ipython",
    "version": 3
   },
   "file_extension": ".py",
   "mimetype": "text/x-python",
   "name": "python",
   "nbconvert_exporter": "python",
   "pygments_lexer": "ipython3",
   "version": "3.7.6"
  }
 },
 "nbformat": 4,
 "nbformat_minor": 4
}
