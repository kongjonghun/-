{
 "cells": [
  {
   "cell_type": "code",
   "execution_count": 3,
   "metadata": {},
   "outputs": [
    {
     "name": "stdout",
     "output_type": "stream",
     "text": [
      "6\n",
      "1 3 5 7 13 17\n",
      "5\n"
     ]
    }
   ],
   "source": [
    "n=int(input())\n",
    "lst=list(map(int, input().split()))\n",
    "\n",
    "def isPrime(n):\n",
    "    if n==1: return 0\n",
    "    for i in range(2, n):\n",
    "        if n%i==0: return 0\n",
    "        if i*i>n: break\n",
    "    return 1\n",
    "\n",
    "sum=0\n",
    "for i in lst:\n",
    "    sum+=isPrime(i)\n",
    "print(sum)    "
   ]
  }
 ],
 "metadata": {
  "kernelspec": {
   "display_name": "Python 3",
   "language": "python",
   "name": "python3"
  },
  "language_info": {
   "codemirror_mode": {
    "name": "ipython",
    "version": 3
   },
   "file_extension": ".py",
   "mimetype": "text/x-python",
   "name": "python",
   "nbconvert_exporter": "python",
   "pygments_lexer": "ipython3",
   "version": "3.7.6"
  }
 },
 "nbformat": 4,
 "nbformat_minor": 4
}
