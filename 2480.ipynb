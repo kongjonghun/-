{
 "cells": [
  {
   "cell_type": "markdown",
   "metadata": {},
   "source": [
    "# 2480 : 주사위 세개"
   ]
  },
  {
   "cell_type": "markdown",
   "metadata": {},
   "source": [
    "### 문풀1"
   ]
  },
  {
   "cell_type": "code",
   "execution_count": 26,
   "metadata": {},
   "outputs": [
    {
     "name": "stdout",
     "output_type": "stream",
     "text": [
      "6 2 5\n",
      "600\n"
     ]
    }
   ],
   "source": [
    "from collections import Counter\n",
    "\n",
    "dice=list(map(int, input().split()))\n",
    "counter=Counter(dice)\n",
    "\n",
    "if len(counter)==1:\n",
    "    print(10000 + dice[0]*1000)\n",
    "elif len(counter)==2:\n",
    "    for key, value in counter.items():\n",
    "        if value==2:\n",
    "            print(1000 + key*100)    \n",
    "else:\n",
    "    print(max(dice)*100)\n",
    "    "
   ]
  },
  {
   "cell_type": "code",
   "execution_count": 29,
   "metadata": {},
   "outputs": [
    {
     "name": "stdout",
     "output_type": "stream",
     "text": [
      "Counter({3: 2, 6: 1})\n"
     ]
    }
   ],
   "source": [
    "from collections import Counter\n",
    "dice=[3,3,6]\n",
    "counter=Counter(dice)\n",
    "print(counter)"
   ]
  },
  {
   "cell_type": "code",
   "execution_count": 27,
   "metadata": {},
   "outputs": [
    {
     "name": "stdout",
     "output_type": "stream",
     "text": [
      "3\n"
     ]
    }
   ],
   "source": [
    "from collections import Counter\n",
    "dice=[3,3,6]\n",
    "counter=Counter(dice)\n",
    "\n",
    "for key,value in counter.items():\n",
    "    if value==2:\n",
    "        print(key)    "
   ]
  },
  {
   "cell_type": "markdown",
   "metadata": {},
   "source": [
    "### 문풀2"
   ]
  },
  {
   "cell_type": "code",
   "execution_count": 30,
   "metadata": {},
   "outputs": [
    {
     "name": "stdout",
     "output_type": "stream",
     "text": [
      "3 3 6\n",
      "1300\n"
     ]
    }
   ],
   "source": [
    "lst = sorted(list(map(int, input().split())))\n",
    "\n",
    "if len(set(lst))==1:\n",
    "    print(10000 + lst[0]*1000)\n",
    "elif len(set(lst))==2:\n",
    "    print(1000 + lst[1]*100)\n",
    "else:\n",
    "    print(lst[-1]*100)"
   ]
  }
 ],
 "metadata": {
  "kernelspec": {
   "display_name": "Python 3",
   "language": "python",
   "name": "python3"
  },
  "language_info": {
   "codemirror_mode": {
    "name": "ipython",
    "version": 3
   },
   "file_extension": ".py",
   "mimetype": "text/x-python",
   "name": "python",
   "nbconvert_exporter": "python",
   "pygments_lexer": "ipython3",
   "version": "3.7.6"
  }
 },
 "nbformat": 4,
 "nbformat_minor": 4
}
