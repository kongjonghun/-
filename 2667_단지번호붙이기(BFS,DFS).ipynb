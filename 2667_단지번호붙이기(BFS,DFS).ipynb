{
 "cells": [
  {
   "cell_type": "markdown",
   "metadata": {},
   "source": [
    "# 2667 : 단지번호붙이기"
   ]
  },
  {
   "cell_type": "markdown",
   "metadata": {},
   "source": [
    "### BFS"
   ]
  },
  {
   "cell_type": "code",
   "execution_count": 6,
   "metadata": {},
   "outputs": [
    {
     "name": "stdout",
     "output_type": "stream",
     "text": [
      "7\n",
      "0110100\n",
      "0110101\n",
      "1110101\n",
      "0000111\n",
      "0100000\n",
      "0111110\n",
      "0111000\n",
      "3\n",
      "7\n",
      "8\n",
      "9\n"
     ]
    }
   ],
   "source": [
    "from collections import deque\n",
    "n=int(input())\n",
    "graph=[list(map(int, input())) for _ in range(n)]\n",
    "visited=[[False]*n for _ in range(n)]\n",
    "\n",
    "def BFS(x,y):\n",
    "    q=deque([[x,y]])\n",
    "    visited[x][y]=True\n",
    "    cnt=1\n",
    "    while q:\n",
    "        nx, ny = q.popleft()\n",
    "        for i,j in [(nx+1,ny),(nx-1,ny),(nx,ny+1),(nx,ny-1)]:\n",
    "            if 0<=i<n and 0<=j<n and graph[i][j]==1 and not visited[i][j]:\n",
    "                visited[i][j]=True\n",
    "                q.append([i,j])\n",
    "                cnt+=1\n",
    "    return cnt\n",
    "                   \n",
    "cnt2=0                    \n",
    "res=[]\n",
    "for i in range(n):\n",
    "    for j in range(n):\n",
    "        if not visited[i][j] and graph[i][j]==1:\n",
    "            res.append(BFS(i,j))            \n",
    "            cnt2+=1\n",
    "print(cnt2)        \n",
    "for i in res:\n",
    "    print(i)"
   ]
  },
  {
   "cell_type": "markdown",
   "metadata": {},
   "source": [
    "### DFS"
   ]
  },
  {
   "cell_type": "code",
   "execution_count": 7,
   "metadata": {},
   "outputs": [
    {
     "name": "stdout",
     "output_type": "stream",
     "text": [
      "7\n",
      "0110100\n",
      "0110101\n",
      "1110101\n",
      "0000111\n",
      "0100000\n",
      "0111110\n",
      "0111000\n",
      "3\n",
      "7\n",
      "8\n",
      "9\n"
     ]
    }
   ],
   "source": [
    "N=int(input())\n",
    "graph=[list(map(int, input())) for _ in range(N)]\n",
    "visited=[[False]*N for _ in range(N)]\n",
    "\n",
    "def DFS(x,y):\n",
    "    visited[x][y]=True\n",
    "    res=1\n",
    "    for i,j in [(x+1,y),(x-1,y),(x,y+1),(x,y-1)]:\n",
    "        if 0<=i<N and 0<=j<N and graph[i][j]==1 and not visited[i][j]:\n",
    "            res+=DFS(i,j)\n",
    "    return res\n",
    "\n",
    "cnt=0\n",
    "result=[]\n",
    "for i in range(N):\n",
    "    for j in range(N):        \n",
    "        if graph[i][j]==1 and not visited[i][j]:\n",
    "            result.append(DFS(i,j))\n",
    "            cnt+=1\n",
    "print(cnt)\n",
    "result.sort()\n",
    "for i in result:\n",
    "    print(i)"
   ]
  }
 ],
 "metadata": {
  "kernelspec": {
   "display_name": "Python 3",
   "language": "python",
   "name": "python3"
  },
  "language_info": {
   "codemirror_mode": {
    "name": "ipython",
    "version": 3
   },
   "file_extension": ".py",
   "mimetype": "text/x-python",
   "name": "python",
   "nbconvert_exporter": "python",
   "pygments_lexer": "ipython3",
   "version": "3.7.6"
  }
 },
 "nbformat": 4,
 "nbformat_minor": 4
}
