{
 "cells": [
  {
   "cell_type": "markdown",
   "metadata": {},
   "source": [
    "# 2250 : 트리의 높이와 너비"
   ]
  },
  {
   "cell_type": "markdown",
   "metadata": {},
   "source": [
    "https://www.acmicpc.net/search#q=2250&c=Problems"
   ]
  },
  {
   "cell_type": "code",
   "execution_count": 14,
   "metadata": {},
   "outputs": [
    {
     "name": "stdout",
     "output_type": "stream",
     "text": [
      "19\n",
      "1 2 3\n",
      "2 4 5\n",
      "3 6 7\n",
      "4 8 -1\n",
      "5 9 10\n",
      "6 11 12\n",
      "7 13 -1\n",
      "8 -1 -1\n",
      "9 14 15\n",
      "10 -1 -1\n",
      "11 16 -1\n",
      "12 -1 -1\n",
      "13 17 -1\n",
      "14 -1 -1\n",
      "15 18 -1\n",
      "16 -1 -1\n",
      "17 -1 19\n",
      "18 -1 -1\n",
      "19 -1 -1\n",
      "1\n",
      "2\n",
      "3\n",
      "2\n",
      "4\n",
      "4\n",
      "4\n",
      "0\n",
      "5\n",
      "0\n",
      "4\n",
      "0\n",
      "5\n",
      "0\n",
      "6\n",
      "0\n",
      "6\n",
      "0\n",
      "0\n"
     ]
    }
   ],
   "source": [
    "class Node:\n",
    "    def __init__(self,data,left_node,right_node,level=None):\n",
    "        self.data=data\n",
    "        self.left_node=left_node\n",
    "        self.right_node=right_node\n",
    "        self.level=level\n",
    "\n",
    "def In_order(node, level):        \n",
    "    if node.left_node !=-1:\n",
    "        level+=1\n",
    "        node.level=level\n",
    "        In_order(tree[node.left_node], level)                        \n",
    "    #print(node.data)\n",
    "    if node.right_node !=-1:                \n",
    "        level+=1\n",
    "        node.level=level\n",
    "        In_order(tree[node.right_node], level)            \n",
    "    level-=1\n",
    "        \n",
    "n = int(input())\n",
    "tree={}\n",
    "for _ in range(n):\n",
    "    data, left_node, right_node = map(int, input().split())\n",
    "    tree[data] = Node(data, left_node, right_node, 1)\n",
    "    \n",
    "In_order(tree[1], level=0)\n",
    "for i in range(1, n+1):\n",
    "    print(tree[i].level-1)"
   ]
  },
  {
   "cell_type": "code",
   "execution_count": 23,
   "metadata": {},
   "outputs": [
    {
     "name": "stdout",
     "output_type": "stream",
     "text": [
      "9\n",
      "1 2 3\n"
     ]
    },
    {
     "ename": "KeyError",
     "evalue": "2",
     "output_type": "error",
     "traceback": [
      "\u001b[1;31m---------------------------------------------------------------------------\u001b[0m",
      "\u001b[1;31mKeyError\u001b[0m                                  Traceback (most recent call last)",
      "\u001b[1;32m<ipython-input-23-21a578dd63b5>\u001b[0m in \u001b[0;36m<module>\u001b[1;34m\u001b[0m\n\u001b[0;32m     26\u001b[0m     \u001b[0mtree\u001b[0m\u001b[1;33m[\u001b[0m\u001b[0mdata\u001b[0m\u001b[1;33m]\u001b[0m\u001b[1;33m.\u001b[0m\u001b[0mright_node\u001b[0m \u001b[1;33m=\u001b[0m \u001b[0mright_node\u001b[0m\u001b[1;33m\u001b[0m\u001b[1;33m\u001b[0m\u001b[0m\n\u001b[0;32m     27\u001b[0m     \u001b[1;32mif\u001b[0m \u001b[0mleft_node\u001b[0m \u001b[1;33m!=\u001b[0m \u001b[1;33m-\u001b[0m\u001b[1;36m1\u001b[0m\u001b[1;33m:\u001b[0m\u001b[1;33m\u001b[0m\u001b[1;33m\u001b[0m\u001b[0m\n\u001b[1;32m---> 28\u001b[1;33m         \u001b[0mtree\u001b[0m\u001b[1;33m[\u001b[0m\u001b[0mleft_node\u001b[0m\u001b[1;33m]\u001b[0m\u001b[1;33m.\u001b[0m\u001b[0mparent\u001b[0m \u001b[1;33m=\u001b[0m \u001b[0mdata\u001b[0m\u001b[1;33m\u001b[0m\u001b[1;33m\u001b[0m\u001b[0m\n\u001b[0m\u001b[0;32m     29\u001b[0m     \u001b[1;32mif\u001b[0m \u001b[0mright_node\u001b[0m \u001b[1;33m!=\u001b[0m \u001b[1;33m-\u001b[0m\u001b[1;36m1\u001b[0m\u001b[1;33m:\u001b[0m\u001b[1;33m\u001b[0m\u001b[1;33m\u001b[0m\u001b[0m\n\u001b[0;32m     30\u001b[0m         \u001b[0mtree\u001b[0m\u001b[1;33m[\u001b[0m\u001b[0mright_node\u001b[0m\u001b[1;33m]\u001b[0m\u001b[1;33m.\u001b[0m\u001b[0mparent\u001b[0m \u001b[1;33m=\u001b[0m \u001b[0mdata\u001b[0m\u001b[1;33m\u001b[0m\u001b[1;33m\u001b[0m\u001b[0m\n",
      "\u001b[1;31mKeyError\u001b[0m: 2"
     ]
    }
   ],
   "source": [
    "class Node:\n",
    "    def __init__(self, data, left_node, right_node):\n",
    "        self.parent=-1\n",
    "        self.data = data\n",
    "        self.left_node =left_node\n",
    "        self.right_node=right_node\n",
    "        \n",
    "def In_order(node):\n",
    "    if node.left_node != -1:\n",
    "        In_order(tree[node.left_node])\n",
    "    print(node.data)\n",
    "    if node.right_node !=-1:\n",
    "        In_order(tree[node.right_node])\n",
    "    \n",
    "\n",
    "    \n",
    "n=int(input())\n",
    "tree={}\n",
    "\n",
    "for i in range(1,n+1):\n",
    "    tree[data]=Node(i,-1,-1)\n",
    "\n",
    "for _ in range(n):\n",
    "    data, left_node, right_node = map(int, input().split())\n",
    "    tree[data].left_node = left_node\n",
    "    tree[data].right_node = right_node\n",
    "    if left_node != -1:\n",
    "        tree[left_node].parent = data\n",
    "    if right_node != -1:\n",
    "        tree[right_node].parent = data\n",
    "\n",
    "for i in range(1, n+1):\n",
    "    if tree[i].parent== -1:\n",
    "        root = i\n",
    "\n",
    "In_order(tree[root])                "
   ]
  },
  {
   "cell_type": "code",
   "execution_count": null,
   "metadata": {},
   "outputs": [],
   "source": []
  }
 ],
 "metadata": {
  "kernelspec": {
   "display_name": "Python 3",
   "language": "python",
   "name": "python3"
  },
  "language_info": {
   "codemirror_mode": {
    "name": "ipython",
    "version": 3
   },
   "file_extension": ".py",
   "mimetype": "text/x-python",
   "name": "python",
   "nbconvert_exporter": "python",
   "pygments_lexer": "ipython3",
   "version": "3.7.6"
  }
 },
 "nbformat": 4,
 "nbformat_minor": 4
}
