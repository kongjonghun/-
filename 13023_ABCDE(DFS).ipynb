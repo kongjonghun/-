{
 "cells": [
  {
   "cell_type": "code",
   "execution_count": 4,
   "metadata": {
    "scrolled": false
   },
   "outputs": [
    {
     "name": "stdout",
     "output_type": "stream",
     "text": [
      "5 4\n",
      "0 1\n",
      "1 2\n",
      "2 3\n",
      "3 4\n",
      "1\n"
     ]
    }
   ],
   "source": [
    "n,m = map(int, input().split())\n",
    "adj=[[] for _ in range(n)]\n",
    "visited=[False for _ in range(n)]\n",
    "TF=False\n",
    "\n",
    "def dfs(i, depth):\n",
    "    global TF\n",
    "    visited[i]=True\n",
    "    if depth==4:                   # depth==4 : A,B,C,D,E 5개의 친구관계 탐색 가능\n",
    "        TF=True \n",
    "        return    \n",
    "    for j in adj[i]:            \n",
    "        if not visited[j]:            \n",
    "            dfs(j, depth+1)\n",
    "            visited[j]=False\n",
    "            \n",
    "for _ in range(m):                 # 노드와 친구 관계 정의\n",
    "    a,b=map(int, input().split())\n",
    "    adj[a].append(b)\n",
    "    adj[b].append(a)\n",
    "\n",
    "for i in range(n):    # 모든 노드를 시작으로 하는 dfs 탐색\n",
    "    dfs(i,0)\n",
    "    visited[i]=False\n",
    "    if TF:             # TF=True이면 해당 노드들은 친구관계 성립이므로 다음은 생략\n",
    "        break\n",
    "print(1 if TF else 0)  # True이면 1, False이면 0 출력"
   ]
  },
  {
   "cell_type": "markdown",
   "metadata": {},
   "source": [
    "<img src=\"13023.jpg\" width=\"80%\" height=\"60%\">"
   ]
  }
 ],
 "metadata": {
  "kernelspec": {
   "display_name": "Python 3",
   "language": "python",
   "name": "python3"
  },
  "language_info": {
   "codemirror_mode": {
    "name": "ipython",
    "version": 3
   },
   "file_extension": ".py",
   "mimetype": "text/x-python",
   "name": "python",
   "nbconvert_exporter": "python",
   "pygments_lexer": "ipython3",
   "version": "3.7.6"
  }
 },
 "nbformat": 4,
 "nbformat_minor": 4
}
