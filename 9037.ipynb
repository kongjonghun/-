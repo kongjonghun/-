{
 "cells": [
  {
   "cell_type": "markdown",
   "metadata": {},
   "source": [
    "# 9037 : The candy war"
   ]
  },
  {
   "cell_type": "markdown",
   "metadata": {},
   "source": [
    "https://www.acmicpc.net/problem/9037"
   ]
  },
  {
   "cell_type": "markdown",
   "metadata": {},
   "source": [
    ">### 모든 리스트의 요소가 같은지 Check 방법\n",
    ">- len(set(리스트))=1\n",
    "\n",
    ">### 리스트 요소를 한 칸씩 오른쪽으로 이동 방법  \n",
    ">N 길이의 리스트  \n",
    ">- (리스트 인덱스 + 1) % N  \n",
    ">\n",
    ">0, 1, 2, 3, 4  \n",
    ">→ +1  \n",
    ">1, 2, 3, 4, 5  \n",
    ">→ % 5  \n",
    ">1, 2, 3, 4, 0"
   ]
  },
  {
   "cell_type": "code",
   "execution_count": 28,
   "metadata": {},
   "outputs": [
    {
     "name": "stdout",
     "output_type": "stream",
     "text": [
      "3\n",
      "5\n",
      "2 4  7 8 9\n",
      "6\n",
      "1\n",
      "9\n",
      "0\n",
      "6\n",
      "10 5 13 2 7 8\n",
      "4\n"
     ]
    }
   ],
   "source": [
    "for _ in range(int(input())):\n",
    "    n=int(input())\n",
    "    candy=list(map(int, input().split()))\n",
    "    cnt=0\n",
    "    while True:\n",
    "        tf=True        \n",
    "        for i in range(n):    # 홀수 캔디 짝수로 채워주기\n",
    "            if candy[i]%2==1:\n",
    "                candy[i]+=1\n",
    "                \n",
    "        for i in range(n-1):  # 모든 캔디 수 같으면 True / 아니면 False\n",
    "            if candy[i]!=candy[i+1]:\n",
    "                tf=False\n",
    "                break\n",
    "        if tf:\n",
    "            print(cnt)\n",
    "            break                \n",
    "            \n",
    "        candy2=[i//2 for i in candy] # 캔디 반 나누기\n",
    "        for i in range(1,n):         # 캔디 오른쪽으로 주기\n",
    "            candy[i]=candy2[i]+candy2[i-1] # 내꺼 반 + 왼쪽 애가 준 반 -> 내 캔디로 갱신\n",
    "        candy[0]=candy2[0]+candy2[-1]\n",
    "        cnt+=1            "
   ]
  },
  {
   "cell_type": "code",
   "execution_count": 29,
   "metadata": {},
   "outputs": [
    {
     "name": "stdout",
     "output_type": "stream",
     "text": [
      "3\n",
      "5\n",
      "2 4 7 8 9\n",
      "6\n",
      "1\n",
      "9\n",
      "0\n",
      "6\n",
      "10 5 13 2 7 8\n",
      "4\n"
     ]
    }
   ],
   "source": [
    "for _ in range(int(input())):\n",
    "    n, candy=int(input()), list(map(int, input().split()))    \n",
    "    cnt=0\n",
    "    while True:\n",
    "        tf=True        \n",
    "        for i in range(n):    # 홀수 캔디 짝수로 채워주기\n",
    "            if candy[i]%2==1:\n",
    "                candy[i]+=1\n",
    "        if len(set(candy))==1: # 모든 요소가 같은지\n",
    "            print(cnt)\n",
    "            break                     \n",
    "        candy2=[i//2 for i in candy] # 캔디 반 나누기\n",
    "        for i in range(1,n):         # 캔디 오른쪽으로 주기\n",
    "            candy[i]=candy2[i]+candy2[i-1] # 내꺼 반 + 왼쪽 애가 준 반 -> 내 캔디로 갱신\n",
    "        candy[0]=candy2[0]+candy2[-1]\n",
    "        cnt+=1            "
   ]
  }
 ],
 "metadata": {
  "kernelspec": {
   "display_name": "Python 3",
   "language": "python",
   "name": "python3"
  },
  "language_info": {
   "codemirror_mode": {
    "name": "ipython",
    "version": 3
   },
   "file_extension": ".py",
   "mimetype": "text/x-python",
   "name": "python",
   "nbconvert_exporter": "python",
   "pygments_lexer": "ipython3",
   "version": "3.7.6"
  }
 },
 "nbformat": 4,
 "nbformat_minor": 4
}
