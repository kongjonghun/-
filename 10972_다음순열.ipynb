{
 "cells": [
  {
   "cell_type": "markdown",
   "metadata": {},
   "source": [
    "# 10972 : 다음 순열"
   ]
  },
  {
   "cell_type": "markdown",
   "metadata": {},
   "source": [
    "### 메모리 초과"
   ]
  },
  {
   "cell_type": "code",
   "execution_count": 15,
   "metadata": {},
   "outputs": [
    {
     "name": "stdout",
     "output_type": "stream",
     "text": [
      "4\n",
      "1 2 3 4\n",
      "1 2 4 3 "
     ]
    }
   ],
   "source": [
    "from itertools import permutations\n",
    "n, data=int(input()), tuple(map(int, input().split()))\n",
    "lst=[]\n",
    "for i in range(1, n+1):\n",
    "    lst.append(i)\n",
    "\n",
    "permute=permutations(lst, n)\n",
    "permute=list(permute)\n",
    "\n",
    "for i in range(len(permute)):\n",
    "    if permute[i]==data:\n",
    "        for j in permute[i+1]:\n",
    "            print(j, end=' ')\n",
    "        break"
   ]
  },
  {
   "cell_type": "code",
   "execution_count": 2,
   "metadata": {},
   "outputs": [
    {
     "name": "stdout",
     "output_type": "stream",
     "text": [
      "[(1, 2, 3, 4), (1, 2, 4, 3), (1, 3, 2, 4), (1, 3, 4, 2), (1, 4, 2, 3), (1, 4, 3, 2), (2, 1, 3, 4), (2, 1, 4, 3), (2, 3, 1, 4), (2, 3, 4, 1), (2, 4, 1, 3), (2, 4, 3, 1), (3, 1, 2, 4), (3, 1, 4, 2), (3, 2, 1, 4), (3, 2, 4, 1), (3, 4, 1, 2), (3, 4, 2, 1), (4, 1, 2, 3), (4, 1, 3, 2), (4, 2, 1, 3), (4, 2, 3, 1), (4, 3, 1, 2), (4, 3, 2, 1)]\n"
     ]
    }
   ],
   "source": [
    "from itertools import permutations\n",
    "\n",
    "permute=permutations([1,2,3,4], 4)\n",
    "permute=list(permute)\n",
    "print(permute)"
   ]
  },
  {
   "cell_type": "markdown",
   "metadata": {},
   "source": [
    "### 다음 순열 알고리즘 (Next_permutations algorithm)"
   ]
  },
  {
   "cell_type": "markdown",
   "metadata": {},
   "source": [
    "<img src=\"https://leetcode.com/media/original_images/31_Next_Permutation.gif\">"
   ]
  },
  {
   "cell_type": "code",
   "execution_count": null,
   "metadata": {},
   "outputs": [],
   "source": [
    "# 다음 순열 알고리즘\n",
    "\n",
    "a : 1 5 8 4 7 6 5 3 1\n",
    "-> 끝에서부터 내림차순 마지막 찾기(i) : a[i] = 7\n",
    "-> 내림차순 수열 중 a[i-1] = 4 보다 다음으로 큰 수 찾기 :a[j] = 5\n",
    "-> 둘이 swap : a[i-1], a[j] = a[j], a[i-1]     \n",
    "a : 1 5 8 5 7 6 4 3 1\n",
    "-> 내림차순 수열 reverse(오름차순): a[i], a[k] = a[k], a[i] (i : 내림차순 가장 왼쪽 index / k : 내림차순 가장 오른쪽 index)\n",
    "a : 1 5 8 5 1 3 4 6 7"
   ]
  },
  {
   "cell_type": "code",
   "execution_count": null,
   "metadata": {},
   "outputs": [],
   "source": [
    "1. i : 내림차순 수열 중 가장 왼쪽의 index     \n",
    "ex) a=[3,4,5,2,1] / 내림차순 수열: 5,2,1 / a[i]=5 \n",
    "1.1 i가 0이 되면, [5,4,3,2,1]과 같이 역으로 정렬되어있는 값이라 순열의 끝. 그러므로 False 반환  \n",
    "  \n",
    "2. j : 내림차순 수열 중 a[i-1]보다 다음으로 큰 수의 index (=내림차순 수열 앞자리의 바꿀 수 찾기)\n",
    "ex) a[i-1]=4, a[j]=5\n",
    "3. a[i-1], a[j] swap (=앞자리 수 바꿔주기)\n",
    "ex) a=[3,5,4,2,1]\n",
    "4. i이후의 값들을 오름차순 정렬 (=이미 내림차순 정렬되어 있으므로, 양쪽 끝끼리 swap하며 오름차순으로 정렬)\n",
    "ex) a=[3,5,1,2,4]"
   ]
  },
  {
   "cell_type": "code",
   "execution_count": 7,
   "metadata": {},
   "outputs": [
    {
     "name": "stdout",
     "output_type": "stream",
     "text": [
      "4\n",
      "1 2 3 4\n",
      "1 2 4 3 "
     ]
    }
   ],
   "source": [
    "n=int(input())\n",
    "data=list(map(int, input().split()))\n",
    "\n",
    "i=n-1\n",
    "while i>0 and data[i-1]>=data[i]:\n",
    "    i-=1\n",
    "if i==0:\n",
    "    print(-1)\n",
    "else:\n",
    "    j=n-1\n",
    "    while data[i-1]>=data[j]:\n",
    "        j-=1\n",
    "    data[j],data[i-1]=data[i-1],data[j]\n",
    "    ans=data[:i] + sorted(data[i:])\n",
    "    for i in ans:\n",
    "        print(i, end=' ')          "
   ]
  },
  {
   "cell_type": "code",
   "execution_count": 26,
   "metadata": {},
   "outputs": [
    {
     "name": "stdout",
     "output_type": "stream",
     "text": [
      "4\n",
      "1 2 3 4\n",
      "1 2 4 3 "
     ]
    }
   ],
   "source": [
    "n = int(input())\n",
    "a = list(map(int, input().split()))\n",
    "\n",
    "def next_permutation(a):\n",
    "    n=len(a)-1    \n",
    "    i=n\n",
    "    while i>0 and a[i-1]>=a[i]:  # 1. 내림차순 수열 찾기, i : 내림차순 수열의 가장 왼쪽 index\n",
    "        i-=1           \n",
    "    if i==0:                      # 1.1 처음부터 끝까지 내림차순일 경우\n",
    "        return False            \n",
    "    j=n\n",
    "    while a[i-1]>=a[j]:           # 2. j : 내림차순 수열 중 a[i-1] 다음으로 큰 수의 index\n",
    "        j-=1        \n",
    "    a[i-1],a[j]=a[j],a[i-1]       # 3. 내림차순 수열의 앞자리 수 바꾸기        \n",
    "    k=n\n",
    "    while i<k:                   # 4. 내림차순 수열의 양끝을 바꿈으로써, 오름차순 정렬 / i:내림차순 왼쪽, k:내림차순 오른쪽\n",
    "        a[i],a[k]=a[k],a[i]\n",
    "        i+=1\n",
    "        k-=1\n",
    "    return True\n",
    "\n",
    "if next_permutation(a):\n",
    "    for i in a:              # print(' '.join(map(str, a)))\n",
    "        print(i, end=' ')    # \n",
    "else:\n",
    "    print(-1)"
   ]
  },
  {
   "cell_type": "markdown",
   "metadata": {},
   "source": [
    "<img src=\"10972.png\" width=\"70%\" height=\"70%\">"
   ]
  },
  {
   "cell_type": "markdown",
   "metadata": {},
   "source": [
    "### 런타임 에러"
   ]
  },
  {
   "cell_type": "code",
   "execution_count": 13,
   "metadata": {},
   "outputs": [
    {
     "name": "stdout",
     "output_type": "stream",
     "text": [
      "5\n",
      "5 4 3 2 1\n",
      "-1\n"
     ]
    }
   ],
   "source": [
    "n=int(input())\n",
    "data2=list(map(int, input().split()))\n",
    "data=sorted(data2)\n",
    "used=[0]*n\n",
    "check=True            \n",
    "\n",
    "def permutations(arr, n):\n",
    "    global check        \n",
    "    if n==len(data):                \n",
    "        if not check:\n",
    "            print(arr)\n",
    "            check=True\n",
    "            return\n",
    "        if arr == data2:\n",
    "            check=False\n",
    "            return\n",
    "        return\n",
    "    for i in range(len(data)):\n",
    "        if not used[i]:\n",
    "            used[i]=1\n",
    "            arr.append(data[i])\n",
    "            permutations(arr, n+1)            \n",
    "            arr.pop()\n",
    "            used[i]=0\n",
    "\n",
    "permutations([], 0)\n",
    "if data2 == sorted(data2, reverse=True):\n",
    "    print(-1)"
   ]
  },
  {
   "cell_type": "markdown",
   "metadata": {},
   "source": [
    "### 순열 구현"
   ]
  },
  {
   "cell_type": "code",
   "execution_count": 34,
   "metadata": {},
   "outputs": [
    {
     "name": "stdout",
     "output_type": "stream",
     "text": [
      "[1, 2, 3, 4, 5]\n",
      "[1, 2, 3, 5, 4]\n",
      "[1, 2, 4, 3, 5]\n",
      "[1, 2, 4, 5, 3]\n",
      "[1, 2, 5, 3, 4]\n",
      "[1, 2, 5, 4, 3]\n",
      "[1, 3, 2, 4, 5]\n",
      "[1, 3, 2, 5, 4]\n",
      "[1, 3, 4, 2, 5]\n",
      "[1, 3, 4, 5, 2]\n",
      "[1, 3, 5, 2, 4]\n",
      "[1, 3, 5, 4, 2]\n",
      "[1, 4, 2, 3, 5]\n",
      "[1, 4, 2, 5, 3]\n",
      "[1, 4, 3, 2, 5]\n",
      "[1, 4, 3, 5, 2]\n",
      "[1, 4, 5, 2, 3]\n",
      "[1, 4, 5, 3, 2]\n",
      "[1, 5, 2, 3, 4]\n",
      "[1, 5, 2, 4, 3]\n",
      "[1, 5, 3, 2, 4]\n",
      "[1, 5, 3, 4, 2]\n",
      "[1, 5, 4, 2, 3]\n",
      "[1, 5, 4, 3, 2]\n",
      "[2, 1, 3, 4, 5]\n",
      "[2, 1, 3, 5, 4]\n",
      "[2, 1, 4, 3, 5]\n",
      "[2, 1, 4, 5, 3]\n",
      "[2, 1, 5, 3, 4]\n",
      "[2, 1, 5, 4, 3]\n",
      "[2, 3, 1, 4, 5]\n",
      "[2, 3, 1, 5, 4]\n",
      "[2, 3, 4, 1, 5]\n",
      "[2, 3, 4, 5, 1]\n",
      "[2, 3, 5, 1, 4]\n",
      "[2, 3, 5, 4, 1]\n",
      "[2, 4, 1, 3, 5]\n",
      "[2, 4, 1, 5, 3]\n",
      "[2, 4, 3, 1, 5]\n",
      "[2, 4, 3, 5, 1]\n",
      "[2, 4, 5, 1, 3]\n",
      "[2, 4, 5, 3, 1]\n",
      "[2, 5, 1, 3, 4]\n",
      "[2, 5, 1, 4, 3]\n",
      "[2, 5, 3, 1, 4]\n",
      "[2, 5, 3, 4, 1]\n",
      "[2, 5, 4, 1, 3]\n",
      "[2, 5, 4, 3, 1]\n",
      "[3, 1, 2, 4, 5]\n",
      "[3, 1, 2, 5, 4]\n",
      "[3, 1, 4, 2, 5]\n",
      "[3, 1, 4, 5, 2]\n",
      "[3, 1, 5, 2, 4]\n",
      "[3, 1, 5, 4, 2]\n",
      "[3, 2, 1, 4, 5]\n",
      "[3, 2, 1, 5, 4]\n",
      "[3, 2, 4, 1, 5]\n",
      "[3, 2, 4, 5, 1]\n",
      "[3, 2, 5, 1, 4]\n",
      "[3, 2, 5, 4, 1]\n",
      "[3, 4, 1, 2, 5]\n",
      "[3, 4, 1, 5, 2]\n",
      "[3, 4, 2, 1, 5]\n",
      "[3, 4, 2, 5, 1]\n",
      "[3, 4, 5, 1, 2]\n",
      "[3, 4, 5, 2, 1]\n",
      "[3, 5, 1, 2, 4]\n",
      "[3, 5, 1, 4, 2]\n",
      "[3, 5, 2, 1, 4]\n",
      "[3, 5, 2, 4, 1]\n",
      "[3, 5, 4, 1, 2]\n",
      "[3, 5, 4, 2, 1]\n",
      "[4, 1, 2, 3, 5]\n",
      "[4, 1, 2, 5, 3]\n",
      "[4, 1, 3, 2, 5]\n",
      "[4, 1, 3, 5, 2]\n",
      "[4, 1, 5, 2, 3]\n",
      "[4, 1, 5, 3, 2]\n",
      "[4, 2, 1, 3, 5]\n",
      "[4, 2, 1, 5, 3]\n",
      "[4, 2, 3, 1, 5]\n",
      "[4, 2, 3, 5, 1]\n",
      "[4, 2, 5, 1, 3]\n",
      "[4, 2, 5, 3, 1]\n",
      "[4, 3, 1, 2, 5]\n",
      "[4, 3, 1, 5, 2]\n",
      "[4, 3, 2, 1, 5]\n",
      "[4, 3, 2, 5, 1]\n",
      "[4, 3, 5, 1, 2]\n",
      "[4, 3, 5, 2, 1]\n",
      "[4, 5, 1, 2, 3]\n",
      "[4, 5, 1, 3, 2]\n",
      "[4, 5, 2, 1, 3]\n",
      "[4, 5, 2, 3, 1]\n",
      "[4, 5, 3, 1, 2]\n",
      "[4, 5, 3, 2, 1]\n",
      "[5, 1, 2, 3, 4]\n",
      "[5, 1, 2, 4, 3]\n",
      "[5, 1, 3, 2, 4]\n",
      "[5, 1, 3, 4, 2]\n",
      "[5, 1, 4, 2, 3]\n",
      "[5, 1, 4, 3, 2]\n",
      "[5, 2, 1, 3, 4]\n",
      "[5, 2, 1, 4, 3]\n",
      "[5, 2, 3, 1, 4]\n",
      "[5, 2, 3, 4, 1]\n",
      "[5, 2, 4, 1, 3]\n",
      "[5, 2, 4, 3, 1]\n",
      "[5, 3, 1, 2, 4]\n",
      "[5, 3, 1, 4, 2]\n",
      "[5, 3, 2, 1, 4]\n",
      "[5, 3, 2, 4, 1]\n",
      "[5, 3, 4, 1, 2]\n",
      "[5, 3, 4, 2, 1]\n",
      "[5, 4, 1, 2, 3]\n",
      "[5, 4, 1, 3, 2]\n",
      "[5, 4, 2, 1, 3]\n",
      "[5, 4, 2, 3, 1]\n",
      "[5, 4, 3, 1, 2]\n",
      "[5, 4, 3, 2, 1]\n"
     ]
    }
   ],
   "source": [
    "data=[1,2,3,4,5]\n",
    "used=[0]*len(data)\n",
    "\n",
    "def permutations(arr, n):\n",
    "    if n==len(data):\n",
    "        print(arr)\n",
    "        return\n",
    "    for i in range(len(data)):\n",
    "        if not used[i]:\n",
    "            used[i]=1\n",
    "            arr.append(data[i])\n",
    "            permutations(arr, n+1)            \n",
    "            arr.pop()\n",
    "            used[i]=0\n",
    "            \n",
    "permutations([], 0)"
   ]
  },
  {
   "cell_type": "code",
   "execution_count": 35,
   "metadata": {},
   "outputs": [
    {
     "name": "stdout",
     "output_type": "stream",
     "text": [
      "[1, 2, 3, 4, 5]\n",
      "[1, 2, 3, 5, 4]\n",
      "[1, 2, 4, 3, 5]\n",
      "[1, 2, 4, 5, 3]\n",
      "[1, 2, 5, 3, 4]\n",
      "[1, 2, 5, 4, 3]\n",
      "[1, 3, 2, 4, 5]\n",
      "[1, 3, 2, 5, 4]\n",
      "[1, 3, 4, 2, 5]\n",
      "[1, 3, 4, 5, 2]\n",
      "[1, 3, 5, 2, 4]\n",
      "[1, 3, 5, 4, 2]\n",
      "[1, 4, 2, 3, 5]\n",
      "[1, 4, 2, 5, 3]\n",
      "[1, 4, 3, 2, 5]\n",
      "[1, 4, 3, 5, 2]\n",
      "[1, 4, 5, 2, 3]\n",
      "[1, 4, 5, 3, 2]\n",
      "[1, 5, 2, 3, 4]\n",
      "[1, 5, 2, 4, 3]\n",
      "[1, 5, 3, 2, 4]\n",
      "[1, 5, 3, 4, 2]\n",
      "[1, 5, 4, 2, 3]\n",
      "[1, 5, 4, 3, 2]\n",
      "[2, 1, 3, 4, 5]\n",
      "[2, 1, 3, 5, 4]\n",
      "[2, 1, 4, 3, 5]\n",
      "[2, 1, 4, 5, 3]\n",
      "[2, 1, 5, 3, 4]\n",
      "[2, 1, 5, 4, 3]\n",
      "[2, 3, 1, 4, 5]\n",
      "[2, 3, 1, 5, 4]\n",
      "[2, 3, 4, 1, 5]\n",
      "[2, 3, 4, 5, 1]\n",
      "[2, 3, 5, 1, 4]\n",
      "[2, 3, 5, 4, 1]\n",
      "[2, 4, 1, 3, 5]\n",
      "[2, 4, 1, 5, 3]\n",
      "[2, 4, 3, 1, 5]\n",
      "[2, 4, 3, 5, 1]\n",
      "[2, 4, 5, 1, 3]\n",
      "[2, 4, 5, 3, 1]\n",
      "[2, 5, 1, 3, 4]\n",
      "[2, 5, 1, 4, 3]\n",
      "[2, 5, 3, 1, 4]\n",
      "[2, 5, 3, 4, 1]\n",
      "[2, 5, 4, 1, 3]\n",
      "[2, 5, 4, 3, 1]\n",
      "[3, 1, 2, 4, 5]\n",
      "[3, 1, 2, 5, 4]\n",
      "[3, 1, 4, 2, 5]\n",
      "[3, 1, 4, 5, 2]\n",
      "[3, 1, 5, 2, 4]\n",
      "[3, 1, 5, 4, 2]\n",
      "[3, 2, 1, 4, 5]\n",
      "[3, 2, 1, 5, 4]\n",
      "[3, 2, 4, 1, 5]\n",
      "[3, 2, 4, 5, 1]\n",
      "[3, 2, 5, 1, 4]\n",
      "[3, 2, 5, 4, 1]\n",
      "[3, 4, 1, 2, 5]\n",
      "[3, 4, 1, 5, 2]\n",
      "[3, 4, 2, 1, 5]\n",
      "[3, 4, 2, 5, 1]\n",
      "[3, 4, 5, 1, 2]\n",
      "[3, 4, 5, 2, 1]\n",
      "[3, 5, 1, 2, 4]\n",
      "[3, 5, 1, 4, 2]\n",
      "[3, 5, 2, 1, 4]\n",
      "[3, 5, 2, 4, 1]\n",
      "[3, 5, 4, 1, 2]\n",
      "[3, 5, 4, 2, 1]\n",
      "[4, 1, 2, 3, 5]\n",
      "[4, 1, 2, 5, 3]\n",
      "[4, 1, 3, 2, 5]\n",
      "[4, 1, 3, 5, 2]\n",
      "[4, 1, 5, 2, 3]\n",
      "[4, 1, 5, 3, 2]\n",
      "[4, 2, 1, 3, 5]\n",
      "[4, 2, 1, 5, 3]\n",
      "[4, 2, 3, 1, 5]\n",
      "[4, 2, 3, 5, 1]\n",
      "[4, 2, 5, 1, 3]\n",
      "[4, 2, 5, 3, 1]\n",
      "[4, 3, 1, 2, 5]\n",
      "[4, 3, 1, 5, 2]\n",
      "[4, 3, 2, 1, 5]\n",
      "[4, 3, 2, 5, 1]\n",
      "[4, 3, 5, 1, 2]\n",
      "[4, 3, 5, 2, 1]\n",
      "[4, 5, 1, 2, 3]\n",
      "[4, 5, 1, 3, 2]\n",
      "[4, 5, 2, 1, 3]\n",
      "[4, 5, 2, 3, 1]\n",
      "[4, 5, 3, 1, 2]\n",
      "[4, 5, 3, 2, 1]\n",
      "[5, 1, 2, 3, 4]\n",
      "[5, 1, 2, 4, 3]\n",
      "[5, 1, 3, 2, 4]\n",
      "[5, 1, 3, 4, 2]\n",
      "[5, 1, 4, 2, 3]\n",
      "[5, 1, 4, 3, 2]\n",
      "[5, 2, 1, 3, 4]\n",
      "[5, 2, 1, 4, 3]\n",
      "[5, 2, 3, 1, 4]\n",
      "[5, 2, 3, 4, 1]\n",
      "[5, 2, 4, 1, 3]\n",
      "[5, 2, 4, 3, 1]\n",
      "[5, 3, 1, 2, 4]\n",
      "[5, 3, 1, 4, 2]\n",
      "[5, 3, 2, 1, 4]\n",
      "[5, 3, 2, 4, 1]\n",
      "[5, 3, 4, 1, 2]\n",
      "[5, 3, 4, 2, 1]\n",
      "[5, 4, 1, 2, 3]\n",
      "[5, 4, 1, 3, 2]\n",
      "[5, 4, 2, 1, 3]\n",
      "[5, 4, 2, 3, 1]\n",
      "[5, 4, 3, 1, 2]\n",
      "[5, 4, 3, 2, 1]\n"
     ]
    }
   ],
   "source": [
    "data=[1,2,3,4,5]\n",
    "used=[0]*len(data)\n",
    "\n",
    "def permutations(arr):\n",
    "    if len(arr)==len(data):\n",
    "        print(arr)\n",
    "        return\n",
    "    for i in range(len(data)):\n",
    "        if not used[i]:\n",
    "            used[i]=1\n",
    "            arr.append(data[i])\n",
    "            permutations(arr)            \n",
    "            arr.pop()\n",
    "            used[i]=0\n",
    "            \n",
    "permutations([])"
   ]
  },
  {
   "cell_type": "markdown",
   "metadata": {},
   "source": [
    "### 조합 구현"
   ]
  },
  {
   "cell_type": "code",
   "execution_count": 36,
   "metadata": {
    "scrolled": true
   },
   "outputs": [
    {
     "name": "stdout",
     "output_type": "stream",
     "text": [
      "5\n",
      "[1, 2, 3]\n",
      "[1, 2, 4]\n",
      "[1, 2, 5]\n",
      "[1, 3, 4]\n",
      "[1, 3, 5]\n",
      "[1, 4, 5]\n",
      "[2, 3, 4]\n",
      "[2, 3, 5]\n",
      "[2, 4, 5]\n",
      "[3, 4, 5]\n"
     ]
    }
   ],
   "source": [
    "def combination(arr, r):\n",
    "    # 1.\n",
    "    arr = sorted(arr)\n",
    "    used = [0 for _ in range(len(arr))]\n",
    "\n",
    "    # 2.\n",
    "    def generate(chosen):\n",
    "        if len(chosen) == r:\n",
    "            print(chosen)\n",
    "            return\n",
    "\n",
    "        # 3.\n",
    "        start = arr.index(chosen[-1]) + 1 if chosen else 0\n",
    "        for nxt in range(start, len(arr)):\n",
    "            if used[nxt] == 0 : # + and (nxt == 0 or arr[nxt-1] != arr[nxt] or used[nxt-1]) 중복 제거\n",
    "                chosen.append(arr[nxt])\n",
    "                used[nxt] = 1\n",
    "                generate(chosen)\n",
    "                chosen.pop()\n",
    "                used[nxt] = 0\n",
    "    generate([])\n",
    "    \n",
    "n=int(input())\n",
    "arr=[i for i in range(1, n+1)]\n",
    "combination(arr, 3)    "
   ]
  }
 ],
 "metadata": {
  "kernelspec": {
   "display_name": "Python 3",
   "language": "python",
   "name": "python3"
  },
  "language_info": {
   "codemirror_mode": {
    "name": "ipython",
    "version": 3
   },
   "file_extension": ".py",
   "mimetype": "text/x-python",
   "name": "python",
   "nbconvert_exporter": "python",
   "pygments_lexer": "ipython3",
   "version": "3.7.6"
  }
 },
 "nbformat": 4,
 "nbformat_minor": 4
}
