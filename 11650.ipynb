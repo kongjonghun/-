{
 "cells": [
  {
   "cell_type": "markdown",
   "metadata": {},
   "source": [
    "# 11650 : 좌표 정렬하기"
   ]
  },
  {
   "cell_type": "markdown",
   "metadata": {},
   "source": [
    "2차원 평면 위의 점 N개가 주어진다. 좌표를 x좌표가 증가하는 순으로, x좌표가 같으면 y좌표가 증가하는 순서로 정렬한 다음 출력하는 프로그램을 작성하시오."
   ]
  },
  {
   "cell_type": "markdown",
   "metadata": {},
   "source": [
    "### 튜플[0] 기준 정렬 후, 튜플[1] 기준 정렬\n",
    "#### 기본 정렬 라이브러리는 튜플의 인덱스 순서대로 오름차순 정렬\n",
    "- <b>sorted()</b> : 새로운 리스트 반환\n",
    "    - sorted(array, key=lambda x : (x[0], x[1]))\n",
    "    - sorted(array)\n",
    "    \n",
    "    \n",
    "- <b>sort()</b> : 기존 리스트 변경\n",
    "    - array.sort(key=lambda x : (x[0], x[1]))\n",
    "    - array.sort()"
   ]
  },
  {
   "cell_type": "markdown",
   "metadata": {},
   "source": [
    "### array.sort(key=lambda x : (x[0], x[1]))"
   ]
  },
  {
   "cell_type": "code",
   "execution_count": 4,
   "metadata": {},
   "outputs": [
    {
     "name": "stdout",
     "output_type": "stream",
     "text": [
      "5\n",
      "3 4\n",
      "1 1\n",
      "1 -1\n",
      "2 2\n",
      "3 3\n",
      "1 -1\n",
      "1 1\n",
      "2 2\n",
      "3 3\n",
      "3 4\n"
     ]
    }
   ],
   "source": [
    "count=int(input())\n",
    "array=[]\n",
    "\n",
    "for _ in range(count):\n",
    "    n,m = map(int, input().split())\n",
    "    array.append((n,m))\n",
    "\n",
    "array.sort(key=lambda x:(x[0], x[1])) # 기존 리스트 변경 / 튜플[0] 기준 정렬 후 튜플[1] 기준 정렬\n",
    "\n",
    "for i in array:\n",
    "    print(i[0], i[1])"
   ]
  },
  {
   "cell_type": "markdown",
   "metadata": {},
   "source": [
    "### array = sorted(array, key=lambda x : (x[0], x[1]))"
   ]
  },
  {
   "cell_type": "code",
   "execution_count": 1,
   "metadata": {},
   "outputs": [
    {
     "name": "stdout",
     "output_type": "stream",
     "text": [
      "5\n",
      "3 4\n",
      "1 1\n",
      "1 -1\n",
      "2 2\n",
      "3 3\n",
      "1 -1\n",
      "1 1\n",
      "2 2\n",
      "3 3\n",
      "3 4\n"
     ]
    }
   ],
   "source": [
    "count=int(input())\n",
    "array=[]\n",
    "\n",
    "for _ in range(count):\n",
    "    n,m = map(int, input().split())\n",
    "    array.append((n,m))\n",
    "\n",
    "array = sorted(array, key=lambda x:(x[0], x[1])) # 새로운 리스트 생성 / 튜플[0] 기준 정렬 후 튜플[1] 기준 정렬\n",
    "\n",
    "for i in array:\n",
    "    print(i[0], i[1])"
   ]
  },
  {
   "cell_type": "markdown",
   "metadata": {},
   "source": [
    "### array.sort()"
   ]
  },
  {
   "cell_type": "code",
   "execution_count": 3,
   "metadata": {},
   "outputs": [
    {
     "name": "stdout",
     "output_type": "stream",
     "text": [
      "5\n",
      "3 4\n",
      "1 1\n",
      "1 -1\n",
      "2 2\n",
      "3 3\n",
      "1 -1\n",
      "1 1\n",
      "2 2\n",
      "3 3\n",
      "3 4\n"
     ]
    }
   ],
   "source": [
    "count=int(input())\n",
    "array=[]\n",
    "\n",
    "for _ in range(count):\n",
    "    n,m = map(int, input().split())\n",
    "    array.append((n,m))\n",
    "\n",
    "array.sort()  # 튜플[0] 기준 정렬 후 튜플[1] 기준 정렬\n",
    "\n",
    "for i in array:\n",
    "    print(i[0], i[1])"
   ]
  },
  {
   "cell_type": "markdown",
   "metadata": {},
   "source": [
    "### array =  sorted(array)"
   ]
  },
  {
   "cell_type": "code",
   "execution_count": 5,
   "metadata": {},
   "outputs": [
    {
     "name": "stdout",
     "output_type": "stream",
     "text": [
      "5\n",
      "3 4\n",
      "1 1\n",
      "1 -1\n",
      "2 2\n",
      "3 3\n",
      "1 -1\n",
      "1 1\n",
      "2 2\n",
      "3 3\n",
      "3 4\n"
     ]
    }
   ],
   "source": [
    "count=int(input())\n",
    "array=[]\n",
    "\n",
    "for _ in range(count):\n",
    "    n,m = map(int, input().split())\n",
    "    array.append((n,m))\n",
    "\n",
    "array = sorted(array) # 튜플[0] 기준 정렬 후 튜플[1] 기준 정렬\n",
    "\n",
    "for i in array:\n",
    "    print(i[0], i[1])"
   ]
  }
 ],
 "metadata": {
  "kernelspec": {
   "display_name": "Python 3",
   "language": "python",
   "name": "python3"
  },
  "language_info": {
   "codemirror_mode": {
    "name": "ipython",
    "version": 3
   },
   "file_extension": ".py",
   "mimetype": "text/x-python",
   "name": "python",
   "nbconvert_exporter": "python",
   "pygments_lexer": "ipython3",
   "version": "3.7.6"
  }
 },
 "nbformat": 4,
 "nbformat_minor": 4
}
