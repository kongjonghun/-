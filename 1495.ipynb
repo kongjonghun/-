{
 "cells": [
  {
   "cell_type": "markdown",
   "metadata": {},
   "source": [
    "# 1495 : 기타리스트"
   ]
  },
  {
   "cell_type": "markdown",
   "metadata": {},
   "source": [
    "https://www.acmicpc.net/problem/1495"
   ]
  },
  {
   "cell_type": "markdown",
   "metadata": {},
   "source": [
    "### 풀이 1"
   ]
  },
  {
   "cell_type": "code",
   "execution_count": 4,
   "metadata": {},
   "outputs": [
    {
     "name": "stdout",
     "output_type": "stream",
     "text": [
      "3 5 10\n",
      "5 3 7\n",
      "10\n"
     ]
    }
   ],
   "source": [
    "n, s, m = map(int, input().split())\n",
    "volume=list(map(int, input().split()))\n",
    "dp = [[0]*(m+1) for _ in range(n+1)]\n",
    "dp[0][s]=1\n",
    "\n",
    "for i in range(1, n+1):\n",
    "    dif=volume[i-1]         # 볼륨 차이\n",
    "    TF=False\n",
    "    for j in range(m+1):\n",
    "        if dp[i-1][j]==1:            \n",
    "            if j-dif>=0:\n",
    "                dp[i][j-dif]=1\n",
    "                TF=True\n",
    "            if j+dif<=m:\n",
    "                dp[i][j+dif]=1\n",
    "                TF=True\n",
    "    if TF==False: # TF ==False이면, 해당 줄에는 1이 없으므로 다음 줄부터는 볼륨 조절 불가능(중간에 볼륨 조절 불가능)\n",
    "        print(-1)\n",
    "        break\n",
    "                \n",
    "for j in range(m,-1,-1):\n",
    "    if dp[n][j]==1:\n",
    "        print(j)\n",
    "        break"
   ]
  },
  {
   "cell_type": "markdown",
   "metadata": {},
   "source": [
    "### 풀이2"
   ]
  },
  {
   "cell_type": "code",
   "execution_count": 5,
   "metadata": {},
   "outputs": [
    {
     "name": "stdout",
     "output_type": "stream",
     "text": [
      "3 5 10\n",
      "5 3 7\n",
      "10\n"
     ]
    }
   ],
   "source": [
    "n, s, m =map(int, input().split())\n",
    "array=list(map(int, input().split()))\n",
    "dp=[[0]*(m+1) for _ in range(n+1)]\n",
    "dp[0][s]=1\n",
    "\n",
    "for i in range(1, n+1):\n",
    "    for j in range(m+1):\n",
    "        if dp[i-1][j]==0:\n",
    "            continue\n",
    "        if j-array[i-1]>=0:\n",
    "            dp[i][j-array[i-1]]=1\n",
    "        if j+array[i-1]<=10:\n",
    "            dp[i][j+array[i-1]]=1\n",
    "result=-1\n",
    "for i in range(m, -1, -1):\n",
    "    if dp[n][i]==1:\n",
    "        result=i\n",
    "        break\n",
    "print(result)"
   ]
  }
 ],
 "metadata": {
  "kernelspec": {
   "display_name": "Python 3",
   "language": "python",
   "name": "python3"
  },
  "language_info": {
   "codemirror_mode": {
    "name": "ipython",
    "version": 3
   },
   "file_extension": ".py",
   "mimetype": "text/x-python",
   "name": "python",
   "nbconvert_exporter": "python",
   "pygments_lexer": "ipython3",
   "version": "3.7.6"
  }
 },
 "nbformat": 4,
 "nbformat_minor": 4
}
