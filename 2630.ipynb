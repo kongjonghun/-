{
 "cells": [
  {
   "cell_type": "markdown",
   "metadata": {},
   "source": [
    "# 2630 : 색종이 만들기"
   ]
  },
  {
   "cell_type": "code",
   "execution_count": 15,
   "metadata": {},
   "outputs": [
    {
     "name": "stdout",
     "output_type": "stream",
     "text": [
      "8\n",
      "1 1 0 0 0 0 1 1\n",
      "1 1 0 0 0 0 1 1\n",
      "0 0 0 0 1 1 0 0\n",
      "0 0 0 0 1 1 0 0\n",
      "1 0 0 0 1 1 1 1\n",
      "0 1 0 0 1 1 1 1\n",
      "0 0 1 1 1 1 1 1\n",
      "0 0 1 1 1 1 1 1\n",
      "7\n",
      "9\n"
     ]
    }
   ],
   "source": [
    "def split(N, X, Y):\n",
    "    global blue\n",
    "    global white\n",
    "    sum=0\n",
    "    for i in range(X, X+N):\n",
    "        for j in range(Y, Y+N):\n",
    "            sum+=paper[i][j]\n",
    "    if sum==N**2:\n",
    "        blue+=1\n",
    "        return\n",
    "    elif sum==0:\n",
    "        white+=1\n",
    "        return\n",
    "    \n",
    "    split(N//2, X, Y)        # 1사분면\n",
    "    split(N//2, X, Y+N//2)    # 2사분면\n",
    "    split(N//2, X+N//2, Y)    # 3사분면    \n",
    "    split(N//2, X+N//2, Y+N//2) # 4사분면 \n",
    "\n",
    "\n",
    "N=int(input())\n",
    "paper = [list(map(int, input().split())) for _ in range(N)]\n",
    "blue=0\n",
    "white=0\n",
    "split(N, 0, 0)\n",
    "print(white)\n",
    "print(blue)"
   ]
  },
  {
   "cell_type": "code",
   "execution_count": 19,
   "metadata": {},
   "outputs": [
    {
     "name": "stdout",
     "output_type": "stream",
     "text": [
      "4\n",
      "1 1 0 1\n",
      "0 0 1 1\n",
      "1 1 1 1\n",
      "0 0 0 1\n",
      "6\n",
      "10\n"
     ]
    }
   ],
   "source": [
    "def split(N, X, Y):\n",
    "    global blue, white\n",
    "    check=paper[X][Y]\n",
    "    for i in range(X, X+N):\n",
    "        for j in range(Y, Y+N):\n",
    "            if check != paper[i][j]:\n",
    "                split(N//2, X, Y)\n",
    "                split(N//2, X+N//2, Y)\n",
    "                split(N//2, X, Y+N//2)\n",
    "                split(N//2, X+N//2, Y+N//2)\n",
    "                return\n",
    "    if check==0:\n",
    "        white+=1\n",
    "        return\n",
    "    else:\n",
    "        blue+=1\n",
    "        return\n",
    "\n",
    "\n",
    "N=int(input())\n",
    "paper = [list(map(int, input().split())) for _ in range(N)]\n",
    "blue=0\n",
    "white=0\n",
    "split(N, 0, 0)\n",
    "print(white)\n",
    "print(blue)"
   ]
  }
 ],
 "metadata": {
  "kernelspec": {
   "display_name": "Python 3",
   "language": "python",
   "name": "python3"
  },
  "language_info": {
   "codemirror_mode": {
    "name": "ipython",
    "version": 3
   },
   "file_extension": ".py",
   "mimetype": "text/x-python",
   "name": "python",
   "nbconvert_exporter": "python",
   "pygments_lexer": "ipython3",
   "version": "3.7.6"
  }
 },
 "nbformat": 4,
 "nbformat_minor": 4
}
