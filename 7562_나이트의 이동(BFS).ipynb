{
 "cells": [
  {
   "cell_type": "code",
   "execution_count": 5,
   "metadata": {},
   "outputs": [
    {
     "name": "stdout",
     "output_type": "stream",
     "text": [
      "3\n",
      "8\n",
      "0 0\n",
      "7 0\n",
      "5\n",
      "100\n",
      "0 0 \n",
      "30 50\n",
      "28\n",
      "10\n",
      "1 1\n",
      "1 1\n",
      "0\n"
     ]
    }
   ],
   "source": [
    "from collections import deque\n",
    "\n",
    "\n",
    "def BFS(x,y):\n",
    "    q=deque([[x,y]])\n",
    "    while q:\n",
    "        nx, ny = q.popleft()\n",
    "        if nx==end_x and ny==end_y:  # 도착지점 도착시 break\n",
    "            break        \n",
    "        for i,j in [(nx-1,ny-2),(nx-2,ny-1),(nx-2,ny+1),(nx-1,ny+2),(nx+1,ny+2),(nx+2,ny+1),(nx+2,ny-1),(nx+1,ny-2)]:\n",
    "            if 0<=i<size and 0<=j<size and not graph[i][j]:\n",
    "                q.append([i,j])\n",
    "                graph[i][j]=graph[nx][ny]+1                        \n",
    "\n",
    "for _ in range(int(input())):\n",
    "    size=int(input())\n",
    "    st_x, st_y=map(int, input().split())\n",
    "    end_x, end_y=map(int, input().split())\n",
    "        \n",
    "    graph=[[0]*size for _ in range(size)]\n",
    "        \n",
    "    BFS(st_x, st_y)\n",
    "    print(graph[end_x][end_y])"
   ]
  }
 ],
 "metadata": {
  "kernelspec": {
   "display_name": "Python 3",
   "language": "python",
   "name": "python3"
  },
  "language_info": {
   "codemirror_mode": {
    "name": "ipython",
    "version": 3
   },
   "file_extension": ".py",
   "mimetype": "text/x-python",
   "name": "python",
   "nbconvert_exporter": "python",
   "pygments_lexer": "ipython3",
   "version": "3.7.6"
  }
 },
 "nbformat": 4,
 "nbformat_minor": 4
}
