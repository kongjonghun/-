{
 "cells": [
  {
   "cell_type": "markdown",
   "metadata": {},
   "source": [
    "# 1260 : DFS와 BFS"
   ]
  },
  {
   "cell_type": "markdown",
   "metadata": {},
   "source": [
    "https://www.acmicpc.net/problem/1260"
   ]
  },
  {
   "cell_type": "code",
   "execution_count": 1,
   "metadata": {},
   "outputs": [
    {
     "data": {
      "text/plain": [
       "{'A': ['B', 'C'],\n",
       " 'B': ['A', 'D'],\n",
       " 'C': ['A', 'G', 'H', 'I'],\n",
       " 'D': ['B', 'E', 'F'],\n",
       " 'E': ['D'],\n",
       " 'F': ['D'],\n",
       " 'G': ['C'],\n",
       " 'H': ['C'],\n",
       " 'I': ['C', 'J'],\n",
       " 'J': ['I']}"
      ]
     },
     "execution_count": 1,
     "metadata": {},
     "output_type": "execute_result"
    }
   ],
   "source": [
    "graph=dict()\n",
    "\n",
    "graph['A']=['B', 'C']\n",
    "graph['B']=['A', 'D']\n",
    "graph['C']=['A', 'G', 'H', 'I']\n",
    "graph['D']=['B', 'E', 'F']\n",
    "graph['E']=['D']\n",
    "graph['F']=['D']\n",
    "graph['G']=['C']\n",
    "graph['H']=['C']\n",
    "graph['I']=['C', 'J']\n",
    "graph['J']=['I']\n",
    "\n",
    "graph"
   ]
  },
  {
   "cell_type": "markdown",
   "metadata": {},
   "source": [
    "### DFS : 깊이 우선 탐색"
   ]
  },
  {
   "cell_type": "code",
   "execution_count": null,
   "metadata": {},
   "outputs": [],
   "source": [
    "def DFS(graph, start_node):\n",
    "    visited=[]\n",
    "    need_visit=[]\n",
    "    \n",
    "    need_visit.append(start_node)\n",
    "    while need_visit:\n",
    "        node = need_visit.pop() # 스택\n",
    "        if node not in visited:\n",
    "            visited.append(node)\n",
    "            need_visit.extend(graph[node])\n",
    "    return visited"
   ]
  },
  {
   "cell_type": "markdown",
   "metadata": {},
   "source": [
    "### BFS : 너비 우선 탐색"
   ]
  },
  {
   "cell_type": "code",
   "execution_count": null,
   "metadata": {},
   "outputs": [],
   "source": [
    "def BFS(graph, start_node):\n",
    "    visited=[]\n",
    "    need_visit=[]\n",
    "    \n",
    "    need_visit.append(start_node)\n",
    "    while need_visit:\n",
    "        node = need_visit.pop(0) # 큐\n",
    "        if node not in visited:\n",
    "            visited.append(node)\n",
    "            need_visit.extend(graph[node])\n",
    "    return visited"
   ]
  },
  {
   "cell_type": "markdown",
   "metadata": {},
   "source": [
    "### 데크(deque)의 개념 : 스택, 큐에 사용\n",
    "- 보통 큐(queue)는 선입선출(FIFO) 방식으로 작동한다. 반면, 양방향 큐가 있는데 그것이 바로 데크(deque)다.\n",
    "\n",
    "\n",
    "\n",
    "- 즉, 앞, 뒤 양쪽 방향에서 엘리먼트(element)를 추가하거나 제거할 수 있다.\n",
    "\n",
    "\n",
    "\n",
    "- 데크는 <u>양 끝 엘리먼트의 append와 pop이 압도적으로 빠르다.</u>\n",
    "\n",
    "\n",
    "\n",
    "- 컨테이너(container)의 양끝 엘리먼트(element)에 접근하여 삽입 또는 제거를 할 경우, 일반적인 리스트(list)가 이러한 연산에 O(n)이 소요되는 데 반해, 데크(deque)는 O(1)로 접근 가능하다."
   ]
  },
  {
   "cell_type": "markdown",
   "metadata": {},
   "source": [
    "### 데크(deque)의 메소드\n",
    "- <b>deque.append(item)</b>: item을 데크의 오른쪽 끝에 삽입한다.  \n",
    "\n",
    "\n",
    "- <b>deque.appendleft(item)</b>: item을 데크의 왼쪽 끝에 삽입한다.  \n",
    "\n",
    "\n",
    "- <b>deque.pop()</b>: 데크의 오른쪽 끝 엘리먼트를 가져오는 동시에 데크에서 삭제한다.  \n",
    "\n",
    "\n",
    "- <b>deque.popleft()</b>: 데크의 왼쪽 끝 엘리먼트를 가져오는 동시에 데크에서 삭제한다.  \n",
    "\n",
    "\n",
    "- <b>deque.extend(array)</b>: 주어진 배열(array)을 순환하면서 데크의 오른쪽에 추가한다.  \n",
    "\n",
    "\n",
    "- <b>deque.extendleft(array)</b>: 주어진 배열(array)을 순환하면서 데크의 왼쪽에 추가한다.  \n",
    "\n",
    "\n",
    "- <b>deque.remove(item)</b>: item을 데크에서 찾아 삭제한다.  \n",
    "\n",
    "\n",
    "- <b>deque.rotate(num)</b>: 데크를 num만큼 회전한다(양수면 오른쪽, 음수면 왼쪽).  "
   ]
  },
  {
   "cell_type": "markdown",
   "metadata": {},
   "source": [
    "<b>DFS</b> :<u>이어달리기</u>, <u>바통터치</u> 느낌 (한 정점에서 이어진 다른 정점 간 다음, 그 정점과 이어진 정점 순차적으로 이어주기)  \n",
    "\n",
    "\n",
    "<b>BFS</b> : <u>와이파이</u> 느낌 (우선 한 정점과 이어진 모든 정점을 들른 후, 다음 정점도 마찬가지로 시작)  \n",
    "\n",
    "![title](1260.png)\n",
    "dfs의 경우 : 1에서 시작해서 이어져있는 2로 간후, 2와 이어져있는 4로 가고, 4와 이어져있는 3으로 감 (바통터치)\n",
    "\n",
    "\n",
    "bfs의 경우 : 1(공유기)에서 시작해서 이어져있는 2로 간후, 3도 가고난 후, 2(공유기)와 이어진 4로 간 후, 3(공유기)과 이어진 4로 감"
   ]
  },
  {
   "cell_type": "code",
   "execution_count": null,
   "metadata": {},
   "outputs": [],
   "source": [
    "adj=[[],[2,3,4],[1,4],[1,4],[1,2,3]]\n",
    "visited=[False,False,False,False,False]"
   ]
  },
  {
   "cell_type": "markdown",
   "metadata": {},
   "source": [
    "### DFS"
   ]
  },
  {
   "cell_type": "code",
   "execution_count": 25,
   "metadata": {},
   "outputs": [
    {
     "name": "stdout",
     "output_type": "stream",
     "text": [
      "1 2 4 3 "
     ]
    }
   ],
   "source": [
    "def DFS(v):# 1 -> 2 -> 4 -> 3\n",
    "    print(v, end=' ') #1 2 4 3 \n",
    "    visited[v]=True # 1 2 4 3\n",
    "    for i in adj[v]: # 2, (3, 4) / 1(x), 4  /1(x), 2(x), 3 / 1(x), 4(X)\n",
    "        if not visited[i]:\n",
    "            DFS(i)  # 2, 4, 3\n",
    "DFS(1)"
   ]
  },
  {
   "cell_type": "markdown",
   "metadata": {},
   "source": [
    "### BFS"
   ]
  },
  {
   "cell_type": "code",
   "execution_count": 31,
   "metadata": {},
   "outputs": [],
   "source": [
    "def BFS(v):\n",
    "    q=deque([v])  # [1]\n",
    "    while q:\n",
    "        v=q.popleft() # 1, [] / 2, [3,4] / 3, [4, 4] / 4, [4] / 4, []\n",
    "        if not visited[v]:\n",
    "            visited[v]=True # 1 2 3 4\n",
    "            print(v, end=' ') # 1 2 3 4\n",
    "            for i in adj[v]: # 2, 3, 4 / 1(x), 4 / 1(x), 4(x) / 1(x), 2(x), 3(x)\n",
    "                if not visited[i]:\n",
    "                    q.append(i) # [2,3,4] / [3,4,4] / [4, 4] / [4]\n",
    "BFS(1)                    "
   ]
  },
  {
   "cell_type": "markdown",
   "metadata": {},
   "source": [
    "![title](1260.jpg)"
   ]
  },
  {
   "cell_type": "markdown",
   "metadata": {},
   "source": [
    "### 문풀 "
   ]
  },
  {
   "cell_type": "markdown",
   "metadata": {},
   "source": [
    "'정점 번호가 작은 것'먼저 방문 → 정렬 필요  \n",
    "모든 노드(N)와 간선(M)을 차례대로 조회하여 O(N+M)의 시간 복잡도로 문제를 해결해야함"
   ]
  },
  {
   "cell_type": "code",
   "execution_count": 20,
   "metadata": {},
   "outputs": [
    {
     "name": "stdout",
     "output_type": "stream",
     "text": [
      "5 5 3\n",
      "5 4\n",
      "5 2\n",
      "1 2\n",
      "3 4\n",
      "3 1\n",
      "3 1 2 5 4 \n",
      "3 1 4 2 5 "
     ]
    }
   ],
   "source": [
    "from collections import deque\n",
    "\n",
    "def DFS(v):\n",
    "    print(v, end=' ')\n",
    "    visited[v]=True\n",
    "    for i in adj[v]:\n",
    "        if not visited[i]:  # 이어달리기 \n",
    "            DFS(i)  \n",
    "\n",
    "def BFS(v):\n",
    "    q=deque([v])\n",
    "    while q:\n",
    "        v=q.popleft()\n",
    "        if not visited[v]: #\n",
    "            visited[v]=True\n",
    "            print(v, end=' ')\n",
    "            for i in adj[v]:\n",
    "                if not visited[i]: # 와이파이 : 해당 노드 연결 노드들 부터 탐색 그다음 깊이\n",
    "                    q.append(i)                    \n",
    "\n",
    "n, m, v = map(int, input().split())\n",
    "adj = [[] for _ in range(n+1)]\n",
    "for _ in range(m):\n",
    "    x,y = map(int, input().split())\n",
    "    adj[x].append(y) # 간선은 양방향\n",
    "    adj[y].append(x) \n",
    "\n",
    "for i in adj: # '정점 번호가 작은것부터' → 정렬\n",
    "    i.sort()\n",
    "    \n",
    "visited=[False]*(n+1)\n",
    "DFS(v)\n",
    "print()\n",
    "visited=[False]*(n+1)\n",
    "BFS(v)"
   ]
  }
 ],
 "metadata": {
  "kernelspec": {
   "display_name": "Python 3",
   "language": "python",
   "name": "python3"
  },
  "language_info": {
   "codemirror_mode": {
    "name": "ipython",
    "version": 3
   },
   "file_extension": ".py",
   "mimetype": "text/x-python",
   "name": "python",
   "nbconvert_exporter": "python",
   "pygments_lexer": "ipython3",
   "version": "3.7.6"
  }
 },
 "nbformat": 4,
 "nbformat_minor": 4
}
