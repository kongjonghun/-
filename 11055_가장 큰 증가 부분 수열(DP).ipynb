{
 "cells": [
  {
   "cell_type": "markdown",
   "metadata": {},
   "source": [
    "### 틀린 풀이 : 반례 존재(같은 수 2개 이상일 경우)"
   ]
  },
  {
   "cell_type": "code",
   "execution_count": 6,
   "metadata": {},
   "outputs": [
    {
     "name": "stdout",
     "output_type": "stream",
     "text": [
      "10\n",
      "1 100 2 50 60 3 5 6 7 8\n",
      "[1, 101, 3, 53, 113, 6, 11, 17, 24, 32]\n"
     ]
    }
   ],
   "source": [
    "import copy\n",
    "# DP[i] : i 까지 왔을때, 부분 증가수열의 합\n",
    "n=int(input())\n",
    "A=list(map(int, input().split()))\n",
    "dp=copy.deepcopy(A)\n",
    "\n",
    "for i in range(1, n):\n",
    "    result=1\n",
    "    for j in range(i):\n",
    "        if A[i]>A[j]:\n",
    "            result=max(result, dp[i]+dp[j])\n",
    "    dp[i]=result\n",
    "    \n",
    "print(dp)"
   ]
  },
  {
   "cell_type": "markdown",
   "metadata": {},
   "source": [
    "### 옳은 풀이"
   ]
  },
  {
   "cell_type": "code",
   "execution_count": 8,
   "metadata": {},
   "outputs": [
    {
     "name": "stdout",
     "output_type": "stream",
     "text": [
      "10\n",
      "1 100 2 50 60 3 5 6 7 8\n",
      "113\n"
     ]
    }
   ],
   "source": [
    "import copy\n",
    "# DP[i] : i 까지 왔을때, 부분 증가수열의 합\n",
    "n=int(input())\n",
    "A=list(map(int, input().split()))\n",
    "dp=copy.deepcopy(A)\n",
    "\n",
    "for i in range(1, n):    \n",
    "    for j in range(i):\n",
    "        if A[i]>A[j]:\n",
    "            dp[i]=max(dp[j]+A[i], dp[i])\n",
    "    \n",
    "print(max(dp))"
   ]
  }
 ],
 "metadata": {
  "kernelspec": {
   "display_name": "Python 3",
   "language": "python",
   "name": "python3"
  },
  "language_info": {
   "codemirror_mode": {
    "name": "ipython",
    "version": 3
   },
   "file_extension": ".py",
   "mimetype": "text/x-python",
   "name": "python",
   "nbconvert_exporter": "python",
   "pygments_lexer": "ipython3",
   "version": "3.7.6"
  }
 },
 "nbformat": 4,
 "nbformat_minor": 4
}
