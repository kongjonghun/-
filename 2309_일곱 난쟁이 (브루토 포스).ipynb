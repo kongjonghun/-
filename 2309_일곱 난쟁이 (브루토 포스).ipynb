{
 "cells": [
  {
   "cell_type": "markdown",
   "metadata": {},
   "source": [
    "# 2309 : 일곱 난쟁이"
   ]
  },
  {
   "cell_type": "markdown",
   "metadata": {},
   "source": [
    "### 리스트 원소 삭제\n",
    "\n",
    ">### - del 키워드  \n",
    ">\n",
    ">del 리스트[인덱스]  \n",
    ">\n",
    ">a=[1,2,3,4,5]  \n",
    ">\n",
    ">ex) del a[1]  \n",
    ">a=[1,3,4,5]  \n",
    "\n",
    ">### - remove 키워드  \n",
    ">\n",
    ">리스트.remove(아이템)  \n",
    ">\n",
    ">a=[1,2,3,4,5]  \n",
    ">\n",
    ">ex) a.remove(3)  \n",
    ">a=[1,2,4,5]  "
   ]
  },
  {
   "cell_type": "code",
   "execution_count": 17,
   "metadata": {},
   "outputs": [
    {
     "name": "stdout",
     "output_type": "stream",
     "text": [
      "20\n",
      "7\n",
      "23\n",
      "19\n",
      "10\n",
      "15\n",
      "25\n",
      "8\n",
      "13\n",
      "7\n",
      "8\n",
      "10\n",
      "13\n",
      "19\n",
      "20\n",
      "23\n"
     ]
    }
   ],
   "source": [
    "kid = [int(input()) for _ in range(9)]\n",
    "sum_kid = sum(kid)\n",
    "\n",
    "def find_not_kid(kid):\n",
    "    for i in range(8):\n",
    "        for j in range(i+1, 9):\n",
    "            if sum_kid - (kid[i]+kid[j]) == 100:\n",
    "                one=kid[i]\n",
    "                two=kid[j]\n",
    "                kid.remove(one)\n",
    "                kid.remove(two)                \n",
    "                return sorted(kid)\n",
    "\n",
    "for i in find_not_kid(kid):\n",
    "    print(i)"
   ]
  },
  {
   "cell_type": "markdown",
   "metadata": {},
   "source": [
    "### 답 X : remove(kid[i])에 의해 kid[i]가 kid에서 삭제되고, 이로인해 kid[j]가 가르키는 index의 값이 달라짐"
   ]
  },
  {
   "cell_type": "code",
   "execution_count": null,
   "metadata": {},
   "outputs": [],
   "source": [
    "ex) 2,3을 지우고자 함\n",
    "\n",
    "kid=[1,2,3,4,5]  \n",
    "kid.remove(kid[1])  \n",
    "-> kid=[1,3,4,5]  \n",
    "kid.remove(kid[2])  \n",
    "-> kid=[1,3,5]  "
   ]
  },
  {
   "cell_type": "code",
   "execution_count": 21,
   "metadata": {},
   "outputs": [
    {
     "name": "stdout",
     "output_type": "stream",
     "text": [
      "20\n",
      "7\n",
      "23\n",
      "19\n",
      "10\n",
      "15\n",
      "25\n",
      "8\n",
      "13\n",
      "15\n",
      "25\n"
     ]
    }
   ],
   "source": [
    "kid = [int(input()) for _ in range(9)]\n",
    "sum_kid = sum(kid)\n",
    "\n",
    "def find_not_kid(kid):\n",
    "    for i in range(8):\n",
    "        for j in range(i+1, 9):\n",
    "            if sum_kid - (kid[i]+kid[j]) == 100:\n",
    "                kid.remove(kid[i])\n",
    "                kid.remove(kid[j])                \n",
    "                return sorted(kid)\n",
    "\n",
    "for i in find_not_kid(kid):\n",
    "    print(i)"
   ]
  },
  {
   "cell_type": "markdown",
   "metadata": {},
   "source": [
    "### 해결 : j가 i보다 항상 크므로 kid[j] 먼저 제거하고 kid[i] 제거"
   ]
  },
  {
   "cell_type": "code",
   "execution_count": 23,
   "metadata": {},
   "outputs": [
    {
     "name": "stdout",
     "output_type": "stream",
     "text": [
      "20\n",
      "7\n",
      "23\n",
      "19\n",
      "10\n",
      "15\n",
      "25\n",
      "8\n",
      "13\n",
      "7\n",
      "8\n",
      "10\n",
      "13\n",
      "19\n",
      "20\n",
      "23\n"
     ]
    }
   ],
   "source": [
    "kid = [int(input()) for _ in range(9)]\n",
    "sum_kid = sum(kid)\n",
    "\n",
    "def find_not_kid(kid):\n",
    "    for i in range(8):\n",
    "        for j in range(i+1, 9):\n",
    "            if sum_kid - (kid[i]+kid[j]) == 100:\n",
    "                kid.remove(kid[j])\n",
    "                kid.remove(kid[i])                         \n",
    "                return sorted(kid)\n",
    "\n",
    "for i in find_not_kid(kid):\n",
    "    print(i)"
   ]
  },
  {
   "cell_type": "markdown",
   "metadata": {},
   "source": [
    "### itertools의 combinations(조합) 사용"
   ]
  },
  {
   "cell_type": "code",
   "execution_count": 27,
   "metadata": {},
   "outputs": [
    {
     "name": "stdout",
     "output_type": "stream",
     "text": [
      "20\n",
      "7\n",
      "23\n",
      "19\n",
      "10\n",
      "15\n",
      "25\n",
      "8\n",
      "13\n",
      "7\n",
      "8\n",
      "10\n",
      "13\n",
      "19\n",
      "20\n",
      "23\n"
     ]
    }
   ],
   "source": [
    "from itertools import combinations\n",
    "\n",
    "kid = [int(input()) for _ in range(9)]\n",
    "\n",
    "for case in combinations(kid, 7):\n",
    "    if sum(case)==100:\n",
    "        for i in sorted(case):\n",
    "            print(i)\n",
    "        exit(0)"
   ]
  }
 ],
 "metadata": {
  "kernelspec": {
   "display_name": "Python 3",
   "language": "python",
   "name": "python3"
  },
  "language_info": {
   "codemirror_mode": {
    "name": "ipython",
    "version": 3
   },
   "file_extension": ".py",
   "mimetype": "text/x-python",
   "name": "python",
   "nbconvert_exporter": "python",
   "pygments_lexer": "ipython3",
   "version": "3.7.6"
  }
 },
 "nbformat": 4,
 "nbformat_minor": 4
}
