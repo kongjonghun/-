{
 "cells": [
  {
   "cell_type": "markdown",
   "metadata": {},
   "source": [
    "# 9095 : 1,2,3 더하기"
   ]
  },
  {
   "cell_type": "markdown",
   "metadata": {},
   "source": [
    "## dp 이용"
   ]
  },
  {
   "cell_type": "markdown",
   "metadata": {},
   "source": [
    "### 풀이1 : 124ms"
   ]
  },
  {
   "cell_type": "code",
   "execution_count": 1,
   "metadata": {},
   "outputs": [
    {
     "name": "stdout",
     "output_type": "stream",
     "text": [
      "3\n",
      "4\n",
      "7\n",
      "7\n",
      "44\n",
      "10\n",
      "274\n"
     ]
    }
   ],
   "source": [
    "test_case = int(input())\n",
    "dp=[0]*15\n",
    "dp[0]=1\n",
    "dp[1]=2\n",
    "dp[2]=4\n",
    "for _ in range(test_case):\n",
    "    data=int(input())\n",
    "    for i in range(3, data):\n",
    "        dp[i]=dp[i-1]+dp[i-2]+dp[i-3]\n",
    "    \n",
    "    print(dp[data-1])                    "
   ]
  },
  {
   "cell_type": "markdown",
   "metadata": {},
   "source": [
    "테스트 케이스마다 dp를 채워주면(for i in range(3, data)) 비효율적인거 같은데....  \n",
    "dp를 먼저 채우고 test_case별 dp 데이터를 가져오면 효율적이지 않을까?"
   ]
  },
  {
   "cell_type": "markdown",
   "metadata": {},
   "source": [
    "### 풀이2 : 116ms"
   ]
  },
  {
   "cell_type": "code",
   "execution_count": 2,
   "metadata": {},
   "outputs": [
    {
     "name": "stdout",
     "output_type": "stream",
     "text": [
      "3\n",
      "4\n",
      "7\n",
      "7\n",
      "44\n",
      "10\n",
      "274\n"
     ]
    }
   ],
   "source": [
    "test_case = int(input())\n",
    "dp=[0]*13\n",
    "dp[0]=1\n",
    "dp[1]=2\n",
    "dp[2]=4\n",
    "for i in range(3, 13):\n",
    "    dp[i]=dp[i-1]+dp[i-2]+dp[i-3]\n",
    "    \n",
    "for _ in range(test_case):\n",
    "    data=int(input())        \n",
    "    print(dp[data-1])                    "
   ]
  }
 ],
 "metadata": {
  "kernelspec": {
   "display_name": "Python 3",
   "language": "python",
   "name": "python3"
  },
  "language_info": {
   "codemirror_mode": {
    "name": "ipython",
    "version": 3
   },
   "file_extension": ".py",
   "mimetype": "text/x-python",
   "name": "python",
   "nbconvert_exporter": "python",
   "pygments_lexer": "ipython3",
   "version": "3.7.6"
  }
 },
 "nbformat": 4,
 "nbformat_minor": 4
}
