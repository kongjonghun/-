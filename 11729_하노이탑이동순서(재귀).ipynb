{
 "cells": [
  {
   "cell_type": "code",
   "execution_count": null,
   "metadata": {},
   "outputs": [],
   "source": [
    "def hanoi(원반개수, 시작, 보조, 목표):\n",
    "    if 원반개수==1:\n",
    "        print(시작, '->', 목표)\n",
    "        return\n",
    "    hanoi(원반개수-1, 시작, 목표, 보조)\n",
    "    print(시작, '->', 목표)\n",
    "    hanoi(원반개수-1, 보조, 시작, 목표)"
   ]
  },
  {
   "cell_type": "code",
   "execution_count": null,
   "metadata": {},
   "outputs": [],
   "source": [
    "n = int(input())\n",
    "def hanoi(n, a, b, c):\n",
    "    if n == 1:\n",
    "        print(a, c)\n",
    "    else:\n",
    "        hanoi(n-1, a, c, b)\n",
    "        print(a, c)\n",
    "        hanoi(n-1, b, a, c)\n",
    "\n",
    "hanoi(n, 1, 2, 3)"
   ]
  },
  {
   "cell_type": "code",
   "execution_count": null,
   "metadata": {},
   "outputs": [],
   "source": [
    "n = int(input())\n",
    "def hanoi(n, start, sub, end):\n",
    "    if n == 1:\n",
    "        print(start, end)\n",
    "    else:\n",
    "        hanoi(n-1, start, end, sub)\n",
    "        print(start, end)\n",
    "        hanoi(n-1, sub, start, end)\n",
    "\n",
    "hanoi(n, 1, 2, 3)"
   ]
  },
  {
   "cell_type": "markdown",
   "metadata": {},
   "source": [
    "<img src=\"11729_1.png\" height=\"50%\">"
   ]
  },
  {
   "cell_type": "markdown",
   "metadata": {},
   "source": [
    "<img src=\"11729.png\" height=\"70\">"
   ]
  },
  {
   "cell_type": "markdown",
   "metadata": {},
   "source": [
    "<img src=\"11729_2.png\" height=\"70\">"
   ]
  },
  {
   "cell_type": "code",
   "execution_count": null,
   "metadata": {},
   "outputs": [],
   "source": [
    "1 단계 : n-1개를 1->2\n",
    "2 단계 : 1개를 1->3\n",
    "3 단계 : n-1개를 2->3"
   ]
  },
  {
   "cell_type": "code",
   "execution_count": null,
   "metadata": {},
   "outputs": [],
   "source": [
    "def hanoi(n,start,end) :\n",
    "    if n == 1 :\n",
    "        print(start, end)\n",
    "        return\n",
    "       \n",
    "    hanoi(n-1,start,6-start-end) # 1단계 : n-1개 탑 1->2\n",
    "    print(start, end)                   # 2단계 : 맨아래 1개 탑 1->3\n",
    "    hanoi(n-1,6-start-end,end) # 3단계 : n-1개 탑 2->3\n",
    "    \n",
    "n = int(input())\n",
    "print(2**n-1)  # 2*벽돌개수 -1 -> 벽돌 하나 1에서 3옮기는데 2번의 과정 필요(2*벽돌개수) & 마지막 남은 벽돌은 1번만 옮기면됨 (-1)\n",
    "hanoi(n, 1, 3)"
   ]
  },
  {
   "cell_type": "code",
   "execution_count": null,
   "metadata": {},
   "outputs": [],
   "source": [
    "def hanoi(원반개수, 시작, 보조, 목표):\n",
    "    if 원반개수==1:\n",
    "        print(시작, '->', 목표)\n",
    "        return\n",
    "    hanoi(원반개수-1, 시작, 목표, 보조)\n",
    "    print(시작, '->', 목표)\n",
    "    hanoi(원반개수-1, 보조, 시작, 목표)"
   ]
  },
  {
   "cell_type": "code",
   "execution_count": null,
   "metadata": {},
   "outputs": [],
   "source": [
    "n = int(input())\n",
    "def hanoi(n, a, b, c):\n",
    "    if n == 1:\n",
    "        print(a, c)\n",
    "    else:\n",
    "        hanoi(n-1, a, c, b)\n",
    "        print(a, c)\n",
    "        hanoi(n-1, b, a, c)\n",
    "\n",
    "print(2**n-1)\n",
    "hanoi(n, 1, 2, 3)"
   ]
  }
 ],
 "metadata": {
  "kernelspec": {
   "display_name": "Python 3",
   "language": "python",
   "name": "python3"
  },
  "language_info": {
   "codemirror_mode": {
    "name": "ipython",
    "version": 3
   },
   "file_extension": ".py",
   "mimetype": "text/x-python",
   "name": "python",
   "nbconvert_exporter": "python",
   "pygments_lexer": "ipython3",
   "version": "3.7.6"
  }
 },
 "nbformat": 4,
 "nbformat_minor": 4
}
