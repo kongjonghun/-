{
 "cells": [
  {
   "cell_type": "markdown",
   "metadata": {},
   "source": [
    "# 10282 : 해킹"
   ]
  },
  {
   "cell_type": "markdown",
   "metadata": {},
   "source": [
    "https://www.acmicpc.net/problem/10282"
   ]
  },
  {
   "cell_type": "markdown",
   "metadata": {},
   "source": [
    "### dijkstra algorithm"
   ]
  },
  {
   "cell_type": "markdown",
   "metadata": {},
   "source": [
    "하나의 정점에서 다른 모든 정점 간의 각각 가장 짧은 거리를 구하는 문제   \n",
    "너비우선탐색(BFS)과 유사"
   ]
  },
  {
   "cell_type": "code",
   "execution_count": 21,
   "metadata": {},
   "outputs": [],
   "source": [
    "mygraph = {\n",
    "    'A': {'B': 8, 'C': 1, 'D': 2},\n",
    "    'B': {},\n",
    "    'C': {'B': 5, 'D': 2},\n",
    "    'D': {'E': 3, 'F': 5},\n",
    "    'E': {'F': 1},\n",
    "    'F': {'A': 5}\n",
    "}"
   ]
  },
  {
   "cell_type": "code",
   "execution_count": 23,
   "metadata": {},
   "outputs": [
    {
     "data": {
      "text/plain": [
       "{'A': 0, 'B': 6, 'C': 1, 'D': 2, 'E': 5, 'F': 6}"
      ]
     },
     "execution_count": 23,
     "metadata": {},
     "output_type": "execute_result"
    }
   ],
   "source": [
    "import heapq\n",
    "\n",
    "def dijkstra(graph, start):    \n",
    "    distances = {node: float('inf') for node in graph} # distnaces={'A':inf, 'B':inf,'B':inf, ...}\n",
    "    distances[start] = 0                               # distnaces={'A':0, 'B':inf, ...}\n",
    "    queue = []\n",
    "    heapq.heappush(queue, [distances[start], start])  # 시작 노드부터 탐색 시작 하기 위함.\n",
    "    \n",
    "    # 우선순위 큐에서 pop\n",
    "    while queue:\n",
    "        current_distance, current_node = heapq.heappop(queue) # 현재 가장 짧은 거리를 가진 노드 정보\n",
    "        \n",
    "        if distances[current_node] < current_distance: # 기존에 있는 거리보다 길다면, 볼 필요도 없음\n",
    "            continue\n",
    "            \n",
    "        for adjacent, weight in graph[current_node].items():  # 현재 노드의 인접한 노드 순회\n",
    "            distance = current_distance + weight              # 현재 노드에서 인접한 노드를 지날때 까지의 거리를 더함\n",
    "            \n",
    "            if distance < distances[adjacent]:  # 알고 있는 거리 보다 작으면 갱신\n",
    "                distances[adjacent] = distance\n",
    "                heapq.heappush(queue, [distance, adjacent]) # 다음 인접 거리를 계산 하기 위해 큐에 삽입\n",
    "                \n",
    "    return distances\n",
    "\n",
    "dijkstra(mygraph, 'A')"
   ]
  },
  {
   "cell_type": "markdown",
   "metadata": {},
   "source": [
    "### input() 사용 : 1408ms"
   ]
  },
  {
   "cell_type": "markdown",
   "metadata": {},
   "source": [
    "- adj = [(to_node, distance)] : 노드 간 연결 관계 및 거리 저장 리스트\n",
    "- queue = [(shortest_distance, node)] : 현재 가장 짧은 거리를 가진 노드 리스트 (우선순위 큐 리스트)\n",
    "- distance = [] :시작노드부터 해당 노드까지의 최단 거리 (진행 중 : 현재까지의 최단 거리)"
   ]
  },
  {
   "cell_type": "markdown",
   "metadata": {},
   "source": [
    ">input() 대신  \n",
    "  import sys / sys.stdin.readline() 사용시 시간 단축"
   ]
  },
  {
   "cell_type": "code",
   "execution_count": 18,
   "metadata": {
    "scrolled": true
   },
   "outputs": [
    {
     "name": "stdout",
     "output_type": "stream",
     "text": [
      "2\n",
      "3 2 2\n",
      "2 1 5\n",
      "3 2 5\n",
      "2 5\n",
      "3 3 1\n",
      "2 1 2\n",
      "3 1 8\n",
      "3 2 4\n",
      "3 6\n"
     ]
    }
   ],
   "source": [
    "import heapq\n",
    "\n",
    "def dikstra(start):\n",
    "    queue=[]    \n",
    "    distance[start]=0\n",
    "    heapq.heappush(queue, (distance[start], start))   # queue=[(distance, node)]\n",
    "    \n",
    "    while queue:\n",
    "        current_dist, current_node = heapq.heappop(queue) # 현재까지 가장 짧은 거리를 가진 노드 정보\n",
    "        if distance[current_node] <current_dist:       \n",
    "            continue\n",
    "        for adj_node, adj_dist in adj[current_node]:  # 해당 노드의 인근 노드 탐색 / from : current_node → to : adj_node\n",
    "            new_dist = current_dist + adj_dist     # 시작지점에서 current_node까지 거리 + current_node에서 인근 노드까지 거리\n",
    "            if distance[adj_node] > new_dist:     # 시작지점에서 인근 노드까지 거리 > 시작지점에서 current_node까지 거리 + current_node에서 인근 노드까지 거리\n",
    "                distance[adj_node] = new_dist     # 갱신\n",
    "                heapq.heappush(queue, (distance[adj_node], adj_node)) # 인근 노드 탐색 위해 push\n",
    "\n",
    "#  distance = [inf, inf, 0, 5]    start node : 2 → [(0) : inf, (1): inf, (2) : 0, (3) : 5]  : 2에서부터 각 노드까지 최단거리\n",
    "#  distance = [inf, 0, 2, 6]     start node : 1 → [(0) : inf, (1) : 0,  (2) : 2, (3) : 6]  : 1에서부터 각 노드까지 최단거리\n",
    "# inf : 방문하지 않은 노드\n",
    "\n",
    "for _ in range(int(input())):    \n",
    "    n, d, c = map(int, input().split())\n",
    "    adj=[[] for _ in range(n+1)]\n",
    "    distance=[float('inf')]*(n+1)\n",
    "    for _ in range(d):        \n",
    "        to_n, from_n, s = map(int, input().split())\n",
    "        adj[from_n].append((to_n, s))        # adj = [(to_node, distance)]\n",
    "    dikstra(c)    \n",
    "    cnt=0\n",
    "    max_dist=0\n",
    "    for i in distance:\n",
    "        if i != float('inf'):\n",
    "            cnt+=1                       # 방문하는 노드(컴퓨터) 수\n",
    "            max_dist =max(max_dist, i)   # distance 리스트의 최대 값(거리)가 마지막 컴퓨터가 감염되기까지 시간\n",
    "            \n",
    "    print(cnt, max_dist)    "
   ]
  },
  {
   "cell_type": "markdown",
   "metadata": {},
   "source": [
    "#### distance =[], adj=[]의 의미\n",
    "\n",
    "- distance : 시작노드에서부터 해당노드까지 최단 거리 : distance = [inf, 0, 2, 6]  \n",
    "- adj : 각 노드의 인근 노드 (인근 노드, 거리) ajd = [[], [(2, 2), (3, 8)], [(3, 4)], []]"
   ]
  },
  {
   "cell_type": "code",
   "execution_count": 2,
   "metadata": {},
   "outputs": [
    {
     "name": "stdout",
     "output_type": "stream",
     "text": [
      "1\n",
      "3 3 1\n",
      "2 1 2\n",
      "3 1 8\n",
      "3 2 4\n",
      "[inf, 0, 2, 6]\n",
      "[[], [(2, 2), (3, 8)], [(3, 4)], []]\n"
     ]
    }
   ],
   "source": [
    "import heapq\n",
    "\n",
    "def dikstra(start):\n",
    "    queue=[]    \n",
    "    distance[start]=0\n",
    "    heapq.heappush(queue, (distance[start], start))   # queue=[(distance, node)]\n",
    "    \n",
    "    while queue:\n",
    "        current_dist, current_node = heapq.heappop(queue)\n",
    "        if distance[current_node] <current_dist: #  가장 짧은 연결 노드의 현재 길이 < 현재 가장 짧은 연결 노드까지의 길이  \n",
    "            continue\n",
    "        for adj_node, adj_dist in adj[current_node]: # 해당 노드의 인근 노드 탐색 / from : current_node → to : adj_node\n",
    "            new_dist = current_dist + adj_dist   # 시작지점에서 current_node까지 거리 + current_node에서 인근 노드까지 거리\n",
    "            if distance[adj_node] > new_dist:   # 시작지점에서 인근 노드까지 거리 > 시작지점에서 current_node까지 거리 + current_node에서 인근 노드까지 거리\n",
    "                distance[adj_node] = new_dist   # 갱신\n",
    "                heapq.heappush(queue, (new_dist, adj_node)) # 인근 노드 탐색 위해 push\n",
    "#  distance = [inf, inf, 0, 5]    start node : 2 → [(0) : inf, (1): inf, (2) : 0, (3) : 5]  : 2에서부터 각 노드까지 최단거리\n",
    "#  distance = [inf, 0, 2, 6]     start node : 1 → [(0) : inf, (1) : 0,  (2) : 2, (3) : 6]  : 1에서부터 각 노드까지 최단거리\n",
    "# inf : 방문하지 않은 노드\n",
    "\n",
    "for _ in range(int(input())):    \n",
    "    n, d, c = map(int, input().split())\n",
    "    adj=[[] for _ in range(n+1)]\n",
    "    distance=[float('inf')]*(n+1)\n",
    "    for _ in range(d):        \n",
    "        to_n, from_n, s = map(int, input().split())\n",
    "        adj[from_n].append((to_n, s))        # adj = [(to_node, distance)]\n",
    "    dikstra(c)    \n",
    "\n",
    "                    #                                                   0  1  2  3\n",
    "print(distance)     # 1에서부터 해당 노드까지 최단 거리 : distance = [inf, 0, 2, 6]\n",
    "print(adj)          #                                               0          1             2      3\n",
    "                    # 각 노드의 인근 노드 (인근 노드, 거리) ajd = [[], [(2, 2), (3, 8)], [(3, 4)], []]"
   ]
  },
  {
   "cell_type": "markdown",
   "metadata": {},
   "source": [
    "![title](10282.jpg)"
   ]
  },
  {
   "cell_type": "markdown",
   "metadata": {},
   "source": [
    "### sys.stdin.readline 사용 : 904ms"
   ]
  },
  {
   "cell_type": "code",
   "execution_count": null,
   "metadata": {},
   "outputs": [],
   "source": [
    "import heapq\n",
    "import sys\n",
    "input = sys.stdin.readline\n",
    "\n",
    "def dikstra(start):\n",
    "    queue=[]    \n",
    "    distance[start]=0\n",
    "    heapq.heappush(queue, (0, start))   # (distance, node)\n",
    "    \n",
    "    while queue:\n",
    "        current_dist, current_node = heapq.heappop(queue) # 현재 노드에 연결되어 있는 노드들중 가장 짧은 거리 노드\n",
    "        if distance[current_node] <current_dist: #  가장 짧은 연결 노드의 현재 길이 < 현재 가장 짧은 연결 노드까지의 길이  \n",
    "            continue\n",
    "        for adj_node, adj_dist in adj[current_node]: # 현재 노드에 연결되어 있는 노드들\n",
    "            new_dist = current_dist + adj_dist\n",
    "            if distance[adj_node] > new_dist:\n",
    "                distance[adj_node] = new_dist\n",
    "                heapq.heappush(queue, (new_dist, adj_node))\n",
    "    \n",
    "\n",
    "for _ in range(int(input())):    \n",
    "    n, d, c = map(int, input().split())\n",
    "    adj=[[] for _ in range(n+1)]\n",
    "    distance=[float('inf')]*(n+1)\n",
    "    for _ in range(d):        \n",
    "        to_n, from_n, s = map(int, input().split())\n",
    "        adj[from_n].append((to_n, s))        \n",
    "    dikstra(c)    \n",
    "    cnt=0\n",
    "    max_dist=0\n",
    "    for i in distance:\n",
    "        if i != float('inf'):\n",
    "            cnt+=1\n",
    "            max_dist =max(max_dist, i)\n",
    "            \n",
    "    print(cnt, max_dist)    "
   ]
  }
 ],
 "metadata": {
  "kernelspec": {
   "display_name": "Python 3",
   "language": "python",
   "name": "python3"
  },
  "language_info": {
   "codemirror_mode": {
    "name": "ipython",
    "version": 3
   },
   "file_extension": ".py",
   "mimetype": "text/x-python",
   "name": "python",
   "nbconvert_exporter": "python",
   "pygments_lexer": "ipython3",
   "version": "3.7.6"
  }
 },
 "nbformat": 4,
 "nbformat_minor": 4
}
