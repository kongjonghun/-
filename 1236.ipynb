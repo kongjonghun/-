{
 "cells": [
  {
   "cell_type": "markdown",
   "metadata": {},
   "source": [
    "# 1236 : 성지키기"
   ]
  },
  {
   "cell_type": "markdown",
   "metadata": {},
   "source": [
    "https://www.acmicpc.net/problem/1236"
   ]
  },
  {
   "cell_type": "markdown",
   "metadata": {},
   "source": [
    "2차원 배열에서   \n",
    "동일 행 중에 'X'가 없으면 col+=1 → 모든 행 중 'X'가 없는 행의 수 :col  \n",
    "동일 열 중에 'X'가 없으면 row+=1 → 모든 열 중 'X'가 없는 열의 수 : row  \n",
    "col과 row중 큰 값이 추가로 필요로 하는 경비원의 최소수"
   ]
  },
  {
   "cell_type": "markdown",
   "metadata": {},
   "source": [
    "### 풀이1"
   ]
  },
  {
   "cell_type": "code",
   "execution_count": 12,
   "metadata": {},
   "outputs": [
    {
     "name": "stdout",
     "output_type": "stream",
     "text": [
      "4 4\n",
      "....\n",
      "....\n",
      "....\n",
      "....\n",
      "4\n"
     ]
    }
   ],
   "source": [
    "n,m =list(map(int,input().split()))\n",
    "array=[0]*n \n",
    "\n",
    "for i in range(n):           # 데이터 입력\n",
    "    array[i]=list(input())\n",
    "\n",
    "col,row=0,0\n",
    "\n",
    "for i in range(n):   # 행에서 X없을경우 \n",
    "    if 'X' not in array[i]: \n",
    "        col+=1\n",
    "        \n",
    "for i in range(m):  # 열에서 X없을경우 \n",
    "    data=[]\n",
    "    for j in range(n):\n",
    "        data += array[j][i]\n",
    "    if 'X' not in data:\n",
    "        row+=1\n",
    "    \n",
    "print(max(col,row))            "
   ]
  },
  {
   "cell_type": "markdown",
   "metadata": {},
   "source": [
    "### 풀이2 : 행,열 리스트로 접근"
   ]
  },
  {
   "cell_type": "code",
   "execution_count": 18,
   "metadata": {},
   "outputs": [
    {
     "name": "stdout",
     "output_type": "stream",
     "text": [
      "4 4\n",
      "....\n",
      "....\n",
      "....\n",
      "...X\n",
      "3\n"
     ]
    }
   ],
   "source": [
    "n,m=map(int, input().split())\n",
    "array=[]\n",
    "for _ in range(n):\n",
    "    array.append(input())\n",
    "row=[0]*n\n",
    "col=[0]*m\n",
    "for i in range(n):\n",
    "    for j in range(m):\n",
    "        if array[i][j]=='X':\n",
    "            row[i]=1\n",
    "            col[j]=1\n",
    "row_cnt=0\n",
    "for i in row:\n",
    "    if i==0:\n",
    "        row_cnt+=1\n",
    "\n",
    "col_cnt=0        \n",
    "for i in col:\n",
    "    if i==0:\n",
    "        col_cnt+=1\n",
    "print(max(col_cnt,row_cnt))"
   ]
  }
 ],
 "metadata": {
  "kernelspec": {
   "display_name": "Python 3",
   "language": "python",
   "name": "python3"
  },
  "language_info": {
   "codemirror_mode": {
    "name": "ipython",
    "version": 3
   },
   "file_extension": ".py",
   "mimetype": "text/x-python",
   "name": "python",
   "nbconvert_exporter": "python",
   "pygments_lexer": "ipython3",
   "version": "3.7.6"
  }
 },
 "nbformat": 4,
 "nbformat_minor": 4
}
