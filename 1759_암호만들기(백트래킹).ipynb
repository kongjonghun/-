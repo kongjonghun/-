{
 "cells": [
  {
   "cell_type": "markdown",
   "metadata": {},
   "source": [
    "# 1759 : 암호 만들기"
   ]
  },
  {
   "cell_type": "markdown",
   "metadata": {},
   "source": [
    "https://www.acmicpc.net/problem/1759"
   ]
  },
  {
   "cell_type": "markdown",
   "metadata": {},
   "source": [
    "## permutations(순열) && combinations(조합)\n",
    "- from itertools import permutations  \n",
    "\n",
    "\n",
    "- from itertools import combinations"
   ]
  },
  {
   "cell_type": "markdown",
   "metadata": {},
   "source": [
    "#### 1. permutations(순열)\n",
    "순열이란 n개의 원소를 사용해서 순서를 정하여 r개의 배열로 나타내는 것을 말한다.  \n",
    "순열은 순서가 있기 때문에 원소의 종류가 같아도 순서가 다르면 다른배열이 된다. "
   ]
  },
  {
   "cell_type": "code",
   "execution_count": 17,
   "metadata": {},
   "outputs": [
    {
     "name": "stdout",
     "output_type": "stream",
     "text": [
      "[(1, 2), (1, 3), (2, 1), (2, 3), (3, 1), (3, 2)]\n"
     ]
    }
   ],
   "source": [
    "from itertools import permutations\n",
    "\n",
    "a = [1,2,3]\n",
    "permute = permutations(a, 2) # 리스트에서 길이 2인 순열 추출\n",
    "\n",
    "print(list(permute))"
   ]
  },
  {
   "cell_type": "markdown",
   "metadata": {},
   "source": [
    "#### 2. combinations(조합)\n",
    "조합이란 n개의 원소를 사용해서 순서의 관계없이 r개의 배열로 나타내는 것을 말한다.   \n",
    "조합은 순서가 없어서 원소의 종류가 같으면 같은 배열로 나타낸다."
   ]
  },
  {
   "cell_type": "code",
   "execution_count": 40,
   "metadata": {},
   "outputs": [
    {
     "name": "stdout",
     "output_type": "stream",
     "text": [
      "Wall time: 0 ns\n",
      "[(1, 2), (1, 3), (2, 3)]\n"
     ]
    }
   ],
   "source": [
    "from itertools import combinations\n",
    "\n",
    "a = [1,2,3]\n",
    "combi = combinations(a,2) # 리스트에서 길이 2인 조합 추출\n",
    "    \n",
    "print(list(combi))"
   ]
  },
  {
   "cell_type": "markdown",
   "metadata": {},
   "source": [
    "### 문풀 1 : combinations(조합)"
   ]
  },
  {
   "cell_type": "markdown",
   "metadata": {},
   "source": [
    "- 길이에 해당하는 전체 조합 찾기\n",
    "- '최소 1개의 모음, 최소 2개 자음' 조합 출력"
   ]
  },
  {
   "cell_type": "code",
   "execution_count": 41,
   "metadata": {
    "scrolled": true
   },
   "outputs": [
    {
     "name": "stdout",
     "output_type": "stream",
     "text": [
      "Wall time: 0 ns\n",
      "4 6\n",
      "a t c i s w\n",
      "acis\n",
      "acit\n",
      "aciw\n",
      "acst\n",
      "acsw\n",
      "actw\n",
      "aist\n",
      "aisw\n",
      "aitw\n",
      "astw\n",
      "cist\n",
      "cisw\n",
      "citw\n",
      "istw\n"
     ]
    }
   ],
   "source": [
    "from itertools import combinations\n",
    "\n",
    "L,C=map(int, input().split())\n",
    "pwd = sorted(list(input().split()))\n",
    "\n",
    "comb = combinations(pwd, L)             # 문자열(pwd)에서 L개의 길이 조합\n",
    "\n",
    "for c in comb:                \n",
    "    count=0\n",
    "    for s in c:                        \n",
    "        if s in ('a','e','i','o','u'):   # 조합 별 모음 개수 세기\n",
    "            count+=1 \n",
    "    if L-2>=count>=1:                   # 모음개수 최소 1개 이상 (count>=1) && 자음 개수 최소 2개 자음 (전체길이L - count)>=2\n",
    "        print(''.join(c))"
   ]
  },
  {
   "cell_type": "markdown",
   "metadata": {},
   "source": [
    "## DFS & BFS"
   ]
  },
  {
   "cell_type": "markdown",
   "metadata": {},
   "source": [
    "<img src=\"1759_1.png\" width=\"70%\" height=\"70%\">"
   ]
  },
  {
   "cell_type": "markdown",
   "metadata": {},
   "source": [
    "<img src=\"1759.png\" width=\"80%\" height=\"80%\">"
   ]
  },
  {
   "cell_type": "markdown",
   "metadata": {},
   "source": [
    "### 문풀2 : DFS"
   ]
  },
  {
   "cell_type": "markdown",
   "metadata": {},
   "source": [
    "recursion(재귀) = dfs(깊이우선탐색) = backtracking(백트래킹) = brute force(브루트포스)"
   ]
  },
  {
   "cell_type": "markdown",
   "metadata": {},
   "source": [
    "<img src=\"1759_2.jpg\" width=\"80%\" height=\"80%\">"
   ]
  },
  {
   "cell_type": "code",
   "execution_count": 30,
   "metadata": {
    "scrolled": true
   },
   "outputs": [
    {
     "name": "stdout",
     "output_type": "stream",
     "text": [
      "4 6\n",
      "a t c i s w\n",
      "acis\n",
      "acit\n",
      "aciw\n",
      "acst\n",
      "acsw\n",
      "actw\n",
      "aist\n",
      "aisw\n",
      "aitw\n",
      "astw\n",
      "cist\n",
      "cisw\n",
      "citw\n",
      "istw\n"
     ]
    }
   ],
   "source": [
    "L,C =map(int, input().split())\n",
    "alpha = list(input().split())\n",
    "alpha.sort()\n",
    "out=[]\n",
    "all_out=[]\n",
    "\n",
    "def check(all_out):\n",
    "    for i in all_out:\n",
    "        cnt=0\n",
    "        for s in i:\n",
    "            if s in ('a','e','i','o','u'):\n",
    "                cnt+=1\n",
    "        if L-2>=cnt>=1:\n",
    "            print(i)\n",
    "\n",
    "def solve(depth, idx):\n",
    "    if depth==L:\n",
    "        all_out.append(''.join(out))\n",
    "        return\n",
    "    for i in range(idx, C):        \n",
    "        out.append(alpha[i])\n",
    "        solve(depth+1, i+1)\n",
    "        out.pop()\n",
    "\n",
    "solve(0,0)\n",
    "check(all_out)"
   ]
  },
  {
   "cell_type": "markdown",
   "metadata": {},
   "source": [
    "<img src=\"1759_3.jpg\" width=\"80%\" height=\"80%\">"
   ]
  },
  {
   "cell_type": "code",
   "execution_count": 32,
   "metadata": {
    "scrolled": true
   },
   "outputs": [
    {
     "name": "stdout",
     "output_type": "stream",
     "text": [
      "4 6\n",
      "a t c i s w\n",
      "acis\n",
      "acit\n",
      "aciw\n",
      "acst\n",
      "acsw\n",
      "actw\n",
      "aist\n",
      "aisw\n",
      "aitw\n",
      "astw\n",
      "cist\n",
      "cisw\n",
      "citw\n",
      "istw\n"
     ]
    }
   ],
   "source": [
    "L,C =map(int, input().split())\n",
    "alpha = list(input().split())\n",
    "alpha.sort()\n",
    "out=[]\n",
    "all_out=[]\n",
    "\n",
    "def check(all_out):\n",
    "    for i in all_out:\n",
    "        cnt=0\n",
    "        for s in i:\n",
    "            if s in ('a','e','i','o','u'):\n",
    "                cnt+=1\n",
    "        if L-2>=cnt>=1:\n",
    "            print(i)    \n",
    "\n",
    "def solve(idx):\n",
    "    if len(out)==L:\n",
    "        all_out.append(''.join(out))\n",
    "        return\n",
    "    for i in range(idx, C):        \n",
    "        out.append(alpha[i])\n",
    "        solve(i+1)\n",
    "        out.pop()\n",
    "\n",
    "solve(0)\n",
    "check(all_out)"
   ]
  }
 ],
 "metadata": {
  "kernelspec": {
   "display_name": "Python 3",
   "language": "python",
   "name": "python3"
  },
  "language_info": {
   "codemirror_mode": {
    "name": "ipython",
    "version": 3
   },
   "file_extension": ".py",
   "mimetype": "text/x-python",
   "name": "python",
   "nbconvert_exporter": "python",
   "pygments_lexer": "ipython3",
   "version": "3.7.6"
  }
 },
 "nbformat": 4,
 "nbformat_minor": 4
}
