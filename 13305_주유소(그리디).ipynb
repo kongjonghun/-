{
 "cells": [
  {
   "cell_type": "markdown",
   "metadata": {},
   "source": [
    "<img src=\"13305.jpg\" width=\"50%\" height=\"50%\">"
   ]
  },
  {
   "cell_type": "code",
   "execution_count": 2,
   "metadata": {},
   "outputs": [
    {
     "name": "stdout",
     "output_type": "stream",
     "text": [
      "4\n",
      "3 3 4\n",
      "1 1 1 1\n",
      "10\n"
     ]
    }
   ],
   "source": [
    "n=int(input())\n",
    "road=list(map(int, input().split()))\n",
    "cities=list(map(int, input().split()))\n",
    "\n",
    "min_val=cities[0]\n",
    "sum=0\n",
    "for i in range(n-1):\n",
    "    if min_val>cities[i]:\n",
    "        min_val=cities[i]\n",
    "    sum+=min_val*road[i]\n",
    "    \n",
    "print(sum)"
   ]
  }
 ],
 "metadata": {
  "kernelspec": {
   "display_name": "Python 3",
   "language": "python",
   "name": "python3"
  },
  "language_info": {
   "codemirror_mode": {
    "name": "ipython",
    "version": 3
   },
   "file_extension": ".py",
   "mimetype": "text/x-python",
   "name": "python",
   "nbconvert_exporter": "python",
   "pygments_lexer": "ipython3",
   "version": "3.7.6"
  }
 },
 "nbformat": 4,
 "nbformat_minor": 4
}
