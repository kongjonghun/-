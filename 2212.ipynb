{
 "cells": [
  {
   "cell_type": "markdown",
   "metadata": {},
   "source": [
    "# 2212 : 센서"
   ]
  },
  {
   "cell_type": "markdown",
   "metadata": {},
   "source": [
    "https://www.acmicpc.net/problem/2212"
   ]
  },
  {
   "cell_type": "markdown",
   "metadata": {},
   "source": [
    "<img src=\"2212.jpg\" height=\"60%\" width=\"70%\">"
   ]
  },
  {
   "cell_type": "markdown",
   "metadata": {},
   "source": [
    "### 문풀1"
   ]
  },
  {
   "cell_type": "code",
   "execution_count": 15,
   "metadata": {},
   "outputs": [
    {
     "name": "stdout",
     "output_type": "stream",
     "text": [
      "6\n",
      "2\n",
      "1 6 9 3 6 7\n",
      "5\n"
     ]
    }
   ],
   "source": [
    "sensor_num = int(input())\n",
    "centroid_num = int(input())\n",
    "sensor=list(set(map(int, input().split())))   # list(set())으로 중복값 제거\n",
    "sensor.sort()                                 # 오름차순 정렬\n",
    "\n",
    "diff=[]\n",
    "for i in range(len(sensor)-1):\n",
    "    diff.append(sensor[i+1]-sensor[i])      # 차이 저장\n",
    "diff.sort(reverse=True)                    # 내림차순 정렬\n",
    "\n",
    "print(sum(diff[(centroid_num-1):]))        # 슬라이싱과 sum으로 상위 중 (집중국개수-1) 제외 합 구하기"
   ]
  },
  {
   "cell_type": "markdown",
   "metadata": {},
   "source": [
    "### 문풀 2"
   ]
  },
  {
   "cell_type": "code",
   "execution_count": 16,
   "metadata": {},
   "outputs": [
    {
     "name": "stdout",
     "output_type": "stream",
     "text": [
      "6\n",
      "2\n",
      "1 6 9 3 6 7\n",
      "5\n"
     ]
    }
   ],
   "source": [
    "sensor_num = int(input())\n",
    "centroid_num = int(input())\n",
    "sensor=list(set(map(int, input().split())))   # list(set())으로 중복값 제거\n",
    "sensor.sort()                                 # 오름차순 정렬\n",
    "\n",
    "diff=[]\n",
    "for i in range(len(sensor)-1):\n",
    "    diff.append(sensor[i+1]-sensor[i])      # 차이 저장\n",
    "diff.sort(reverse=True)                    # 내림차순 정렬\n",
    "\n",
    "for i in range(centroid_num-1):           # centroid_num-1개수만큼 0으로 만들기\n",
    "    diff[i]=0\n",
    "print(sum(diff))"
   ]
  }
 ],
 "metadata": {
  "kernelspec": {
   "display_name": "Python 3",
   "language": "python",
   "name": "python3"
  },
  "language_info": {
   "codemirror_mode": {
    "name": "ipython",
    "version": 3
   },
   "file_extension": ".py",
   "mimetype": "text/x-python",
   "name": "python",
   "nbconvert_exporter": "python",
   "pygments_lexer": "ipython3",
   "version": "3.7.6"
  }
 },
 "nbformat": 4,
 "nbformat_minor": 4
}
