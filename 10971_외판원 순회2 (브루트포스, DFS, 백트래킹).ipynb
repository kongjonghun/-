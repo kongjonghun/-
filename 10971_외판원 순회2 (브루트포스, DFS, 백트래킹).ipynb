{
 "cells": [
  {
   "cell_type": "code",
   "execution_count": 5,
   "metadata": {},
   "outputs": [
    {
     "name": "stdout",
     "output_type": "stream",
     "text": [
      "4\n",
      "0 10 15 20\n",
      "5 0 9 10\n",
      "6 13 0 12\n",
      "8 8 9 0\n",
      "35\n"
     ]
    }
   ],
   "source": [
    "def dfs(start, next, value, visited):\n",
    "    if len(visited)==n and graph[next][start]!=0:\n",
    "        res.append(value+graph[next][start])\n",
    "        return\n",
    "    for i in range(n):\n",
    "        if i not in visited and graph[next][i]!=0:\n",
    "            visited.append(i)\n",
    "            dfs(start, i, value+graph[next][i], visited)\n",
    "            visited.pop()\n",
    "\n",
    "n=int(input())\n",
    "graph=[list(map(int, input().split())) for _ in range(n)]\n",
    "res=[]\n",
    "for i in range(n):\n",
    "    dfs(i, i, 0, [i])\n",
    "print(min(res))"
   ]
  },
  {
   "cell_type": "code",
   "execution_count": 1,
   "metadata": {},
   "outputs": [
    {
     "name": "stdout",
     "output_type": "stream",
     "text": [
      "4\n",
      "0 10 15 20\n",
      "5 0 9 10\n",
      "6 13 0 12\n",
      "8 8 9 0\n",
      "[39, 35, 46, 40, 43, 47, 40, 47, 43, 39, 46, 35, 35, 43, 47, 46, 39, 40, 39, 46, 40, 43, 35, 47]\n"
     ]
    }
   ],
   "source": [
    "def dfs(start, next, value, visited):\n",
    "    if len(visited)==n and graph[next][start]!=0:\n",
    "        res.append(value+graph[next][start])\n",
    "        return\n",
    "    for i in range(n):\n",
    "        if i not in visited and graph[next][i]!=0:\n",
    "            visited.append(i)\n",
    "            dfs(start, i, value+graph[next][i], visited)\n",
    "            visited.pop()\n",
    "\n",
    "n=int(input())\n",
    "graph=[list(map(int, input().split())) for _ in range(n)]\n",
    "res=[]\n",
    "for i in range(n):\n",
    "    dfs(i, i, 0, [i])\n",
    "print(res)"
   ]
  }
 ],
 "metadata": {
  "kernelspec": {
   "display_name": "Python 3",
   "language": "python",
   "name": "python3"
  },
  "language_info": {
   "codemirror_mode": {
    "name": "ipython",
    "version": 3
   },
   "file_extension": ".py",
   "mimetype": "text/x-python",
   "name": "python",
   "nbconvert_exporter": "python",
   "pygments_lexer": "ipython3",
   "version": "3.7.6"
  }
 },
 "nbformat": 4,
 "nbformat_minor": 4
}
