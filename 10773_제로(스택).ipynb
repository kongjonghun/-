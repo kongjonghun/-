{
 "cells": [
  {
   "cell_type": "code",
   "execution_count": 5,
   "metadata": {},
   "outputs": [
    {
     "name": "stdout",
     "output_type": "stream",
     "text": [
      "4\n",
      "3\n",
      "3\n",
      "4\n",
      "0\n",
      "deque([3, 3])\n"
     ]
    }
   ],
   "source": [
    "from collections import deque\n",
    "k=int(input())\n",
    "stack=deque()\n",
    "for _ in range(k):\n",
    "    num=int(input())\n",
    "    if num!=0:\n",
    "        stack.append(num)\n",
    "    else:\n",
    "        stack.pop()\n",
    "        \n",
    "print(sum(stack))"
   ]
  }
 ],
 "metadata": {
  "kernelspec": {
   "display_name": "Python 3",
   "language": "python",
   "name": "python3"
  },
  "language_info": {
   "codemirror_mode": {
    "name": "ipython",
    "version": 3
   },
   "file_extension": ".py",
   "mimetype": "text/x-python",
   "name": "python",
   "nbconvert_exporter": "python",
   "pygments_lexer": "ipython3",
   "version": "3.7.6"
  }
 },
 "nbformat": 4,
 "nbformat_minor": 4
}
