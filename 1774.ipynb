{
 "cells": [
  {
   "cell_type": "markdown",
   "metadata": {},
   "source": [
    "# 1774 : 우주신과의 교감"
   ]
  },
  {
   "cell_type": "markdown",
   "metadata": {},
   "source": [
    "https://www.acmicpc.net/problem/1774"
   ]
  },
  {
   "cell_type": "markdown",
   "metadata": {},
   "source": [
    ">## <B>신장 트리란?</B>\n",
    ">\n",
    ">\n",
    ">그래프에서 모든 노드가 연결되어 있으면서 트리의 속성(사이클 x)을 만족하는 그래프\n",
    ">1. 모든 노드가 서로 연결\n",
    ">2. 사이클 존재 X"
   ]
  },
  {
   "cell_type": "markdown",
   "metadata": {},
   "source": [
    ">## <B>최소 신장 트리(MST)란?</B>\n",
    ">\n",
    ">신장 트리 중 간선의 가중치 합이 최소인 경우\n",
    ">\n",
    ">1. 모든 노드가 서로 연결\n",
    ">2. 사이클 존재 X\n",
    ">3. <U>간선의 가중치 합 최소</U>\n",
    ">\n",
    "> 알고리즘 종류 : 1. <b>크루스칼 알고리즘</b> 2. <b>프림 알고리즘</b>"
   ]
  },
  {
   "cell_type": "markdown",
   "metadata": {},
   "source": [
    ">## <b>크루스칼 알고리즘</b>\n",
    ">\n",
    "> 1. 모든 정점을 독립적인 집합으로 만든다.\n",
    "> 2. 모든 간선을 비용 기준으로 정렬하고, 비용이 작은 간선부터 양 끝의 두 정점을 비교한다.\n",
    "> 3. 두 정점의 최상위 정점을 확인하고, 서로 다를 경우 두 정점을 연결한다. → Union-Find 알고리즘"
   ]
  },
  {
   "cell_type": "markdown",
   "metadata": {},
   "source": [
    "> ## <B>Union-Find 알고리즘</B>\n",
    ">\n",
    "> 두 노드가 같은 집합에 속해있는지 판단하고, 아닐 경우 하나의 집합으로 합치는 알고리즘\n",
    ">\n",
    "> <b>Union</b> : 두 개별 집합을 하나의 집합으로 합침(두 트리를 하나의 트리로)  \n",
    "> <b>Find</b> : 여러 노드 중, 두 노드 선택 시 서로 같은 그래프(부분 집합)에 속해있는지 판별 (각 그룹의 루트 노드 비교)\n",
    ">\n",
    ">\n",
    ">1. 초기화\n",
    ">   - n 개의 원소가 개별 집합으로 이뤄지도록 초기화\n",
    "><img src=\"https://www.fun-coding.org/00_Images/initial_findunion.png\" width=400>\n",
    ">2. Union\n",
    ">   - 두 개별 집합을 하나의 집합으로 합침, 두 트리를 하나의 트리로 만듬\n",
    "><img src=\"https://www.fun-coding.org/00_Images/union_findunion.png\" width=600>\n",
    ">\n",
    ">3. Find\n",
    ">   - 여러 노드가 존재할 때, 두 개의 노드를 선택해서, 현재 두 노드가 서로 같은 그래프에 속하는지 판별하기 위해, 각 그룹의 최상단 원>소 (즉, 루트 노드)를 확인\n",
    "><img src=\"https://www.fun-coding.org/00_Images/find_findunion.png\" width=500>\n",
    ">\n",
    ">\n",
    "> ### Union-Find 알고리즘의 고려할 점\n",
    ">- Union 순서에 따라서, 최악의 경우 링크드 리스트와 같은 형태가 될 수 있음.\n",
    ">- 이 때는 Find/Union 시 계산량이 O(N) 이 될 수 있으므로, 해당 문제를 해결하기 위해, <b>union-by-rank, path compression</b> 기법을 사용함 \n",
    ">\n",
    "><img src=\"https://www.fun-coding.org/00_Images/worst_findunion.png\" width=200>\n",
    ">\n",
    ">\n",
    ">\n",
    ">### union-by-rank 기법\n",
    ">- 각 트리에 대해 높이(rank)를 기억해 두고,\n",
    ">- Union시 두 트리의 높이(rank)가 다르면, 높이가 작은 트리를 높이가 큰 트리에 붙임 (즉, 높이가 큰 트리의 루트 노드가 합친 집합의 루>트 노드가 되게 함)\n",
    "><img src=\"https://www.fun-coding.org/00_Images/unionbyrank_findunion.png\" width=700>\n",
    ">\n",
    ">\n",
    ">- 높이가 h - 1 인 두 개의 트리를 합칠 때는 한 쪽의 트리 높이를 1 증가시켜주고, 다른 쪽의 트리를 해당 트리에 붙여줌\n",
    "><img src=\"https://www.fun-coding.org/00_Images/unionbyranksame_findunion.png\" width=700>\n",
    ">\n",
    ">- 초기화시, 모든 원소는 높이(rank) 가 0 인 개별 집합인 상태에서, 하나씩 원소를 합칠 때, union-by-rank 기법을 사용한다면,\n",
    ">  - 높이가 h 인 트리가 만들어지려면, 높이가 h - 1 인 두 개의 트리가 합쳐져야 함\n",
    ">  - 높이가 h - 1 인 트리를 만들기 위해 최소 n개의 원소가 필요하다면, 높이가 h 인 트리가 만들어지기 위해서는 최소 2n개의 원소가 필요함\n",
    ">  - 따라서 union-by-rank 기법을 사용하면, union/find 연산의 시간복잡도는 O(N) 이 아닌, $ O(log{N}) $ 로 낮출 수 있음\n",
    ">\n",
    "> ### path compression 기법\n",
    ">- Find를 실행한 노드에서 거쳐간 노드를 루트에 다이렉트로 연결하는 기법\n",
    ">- Find를 실행한 노드는 이후부터는 루트 노드를 한번에 알 수 있음\n",
    ">\n",
    "><center><img src=\"https://www.fun-coding.org/00_Images/pathcompression_findunion.png\" width=400></center>\n",
    ">\n",
    ">- union-by-rank 와 path compression 기법 사용시 시간 복잡도는 다음 계산식을 만족함이 증명되었음\n",
    ">  - $ O(M log^*{N}) $\n",
    ">  - $ log^*{N} $ 은 다음 값을 가짐이 증명되었음\n",
    ">    - N이 $ 2^{65536} $ 값을 가지더라도, $ log^*{N} $ 의 값이 5의 값을 가지므로, 거의 <b>O(1)</b>, 즉 상수값에 가깝다고 볼 수 있음"
   ]
  },
  {
   "cell_type": "markdown",
   "metadata": {},
   "source": [
    "### 크루스칼 알고리즘"
   ]
  },
  {
   "cell_type": "code",
   "execution_count": 4,
   "metadata": {},
   "outputs": [],
   "source": [
    "mygraph = {\n",
    "    'vertices': ['A', 'B', 'C', 'D', 'E', 'F', 'G'],\n",
    "    'edges': [\n",
    "        (7, 'A', 'B'),\n",
    "        (5, 'A', 'D'),\n",
    "        (7, 'B', 'A'),\n",
    "        (8, 'B', 'C'),\n",
    "        (9, 'B', 'D'),\n",
    "        (7, 'B', 'E'),\n",
    "        (8, 'C', 'B'),\n",
    "        (5, 'C', 'E'),\n",
    "        (5, 'D', 'A'),\n",
    "        (9, 'D', 'B'),\n",
    "        (7, 'D', 'E'),\n",
    "        (6, 'D', 'F'),\n",
    "        (7, 'E', 'B'),\n",
    "        (5, 'E', 'C'),\n",
    "        (7, 'E', 'D'),\n",
    "        (8, 'E', 'F'),\n",
    "        (9, 'E', 'G'),\n",
    "        (6, 'F', 'D'),\n",
    "        (8, 'F', 'E'),\n",
    "        (11, 'F', 'G'),\n",
    "        (9, 'G', 'E'),\n",
    "        (11, 'G', 'F')\n",
    "    ]\n",
    "}"
   ]
  },
  {
   "cell_type": "code",
   "execution_count": 5,
   "metadata": {},
   "outputs": [],
   "source": [
    "parent = dict()\n",
    "rank = dict()\n",
    "\n",
    "def find(node):\n",
    "    # path compression 기법\n",
    "    if parent[node] != node:             # 루트 노드 찾기\n",
    "        parent[node] = find(parent[node])\n",
    "    return parent[node]                 # 루트 노드 반환\n",
    "\n",
    "def union(node_v, node_u):\n",
    "    root1 = find(node_v)       # node_v의 루트노드\n",
    "    root2 = find(node_u)       # node_u의 루트노드\n",
    "    \n",
    "    # union-by-rank 기법\n",
    "    if rank[root1] > rank[root2]: # root1의 높이가 더 크면, root1에 붙이기\n",
    "        parent[root2] = root1\n",
    "    else:\n",
    "        parent[root1] = root2      # root2의 높이가 더 크거나 같으면, root2에 붙이고\n",
    "        if rank[root1] == rank[root2]:  # root2와 높이가 같으면, root2의 높이 1 증가\n",
    "            rank[root2] += 1\n",
    "    \n",
    "def make_set(node):  # 초기화 : 모든 정점을 독립적인 집합으로 만듦\n",
    "    parent[node] = node\n",
    "    rank[node] = 0\n",
    "\n",
    "def kruskal(graph):\n",
    "    mst = list()\n",
    "    \n",
    "    # 1. 초기화\n",
    "    for node in graph['vertices']: # 초기화 : 모든 정점을 독립적인 집합으로 만듦\n",
    "        make_set(node)\n",
    "    \n",
    "    # 2. 간선 weight 기반 sorting\n",
    "    edges = graph['edges']          # 간선의 가중치 오름차순 정렬\n",
    "    edges.sort()\n",
    "    \n",
    "    # 3. 간선 연결 (사이클 없는) \n",
    "    for edge in edges:               \n",
    "        weight, node_v, node_u = edge\n",
    "        if find(node_v) != find(node_u): # 두 그룹이 다른 그룹일경우\n",
    "            union(node_v, node_u)        # 하나로 합치기\n",
    "            mst.append(edge)             # 최소 신장 리스트 append\n",
    "    \n",
    "    return mst"
   ]
  },
  {
   "cell_type": "code",
   "execution_count": 6,
   "metadata": {},
   "outputs": [
    {
     "data": {
      "text/plain": [
       "[(5, 'A', 'D'),\n",
       " (5, 'C', 'E'),\n",
       " (6, 'D', 'F'),\n",
       " (7, 'A', 'B'),\n",
       " (7, 'B', 'E'),\n",
       " (9, 'E', 'G')]"
      ]
     },
     "execution_count": 6,
     "metadata": {},
     "output_type": "execute_result"
    }
   ],
   "source": [
    "kruskal(mygraph)"
   ]
  },
  {
   "cell_type": "markdown",
   "metadata": {},
   "source": [
    "![title](1774_2.png)"
   ]
  },
  {
   "cell_type": "code",
   "execution_count": 13,
   "metadata": {
    "scrolled": true
   },
   "outputs": [
    {
     "name": "stdout",
     "output_type": "stream",
     "text": [
      "4 1\n",
      "1 1\n",
      "3 1\n",
      "2 3\n",
      "4 3\n",
      "1 4\n",
      "4.00\n"
     ]
    }
   ],
   "source": [
    "import math\n",
    "\n",
    "def find(node):\n",
    "    if parent[node]!=node:\n",
    "        parent[node]=find(parent[node])\n",
    "    return parent[node]\n",
    "\n",
    "def union(node1, node2):\n",
    "    root1=find(node1)\n",
    "    root2=find(node2)\n",
    "    \n",
    "    if rank[root1]>rank[root2]:\n",
    "        parent[root2]=root1\n",
    "    else:\n",
    "        parent[root1]=root2\n",
    "        if rank[root1]==rank[root2]:\n",
    "            rank[root2]+=1\n",
    "            \n",
    "def make_set(node): # 초기화\n",
    "    parent[node]=node\n",
    "    rank[node]=0\n",
    "        \n",
    "def get_distance(a, b):  # 두 노드(좌표)의 거리계산\n",
    "    return math.sqrt(pow(a[0]-b[0], 2) + pow(a[1]-b[1], 2)) \n",
    "\n",
    "def kruskal():\n",
    "    n, m = map(int, input().split())\n",
    "    parent = dict()                  # 각 노드의 루트 노드\n",
    "    rank = dict()                    # 각 노드의 높이\n",
    "    locations=[()]                   # 노드들의 좌표 저장 / index가 노드를 가리키기 위해 index : () 추가\n",
    "    edges=[]                         # 간선 저장\n",
    "    mst=[]                           # 최소신장 간선(edge) 반환\n",
    "\n",
    "    for i in range(1, n+1): # 노드들 좌표값 입력받고 저장 & 초기화\n",
    "        x, y =map(int, input().split())\n",
    "        locations.append((x, y))   # 각 노드의 좌표 입력\n",
    "        make_set(i)                #### 1. 모든 정점을 독립적인 집합으로 만든다.\n",
    "\n",
    "    for _ in range(m):  # 이미 연결되어 있는 노드들 연결\n",
    "        a, b = map(int, input().split())\n",
    "        union(a, b)\n",
    "\n",
    "    for i in range(1, n+1): # 노드들간의 모든 간선 계산 & 저장\n",
    "        for j in range(i+1, n+1):        \n",
    "            edges.append((get_distance(locations[i], locations[j]), i, j)) # edges.append( (거리, 노드1, 노드2) )\n",
    "\n",
    "    edges.sort()               #### 2. 모든 간선을 비용(길이) 기준으로 정렬한다.\n",
    "\n",
    "    for edge in edges:  # 비용(길이)가 작은 간선부터 연결(사이클 X)\n",
    "        distance, node1, node2 = edge   #### 3. 비용이 작은 간선부터 양 끝의 두 정점을 비교한다.\n",
    "        if find(node1)!=find(node2): #### 3. 두 정점의 최상위 정점을 확인하고, 서로 다를 경우 두 정점을 연결한다.→ Union-Find 알고리즘\n",
    "            union(node1, node2)\n",
    "            mst.append(edge)        ## mst : 최소 신장 트리의 간선 정보            \n",
    "\n",
    "            \n",
    "kruskal() # kruskal 알고리즘에 의해 mst의 간선 정보 확인 가능\n",
    "\n",
    "sum=0 \n",
    "for i in mst:     # 이미 연결된 간선 제외 최소 신장 트리의 간선의 길이 합 계산\n",
    "    sum+=i[0]\n",
    "    \n",
    "print(\"%0.2f\" %sum)"
   ]
  },
  {
   "cell_type": "markdown",
   "metadata": {},
   "source": [
    "![title](1774_3.jpg)"
   ]
  },
  {
   "cell_type": "markdown",
   "metadata": {},
   "source": [
    "> ### 핵심! \n",
    ">\n",
    "> 모든 간선들을 탐색해서 간선의 길이가 작은것의 노드들 부터 Union하여 최소 신장 트리 완성  \n",
    ">\n",
    ">\n",
    "> → 크루스칼 알고리즘은 모든 간선의 정보 필요!"
   ]
  }
 ],
 "metadata": {
  "kernelspec": {
   "display_name": "Python 3",
   "language": "python",
   "name": "python3"
  },
  "language_info": {
   "codemirror_mode": {
    "name": "ipython",
    "version": 3
   },
   "file_extension": ".py",
   "mimetype": "text/x-python",
   "name": "python",
   "nbconvert_exporter": "python",
   "pygments_lexer": "ipython3",
   "version": "3.7.6"
  }
 },
 "nbformat": 4,
 "nbformat_minor": 4
}
