{
 "cells": [
  {
   "cell_type": "markdown",
   "metadata": {},
   "source": [
    "# 11053 : 가장 긴 증가하는 부분 수열"
   ]
  },
  {
   "cell_type": "markdown",
   "metadata": {},
   "source": [
    "- 11722 : 가장 긴 감소하는 부분 수열"
   ]
  },
  {
   "cell_type": "markdown",
   "metadata": {},
   "source": [
    "https://www.acmicpc.net/problem/11053"
   ]
  },
  {
   "cell_type": "code",
   "execution_count": 10,
   "metadata": {},
   "outputs": [
    {
     "name": "stdout",
     "output_type": "stream",
     "text": [
      "6\n",
      "1 4 2 3 5 6\n",
      "4\n"
     ]
    }
   ],
   "source": [
    "n=int(input())\n",
    "data=list(map(int, input().split()))\n",
    "result=1\n",
    "for i in range(n-1):\n",
    "    big=data[i]\n",
    "    cnt=1\n",
    "    for j in range(i+1,n):\n",
    "        if big<data[j]:\n",
    "            big=data[j]\n",
    "            cnt+=1\n",
    "    result=max(result, cnt)        \n",
    "            \n",
    "print(result)"
   ]
  },
  {
   "cell_type": "markdown",
   "metadata": {},
   "source": [
    "50 30 40 20 10 60 100  \n",
    "→ 50, 60, 100 : 3   \n",
    "→ 30, 40, 60, 100 : 4  \n",
    "→ 40, 60, 100 : 3  \n",
    "→ 20, 60, 100 : 3  \n",
    "→ 10, 60, 100 : 3  \n",
    "→ 60, 100 : 2  "
   ]
  },
  {
   "cell_type": "markdown",
   "metadata": {},
   "source": [
    "반례  \n",
    "\n",
    "1 4 2 3 5 6  \n",
    "→ 1 4 5 6 : 4  \n",
    "→ 1 2 3 5 6 : 5"
   ]
  },
  {
   "cell_type": "markdown",
   "metadata": {},
   "source": [
    "![title](11053.jpg)"
   ]
  },
  {
   "cell_type": "markdown",
   "metadata": {},
   "source": [
    "### 풀이1 : 132ms"
   ]
  },
  {
   "cell_type": "code",
   "execution_count": 15,
   "metadata": {},
   "outputs": [
    {
     "name": "stdout",
     "output_type": "stream",
     "text": [
      "6\n",
      "10 40 20 30 50 60\n",
      "5\n"
     ]
    }
   ],
   "source": [
    "n=int(input()\n",
    "data=list(map(int, input().split()))\n",
    "dp=[1]*n\n",
    "\n",
    "for i in range(1, n):\n",
    "    result=1\n",
    "    for j in range(0,i):\n",
    "        if data[i]>data[j]:\n",
    "            result=max(result, dp[j]+dp[i])\n",
    "    dp[i]=result\n",
    "    \n",
    "print(max(dp))"
   ]
  },
  {
   "cell_type": "markdown",
   "metadata": {},
   "source": [
    "### 풀이2 : 124ms"
   ]
  },
  {
   "cell_type": "code",
   "execution_count": 16,
   "metadata": {},
   "outputs": [
    {
     "name": "stdout",
     "output_type": "stream",
     "text": [
      "6\n",
      "10 40 20 30 50 60\n",
      "5\n"
     ]
    }
   ],
   "source": [
    "n=int(input())\n",
    "data=list(map(int, input().split()))\n",
    "dp=[1]*n\n",
    "\n",
    "for i in range(1,n):\n",
    "    for j in range(0,i):\n",
    "        if data[i]>data[j]:\n",
    "            dp[i]=max(dp[i], dp[j]+1)\n",
    "print(max(dp))"
   ]
  }
 ],
 "metadata": {
  "kernelspec": {
   "display_name": "Python 3",
   "language": "python",
   "name": "python3"
  },
  "language_info": {
   "codemirror_mode": {
    "name": "ipython",
    "version": 3
   },
   "file_extension": ".py",
   "mimetype": "text/x-python",
   "name": "python",
   "nbconvert_exporter": "python",
   "pygments_lexer": "ipython3",
   "version": "3.7.6"
  }
 },
 "nbformat": 4,
 "nbformat_minor": 4
}
