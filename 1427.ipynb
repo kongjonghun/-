{
 "cells": [
  {
   "cell_type": "markdown",
   "metadata": {},
   "source": [
    "# 1427 : 소트인사이드"
   ]
  },
  {
   "cell_type": "markdown",
   "metadata": {},
   "source": [
    "배열을 정렬하는 것은 쉽다. 수가 주어지면, 그 수의 각 자리수를 내림차순으로 정렬해보자."
   ]
  },
  {
   "cell_type": "markdown",
   "metadata": {},
   "source": [
    "- print(\"하나\",\"둘\",\"셋\",1,2,3,sep='-')   \n",
    "  → 하나-둘-셋-1-2-3\n",
    "- print(\"첫번째 값\", end=\" ---> \")  \n",
    "  print(\"두번째 값\")  \n",
    "  → 첫번째 값---> 두번째 값"
   ]
  },
  {
   "cell_type": "markdown",
   "metadata": {},
   "source": [
    "### 문풀 1 : 108ms"
   ]
  },
  {
   "cell_type": "code",
   "execution_count": 24,
   "metadata": {},
   "outputs": [
    {
     "name": "stdout",
     "output_type": "stream",
     "text": [
      "2143\n",
      "4321\n"
     ]
    }
   ],
   "source": [
    "data = int(input()) # 2143\n",
    "array=[]\n",
    "while data:\n",
    "    array.append(data%10) # data 나머지 리스트에 추가: 3 → 4 → 1 → 2  \n",
    "    data=data//10   # data 앞 세자리  214 → 21 → 2\n",
    "                    # array =[3,4,1,2]    \n",
    "array.sort() # array = [1,2,3,4]\n",
    "sum=0\n",
    "\n",
    "for i in range(len(array)):\n",
    "    sum += array[i]*10**(i)  # 1*10^(0) + 2*10^(1) + 3*10^(2) + 4*10^(3) = 1 + 20 + 300 + 4000 = 4321\n",
    "    \n",
    "print(sum)"
   ]
  },
  {
   "cell_type": "markdown",
   "metadata": {},
   "source": [
    "### 문풀 2 : 104ms"
   ]
  },
  {
   "cell_type": "code",
   "execution_count": 44,
   "metadata": {},
   "outputs": [
    {
     "name": "stdout",
     "output_type": "stream",
     "text": [
      "2143\n",
      "4321\n"
     ]
    }
   ],
   "source": [
    "data = list(map(int, input())) # 입력값 int형 리스트 변환\n",
    "data.sort(reverse=True)       # 입력값 리스트 정렬(내림차순)\n",
    "data = list(map(str, data))   # 정렬된 입력값 리스트 str형 리스트 변환\n",
    "print(''.join(data))          # 문자열 병합"
   ]
  },
  {
   "cell_type": "markdown",
   "metadata": {},
   "source": [
    "### 문풀3 : 120ms"
   ]
  },
  {
   "cell_type": "code",
   "execution_count": 41,
   "metadata": {},
   "outputs": [
    {
     "name": "stdout",
     "output_type": "stream",
     "text": [
      "2143\n",
      "4321"
     ]
    }
   ],
   "source": [
    "data = input()\n",
    "\n",
    "for i in range(9,-1,-1):\n",
    "    for j in data:\n",
    "        if i == int(j):\n",
    "            print(j, end='')"
   ]
  }
 ],
 "metadata": {
  "kernelspec": {
   "display_name": "Python 3",
   "language": "python",
   "name": "python3"
  },
  "language_info": {
   "codemirror_mode": {
    "name": "ipython",
    "version": 3
   },
   "file_extension": ".py",
   "mimetype": "text/x-python",
   "name": "python",
   "nbconvert_exporter": "python",
   "pygments_lexer": "ipython3",
   "version": "3.7.6"
  }
 },
 "nbformat": 4,
 "nbformat_minor": 4
}
