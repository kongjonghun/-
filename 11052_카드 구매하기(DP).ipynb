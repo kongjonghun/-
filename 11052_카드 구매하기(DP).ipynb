{
 "cells": [
  {
   "cell_type": "markdown",
   "metadata": {},
   "source": [
    "<img src=\"11052.jpg\" width=\"80%\" height=\"80%\">"
   ]
  },
  {
   "cell_type": "markdown",
   "metadata": {},
   "source": [
    "### 문풀1"
   ]
  },
  {
   "cell_type": "code",
   "execution_count": null,
   "metadata": {},
   "outputs": [],
   "source": [
    "### 점화식\n",
    "dp[i] :i개를 갖기 위해 지불해야 하는 금액의 최댓값\n",
    "ex)\n",
    "dp[5] : 5개를 갖기 위해 지불해야 하는 금액의 최댓값\n",
    "dp[5] = dp[1] + dp[4] (1개일때 금액 최댓값 + 4개일때 금액 최댓값)\n",
    "dp[5] = dp[2] + dp[3] (2개일때 금액 최댓값 + 3개일때 금액 최댓값)\n",
    "\n",
    "dp[i]=max(max([data[j]+data[i-j] for j in range(1, i//2+1)]), data[i-1])\n",
    "dp[5]=max(max(dp[1]+dp[4], dp[2]+dp[3]), data[5])\n",
    "(조합을 통해 5개를 완성시킬 수 있는 경우 중 금액 가장 큰 값, 5개 카드팩의 금액)중 큰 값"
   ]
  },
  {
   "cell_type": "code",
   "execution_count": 9,
   "metadata": {},
   "outputs": [
    {
     "name": "stdout",
     "output_type": "stream",
     "text": [
      "4\n",
      "1 5 6 7\n",
      "10\n"
     ]
    }
   ],
   "source": [
    "n=int(input())\n",
    "data=list(map(int, input().split()))\n",
    "dp=[0]*(n+1)\n",
    "dp[1]=data[0]\n",
    "dp[2]=max(data[1], data[0]*2)\n",
    "\n",
    "for i in range(3, n+1):\n",
    "    dp[i]=max(max([dp[j]+dp[i-j] for j in range(1, i//2+1)]), data[i-1])\n",
    "print(dp[-1])"
   ]
  },
  {
   "cell_type": "markdown",
   "metadata": {},
   "source": [
    "### 문풀2"
   ]
  },
  {
   "cell_type": "code",
   "execution_count": null,
   "metadata": {},
   "outputs": [],
   "source": [
    "### 점화식\n",
    "dp[1]=data[0]\n",
    "dp[2]=max(data[1], data[0]*2)\n",
    "\n",
    "dp[5]=data[4]\n",
    "\n",
    "dp[5]=dp[0]+dp[5]\n",
    "dp[5]=dp[1]+dp[4]\n",
    "dp[5]=dp[2]+dp[3]\n",
    "\n",
    "for j in range(i//2+1):\n",
    "    dp[i]=max(dp[j]+dp[i-j], dp[i])"
   ]
  },
  {
   "cell_type": "code",
   "execution_count": 7,
   "metadata": {},
   "outputs": [
    {
     "name": "stdout",
     "output_type": "stream",
     "text": [
      "6\n",
      "1 5 6 7 9 12\n",
      "15\n"
     ]
    }
   ],
   "source": [
    "n=int(input())\n",
    "data=list(map(int, input().split()))\n",
    "dp=[0]*(n+1)\n",
    "dp[1]=data[0]\n",
    "dp[2]=max(data[1], data[0]*2)\n",
    "\n",
    "for i in range(3, n+1):\n",
    "    dp[i]=data[i-1]\n",
    "    for j in range(i//2+1):\n",
    "        dp[i]=max(dp[j]+dp[i-j], dp[i])\n",
    "print(max(dp))"
   ]
  }
 ],
 "metadata": {
  "kernelspec": {
   "display_name": "Python 3",
   "language": "python",
   "name": "python3"
  },
  "language_info": {
   "codemirror_mode": {
    "name": "ipython",
    "version": 3
   },
   "file_extension": ".py",
   "mimetype": "text/x-python",
   "name": "python",
   "nbconvert_exporter": "python",
   "pygments_lexer": "ipython3",
   "version": "3.7.6"
  }
 },
 "nbformat": 4,
 "nbformat_minor": 4
}
