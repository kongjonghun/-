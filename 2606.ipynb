{
 "cells": [
  {
   "cell_type": "markdown",
   "metadata": {},
   "source": [
    "# 2606 : 바이러스"
   ]
  },
  {
   "cell_type": "markdown",
   "metadata": {},
   "source": [
    "https://www.acmicpc.net/problem/2606"
   ]
  },
  {
   "cell_type": "markdown",
   "metadata": {},
   "source": [
    "DFS방식"
   ]
  },
  {
   "cell_type": "code",
   "execution_count": 13,
   "metadata": {},
   "outputs": [
    {
     "name": "stdout",
     "output_type": "stream",
     "text": [
      "7\n",
      "6\n",
      "1 2\n",
      "2 3\n",
      "1 5\n",
      "5 2\n",
      "5 6\n",
      "4 7\n",
      "4\n"
     ]
    }
   ],
   "source": [
    "n=int(input())\n",
    "m=int(input())\n",
    "adj=[[] for _ in range(n+1)]\n",
    "visited=[False]*(n+1)\n",
    "\n",
    "for _ in range(m):\n",
    "    x,y = map(int, input().split())\n",
    "    adj[x].append(y)\n",
    "    adj[y].append(x)  \n",
    "\n",
    "def DFS(v):            \n",
    "    visited[v]=True\n",
    "    for i in adj[v]:\n",
    "        if not visited[i]:\n",
    "            DFS(i)        \n",
    "                          \n",
    "\n",
    "DFS(1)\n",
    "cnt=0\n",
    "for i in visited:\n",
    "    if i:\n",
    "        cnt+=1\n",
    "print(cnt-1)        "
   ]
  },
  {
   "cell_type": "markdown",
   "metadata": {},
   "source": [
    "BFS 방식"
   ]
  },
  {
   "cell_type": "code",
   "execution_count": 16,
   "metadata": {},
   "outputs": [
    {
     "name": "stdout",
     "output_type": "stream",
     "text": [
      "7\n",
      "6\n",
      "1 2\n",
      "2 3\n",
      "1 5\n",
      "5 2\n",
      "5 6\n",
      "4 7\n",
      "4\n"
     ]
    }
   ],
   "source": [
    "from collections import deque\n",
    "\n",
    "n=int(input())\n",
    "m=int(input())\n",
    "adj=[[] for _ in range(n+1)]\n",
    "visited=[False]*(n+1)\n",
    "\n",
    "for _ in range(m):\n",
    "    x,y=map(int, input().split())\n",
    "    adj[x].append(y)\n",
    "    adj[y].append(x)\n",
    "    \n",
    "def BFS(v):\n",
    "    q=deque([v])\n",
    "    while q:\n",
    "        node=q.popleft()\n",
    "        if not visited[node]:\n",
    "            visited[node]=True            \n",
    "            for i in adj[node]:\n",
    "                if not visited[i]:                    \n",
    "                    q.append(i)\n",
    "    \n",
    "BFS(1)            \n",
    "cnt=0\n",
    "for i in visited:\n",
    "    if i:\n",
    "        cnt+=1\n",
    "print(cnt-1)"
   ]
  }
 ],
 "metadata": {
  "kernelspec": {
   "display_name": "Python 3",
   "language": "python",
   "name": "python3"
  },
  "language_info": {
   "codemirror_mode": {
    "name": "ipython",
    "version": 3
   },
   "file_extension": ".py",
   "mimetype": "text/x-python",
   "name": "python",
   "nbconvert_exporter": "python",
   "pygments_lexer": "ipython3",
   "version": "3.7.6"
  }
 },
 "nbformat": 4,
 "nbformat_minor": 4
}
