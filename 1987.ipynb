{
 "cells": [
  {
   "cell_type": "markdown",
   "metadata": {},
   "source": [
    "# 1987 : 알파벳"
   ]
  },
  {
   "cell_type": "markdown",
   "metadata": {},
   "source": [
    "https://www.acmicpc.net/problem/1987"
   ]
  },
  {
   "cell_type": "markdown",
   "metadata": {},
   "source": [
    "유사 문제 - 1012 : 유기농 배추(BFS, DFS)\n",
    "http://localhost:8888/notebooks/jupyter_file/%EC%95%8C%EA%B3%A0%EB%A6%AC%EC%A6%98%20%ED%92%80%EC%9D%B4/1012.ipynb "
   ]
  },
  {
   "cell_type": "markdown",
   "metadata": {},
   "source": [
    "<img src=\"1987.jpg\" height=\"80%\" width=\"80%\">"
   ]
  },
  {
   "cell_type": "markdown",
   "metadata": {},
   "source": [
    "### 문풀 1 : list() - 시간 초과"
   ]
  },
  {
   "cell_type": "code",
   "execution_count": 35,
   "metadata": {},
   "outputs": [
    {
     "name": "stdout",
     "output_type": "stream",
     "text": [
      "2 4\n",
      "CAAB\n",
      "ADCB\n",
      "3\n"
     ]
    }
   ],
   "source": [
    "from collections import deque\n",
    "\n",
    "R, C =map(int, input().split())\n",
    "data=[]\n",
    "\n",
    "for _ in range(R):\n",
    "    data.append(list(input()))\n",
    "    \n",
    "def bfs(x,y):\n",
    "    global result\n",
    "    q=deque([(x, y, data[x][y])])   \n",
    "    \n",
    "    while q:        \n",
    "        nx, ny, route = q.popleft()     # 문자열을 경로로 (route) EX) CAD\n",
    "        result=max(result, len(route))  # 가장 긴 이동 거리를 저장      \n",
    "        for i,j in ((nx+1, ny), (nx, ny+1), (nx-1, ny), (nx, ny-1)): # 동서남북 탐색\n",
    "            if 0<=i<R and 0<=j<C and data[i][j] not in route:\n",
    "                q.append((i, j, route + data[i][j]))    # 문자열 합치기 문자열(route) + 문자열(data[i][j])\n",
    "    \n",
    "result=0\n",
    "bfs(0,0)\n",
    "print(result)"
   ]
  },
  {
   "cell_type": "markdown",
   "metadata": {},
   "source": [
    "#### BFS 구현 / queue 출력 "
   ]
  },
  {
   "cell_type": "code",
   "execution_count": 2,
   "metadata": {},
   "outputs": [
    {
     "name": "stdout",
     "output_type": "stream",
     "text": [
      "2 4\n",
      "CAAB\n",
      "ADCB\n",
      "deque([(0, 0, 'C')])\n",
      "deque([(1, 0, 'CA'), (0, 1, 'CA')])\n",
      "deque([(0, 1, 'CA'), (1, 1, 'CAD')])\n",
      "deque([(1, 1, 'CAD'), (1, 1, 'CAD')])\n",
      "deque([(1, 1, 'CAD')])\n"
     ]
    }
   ],
   "source": [
    "from collections import deque\n",
    "R, C =map(int, input().split())\n",
    "data=[]\n",
    "for _ in range(R):\n",
    "    data.append(list(input()))\n",
    "\n",
    "def bfs(x,y):\n",
    "    q=deque([(x, y, data[x][y])])\n",
    "    while q:\n",
    "        print(q, end='\\n')   # queue 출력해보기\n",
    "        nx, ny, route = q.popleft()\n",
    "        for i,j in ((nx+1, ny), (nx, ny+1), (nx-1, ny), (nx, ny-1)):\n",
    "            if 0<=i<R and 0<=j<C and data[i][j] not in route:\n",
    "                q.append((i, j, route + data[i][j]))                \n",
    "    \n",
    "bfs(0,0)"
   ]
  },
  {
   "cell_type": "markdown",
   "metadata": {},
   "source": [
    ">리스트 형태로 할 경우 중복 경로가 출력됨 → 이를 해결하고자, set() 사용"
   ]
  },
  {
   "cell_type": "markdown",
   "metadata": {},
   "source": [
    "### 문풀2 : set() - 7996ms"
   ]
  },
  {
   "cell_type": "code",
   "execution_count": 36,
   "metadata": {},
   "outputs": [
    {
     "name": "stdout",
     "output_type": "stream",
     "text": [
      "2 4\n",
      "CAAB\n",
      "ADCB\n",
      "3\n"
     ]
    }
   ],
   "source": [
    "R, C =map(int, input().split())\n",
    "data=[]\n",
    "\n",
    "for _ in range(R):\n",
    "    data.append(list(input()))\n",
    "    \n",
    "def bfs(x,y):\n",
    "    global result\n",
    "    q=set()\n",
    "    q.add((x, y, data[x][y]))\n",
    "    \n",
    "    while q:        \n",
    "        nx, ny, route = q.pop()\n",
    "        result=max(result, len(route))        \n",
    "        for i,j in ((nx+1, ny), (nx, ny+1), (nx-1, ny), (nx, ny-1)):\n",
    "            if 0<=i<R and 0<=j<C and data[i][j] not in route:\n",
    "                q.add((i, j, route + data[i][j]))    \n",
    "    \n",
    "result=0\n",
    "bfs(0,0)\n",
    "print(result)"
   ]
  },
  {
   "cell_type": "markdown",
   "metadata": {},
   "source": [
    "#### BFS 구현 / queue 출력 "
   ]
  },
  {
   "cell_type": "code",
   "execution_count": 2,
   "metadata": {},
   "outputs": [
    {
     "name": "stdout",
     "output_type": "stream",
     "text": [
      "2 4\n",
      "CAAB\n",
      "ADCB\n",
      "{(0, 0, 'C')}\n",
      "{(0, 1, 'CA'), (1, 0, 'CA')}\n",
      "{(0, 1, 'CA'), (1, 1, 'CAD')}\n",
      "{(1, 1, 'CAD')}\n"
     ]
    }
   ],
   "source": [
    "R, C =map(int, input().split())\n",
    "data=[]\n",
    "\n",
    "for _ in range(R):\n",
    "    data.append(list(input()))\n",
    "    \n",
    "def bfs(x,y):\n",
    "    global result\n",
    "    # 경로가 동일한 경우 한 번만 계산하기 위해 사용\n",
    "    q=set()\n",
    "    q.add((x, y, data[x][y]))\n",
    "    \n",
    "    while q:        \n",
    "        print(q, end='\\n')        \n",
    "        nx, ny, route = q.pop()              \n",
    "        for i,j in ((nx+1, ny), (nx, ny+1), (nx-1, ny), (nx, ny-1)):\n",
    "            if 0<=i<R and 0<=j<C and data[i][j] not in route:\n",
    "                q.add((i, j, route + data[i][j]))        \n",
    "bfs(0,0)"
   ]
  },
  {
   "cell_type": "markdown",
   "metadata": {},
   "source": [
    ">리스트와 달리 (1, 1, 'CAD')가 1번만 입력"
   ]
  },
  {
   "cell_type": "markdown",
   "metadata": {},
   "source": [
    "### 문풀 3 :  set(), sys.stdin.readline 사용 - 7912ms"
   ]
  },
  {
   "cell_type": "code",
   "execution_count": null,
   "metadata": {},
   "outputs": [],
   "source": [
    "import sys\n",
    "input = sys.stdin.readline\n",
    "\n",
    "R, C =map(int, input().split())\n",
    "data=[]\n",
    "\n",
    "for _ in range(R):\n",
    "    data.append(list(input()))\n",
    "    \n",
    "def bfs(x,y):\n",
    "    global result\n",
    "    \n",
    "    q=set()\n",
    "    q.add((x, y, data[x][y]))\n",
    "    \n",
    "    while q:                \n",
    "        nx, ny, route = q.pop()\n",
    "        result=max(result, len(route))        \n",
    "        for i,j in ((nx+1, ny), (nx, ny+1), (nx-1, ny), (nx, ny-1)):\n",
    "            if 0<=i<R and 0<=j<C and data[i][j] not in route:\n",
    "                q.add((i, j, route + data[i][j]))    \n",
    "    \n",
    "result=0\n",
    "bfs(0,0)\n",
    "print(result)"
   ]
  },
  {
   "cell_type": "markdown",
   "metadata": {},
   "source": [
    "> 즉, list() 대신 set()을 input() 대신 sys.stdin.readline을 사용하여 시간을 단축"
   ]
  }
 ],
 "metadata": {
  "kernelspec": {
   "display_name": "Python 3",
   "language": "python",
   "name": "python3"
  },
  "language_info": {
   "codemirror_mode": {
    "name": "ipython",
    "version": 3
   },
   "file_extension": ".py",
   "mimetype": "text/x-python",
   "name": "python",
   "nbconvert_exporter": "python",
   "pygments_lexer": "ipython3",
   "version": "3.7.6"
  }
 },
 "nbformat": 4,
 "nbformat_minor": 4
}
