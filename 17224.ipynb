{
 "cells": [
  {
   "cell_type": "markdown",
   "metadata": {},
   "source": [
    "# 17224 : APC"
   ]
  },
  {
   "cell_type": "markdown",
   "metadata": {},
   "source": [
    "https://www.acmicpc.net/problem/17224"
   ]
  },
  {
   "cell_type": "code",
   "execution_count": 21,
   "metadata": {
    "scrolled": true
   },
   "outputs": [
    {
     "name": "stdout",
     "output_type": "stream",
     "text": [
      "4 8 4\n",
      "1 8\n",
      "4 5\n",
      "6 20\n",
      "9 12\n",
      "380\n"
     ]
    }
   ],
   "source": [
    "N, L, K =map(int, input().split())\n",
    "result=[]\n",
    "for i in range(N):\n",
    "    sub1, sub2 =map(int, input().split())\n",
    "    if sub2<=L:             # 어려운 문제 풀 수 있음\n",
    "        result.append(140) \n",
    "    elif sub1<=L:           # 쉬운 문제 풀 수 있음\n",
    "        result.append(100)    \n",
    "    \n",
    "result.sort(reverse=True)\n",
    "print(sum(result[:K]))"
   ]
  },
  {
   "cell_type": "code",
   "execution_count": 25,
   "metadata": {},
   "outputs": [
    {
     "name": "stdout",
     "output_type": "stream",
     "text": [
      "4 8 4\n",
      "1 8\n",
      "4 5\n",
      "6 20\n",
      "9 12\n",
      "380\n"
     ]
    }
   ],
   "source": [
    "N, L, K =map(int, input().split())\n",
    "hard, easy = 0, 0\n",
    "for i in range(N):\n",
    "    sub1, sub2 =map(int, input().split())\n",
    "    if sub2<=L:             # 어려운 문제 풀 수 있음\n",
    "        hard+=1\n",
    "    elif sub1<=L:           # 쉬운 문제 풀 수 있음\n",
    "        easy+=1\n",
    "    \n",
    "if hard>=K:\n",
    "    print(hard*140)\n",
    "else:\n",
    "    print(hard*140 + min(K-hard, easy)*100)"
   ]
  }
 ],
 "metadata": {
  "kernelspec": {
   "display_name": "Python 3",
   "language": "python",
   "name": "python3"
  },
  "language_info": {
   "codemirror_mode": {
    "name": "ipython",
    "version": 3
   },
   "file_extension": ".py",
   "mimetype": "text/x-python",
   "name": "python",
   "nbconvert_exporter": "python",
   "pygments_lexer": "ipython3",
   "version": "3.7.6"
  }
 },
 "nbformat": 4,
 "nbformat_minor": 4
}
