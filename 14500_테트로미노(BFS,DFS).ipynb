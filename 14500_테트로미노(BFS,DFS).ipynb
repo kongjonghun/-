{
 "cells": [
  {
   "cell_type": "markdown",
   "metadata": {},
   "source": [
    "# 14500 : 테트로미노"
   ]
  },
  {
   "cell_type": "markdown",
   "metadata": {},
   "source": [
    "https://www.acmicpc.net/problem/14500"
   ]
  },
  {
   "cell_type": "markdown",
   "metadata": {},
   "source": [
    "<img src=\"14500.jpg\" width=\"70%\" height=\"70%\">"
   ]
  },
  {
   "cell_type": "markdown",
   "metadata": {},
   "source": [
    "<img src=\"14500_2.jpg\" width=\"50%\" height=\"50%\">"
   ]
  },
  {
   "cell_type": "code",
   "execution_count": null,
   "metadata": {},
   "outputs": [],
   "source": [
    "import sys\n",
    "input = sys.stdin.readline\n",
    "\n",
    "N,M =map(int, input().split())\n",
    "paper=[list(map(int, input().split())) for _ in range(N)]\n",
    "ans=0\n",
    "tetromino = [\n",
    "    [(0,0),(0,1),(0,2),(0,3)],[(0,0),(1,0),(2,0),(3,0)], # l\n",
    "    [(0,0),(0,1),(1,0),(1,1)],                           # ㅁ\n",
    "    [(0,0),(1,0),(2,0),(2,1)],[(0,0),(0,1),(0,2),(1,0)],[(0,0),(0,1),(0,2),(1,2)],[(1,0),(1,1),(1,2),(0,2)], # ㄴ\n",
    "    [(0,0),(1,0),(1,1),(1,2)],[(2,0),(2,1),(1,1),(0,1)],[(0,0),(1,0),(2,0),(0,1)],[(0,0),(0,1),(1,1),(2,1)],\n",
    "    [(0,0),(1,0),(1,1),(2,1)],[(0,1),(1,1),(1,0),(2,0)],[(1,0),(1,1),(0,1),(0,2)],[(0,0),(0,1),(1,1),(1,2)], # ㄴㄱ\n",
    "    [(0,0),(0,1),(0,2),(1,1)],[(0,0),(1,0),(2,0),(1,1)],[(1,0),(1,1),(1,2),(0,1)],[(0,1),(1,0),(1,1),(2,1)], # ㅜ\n",
    "]\n",
    "\n",
    "def find(x,y):\n",
    "    ans2=0\n",
    "    for i in range(19):       # 한 점에서의 테트로미노 가능 케이스(19개)\n",
    "        sum_point=0        \n",
    "        for j in range(4):    # tetromino[i][j] : 테트로미노 하나의 케이스의 한 셀\n",
    "            if 0<=x+tetromino[i][j][0]<N and 0<=y+tetromino[i][j][1]<M:\n",
    "                sum_point += paper[x + tetromino[i][j][0]][y + tetromino[i][j][1]]\n",
    "            else:                            # 하나라도 벗어나면 해당 케이스 제외\n",
    "                sum_point=0\n",
    "                break                        \n",
    "        ans2=max(ans2, sum_point)        # 하나의 점에서 가능한 케이스들 중 최대\n",
    "    return ans2\n",
    "\n",
    "for i in range(N):\n",
    "    for j in range(M):\n",
    "        ans = max(ans, find(i, j)) #모든 점에서 최대값 중 최대\n",
    "        \n",
    "print(ans)"
   ]
  }
 ],
 "metadata": {
  "kernelspec": {
   "display_name": "Python 3",
   "language": "python",
   "name": "python3"
  },
  "language_info": {
   "codemirror_mode": {
    "name": "ipython",
    "version": 3
   },
   "file_extension": ".py",
   "mimetype": "text/x-python",
   "name": "python",
   "nbconvert_exporter": "python",
   "pygments_lexer": "ipython3",
   "version": "3.7.6"
  }
 },
 "nbformat": 4,
 "nbformat_minor": 4
}
