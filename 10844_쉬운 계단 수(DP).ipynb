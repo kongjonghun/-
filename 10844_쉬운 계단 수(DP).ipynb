{
 "cells": [
  {
   "cell_type": "code",
   "execution_count": null,
   "metadata": {},
   "outputs": [],
   "source": [
    "dp[n][i] : n 자리수이고 앞자리수가 i일때 가능 경우의 수\n",
    "if n==0:\n",
    "    dp[n][i]=dp[n-1][i+1]\n",
    "elif n==9:\n",
    "    dp[n][i]=dp[n-1][i-1]\n",
    "else:\n",
    "    dp[n][i]=dp[n-1][i-1] + dp[n-1][i+1]\n",
    "    \n",
    "ex)\n",
    "dp[3][2]: 3 자리수이고 앞자리수가 2일때 가능 경우의 수\n",
    "dp[3][2]=dp[2][1]+dp[2][3]=2+2=4 : 2 자리수이고 앞자리 1인 경우의 수 + 2자리수이고 앞자리 3인 경우의수\n",
    "210  : 2 10\n",
    "212  : 2 12\n",
    "232  : 2 32\n",
    "234  : 2 34\n",
    "\n",
    "길이가 n인 계단 수가 총 몇 개? : sum(dp[n])-dp[n][0]\n",
    "n자리에서 앞자리가 1~9일때 계단 수 합 - n자리에서 앞자리가 0일때 계단 수"
   ]
  },
  {
   "cell_type": "markdown",
   "metadata": {},
   "source": [
    "<img src=\"10844.jpg\" width=\"80%\" height=\"80%\">"
   ]
  },
  {
   "cell_type": "code",
   "execution_count": 33,
   "metadata": {},
   "outputs": [
    {
     "name": "stdout",
     "output_type": "stream",
     "text": [
      "3\n",
      "32\n"
     ]
    }
   ],
   "source": [
    "n=int(input())\n",
    "dp=[[1]*10 for _ in range(n+1)]\n",
    "\n",
    "for i in range(2, n+1):\n",
    "    for j in range(10):\n",
    "        if j==0:\n",
    "            dp[i][j]=dp[i-1][j+1]\n",
    "        elif j==9:\n",
    "            dp[i][j]=dp[i-1][j-1]\n",
    "        else:\n",
    "            dp[i][j]=dp[i-1][j-1]+dp[i-1][j+1]\n",
    "\n",
    "print((sum(dp[n])-dp[n][0])%1000000000)"
   ]
  }
 ],
 "metadata": {
  "kernelspec": {
   "display_name": "Python 3",
   "language": "python",
   "name": "python3"
  },
  "language_info": {
   "codemirror_mode": {
    "name": "ipython",
    "version": 3
   },
   "file_extension": ".py",
   "mimetype": "text/x-python",
   "name": "python",
   "nbconvert_exporter": "python",
   "pygments_lexer": "ipython3",
   "version": "3.7.6"
  }
 },
 "nbformat": 4,
 "nbformat_minor": 4
}
