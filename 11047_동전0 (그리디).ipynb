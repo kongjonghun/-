{
 "cells": [
  {
   "cell_type": "code",
   "execution_count": 2,
   "metadata": {},
   "outputs": [
    {
     "name": "stdout",
     "output_type": "stream",
     "text": [
      "10 4790\n",
      "1\n",
      "5\n",
      "10\n",
      "50\n",
      "100\n",
      "500\n",
      "1000\n",
      "5000\n",
      "10000\n",
      "50000\n",
      "12\n"
     ]
    }
   ],
   "source": [
    "n,k=map(int, input().split())\n",
    "coin=[]\n",
    "for _ in range(n):\n",
    "    coin.append(int(input()))\n",
    "\n",
    "coin.sort(reverse=True)\n",
    "cnt=0\n",
    "for i in coin:\n",
    "    if i>k:\n",
    "        continue\n",
    "    cnt+=k//i\n",
    "    k=k%i\n",
    "print(cnt)\n",
    "    "
   ]
  }
 ],
 "metadata": {
  "kernelspec": {
   "display_name": "Python 3",
   "language": "python",
   "name": "python3"
  },
  "language_info": {
   "codemirror_mode": {
    "name": "ipython",
    "version": 3
   },
   "file_extension": ".py",
   "mimetype": "text/x-python",
   "name": "python",
   "nbconvert_exporter": "python",
   "pygments_lexer": "ipython3",
   "version": "3.7.6"
  }
 },
 "nbformat": 4,
 "nbformat_minor": 4
}
