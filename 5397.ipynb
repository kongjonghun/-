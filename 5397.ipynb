{
 "cells": [
  {
   "cell_type": "markdown",
   "metadata": {},
   "source": [
    "# 5397 : 키로거 (스택)"
   ]
  },
  {
   "cell_type": "markdown",
   "metadata": {},
   "source": [
    "창영이는 강산이의 비밀번호를 훔치기 위해서 강산이가 사용하는 컴퓨터에 키로거를 설치했다. 며칠을 기다린 끝에 창영이는 강산이가 비밀번호 창에 입력하는 글자를 얻어냈다.\n",
    "\n",
    "키로거는 사용자가 키보드를 누른 명령을 모두 기록한다. 따라서, 강산이가 비밀번호를 입력할 때, 화살표나 백스페이스를 입력해도 정확한 비밀번호를 알아낼 수 있다.\n",
    "\n",
    "강산이가 비밀번호 창에서 입력한 키가 주어졌을 때, 강산이의 비밀번호를 알아내는 프로그램을 작성하시오."
   ]
  },
  {
   "cell_type": "code",
   "execution_count": 4,
   "metadata": {},
   "outputs": [
    {
     "name": "stdout",
     "output_type": "stream",
     "text": [
      "2\n",
      "<<BP<A>>Cd-\n",
      "BAPC\n",
      "ThIsIsS3Cr3t\n",
      "ThIsIsS3Cr3t\n"
     ]
    }
   ],
   "source": [
    "n = int(input())\n",
    "\n",
    "for i in range(n):\n",
    "    stack = list()\n",
    "    stack_tmp = list()\n",
    "    str = input()\n",
    "    for i in str:\n",
    "        if i=='<':\n",
    "            if len(stack)!=0:\n",
    "                stack_tmp.append(stack.pop())\n",
    "        elif i=='>':\n",
    "            if len(stack_tmp)!=0:\n",
    "                stack.append(stack_tmp.pop())\n",
    "        elif i=='-':\n",
    "            if len(stack)!=0:\n",
    "                stack.pop()\n",
    "        else:\n",
    "            stack.append(i)\n",
    "    stack.extend(reversed(stack_tmp))\n",
    "    print(''.join(stack))    "
   ]
  },
  {
   "cell_type": "markdown",
   "metadata": {},
   "source": [
    "- list가 빈공간일 경우 False 반환"
   ]
  },
  {
   "cell_type": "code",
   "execution_count": null,
   "metadata": {},
   "outputs": [],
   "source": [
    "n = int(input())\n",
    "\n",
    "for i in range(n):\n",
    "    left_stack = list()\n",
    "    right_stack = list()\n",
    "    str = input()\n",
    "    for i in str:\n",
    "        if i=='<':\n",
    "            if left_stack:\n",
    "                right_stack.append(left_stack.pop())\n",
    "        elif i=='>':\n",
    "            if right_stack:\n",
    "                left_stack.append(right_stack.pop())\n",
    "        elif i=='-':\n",
    "            if len(left_stack)!=0:\n",
    "                left_stack.pop()\n",
    "        else:\n",
    "            left_stack.append(i)\n",
    "    left_stack.extend(reversed(right_stack))\n",
    "    print(''.join(left_stack))    "
   ]
  }
 ],
 "metadata": {
  "kernelspec": {
   "display_name": "Python 3",
   "language": "python",
   "name": "python3"
  },
  "language_info": {
   "codemirror_mode": {
    "name": "ipython",
    "version": 3
   },
   "file_extension": ".py",
   "mimetype": "text/x-python",
   "name": "python",
   "nbconvert_exporter": "python",
   "pygments_lexer": "ipython3",
   "version": "3.7.6"
  }
 },
 "nbformat": 4,
 "nbformat_minor": 4
}
