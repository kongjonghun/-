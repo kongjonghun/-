{
 "cells": [
  {
   "cell_type": "code",
   "execution_count": 1,
   "metadata": {},
   "outputs": [
    {
     "name": "stdout",
     "output_type": "stream",
     "text": [
      "0 3 5 4 6 9 2 7 8\n",
      "7 8 2 1 0 5 6 0 9\n",
      "0 6 0 2 7 8 1 3 5\n",
      "3 2 1 0 4 6 8 9 7\n",
      "8 0 4 9 1 3 5 0 6\n",
      "5 9 6 8 2 0 4 1 3\n",
      "9 1 7 6 5 2 0 8 0\n",
      "6 0 3 7 0 1 9 5 2\n",
      "2 5 8 3 9 4 7 6 0\n",
      "1 3 5 4 6 9 2 7 8\n",
      "7 8 2 1 3 5 6 4 9\n",
      "4 6 9 2 7 8 1 3 5\n",
      "3 2 1 5 4 6 8 9 7\n",
      "8 7 4 9 1 3 5 2 6\n",
      "5 9 6 8 2 7 4 1 3\n",
      "9 1 7 6 5 2 3 8 4\n",
      "6 4 3 7 8 1 9 5 2\n",
      "2 5 8 3 9 4 7 6 1\n"
     ]
    },
    {
     "ename": "SystemExit",
     "evalue": "",
     "output_type": "error",
     "traceback": [
      "An exception has occurred, use %tb to see the full traceback.\n",
      "\u001b[1;31mSystemExit\u001b[0m\n"
     ]
    },
    {
     "name": "stderr",
     "output_type": "stream",
     "text": [
      "C:\\Users\\rhd05\\anaconda3\\lib\\site-packages\\IPython\\core\\interactiveshell.py:3339: UserWarning: To exit: use 'exit', 'quit', or Ctrl-D.\n",
      "  warn(\"To exit: use 'exit', 'quit', or Ctrl-D.\", stacklevel=1)\n"
     ]
    }
   ],
   "source": [
    "import sys\n",
    "\n",
    "board=[list(map(int, input().split())) for _ in range(9)]\n",
    "zeros=[(i,j) for i in range(9) for j in range(9) if board[i][j]==0]\n",
    "\n",
    "def possible(r,c):\n",
    "    check=[1,2,3,4,5,6,7,8,9]\n",
    "    # 행열 체크\n",
    "    for i in range(9):\n",
    "        if board[r][i] in check:\n",
    "            check.remove(board[r][i])\n",
    "        if board[i][c] in check:\n",
    "            check.remove(board[i][c])\n",
    "    # 3x3 체크\n",
    "    for i in range((r//3)*3, (r//3)*3+3):       \n",
    "        for j in range((c//3)*3, (c//3)*3+3):\n",
    "            if board[i][j] in check:\n",
    "                check.remove(board[i][j])\n",
    "    return check\n",
    "\n",
    "\n",
    "def DFS(depth):\n",
    "    if depth==len(zeros):\n",
    "        for row in board:\n",
    "            print(*row)\n",
    "        sys.exit()\n",
    "    r,c=zeros[depth]\n",
    "    poss=possible(r,c)\n",
    "    for num in poss:\n",
    "        board[r][c]=num\n",
    "        DFS(depth+1)\n",
    "        board[r][c]=0\n",
    "        \n",
    "DFS(0)"
   ]
  }
 ],
 "metadata": {
  "kernelspec": {
   "display_name": "Python 3",
   "language": "python",
   "name": "python3"
  },
  "language_info": {
   "codemirror_mode": {
    "name": "ipython",
    "version": 3
   },
   "file_extension": ".py",
   "mimetype": "text/x-python",
   "name": "python",
   "nbconvert_exporter": "python",
   "pygments_lexer": "ipython3",
   "version": "3.7.6"
  }
 },
 "nbformat": 4,
 "nbformat_minor": 4
}
