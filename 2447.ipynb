{
 "cells": [
  {
   "cell_type": "markdown",
   "metadata": {},
   "source": [
    "# 2447 : 별찍기 - 10"
   ]
  },
  {
   "cell_type": "markdown",
   "metadata": {},
   "source": [
    "해설 블로그\n",
    "https://blog.naver.com/PostView.nhn?blogId=repeater1384&logNo=222090302711"
   ]
  },
  {
   "cell_type": "code",
   "execution_count": 27,
   "metadata": {
    "scrolled": true
   },
   "outputs": [
    {
     "name": "stdout",
     "output_type": "stream",
     "text": [
      "9\n",
      "*********\n",
      "* ** ** *\n",
      "*********\n",
      "***   ***\n",
      "* *   * *\n",
      "***   ***\n",
      "*********\n",
      "* ** ** *\n",
      "*********\n"
     ]
    }
   ],
   "source": [
    "n = int(input())\n",
    "\n",
    "stars=[[' ' for _ in range(n)] for _ in range(n)]\n",
    "\n",
    "def fill_star(size, x, y):\n",
    "    if size==1:          # 사이즈 1일때 탈출\n",
    "        stars[x][y]='*'\n",
    "    else:\n",
    "        new_size = size//3\n",
    "        for dx in range(3):\n",
    "            for dy in range(3):\n",
    "                if dx!=1 or dy!=1:\n",
    "                    fill_star(new_size, x + dx*new_size, y + dy*new_size)\n",
    "                    \n",
    "fill_star(n, 0, 0)                \n",
    "\n",
    "for i in stars:\n",
    "    print(''.join(i))    "
   ]
  },
  {
   "cell_type": "code",
   "execution_count": null,
   "metadata": {},
   "outputs": [],
   "source": []
  }
 ],
 "metadata": {
  "kernelspec": {
   "display_name": "Python 3",
   "language": "python",
   "name": "python3"
  },
  "language_info": {
   "codemirror_mode": {
    "name": "ipython",
    "version": 3
   },
   "file_extension": ".py",
   "mimetype": "text/x-python",
   "name": "python",
   "nbconvert_exporter": "python",
   "pygments_lexer": "ipython3",
   "version": "3.7.6"
  }
 },
 "nbformat": 4,
 "nbformat_minor": 4
}
