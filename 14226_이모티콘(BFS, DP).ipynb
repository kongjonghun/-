{
 "cells": [
  {
   "cell_type": "code",
   "execution_count": null,
   "metadata": {},
   "outputs": [],
   "source": [
    "time[s][c] : s,c일때 최소 시간\n",
    "s : 화면에 출력된 이모티콘 개수\n",
    "c : 클립보드에 있는 이모티콘 개수\n",
    "\n",
    "BFS queue를 계속 돌면서 \n",
    "1. 화면에 있는 이모티콘을 모두 복사해서 클립보드에 저장한다.\n",
    "2. 클립보드에 있는 모든 이모티콘을 화면에 붙여넣기 한다.\n",
    "3. 화면에 있는 이모티콘 중 하나를 삭제한다.\n",
    "\n",
    "1번 : 모두 복사하는 것이므로 (S,C) -> (S,S) 로 바꿔주면 되었고,\n",
    "2번 : 클립보드 이모티콘을 화면에 붙이는 것으므로, (S,C) -> (S+C, C)로 \n",
    "3번 : 화면 이모티콘 중 하나를 삭제하는 것이므로 (S,C) -> (S-1,C)로 변환해주면 되었다. "
   ]
  },
  {
   "cell_type": "code",
   "execution_count": 19,
   "metadata": {},
   "outputs": [
    {
     "name": "stdout",
     "output_type": "stream",
     "text": [
      "6\n",
      "5\n"
     ]
    }
   ],
   "source": [
    "from collections import deque\n",
    "import sys\n",
    "n=int(input())\n",
    "time=[[-1]*(n+1) for _ in range(n+1)]\n",
    "time[1][0]=0\n",
    "\n",
    "def BFS():\n",
    "    q=deque([(1,0)])  # (화면 이모티콘 개수, 클립보드 이모티콘 개수)\n",
    "    while q:\n",
    "        s,c=q.popleft()\n",
    "        if time[s][s]==-1:         \n",
    "            time[s][s]=time[s][c]+1        # 1. 화면에 있는 이모티콘을 모두 복사해서 클립보드에 저장한다. \n",
    "            q.append((s,s))\n",
    "        if s+c<=n and time[s+c][c]==-1:\n",
    "            time[s+c][c]=time[s][c]+1       # 2. 클립보드에 있는 모든 이모티콘을 화면에 붙여넣기 한다.\n",
    "            q.append((s+c,c))\n",
    "        if s-1>=0 and time[s-1][c]==-1:\n",
    "            time[s-1][c]=time[s][c]+1     # 3. 화면에 있는 이모티콘 중 하나를 삭제한다.\n",
    "            q.append((s-1,c))\n",
    "\n",
    "BFS()\n",
    "short=sys.maxsize\n",
    "for i in range(n+1):\n",
    "    if time[n][i]!=-1:\n",
    "        short=min(short, time[n][i])                    \n",
    "print(short)          "
   ]
  },
  {
   "cell_type": "code",
   "execution_count": null,
   "metadata": {},
   "outputs": [],
   "source": [
    "from collections import deque\n",
    "import sys\n",
    "n=int(input())\n",
    "time=[[-1]*(n+1) for _ in range(n+1)]\n",
    "time[1][0]=0\n",
    "\n",
    "def BFS():\n",
    "    q=deque([(1,0)])  # (화면 이모티콘 개수, 클립보드 이모티콘 개수)\n",
    "    while q:\n",
    "        s,c=q.popleft()\n",
    "        \n",
    "        if c==n:\n",
    "            return\n",
    "        \n",
    "        if time[s][s]==-1:         \n",
    "            time[s][s]=time[s][c]+1        # 1. 화면에 있는 이모티콘을 모두 복사해서 클립보드에 저장한다. \n",
    "            q.append((s,s))\n",
    "        if s+c<=n and time[s+c][c]==-1:\n",
    "            time[s+c][c]=time[s][c]+1       # 2. 클립보드에 있는 모든 이모티콘을 화면에 붙여넣기 한다.\n",
    "            q.append((s+c,c))\n",
    "        if s-1>=0 and time[s-1][c]==-1:\n",
    "            time[s-1][c]=time[s][c]+1     # 3. 화면에 있는 이모티콘 중 하나를 삭제한다.\n",
    "            q.append((s-1,c))\n",
    "\n",
    "BFS()\n",
    "short=sys.maxsize\n",
    "for i in range(n+1):\n",
    "    if time[n][i]!=-1:\n",
    "        short=min(short, time[n][i])                    \n",
    "print(short)          "
   ]
  },
  {
   "cell_type": "code",
   "execution_count": 16,
   "metadata": {},
   "outputs": [
    {
     "name": "stdout",
     "output_type": "stream",
     "text": [
      "2\n",
      "[1, 2, 5]\n",
      "[0, 1, 4]\n",
      "[-1, 2, 3]\n"
     ]
    }
   ],
   "source": [
    "from collections import deque\n",
    "import sys\n",
    "n=int(input())\n",
    "time=[[-1]*(n+1) for _ in range(n+1)]\n",
    "time[1][0]=0\n",
    "\n",
    "def BFS():\n",
    "    q=deque([(1,0)])  # (화면 이모티콘 개수, 클립보드 이모티콘 개수)\n",
    "    while q:\n",
    "        s,c=q.popleft()\n",
    "        if time[s][s]==-1:         \n",
    "            time[s][s]=time[s][c]+1        # 1. 화면에 있는 이모티콘을 모두 복사해서 클립보드에 저장한다. \n",
    "            q.append((s,s))\n",
    "        if s+c<=n and time[s+c][c]==-1:\n",
    "            time[s+c][c]=time[s][c]+1       # 2. 클립보드에 있는 모든 이모티콘을 화면에 붙여넣기 한다.\n",
    "            q.append((s+c,c))\n",
    "        if s-1>=0 and time[s-1][c]==-1:\n",
    "            time[s-1][c]=time[s][c]+1     # 3. 화면에 있는 이모티콘 중 하나를 삭제한다.\n",
    "            q.append((s-1,c))\n",
    "\n",
    "BFS()\n",
    "for i in time:\n",
    "    print(i)"
   ]
  }
 ],
 "metadata": {
  "kernelspec": {
   "display_name": "Python 3",
   "language": "python",
   "name": "python3"
  },
  "language_info": {
   "codemirror_mode": {
    "name": "ipython",
    "version": 3
   },
   "file_extension": ".py",
   "mimetype": "text/x-python",
   "name": "python",
   "nbconvert_exporter": "python",
   "pygments_lexer": "ipython3",
   "version": "3.7.6"
  }
 },
 "nbformat": 4,
 "nbformat_minor": 4
}
