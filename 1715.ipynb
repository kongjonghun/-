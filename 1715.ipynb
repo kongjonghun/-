{
 "cells": [
  {
   "cell_type": "markdown",
   "metadata": {},
   "source": [
    "# 1715 : 카드 정렬하기"
   ]
  },
  {
   "cell_type": "markdown",
   "metadata": {},
   "source": [
    "https://www.acmicpc.net/problem/1715"
   ]
  },
  {
   "cell_type": "markdown",
   "metadata": {},
   "source": [
    "잘못된 풀이 : 반례 존재"
   ]
  },
  {
   "cell_type": "code",
   "execution_count": 22,
   "metadata": {},
   "outputs": [
    {
     "name": "stdout",
     "output_type": "stream",
     "text": [
      "4\n",
      "10\n",
      "20\n",
      "21\n",
      "22\n",
      "154\n"
     ]
    }
   ],
   "source": [
    "import heapq\n",
    "n = int(input())\n",
    "heap=[]\n",
    "for _ in range(n):\n",
    "    heapq.heappush(heap, int(input()))\n",
    "\n",
    "result=[heapq.heappop(heap)]\n",
    "for _ in range(n-1):\n",
    "    result.append(heapq.heappop(heap)+result[-1]) # 계단식으로 더하기 -> 아래 사진의 왼쪽 사례\n",
    "\n",
    "sum=0    \n",
    "for i in range(1,n):\n",
    "    sum+=result[i]\n",
    "print(sum)"
   ]
  },
  {
   "cell_type": "markdown",
   "metadata": {},
   "source": [
    "반례   \n",
    "4  \n",
    "10  \n",
    "20  \n",
    "21  \n",
    "22"
   ]
  },
  {
   "cell_type": "markdown",
   "metadata": {},
   "source": [
    "<img src=\"1715.jpg\" width=\"70%\" height=\"70%\">"
   ]
  },
  {
   "cell_type": "markdown",
   "metadata": {},
   "source": [
    "1. heapq에서 가장 작은 2개 추출 \n",
    "2. 가장 작은 2개 더하기 -> data\n",
    "3. sum에 data 추가\n",
    "2. heapq에 data 삽입\n",
    "3. 1~4 반복"
   ]
  },
  {
   "cell_type": "markdown",
   "metadata": {},
   "source": [
    "풀이"
   ]
  },
  {
   "cell_type": "code",
   "execution_count": 2,
   "metadata": {},
   "outputs": [
    {
     "name": "stdout",
     "output_type": "stream",
     "text": [
      "4\n",
      "10\n",
      "20\n",
      "21\n",
      "22\n",
      "146\n"
     ]
    }
   ],
   "source": [
    "import heapq\n",
    "n = int(input())\n",
    "heap=[]\n",
    "for _ in range(n):\n",
    "    heapq.heappush(heap, int(input()))\n",
    "    \n",
    "sum=0\n",
    "while len(heap)>1:\n",
    "    data = heapq.heappop(heap) + heapq.heappop(heap)\n",
    "    sum+=data\n",
    "    heapq.heappush(heap, data)\n",
    "print(sum)"
   ]
  }
 ],
 "metadata": {
  "kernelspec": {
   "display_name": "Python 3",
   "language": "python",
   "name": "python3"
  },
  "language_info": {
   "codemirror_mode": {
    "name": "ipython",
    "version": 3
   },
   "file_extension": ".py",
   "mimetype": "text/x-python",
   "name": "python",
   "nbconvert_exporter": "python",
   "pygments_lexer": "ipython3",
   "version": "3.7.6"
  }
 },
 "nbformat": 4,
 "nbformat_minor": 4
}
