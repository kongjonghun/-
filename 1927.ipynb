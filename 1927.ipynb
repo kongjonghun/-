{
 "cells": [
  {
   "cell_type": "markdown",
   "metadata": {},
   "source": [
    "# 1927 : 최소 힙"
   ]
  },
  {
   "cell_type": "markdown",
   "metadata": {},
   "source": [
    "https://www.acmicpc.net/problem/1927"
   ]
  },
  {
   "cell_type": "markdown",
   "metadata": {},
   "source": [
    "heapq 모듈(Priority queue : 우선 순위 큐)은 <u>이진 트리(binary tree) 기반의 최소 힙(min heap)</u> 자료구조를 제공한다.  \n",
    "<br>힙은 특정한 규칙을 가지는 트리로, <u><b>최댓값</b>과 <b>최솟값</b>을 찾는 연산</u>을 빠르게 하기 위해 고안된 <b>완전이진트리</b>를 기본으로 한다.  \n",
    "* <b>최소 힙(Min heap)</b> : 부모 노드의 키값이 자식 노드의 키값보다 항상 작은 힙  \n",
    "* <b>최대 힙(Max heap)</b> : 부모 노드의 키값이 자식 노드의 키값보다 항상 큰 힙"
   ]
  },
  {
   "cell_type": "markdown",
   "metadata": {},
   "source": [
    "![title](1927.png)"
   ]
  },
  {
   "cell_type": "markdown",
   "metadata": {},
   "source": [
    "+ 이러한 속성으로 인해 힙에서는 가장 낮은(혹은 높은) 우선순위를 가지는 노드가 항상 루트에 오게 되고 이를 이용해 <b>우선순위 큐</b>와 같은 추상적 자료형을 구현할 수 있다.   \n",
    "+ 이때 키값의 <u>대소 관계는 부모/자식 간에만 성립하고, 형제노드 사이에는 대소 관계가 정해지지 않는다.</u>"
   ]
  },
  {
   "cell_type": "markdown",
   "metadata": {},
   "source": [
    "import heapq\n",
    "\n",
    "\n",
    "> <b>heapq.heappush(리스트, 원소)</b>  :  힙에서 원소 삽입할 때  \n",
    "> <b><br>heapq.heappop(리스트)</b>  :  힙에서 원소 꺼낼 때 (<b>최소 힙</b>이므로 가장 작은 원소부터)  \n",
    "> <b><br>heapq.heapify(리스트)</b>  :  리스트를 즉각적으로 heap으로 변환함"
   ]
  },
  {
   "cell_type": "markdown",
   "metadata": {},
   "source": [
    "### 최소 힙"
   ]
  },
  {
   "cell_type": "code",
   "execution_count": 15,
   "metadata": {},
   "outputs": [
    {
     "name": "stdout",
     "output_type": "stream",
     "text": [
      "[10, 50, 20]\n",
      "[10, 50, 20]\n",
      "10 → [20, 50]\n",
      "20 → [50]\n"
     ]
    }
   ],
   "source": [
    "import heapq\n",
    "\n",
    "# heapq.heappush(리스트, 원소)\n",
    "heap = []\n",
    "heapq.heappush(heap, 50)\n",
    "heapq.heappush(heap, 10)\n",
    "heapq.heappush(heap, 20)\n",
    "\n",
    "print(heap)\n",
    "\n",
    "# heapq.heapify(리스트)\n",
    "heap2 = [50 ,10, 20]\n",
    "heapq.heapify(heap2)\n",
    "\n",
    "print(heap2)\n",
    "\n",
    "print(heapq.heappop(heap), heap, sep=' → ')\n",
    "print(heapq.heappop(heap), heap, sep=' → ')"
   ]
  },
  {
   "cell_type": "markdown",
   "metadata": {},
   "source": [
    "### 최대 힙 : (-원소,원소) 튜플 형태로 입력"
   ]
  },
  {
   "cell_type": "code",
   "execution_count": 18,
   "metadata": {},
   "outputs": [
    {
     "name": "stdout",
     "output_type": "stream",
     "text": [
      "[(-9, 9), (-7, 7), (-3, 3), (-1, 1), (-5, 5)]\n",
      "9\n"
     ]
    }
   ],
   "source": [
    "import heapq\n",
    "\n",
    "heap_items = [1,3,5,7,9]\n",
    "\n",
    "max_heap = []\n",
    "for item in heap_items:\n",
    "    heapq.heappush(max_heap, (-item, item))\n",
    "\n",
    "print(max_heap)\n",
    "\n",
    "max_item = heapq.heappop(max_heap)[1]\n",
    "print(max_item)"
   ]
  },
  {
   "cell_type": "code",
   "execution_count": 4,
   "metadata": {},
   "outputs": [
    {
     "name": "stdout",
     "output_type": "stream",
     "text": [
      "[-9, -7, -3, -1, -5]\n",
      "9\n"
     ]
    }
   ],
   "source": [
    "import heapq\n",
    "\n",
    "heap_items = [1,3,5,7,9]\n",
    "\n",
    "max_heap = []\n",
    "for item in heap_items:\n",
    "    heapq.heappush(max_heap, -item)\n",
    "\n",
    "print(max_heap)\n",
    "\n",
    "max_item = heapq.heappop(max_heap)\n",
    "print(-max_item)"
   ]
  },
  {
   "cell_type": "markdown",
   "metadata": {},
   "source": [
    "### 문풀"
   ]
  },
  {
   "cell_type": "code",
   "execution_count": 1,
   "metadata": {},
   "outputs": [
    {
     "name": "stdout",
     "output_type": "stream",
     "text": [
      "9\n",
      "0\n",
      "12345678\n",
      "1\n",
      "2\n",
      "0\n",
      "0\n",
      "0\n",
      "0\n",
      "32\n",
      "0\n",
      "1\n",
      "2\n",
      "12345678\n",
      "0\n"
     ]
    }
   ],
   "source": [
    "import heapq\n",
    "\n",
    "n= int(input())\n",
    "heap=[]\n",
    "result=[]\n",
    "for _ in range(n):\n",
    "    data=int(input())\n",
    "    if data!=0:\n",
    "        heapq.heappush(heap, data)\n",
    "    else:\n",
    "        if not len(heap):\n",
    "            result.append(0)\n",
    "        else:\n",
    "            result.append(heapq.heappop(heap))\n",
    "for i in result:\n",
    "    print(i)"
   ]
  }
 ],
 "metadata": {
  "kernelspec": {
   "display_name": "Python 3",
   "language": "python",
   "name": "python3"
  },
  "language_info": {
   "codemirror_mode": {
    "name": "ipython",
    "version": 3
   },
   "file_extension": ".py",
   "mimetype": "text/x-python",
   "name": "python",
   "nbconvert_exporter": "python",
   "pygments_lexer": "ipython3",
   "version": "3.7.6"
  }
 },
 "nbformat": 4,
 "nbformat_minor": 4
}
