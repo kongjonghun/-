{
 "cells": [
  {
   "cell_type": "markdown",
   "metadata": {},
   "source": [
    "## 풀이1"
   ]
  },
  {
   "cell_type": "code",
   "execution_count": 15,
   "metadata": {},
   "outputs": [
    {
     "name": "stdout",
     "output_type": "stream",
     "text": [
      "[1, 1, 2, 6, 24, 120, 720, 5040, 40320]\n"
     ]
    }
   ],
   "source": [
    "# dp[i] : i까지의 factorial\n",
    "\n",
    "dp=[1]*(n+1)\n",
    "for i in range(2,n+1):\n",
    "    dp[i]=dp[i-1]*i\n",
    "\n",
    "print(dp)"
   ]
  },
  {
   "cell_type": "markdown",
   "metadata": {},
   "source": [
    "<img src=\"11726.jpg\" width=\"100%\" height=\"100%\">"
   ]
  },
  {
   "cell_type": "code",
   "execution_count": 11,
   "metadata": {},
   "outputs": [
    {
     "name": "stdout",
     "output_type": "stream",
     "text": [
      "8\n",
      "34\n"
     ]
    }
   ],
   "source": [
    "n=int(input())\n",
    "\n",
    "dp=[1]*(n+1)\n",
    "for i in range(2,n+1):\n",
    "    dp[i]=dp[i-1]*i\n",
    "\n",
    "sum=0    \n",
    "j=n//2\n",
    "if n%2==1:                            # n이 홀수일때    \n",
    "    for i in range(n//2+1, n+1):\n",
    "        sum+=dp[i]//(dp[j]*dp[i-j])\n",
    "        j-=1\n",
    "else:                                 # n이 짝수일때    \n",
    "    for i in range(n//2, n+1):\n",
    "        sum+=dp[i]//(dp[j]*dp[i-j])\n",
    "        j-=1\n",
    "    \n",
    "print(sum%10007)"
   ]
  },
  {
   "cell_type": "markdown",
   "metadata": {},
   "source": [
    "- math.factorial 이용"
   ]
  },
  {
   "cell_type": "code",
   "execution_count": 19,
   "metadata": {},
   "outputs": [
    {
     "name": "stdout",
     "output_type": "stream",
     "text": [
      "8\n",
      "34\n"
     ]
    }
   ],
   "source": [
    "import math\n",
    "\n",
    "n=int(input())\n",
    "\n",
    "def fac(i):\n",
    "    return math.factorial(i)\n",
    "\n",
    "sum=0    \n",
    "j=n//2\n",
    "if n%2==1:                            # n이 홀수일때    \n",
    "    for i in range(n//2+1, n+1):\n",
    "        sum+=fac(i)//(fac(j)*fac(i-j))\n",
    "        j-=1\n",
    "else:                                 # n이 짝수일때    \n",
    "    for i in range(n//2, n+1):\n",
    "        sum+=fac(i)//(fac(j)*fac(i-j))\n",
    "        j-=1\n",
    "    \n",
    "print(sum%10007)"
   ]
  },
  {
   "cell_type": "markdown",
   "metadata": {},
   "source": [
    "## 풀이2"
   ]
  },
  {
   "cell_type": "code",
   "execution_count": null,
   "metadata": {},
   "outputs": [],
   "source": [
    "dp[i]=dp[i-1]+dp[i-2]"
   ]
  },
  {
   "cell_type": "markdown",
   "metadata": {},
   "source": [
    "<img src=\"11726_2.jpg\" width=\"80%\" height=\"80%\">"
   ]
  },
  {
   "cell_type": "code",
   "execution_count": 25,
   "metadata": {},
   "outputs": [
    {
     "name": "stdout",
     "output_type": "stream",
     "text": [
      "9\n",
      "55\n"
     ]
    }
   ],
   "source": [
    "n=int(input())\n",
    "dp=[1]*(n+1)\n",
    "for i in range(2, n+1):\n",
    "    dp[i]=dp[i-1]+dp[i-2]\n",
    "print(dp[n]%10007)"
   ]
  }
 ],
 "metadata": {
  "kernelspec": {
   "display_name": "Python 3",
   "language": "python",
   "name": "python3"
  },
  "language_info": {
   "codemirror_mode": {
    "name": "ipython",
    "version": 3
   },
   "file_extension": ".py",
   "mimetype": "text/x-python",
   "name": "python",
   "nbconvert_exporter": "python",
   "pygments_lexer": "ipython3",
   "version": "3.7.6"
  }
 },
 "nbformat": 4,
 "nbformat_minor": 4
}
