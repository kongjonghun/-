{
 "cells": [
  {
   "cell_type": "markdown",
   "metadata": {},
   "source": [
    "# 10974 : 모든 순열"
   ]
  },
  {
   "cell_type": "markdown",
   "metadata": {},
   "source": [
    "### 문풀 1"
   ]
  },
  {
   "cell_type": "code",
   "execution_count": 3,
   "metadata": {
    "scrolled": true
   },
   "outputs": [
    {
     "name": "stdout",
     "output_type": "stream",
     "text": [
      "3\n",
      "1 2 3\n",
      "1 3 2\n",
      "2 1 3\n",
      "2 3 1\n",
      "3 1 2\n",
      "3 2 1\n"
     ]
    }
   ],
   "source": [
    "from itertools import permutations\n",
    "n=int(input())\n",
    "data=[i for i in range(1, n+1)]\n",
    "\n",
    "for i in permutations(data):\n",
    "    print(' '.join(map(str, i)))"
   ]
  },
  {
   "cell_type": "markdown",
   "metadata": {},
   "source": [
    "### 문풀 2(DFS) : 재귀 돌때마다 출력"
   ]
  },
  {
   "cell_type": "code",
   "execution_count": 5,
   "metadata": {},
   "outputs": [
    {
     "name": "stdout",
     "output_type": "stream",
     "text": [
      "3\n",
      "1 2 3\n",
      "1 3 2\n",
      "2 1 3\n",
      "2 3 1\n",
      "3 1 2\n",
      "3 2 1\n"
     ]
    }
   ],
   "source": [
    "n = int(input())\n",
    "data = [i for i in range(1, n+1)]\n",
    "used=[0]*len(data)\n",
    "\n",
    "def permutations(arr):\n",
    "    if len(arr)==len(data):\n",
    "        print(' '.join(map(str, arr)))\n",
    "        return\n",
    "    for i in range(len(data)):\n",
    "        if not used[i]:\n",
    "            used[i]=1\n",
    "            arr.append(data[i])\n",
    "            permutations(arr)            \n",
    "            arr.pop()\n",
    "            used[i]=0\n",
    "            \n",
    "permutations([])"
   ]
  },
  {
   "cell_type": "markdown",
   "metadata": {},
   "source": [
    "### 문풀 3 : 배열 저장 후 배열 return"
   ]
  },
  {
   "cell_type": "code",
   "execution_count": 3,
   "metadata": {},
   "outputs": [
    {
     "name": "stdout",
     "output_type": "stream",
     "text": [
      "1 2 3\n",
      "1 3 2\n",
      "2 1 3\n",
      "2 3 1\n",
      "3 1 2\n",
      "3 2 1\n"
     ]
    }
   ],
   "source": [
    "def permutation(arr, r): # r: 개수\n",
    "    arr=sorted(arr)\n",
    "    used=[0 for i in range(len(arr))]\n",
    "    return_arr=[]\n",
    "    def generate(chosen, used):\n",
    "        if len(chosen) == r:\n",
    "            return_arr.append([i for i in chosen])\n",
    "            return\n",
    "        for i in range(len(arr)):\n",
    "            if not used[i]:\n",
    "                chosen.append(arr[i])\n",
    "                used[i]=1\n",
    "                generate(chosen, used)\n",
    "                used[i]=0\n",
    "                chosen.pop()\n",
    "    generate([], used)\n",
    "    return return_arr\n",
    "\n",
    "arr=[1,2,3]\n",
    "for i in permutation(arr, 3):\n",
    "    print(' '.join(map(str, i)))"
   ]
  }
 ],
 "metadata": {
  "kernelspec": {
   "display_name": "Python 3",
   "language": "python",
   "name": "python3"
  },
  "language_info": {
   "codemirror_mode": {
    "name": "ipython",
    "version": 3
   },
   "file_extension": ".py",
   "mimetype": "text/x-python",
   "name": "python",
   "nbconvert_exporter": "python",
   "pygments_lexer": "ipython3",
   "version": "3.7.6"
  }
 },
 "nbformat": 4,
 "nbformat_minor": 4
}
