{
 "cells": [
  {
   "cell_type": "markdown",
   "metadata": {},
   "source": [
    "# 2750 : 수 정렬하기"
   ]
  },
  {
   "cell_type": "markdown",
   "metadata": {},
   "source": [
    "N개의 수가 주어졌을 때, 이를 오름차순으로 정렬하는 프로그램을 작성하시오."
   ]
  },
  {
   "cell_type": "markdown",
   "metadata": {},
   "source": [
    "### 정렬 라이브러리 이용 : 148ms"
   ]
  },
  {
   "cell_type": "code",
   "execution_count": 5,
   "metadata": {},
   "outputs": [
    {
     "name": "stdout",
     "output_type": "stream",
     "text": [
      "5\n",
      "5\n",
      "2\n",
      "3\n",
      "4\n",
      "1\n",
      "1\n",
      "2\n",
      "3\n",
      "4\n",
      "5\n"
     ]
    }
   ],
   "source": [
    "length = int(input())\n",
    "sort=[]\n",
    "\n",
    "for i in range(length):\n",
    "    data = int(input())\n",
    "    sort.append(data)\n",
    "sort.sort()\n",
    "for i in sort:\n",
    "    print(i)"
   ]
  },
  {
   "cell_type": "markdown",
   "metadata": {},
   "source": [
    "### 선택정렬 : 144ms"
   ]
  },
  {
   "cell_type": "code",
   "execution_count": 7,
   "metadata": {},
   "outputs": [
    {
     "name": "stdout",
     "output_type": "stream",
     "text": [
      "5\n",
      "5\n",
      "2\n",
      "3\n",
      "4\n",
      "1\n",
      "1\n",
      "2\n",
      "3\n",
      "4\n",
      "5\n"
     ]
    }
   ],
   "source": [
    "count=int(input())\n",
    "data=[]\n",
    "\n",
    "for i in range(count):\n",
    "    data.append(int(input()))\n",
    "\n",
    "for i in range(len(data)-1):\n",
    "    lowest = i\n",
    "    for j in range(i+1, len(data)):\n",
    "        if data[lowest] > data[j]:\n",
    "            lowest = j\n",
    "    data[lowest], data[i] = data[i], data[lowest]\n",
    "\n",
    "for i in data:\n",
    "    print(i)        "
   ]
  },
  {
   "cell_type": "markdown",
   "metadata": {},
   "source": [
    "### 버블정렬 : 156ms"
   ]
  },
  {
   "cell_type": "code",
   "execution_count": 8,
   "metadata": {},
   "outputs": [
    {
     "name": "stdout",
     "output_type": "stream",
     "text": [
      "5\n",
      "5\n",
      "2\n",
      "3\n",
      "4\n",
      "1\n",
      "1\n",
      "2\n",
      "3\n",
      "4\n",
      "5\n"
     ]
    }
   ],
   "source": [
    "count = int(input())\n",
    "data=[]\n",
    "\n",
    "for _ in range(count):\n",
    "    data.append(int(input()))\n",
    "    \n",
    "for i in range(len(data)-1):\n",
    "    swap=False\n",
    "    for j in range(len(data)-1-i):\n",
    "        if data[j] > data[j+1]:\n",
    "            data[j], data[j+1] = data[j+1], data[j]\n",
    "            swap = True\n",
    "    if swap==False:\n",
    "        break\n",
    "for i in data:\n",
    "    print(i)"
   ]
  },
  {
   "cell_type": "markdown",
   "metadata": {},
   "source": [
    "### 퀵 정렬 : 176ms"
   ]
  },
  {
   "cell_type": "code",
   "execution_count": 17,
   "metadata": {
    "scrolled": false
   },
   "outputs": [
    {
     "name": "stdout",
     "output_type": "stream",
     "text": [
      "5\n",
      "5\n",
      "2\n",
      "3\n",
      "4\n",
      "1\n",
      "1\n",
      "2\n",
      "3\n",
      "4\n",
      "5\n"
     ]
    }
   ],
   "source": [
    "count = int(input())\n",
    "data=[]\n",
    "\n",
    "for _ in range(count):\n",
    "    data.append(int(input()))\n",
    "\n",
    "def qsort(data):\n",
    "    if len(data)<=1:\n",
    "        return data    \n",
    "    pivot=data[0]\n",
    "    left=[i for i in data[1:] if i<pivot]\n",
    "    right=[i for i in data[1:] if i>pivot]    \n",
    "    \n",
    "    return qsort(left) + [pivot] + qsort(right)\n",
    "\n",
    "data = qsort(data)\n",
    "for i in data:\n",
    "    print(i)"
   ]
  },
  {
   "cell_type": "markdown",
   "metadata": {},
   "source": [
    "### 삽입정렬 :  156ms"
   ]
  },
  {
   "cell_type": "code",
   "execution_count": 19,
   "metadata": {},
   "outputs": [
    {
     "name": "stdout",
     "output_type": "stream",
     "text": [
      "5\n",
      "5\n",
      "2\n",
      "3\n",
      "4\n",
      "1\n",
      "1\n",
      "2\n",
      "3\n",
      "4\n",
      "5\n"
     ]
    }
   ],
   "source": [
    "count=int(input())\n",
    "data=[]\n",
    "\n",
    "for _ in range(count):\n",
    "    data.append(int(input()))\n",
    "\n",
    "for i in range(len(data)-1):\n",
    "    for j in range(i+1,0,-1):\n",
    "        if data[j] < data[j-1]:\n",
    "            data[j-1], data[j] = data[j], data[j-1]\n",
    "        else:\n",
    "            break                        \n",
    "\n",
    "for i in data:\n",
    "    print(i)"
   ]
  },
  {
   "cell_type": "markdown",
   "metadata": {},
   "source": [
    "### 병합정렬 : 160ms"
   ]
  },
  {
   "cell_type": "code",
   "execution_count": 23,
   "metadata": {},
   "outputs": [
    {
     "name": "stdout",
     "output_type": "stream",
     "text": [
      "5\n",
      "5\n",
      "2\n",
      "4\n",
      "3\n",
      "1\n",
      "1\n",
      "2\n",
      "3\n",
      "4\n",
      "5\n"
     ]
    }
   ],
   "source": [
    "count=int(input())\n",
    "data=[]\n",
    "\n",
    "for _ in range(count):\n",
    "    data.append(int(input()))\n",
    "\n",
    "def merge_split(data):\n",
    "    if len(data)<=1:\n",
    "        return data\n",
    "    med=int(len(data)/2)\n",
    "    left=merge_split(data[:med])\n",
    "    right=merge_split(data[med:])\n",
    "    return merge(left, right)\n",
    "    \n",
    "def merge(left, right):\n",
    "    merged=[]\n",
    "    left_pt,right_pt = 0,0\n",
    "    \n",
    "    while len(left)>left_pt and len(right)>right_pt:\n",
    "        if left[left_pt] > right[right_pt]:\n",
    "            merged.append(right[right_pt])\n",
    "            right_pt+=1\n",
    "        else:\n",
    "            merged.append(left[left_pt])\n",
    "            left_pt+=1\n",
    "    \n",
    "    while len(left) > left_pt:\n",
    "        merged.append(left[left_pt])\n",
    "        left_pt+=1\n",
    "    \n",
    "    while len(right) >right_pt:\n",
    "        merged.append(right[right_pt])\n",
    "        right_pt+=1\n",
    "    \n",
    "    return merged\n",
    "\n",
    "for i in merge_split(data):\n",
    "    print(i)"
   ]
  }
 ],
 "metadata": {
  "kernelspec": {
   "display_name": "Python 3",
   "language": "python",
   "name": "python3"
  },
  "language_info": {
   "codemirror_mode": {
    "name": "ipython",
    "version": 3
   },
   "file_extension": ".py",
   "mimetype": "text/x-python",
   "name": "python",
   "nbconvert_exporter": "python",
   "pygments_lexer": "ipython3",
   "version": "3.7.6"
  }
 },
 "nbformat": 4,
 "nbformat_minor": 4
}
