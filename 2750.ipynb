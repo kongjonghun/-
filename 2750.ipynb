{
 "cells": [
  {
   "cell_type": "markdown",
   "metadata": {},
   "source": [
    "# 2750 : 수 정렬하기"
   ]
  },
  {
   "cell_type": "markdown",
   "metadata": {},
   "source": [
    "N개의 수가 주어졌을 때, 이를 오름차순으로 정렬하는 프로그램을 작성하시오."
   ]
  },
  {
   "cell_type": "markdown",
   "metadata": {},
   "source": [
    "### 정렬 라이브러리 이용 : 148ms"
   ]
  },
  {
   "cell_type": "code",
   "execution_count": 5,
   "metadata": {},
   "outputs": [
    {
     "name": "stdout",
     "output_type": "stream",
     "text": [
      "5\n",
      "5\n",
      "2\n",
      "3\n",
      "4\n",
      "1\n",
      "1\n",
      "2\n",
      "3\n",
      "4\n",
      "5\n"
     ]
    }
   ],
   "source": [
    "length = int(input())\n",
    "sort=[]\n",
    "\n",
    "for i in range(length):\n",
    "    data = int(input())\n",
    "    sort.append(data)\n",
    "sort.sort()\n",
    "for i in sort:\n",
    "    print(i)"
   ]
  },
  {
   "cell_type": "markdown",
   "metadata": {},
   "source": [
    "### 선택정렬 : 144ms"
   ]
  },
  {
   "cell_type": "markdown",
   "metadata": {},
   "source": [
    "#### 선택 정렬 (selection sort) 이란?\n",
    "* 다음과 같은 순서를 반복하며 정렬하는 알고리즘\n",
    "  1. 주어진 데이터 중, 최소값을 찾음\n",
    "  2. 해당 최소값을 데이터 맨 앞에 위치한 값과 교체함\n",
    "  3. 맨 앞의 위치를 뺀 나머지 데이터를 동일한 방법으로 반복함\n"
   ]
  },
  {
   "cell_type": "markdown",
   "metadata": {},
   "source": [
    "<img src=\"https://upload.wikimedia.org/wikipedia/commons/9/94/Selection-Sort-Animation.gif\" width=100>"
   ]
  },
  {
   "cell_type": "code",
   "execution_count": 7,
   "metadata": {},
   "outputs": [
    {
     "name": "stdout",
     "output_type": "stream",
     "text": [
      "5\n",
      "5\n",
      "2\n",
      "3\n",
      "4\n",
      "1\n",
      "1\n",
      "2\n",
      "3\n",
      "4\n",
      "5\n"
     ]
    }
   ],
   "source": [
    "count=int(input())\n",
    "data=[]\n",
    "\n",
    "for i in range(count):\n",
    "    data.append(int(input()))\n",
    "\n",
    "for i in range(len(data)-1):\n",
    "    lowest = i\n",
    "    for j in range(i+1, len(data)):\n",
    "        if data[lowest] > data[j]:  # 1.주어진 데이터 중, 최소값을 찾음\n",
    "            lowest = j\n",
    "    data[lowest], data[i] = data[i], data[lowest]  # 2. 해당 최소값을 데이터 맨 앞에 위치한 값과 교체함\n",
    "\n",
    "for i in data:\n",
    "    print(i)        "
   ]
  },
  {
   "cell_type": "markdown",
   "metadata": {},
   "source": [
    "### 버블정렬 : 156ms"
   ]
  },
  {
   "cell_type": "markdown",
   "metadata": {},
   "source": [
    "####  버블 정렬 (bubble sort)이란?\n",
    "* 두 인접한 데이터를 비교해서, 앞에 있는 데이터가 뒤에 있는 데이터보다 크면, 자리를 바꾸는 정렬 알고리즘"
   ]
  },
  {
   "cell_type": "markdown",
   "metadata": {},
   "source": [
    "<img src=\"https://upload.wikimedia.org/wikipedia/commons/c/c8/Bubble-sort-example-300px.gif\" width=600/>"
   ]
  },
  {
   "cell_type": "code",
   "execution_count": 8,
   "metadata": {},
   "outputs": [
    {
     "name": "stdout",
     "output_type": "stream",
     "text": [
      "5\n",
      "5\n",
      "2\n",
      "3\n",
      "4\n",
      "1\n",
      "1\n",
      "2\n",
      "3\n",
      "4\n",
      "5\n"
     ]
    }
   ],
   "source": [
    "count = int(input())\n",
    "data=[]\n",
    "\n",
    "for _ in range(count):\n",
    "    data.append(int(input()))\n",
    "    \n",
    "for i in range(len(data)-1):\n",
    "    swap=False\n",
    "    for j in range(len(data)-1-i):   # i가 증가할수록 뒷부분은 정렬이 완료되므로 그 전까지만 탐색 (len(data)-1-i)\n",
    "        if data[j] > data[j+1]:      # 두 인접한 데이터를 비교해서, 앞에 있는 데이터가 뒤에 있는 데이터보다 크면,\n",
    "            data[j], data[j+1] = data[j+1], data[j] #  자리를 바꾸는 정렬 알고리즘\n",
    "            swap = True\n",
    "    if swap==False:   # 탐색 후 swap==False이면 swap이 발생 X, 코드 종료\n",
    "        break\n",
    "for i in data:\n",
    "    print(i)"
   ]
  },
  {
   "cell_type": "markdown",
   "metadata": {},
   "source": [
    "### 퀵 정렬 : 176ms"
   ]
  },
  {
   "cell_type": "markdown",
   "metadata": {},
   "source": [
    "#### 퀵 정렬 (quick sort)이란?\n",
    "* <font color='#BF360C'>정렬 알고리즘의 꽃</font>\n",
    "* 기준점(pivot)을 정해서, 기준점보다 작은 데이터는 왼쪽(left), 큰 데이터는 오른쪽(right)으로 모으는 함수를 작성함\n",
    "* 각 왼쪽(left), 오른쪽(right)은 재귀용법을 사용해서 다시 동일 함수를 호출하여 위 작업을 반복함\n",
    "* 함수는 <b>왼쪽(left) + 기준점(pivot) + 오른쪽(right)</b>을 리턴함"
   ]
  },
  {
   "cell_type": "code",
   "execution_count": 17,
   "metadata": {
    "scrolled": false
   },
   "outputs": [
    {
     "name": "stdout",
     "output_type": "stream",
     "text": [
      "5\n",
      "5\n",
      "2\n",
      "3\n",
      "4\n",
      "1\n",
      "1\n",
      "2\n",
      "3\n",
      "4\n",
      "5\n"
     ]
    }
   ],
   "source": [
    "count = int(input())\n",
    "data=[]\n",
    "\n",
    "for _ in range(count):\n",
    "    data.append(int(input()))\n",
    "\n",
    "def qsort(data):\n",
    "    if len(data)<=1:                          # 길이가 1일때 stop & return data\n",
    "        return data    \n",
    "    pivot=data[0]                             # 기준점(pivot)을 정해서\n",
    "    left=[i for i in data[1:] if i<pivot]    # 기준점보다 작은 데이터는 왼쪽(left),\n",
    "    right=[i for i in data[1:] if i>pivot]   # 큰 데이터는 오른쪽(right)으로 모으는 함수 \n",
    "    \n",
    "    return qsort(left) + [pivot] + qsort(right) # 각 왼쪽(left), 오른쪽(right)은 재귀용법을 사용해서 다시 동일 함수를 호출하여 위 작업을 반복함\n",
    "                                                 # 함수는 왼쪽(left) + 기준점(pivot) + 오른쪽(right)을 리턴함\n",
    "data = qsort(data)\n",
    "for i in data:\n",
    "    print(i)"
   ]
  },
  {
   "cell_type": "markdown",
   "metadata": {},
   "source": [
    "### 삽입정렬 :  156ms"
   ]
  },
  {
   "cell_type": "markdown",
   "metadata": {},
   "source": [
    "#### 삽입 정렬 (insertion sort) 란?\n",
    "* 삽입 정렬은 두 번째 인덱스부터 시작\n",
    "* 해당 인덱스(key 값) 앞에 있는 데이터(B)부터 비교해서 key 값이 더 작으면, B값을 뒤 인덱스로 복사\n",
    "* 이를 key 값이 더 큰 데이터를 만날때까지 반복, 그리고 큰 데이터를 만난 위치 바로 뒤에 key 값을 이동"
   ]
  },
  {
   "cell_type": "markdown",
   "metadata": {},
   "source": [
    "<img src=\"https://upload.wikimedia.org/wikipedia/commons/9/9c/Insertion-sort-example.gif\" />"
   ]
  },
  {
   "cell_type": "code",
   "execution_count": 19,
   "metadata": {},
   "outputs": [
    {
     "name": "stdout",
     "output_type": "stream",
     "text": [
      "5\n",
      "5\n",
      "2\n",
      "3\n",
      "4\n",
      "1\n",
      "1\n",
      "2\n",
      "3\n",
      "4\n",
      "5\n"
     ]
    }
   ],
   "source": [
    "count=int(input())\n",
    "data=[]\n",
    "\n",
    "for _ in range(count):\n",
    "    data.append(int(input()))\n",
    "\n",
    "for i in range(len(data)-1):\n",
    "    for j in range(i+1,0,-1): # 두번째 인덱스부터 시작하여, \n",
    "        if data[j] < data[j-1]: # 해당 인덱스(data[j]) 앞에 있는 데이터(data[j-1])부터 비교해서 해당 인덱스(data[j]) 값이 더 작으면,\n",
    "            data[j-1], data[j] = data[j], data[j-1] #  앞에 있는 데이터(data[j-1])값을 뒤 인덱스로 복사\n",
    "        else:\n",
    "            break                        \n",
    "\n",
    "for i in data:\n",
    "    print(i)"
   ]
  },
  {
   "cell_type": "markdown",
   "metadata": {},
   "source": [
    "### 병합정렬 : 160ms"
   ]
  },
  {
   "cell_type": "markdown",
   "metadata": {},
   "source": [
    "#### 병합 정렬 (merge sort)이란?\n",
    "* 재귀용법을 활용한 정렬 알고리즘\n",
    "  1. 리스트를 절반으로 잘라 비슷한 크기의 두 부분 리스트로 나눈다.\n",
    "  2. 각 부분 리스트를 재귀적으로 합병 정렬을 이용해 정렬한다.\n",
    "  3. 두 부분 리스트를 다시 하나의 정렬된 리스트로 합병한다."
   ]
  },
  {
   "cell_type": "markdown",
   "metadata": {},
   "source": [
    "<img src=\"https://upload.wikimedia.org/wikipedia/commons/c/cc/Merge-sort-example-300px.gif\" width=500/>"
   ]
  },
  {
   "cell_type": "code",
   "execution_count": 23,
   "metadata": {},
   "outputs": [
    {
     "name": "stdout",
     "output_type": "stream",
     "text": [
      "5\n",
      "5\n",
      "2\n",
      "4\n",
      "3\n",
      "1\n",
      "1\n",
      "2\n",
      "3\n",
      "4\n",
      "5\n"
     ]
    }
   ],
   "source": [
    "count=int(input())\n",
    "data=[]\n",
    "\n",
    "for _ in range(count):\n",
    "    data.append(int(input()))\n",
    "\n",
    "def merge_split(data):\n",
    "    if len(data)<=1:\n",
    "        return data\n",
    "    med=int(len(data)/2)\n",
    "    left=merge_split(data[:med]) # 리스트를 절반으로 잘라 비슷한 크기의 두 부분 리스트로 나눈다.\n",
    "    right=merge_split(data[med:])\n",
    "    \n",
    "    return merge(left, right)   # 각 부분 리스트를 재귀적으로 합병 정렬을 이용해 정렬한다.\n",
    "    \n",
    "def merge(left, right):\n",
    "    merged=[]\n",
    "    left_pt,right_pt = 0,0\n",
    "                                    # 두 부분 리스트를 다시 하나의 정렬된 리스트로 합병한다\n",
    "    while len(left)>left_pt and len(right)>right_pt:\n",
    "        if left[left_pt] > right[right_pt]:\n",
    "            merged.append(right[right_pt])\n",
    "            right_pt+=1\n",
    "        else:\n",
    "            merged.append(left[left_pt])\n",
    "            left_pt+=1\n",
    "    \n",
    "    while len(left) > left_pt:\n",
    "        merged.append(left[left_pt])\n",
    "        left_pt+=1\n",
    "    \n",
    "    while len(right) >right_pt:\n",
    "        merged.append(right[right_pt])\n",
    "        right_pt+=1\n",
    "    \n",
    "    return merged\n",
    "\n",
    "for i in merge_split(data):\n",
    "    print(i)"
   ]
  }
 ],
 "metadata": {
  "kernelspec": {
   "display_name": "Python 3",
   "language": "python",
   "name": "python3"
  },
  "language_info": {
   "codemirror_mode": {
    "name": "ipython",
    "version": 3
   },
   "file_extension": ".py",
   "mimetype": "text/x-python",
   "name": "python",
   "nbconvert_exporter": "python",
   "pygments_lexer": "ipython3",
   "version": "3.7.6"
  }
 },
 "nbformat": 4,
 "nbformat_minor": 4
}
