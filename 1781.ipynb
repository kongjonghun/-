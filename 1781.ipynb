{
 "cells": [
  {
   "cell_type": "markdown",
   "metadata": {},
   "source": [
    "# 1781 : 컵라면"
   ]
  },
  {
   "cell_type": "markdown",
   "metadata": {},
   "source": [
    "https://www.acmicpc.net/problem/1781"
   ]
  },
  {
   "cell_type": "code",
   "execution_count": 12,
   "metadata": {},
   "outputs": [
    {
     "name": "stdout",
     "output_type": "stream",
     "text": [
      "7\n",
      "1 6\n",
      "1 7\n",
      "3 2\n",
      "3 1\n",
      "2 4\n",
      "2 5\n",
      "6 1\n"
     ]
    },
    {
     "data": {
      "text/plain": [
       "[(1, 6), (1, 7), (2, 4), (2, 5), (3, 1), (3, 2), (6, 1)]"
      ]
     },
     "execution_count": 12,
     "metadata": {},
     "output_type": "execute_result"
    }
   ],
   "source": [
    "n = int(input())\n",
    "data=[]\n",
    "for _ in range(n):\n",
    "    dead_line, ramen = map(int, input().split())\n",
    "    data.append((dead_line, ramen))\n",
    "data.sort()\n",
    "\n",
    "result=0\n",
    "for i in range(n-1):    \n",
    "    ramen_max=data[i][1]\n",
    "    if data[i][0]==data[i+1][0]:\n",
    "        ramen_max = data[i+1][1]        \n",
    "    else:        \n",
    "        result+=ramen_max\n",
    "        continue     \n",
    "    \n",
    "    \n"
   ]
  },
  {
   "cell_type": "markdown",
   "metadata": {},
   "source": [
    "#### import heapq\n",
    "\n",
    "data =[(1, 6), (1, 7), (2, 4), (2, 5), (3, 1), (3, 2), (6, 1)]\n",
    "\n",
    "result=[]\n",
    "for i in data:\n",
    "    heapq.heappush(result, i)\n",
    "\n",
    "for i in range(len(result)):\n",
    "    print(heapq.heappop(result))\n"
   ]
  },
  {
   "cell_type": "code",
   "execution_count": null,
   "metadata": {},
   "outputs": [],
   "source": []
  }
 ],
 "metadata": {
  "kernelspec": {
   "display_name": "Python 3",
   "language": "python",
   "name": "python3"
  },
  "language_info": {
   "codemirror_mode": {
    "name": "ipython",
    "version": 3
   },
   "file_extension": ".py",
   "mimetype": "text/x-python",
   "name": "python",
   "nbconvert_exporter": "python",
   "pygments_lexer": "ipython3",
   "version": "3.7.6"
  }
 },
 "nbformat": 4,
 "nbformat_minor": 4
}
