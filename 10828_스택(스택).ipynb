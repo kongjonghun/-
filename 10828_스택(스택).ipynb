{
 "cells": [
  {
   "cell_type": "code",
   "execution_count": 1,
   "metadata": {},
   "outputs": [
    {
     "name": "stdout",
     "output_type": "stream",
     "text": [
      "14\n",
      "push 1\n",
      "push 2\n",
      "top\n",
      "2\n",
      "size\n",
      "2\n",
      "empty\n",
      "0\n",
      "pop\n",
      "2\n",
      "pop\n",
      "1\n",
      "pop\n",
      "-1\n",
      "size\n",
      "0\n",
      "empty\n",
      "1\n",
      "pop\n",
      "-1\n",
      "push 3\n",
      "empty\n",
      "0\n",
      "top\n",
      "3\n"
     ]
    }
   ],
   "source": [
    "from collections import deque\n",
    "# import sys\n",
    "# input=sys.stdin.readline\n",
    "\n",
    "n=int(input())\n",
    "stack=deque([])\n",
    "for _ in range(n):\n",
    "    order=input().split()        \n",
    "    if order[0]=='push':\n",
    "        num=int(order[1])\n",
    "        stack.append(num)\n",
    "    elif order[0]=='pop':        \n",
    "        print(stack.pop() if len(stack)!=0 else -1)        \n",
    "    elif order[0]=='size':\n",
    "        print(len(stack))\n",
    "    elif order[0]=='empty':\n",
    "        print(1 if len(stack)==0 else 0)\n",
    "    elif order[0]=='top':\n",
    "        print(stack[-1] if len(stack)!=0 else -1)        "
   ]
  },
  {
   "cell_type": "code",
   "execution_count": null,
   "metadata": {},
   "outputs": [],
   "source": []
  }
 ],
 "metadata": {
  "kernelspec": {
   "display_name": "Python 3",
   "language": "python",
   "name": "python3"
  },
  "language_info": {
   "codemirror_mode": {
    "name": "ipython",
    "version": 3
   },
   "file_extension": ".py",
   "mimetype": "text/x-python",
   "name": "python",
   "nbconvert_exporter": "python",
   "pygments_lexer": "ipython3",
   "version": "3.7.6"
  }
 },
 "nbformat": 4,
 "nbformat_minor": 4
}
