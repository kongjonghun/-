{
 "cells": [
  {
   "cell_type": "markdown",
   "metadata": {},
   "source": [
    "최대공약수(gcd) : GCD(a,b) = GCD(b, a%b)   \n",
    "최소공배수(lcm) : LCM = a*b//GCD(a,b)"
   ]
  },
  {
   "cell_type": "code",
   "execution_count": 10,
   "metadata": {},
   "outputs": [
    {
     "name": "stdout",
     "output_type": "stream",
     "text": [
      "24 18\n",
      "6\n",
      "72\n"
     ]
    }
   ],
   "source": [
    "n,m=map(int, input().split())\n",
    "\n",
    "def gcd(n,m):\n",
    "    if n%m==0:\n",
    "        return m\n",
    "    else:\n",
    "        return gcd(m, n%m)\n",
    "        \n",
    "def lcm(n,m):\n",
    "    return (n*m)//gcd(n,m)\n",
    "\n",
    "print(gcd(n,m))\n",
    "print(lcm(n,m))"
   ]
  },
  {
   "cell_type": "markdown",
   "metadata": {},
   "source": [
    "- math 라이브러리 이용"
   ]
  },
  {
   "cell_type": "markdown",
   "metadata": {},
   "source": [
    "최대공약수(gcd) : math.gcd(a,b)  \n",
    "최소공배수(lcm) : a*b//math.gcd(a,b)"
   ]
  },
  {
   "cell_type": "code",
   "execution_count": 11,
   "metadata": {},
   "outputs": [
    {
     "name": "stdout",
     "output_type": "stream",
     "text": [
      "24 18\n",
      "6\n",
      "72\n"
     ]
    }
   ],
   "source": [
    "import math\n",
    "\n",
    "n,m=map(int, input().split())\n",
    "\n",
    "print(math.gcd(n,m))\n",
    "print(n*m//math.gcd(n,m))"
   ]
  }
 ],
 "metadata": {
  "kernelspec": {
   "display_name": "Python 3",
   "language": "python",
   "name": "python3"
  },
  "language_info": {
   "codemirror_mode": {
    "name": "ipython",
    "version": 3
   },
   "file_extension": ".py",
   "mimetype": "text/x-python",
   "name": "python",
   "nbconvert_exporter": "python",
   "pygments_lexer": "ipython3",
   "version": "3.7.6"
  }
 },
 "nbformat": 4,
 "nbformat_minor": 4
}
