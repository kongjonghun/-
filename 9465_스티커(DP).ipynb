{
 "cells": [
  {
   "cell_type": "markdown",
   "metadata": {},
   "source": [
    "<img src=\"9465.jpg\" width=\"80%\" height=\"80%\">"
   ]
  },
  {
   "cell_type": "code",
   "execution_count": null,
   "metadata": {},
   "outputs": [],
   "source": [
    "dp[0][y]=dp[0][y]+max(dp[1][y-1], dp[1][y-2])\n",
    "dp[1][y]=dp[1][y]+max(dp[0][y-1], dp[0][y-2])"
   ]
  },
  {
   "cell_type": "code",
   "execution_count": 4,
   "metadata": {},
   "outputs": [
    {
     "name": "stdout",
     "output_type": "stream",
     "text": [
      "2\n",
      "5\n",
      "50 10 100 20 40\n",
      "30 50 70 10 60\n",
      "260\n",
      "7\n",
      "10 30 10 50 100 20 40\n",
      "20 40 30 50 60 20 80\n",
      "290\n"
     ]
    }
   ],
   "source": [
    "for _ in range(int(input())):\n",
    "    n=int(input())\n",
    "    dp=[list(map(int, input().split())) for _ in range(2)]\n",
    "    \n",
    "    for i in range(1 ,n):\n",
    "        if i==1:\n",
    "            dp[0][i]+=dp[1][0]\n",
    "            dp[1][i]+=dp[0][0]\n",
    "        else:          \n",
    "            dp[0][i]+=max(dp[1][i-1], dp[1][i-2])\n",
    "            dp[1][i]+=max(dp[0][i-1], dp[0][i-2])\n",
    "    \n",
    "    print(max(dp[0][n-1], dp[1][n-1]))"
   ]
  }
 ],
 "metadata": {
  "kernelspec": {
   "display_name": "Python 3",
   "language": "python",
   "name": "python3"
  },
  "language_info": {
   "codemirror_mode": {
    "name": "ipython",
    "version": 3
   },
   "file_extension": ".py",
   "mimetype": "text/x-python",
   "name": "python",
   "nbconvert_exporter": "python",
   "pygments_lexer": "ipython3",
   "version": "3.7.6"
  }
 },
 "nbformat": 4,
 "nbformat_minor": 4
}
