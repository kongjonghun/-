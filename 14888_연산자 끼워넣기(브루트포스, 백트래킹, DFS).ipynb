{
 "cells": [
  {
   "cell_type": "markdown",
   "metadata": {},
   "source": [
    "## 브루트포스(=완전 탐색)"
   ]
  },
  {
   "cell_type": "markdown",
   "metadata": {},
   "source": [
    "1. DFS\n",
    "2. 브루트포스(순열)"
   ]
  },
  {
   "cell_type": "markdown",
   "metadata": {},
   "source": [
    "#### 주의사항\n",
    "- 식의 계산은 연산자 우선 순위를 무시하고 앞에서부터 진행 / if 식의 계산을 연산자 우선 순위 고려? -> eval 함수 적용 고려\n",
    "        eval(식) : 매개변수로 받은 expression (=식)을 문자열로 받아서, 실행하는 함수\n",
    "        \n",
    "- 음수를 양수로 나눌 때는 C++14의 기준을 따른다. 즉, 양수로 바꾼 뒤 몫을 취하고, 그 몫을 음수로 바꾼 것과 같다.  \n",
    "        -10//8 = -2, -10/8 = -1.25  "
   ]
  },
  {
   "cell_type": "code",
   "execution_count": 49,
   "metadata": {},
   "outputs": [
    {
     "name": "stdout",
     "output_type": "stream",
     "text": [
      "-2\n",
      "-1.25\n",
      "-1\n"
     ]
    }
   ],
   "source": [
    "print(-10//8)\n",
    "print(-10/8)\n",
    "print(int(-10/8))"
   ]
  },
  {
   "cell_type": "markdown",
   "metadata": {},
   "source": [
    "### 1. DFS "
   ]
  },
  {
   "cell_type": "code",
   "execution_count": 30,
   "metadata": {},
   "outputs": [
    {
     "name": "stdout",
     "output_type": "stream",
     "text": [
      "6\n",
      "1 2 3 4 5 6\n",
      "2 1 1 1\n",
      "54\n",
      "-24\n"
     ]
    }
   ],
   "source": [
    "n=int(input())\n",
    "data=list(map(int, input().split()))\n",
    "cnt=list(map(int, input().split()))\n",
    "\n",
    "max_data=-1e9\n",
    "min_data=1e9\n",
    "\n",
    "def DFS(depth, total, plus, minus, multiple, divide):\n",
    "    global max_data, min_data\n",
    "    if depth==n:\n",
    "        max_data=max(max_data, total)\n",
    "        min_data=min(min_data, total)\n",
    "        return\n",
    "    if plus:\n",
    "        DFS(depth+1, total+data[depth], plus-1, minus, multiple, divide)\n",
    "    if minus:\n",
    "        DFS(depth+1, total-data[depth], plus, minus-1, multiple, divide)\n",
    "    if multiple:\n",
    "        DFS(depth+1, total*data[depth], plus, minus, multiple-1, divide)\n",
    "    if divide:\n",
    "        DFS(depth+1, int(total/data[depth]), plus, minus, multiple, divide-1)\n",
    "        \n",
    "    \n",
    "DFS(1, data[0], cnt[0], cnt[1], cnt[2], cnt[3])\n",
    "print(max_data)\n",
    "print(min_data)"
   ]
  },
  {
   "cell_type": "markdown",
   "metadata": {},
   "source": [
    "### 2. Permutations"
   ]
  },
  {
   "cell_type": "code",
   "execution_count": 37,
   "metadata": {},
   "outputs": [
    {
     "name": "stdout",
     "output_type": "stream",
     "text": [
      "6\n",
      "1 2 3 4 5 6\n",
      "2 1 1 1\n",
      "54\n",
      "-24\n"
     ]
    }
   ],
   "source": [
    "from itertools import permutations\n",
    "\n",
    "n=int(input())\n",
    "data=list(map(int, input().split()))\n",
    "cnt=list(map(int, input().split()))\n",
    "op=['+']*cnt[0] + ['-']*cnt[1] + ['*']*cnt[2] + ['%']*cnt[3]     # 2 1 1 1 인경우 : op=['+','+','-','*','%']\n",
    "\n",
    "max_data=-1e9\n",
    "min_data=1e9\n",
    "\n",
    "def solve():\n",
    "    global max_data, min_data\n",
    "    for case in permutations(op, n-1):\n",
    "        j,total=0,data[0]\n",
    "        for opt in case:\n",
    "            j+=1\n",
    "            if opt=='+':\n",
    "                total+=data[j]                \n",
    "            if opt=='-':\n",
    "                total-=data[j]\n",
    "            if opt=='*':\n",
    "                total*=data[j]\n",
    "            if opt=='%':\n",
    "                total=int(total/data[j])\n",
    "        \n",
    "        max_data=max(max_data, total)\n",
    "        min_data=min(min_data, total)\n",
    "    \n",
    "solve()\n",
    "print(max_data)\n",
    "print(min_data)"
   ]
  },
  {
   "cell_type": "code",
   "execution_count": 32,
   "metadata": {},
   "outputs": [
    {
     "name": "stdout",
     "output_type": "stream",
     "text": [
      "('+', '-', '*')\n",
      "('+', '-', '%')\n",
      "('+', '*', '-')\n",
      "('+', '*', '%')\n",
      "('+', '%', '-')\n",
      "('+', '%', '*')\n",
      "('-', '+', '*')\n",
      "('-', '+', '%')\n",
      "('-', '*', '+')\n",
      "('-', '*', '%')\n",
      "('-', '%', '+')\n",
      "('-', '%', '*')\n",
      "('*', '+', '-')\n",
      "('*', '+', '%')\n",
      "('*', '-', '+')\n",
      "('*', '-', '%')\n",
      "('*', '%', '+')\n",
      "('*', '%', '-')\n",
      "('%', '+', '-')\n",
      "('%', '+', '*')\n",
      "('%', '-', '+')\n",
      "('%', '-', '*')\n",
      "('%', '*', '+')\n",
      "('%', '*', '-')\n"
     ]
    }
   ],
   "source": [
    "from itertools import permutations\n",
    "\n",
    "OP=['+','-','*','%']\n",
    "\n",
    "for i in permutations(OP, 3):\n",
    "    print(i)"
   ]
  }
 ],
 "metadata": {
  "kernelspec": {
   "display_name": "Python 3",
   "language": "python",
   "name": "python3"
  },
  "language_info": {
   "codemirror_mode": {
    "name": "ipython",
    "version": 3
   },
   "file_extension": ".py",
   "mimetype": "text/x-python",
   "name": "python",
   "nbconvert_exporter": "python",
   "pygments_lexer": "ipython3",
   "version": "3.7.6"
  }
 },
 "nbformat": 4,
 "nbformat_minor": 4
}
