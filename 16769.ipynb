{
 "cells": [
  {
   "cell_type": "markdown",
   "metadata": {},
   "source": [
    "# 16769 : Mixing Milk"
   ]
  },
  {
   "cell_type": "code",
   "execution_count": 3,
   "metadata": {},
   "outputs": [
    {
     "name": "stdout",
     "output_type": "stream",
     "text": [
      "10 3\n",
      "11 4\n",
      "12 5\n",
      "0\n",
      "10\n",
      "2\n"
     ]
    }
   ],
   "source": [
    "M=list() # 통 용량\n",
    "C=list() # 현재 용량\n",
    "\n",
    "for i in range(3):\n",
    "    a, b = map(int, input().split())\n",
    "    M.append(a)\n",
    "    C.append(b)\n",
    "\n",
    "for i in range(100):\n",
    "    idx=i % 3\n",
    "    nxt=(idx+1) % 3\n",
    "    move=min(M[nxt]-C[nxt], C[idx])\n",
    "    C[idx]-=move\n",
    "    C[nxt]+=move\n",
    "    \n",
    "for i in range(3):\n",
    "    print(C[i])"
   ]
  }
 ],
 "metadata": {
  "kernelspec": {
   "display_name": "Python 3",
   "language": "python",
   "name": "python3"
  },
  "language_info": {
   "codemirror_mode": {
    "name": "ipython",
    "version": 3
   },
   "file_extension": ".py",
   "mimetype": "text/x-python",
   "name": "python",
   "nbconvert_exporter": "python",
   "pygments_lexer": "ipython3",
   "version": "3.7.6"
  }
 },
 "nbformat": 4,
 "nbformat_minor": 4
}
