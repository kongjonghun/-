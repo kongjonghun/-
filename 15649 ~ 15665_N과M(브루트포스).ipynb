{
 "cells": [
  {
   "cell_type": "markdown",
   "metadata": {},
   "source": [
    "# 15649 : N과 M(1)"
   ]
  },
  {
   "cell_type": "markdown",
   "metadata": {},
   "source": [
    "### 순열 \n",
    "- 1부터 N까지 자연수 중에서 중복 없이 M개를 고른 수열"
   ]
  },
  {
   "cell_type": "code",
   "execution_count": null,
   "metadata": {},
   "outputs": [],
   "source": [
    "n,m=map(int, input().split())\n",
    "arr=[]\n",
    "\n",
    "def dfs():\n",
    "    if len(arr)==m:\n",
    "        print(' '.join(map(str, arr)))\n",
    "        return\n",
    "    for i in range(1, n+1):\n",
    "        if i not in arr:\n",
    "            arr.append(i)\n",
    "            dfs()\n",
    "            arr.pop()\n",
    "dfs()"
   ]
  },
  {
   "cell_type": "code",
   "execution_count": null,
   "metadata": {},
   "outputs": [],
   "source": [
    "n,m=map(int, input().split())\n",
    "data=[i for i in range(1, n+1)]\n",
    "used=[0]*len(data)\n",
    "\n",
    "def permutations(arr, d):\n",
    "    if d==m:\n",
    "        print(' '.join(map(str, arr)))\n",
    "        return\n",
    "    for i in range(len(data)):\n",
    "        if not used[i]:\n",
    "            used[i]=1\n",
    "            arr.append(data[i])\n",
    "            permutations(arr, d+1)\n",
    "            arr.pop()\n",
    "            used[i]=0\n",
    "\n",
    "permutations([], 0)"
   ]
  },
  {
   "cell_type": "markdown",
   "metadata": {},
   "source": [
    "# 15650 : N과 M(2)"
   ]
  },
  {
   "cell_type": "markdown",
   "metadata": {},
   "source": [
    "###  조합\n",
    "- 1부터 N까지 자연수 중에서 중복 없이 M개를 고른 수열\n",
    "- 고른 수열은 오름차순이어야 한다."
   ]
  },
  {
   "cell_type": "code",
   "execution_count": 9,
   "metadata": {
    "scrolled": true
   },
   "outputs": [
    {
     "name": "stdout",
     "output_type": "stream",
     "text": [
      "4 2\n",
      "1 2\n",
      "1 3\n",
      "1 4\n",
      "2 3\n",
      "2 4\n",
      "3 4\n"
     ]
    }
   ],
   "source": [
    "n,m = map(int ,input().split())\n",
    "arr=[]\n",
    "\n",
    "def dfs(idx):\n",
    "    if len(arr)==m:\n",
    "        print(' '.join(map(str, arr)))\n",
    "        return\n",
    "    for i in range(idx, n+1):        \n",
    "        arr.append(i)\n",
    "        dfs(i+1)\n",
    "        arr.pop()\n",
    "dfs(1)"
   ]
  },
  {
   "cell_type": "markdown",
   "metadata": {},
   "source": [
    "# 15651 : N과 M(3)"
   ]
  },
  {
   "cell_type": "markdown",
   "metadata": {},
   "source": [
    "### 순열 + 중복가능(used 제거)\n",
    "- 1부터 N까지 자연수 중에서 M개를 고른 수열\n",
    "- 같은 수를 여러 번 골라도 된다."
   ]
  },
  {
   "cell_type": "code",
   "execution_count": null,
   "metadata": {},
   "outputs": [],
   "source": [
    "n,m=map(int, input().split())\n",
    "data=[i for i in range(1, n+1)]\n",
    "# used=[0]*len(data)\n",
    "\n",
    "def permutations(arr, d):\n",
    "    if d==m:\n",
    "        print(' '.join(map(str, arr)))\n",
    "        return\n",
    "    for i in range(len(data)):\n",
    "#        if not used[i]:\n",
    "#           used[i]=1\n",
    "            arr.append(data[i])\n",
    "            permutations(arr, d+1)\n",
    "            arr.pop()\n",
    "#           used[i]=0\n",
    "\n",
    "permutations([], 0)"
   ]
  },
  {
   "cell_type": "code",
   "execution_count": null,
   "metadata": {
    "scrolled": true
   },
   "outputs": [],
   "source": [
    "n,m=map(int, input().split())\n",
    "data=[i for i in range(1, n+1)]\n",
    "\n",
    "def permutations(arr, d):\n",
    "    if d==m:\n",
    "        print(' '.join(map(str, arr)))\n",
    "        return\n",
    "    for i in range(len(data)):\n",
    "        arr.append(data[i])\n",
    "        permutations(arr, d+1)\n",
    "        arr.pop()\n",
    "\n",
    "permutations([], 0)"
   ]
  },
  {
   "cell_type": "code",
   "execution_count": 10,
   "metadata": {},
   "outputs": [
    {
     "name": "stdout",
     "output_type": "stream",
     "text": [
      "4 2\n",
      "1 1\n",
      "1 2\n",
      "1 3\n",
      "1 4\n",
      "2 1\n",
      "2 2\n",
      "2 3\n",
      "2 4\n",
      "3 1\n",
      "3 2\n",
      "3 3\n",
      "3 4\n",
      "4 1\n",
      "4 2\n",
      "4 3\n",
      "4 4\n"
     ]
    }
   ],
   "source": [
    "n,m=map(int, input().split())\n",
    "arr=[]\n",
    "def dfs():\n",
    "    if len(arr)==m:\n",
    "        print(' '.join(map(str, arr)))\n",
    "        return\n",
    "    for i in range(1, n+1):\n",
    "        arr.append(i)\n",
    "        dfs()\n",
    "        arr.pop()\n",
    "dfs()"
   ]
  },
  {
   "cell_type": "markdown",
   "metadata": {},
   "source": [
    "# 15653 : N과 M(4)"
   ]
  },
  {
   "cell_type": "markdown",
   "metadata": {},
   "source": [
    "- 1부터 N까지 자연수 중에서 M개를 고른 수열\n",
    "- 같은 수를 여러 번 골라도 된다.\n",
    "- 고른 수열은 비내림차순이어야 한다."
   ]
  },
  {
   "cell_type": "code",
   "execution_count": null,
   "metadata": {},
   "outputs": [],
   "source": [
    "n,m=map(int, input().split())\n",
    "arr=[]\n",
    "\n",
    "def dfs(idx):\n",
    "    if len(arr)==m:\n",
    "        print(' '.join(map(str, arr)))\n",
    "        return\n",
    "    for i in range(idx, n+1):\n",
    "        arr.append(i)\n",
    "        dfs(i)\n",
    "        arr.pop()\n",
    "        \n",
    "dfs(1)"
   ]
  },
  {
   "cell_type": "markdown",
   "metadata": {},
   "source": [
    "# 15654 : N과 M(5)"
   ]
  },
  {
   "cell_type": "markdown",
   "metadata": {},
   "source": [
    "- N개의 자연수 중에서 M개를 고른 수열"
   ]
  },
  {
   "cell_type": "code",
   "execution_count": null,
   "metadata": {},
   "outputs": [],
   "source": [
    "n,m=map(int, input().split())\n",
    "data=sorted(list(map(int, input().split())))\n",
    "arr=[]\n",
    "\n",
    "def dfs():\n",
    "    if len(arr)==m:\n",
    "        print(' '.join(map(str, arr)))\n",
    "        return\n",
    "    for i in range(len(data)):\n",
    "        if data[i] not in arr:\n",
    "            arr.append(data[i])\n",
    "            dfs()\n",
    "            arr.pop()\n",
    "dfs()    "
   ]
  },
  {
   "cell_type": "markdown",
   "metadata": {},
   "source": [
    "# 15655 : N과 M(6)"
   ]
  },
  {
   "cell_type": "markdown",
   "metadata": {},
   "source": [
    "- N개의 자연수 중에서 M개를 고른 수열\n",
    "- 고른 수열은 오름차순이어야 한다."
   ]
  },
  {
   "cell_type": "code",
   "execution_count": null,
   "metadata": {},
   "outputs": [],
   "source": [
    "n,m=map(int, input().split())\n",
    "data=sorted(list(map(int, input().split())))\n",
    "arr=[]\n",
    "def dfs(idx):\n",
    "    if len(arr)==m:\n",
    "        print(' '.join(map(str, arr)))\n",
    "        return\n",
    "    for i in range(idx, len(data)):\n",
    "        arr.append(data[i])\n",
    "        dfs(i+1)\n",
    "        arr.pop()\n",
    "        \n",
    "dfs(0)"
   ]
  },
  {
   "cell_type": "markdown",
   "metadata": {},
   "source": [
    "# 15656 : N과 M(7)"
   ]
  },
  {
   "cell_type": "markdown",
   "metadata": {},
   "source": [
    "- N개의 자연수 중에서 M개를 고른 수열\n",
    "- 같은 수를 여러 번 골라도 된다."
   ]
  },
  {
   "cell_type": "code",
   "execution_count": null,
   "metadata": {},
   "outputs": [],
   "source": [
    "n,m=map(int, input().split())\n",
    "data=sorted(list(map(int, input().split())))\n",
    "arr=[]\n",
    "\n",
    "def dfs():\n",
    "    if len(arr)==m:\n",
    "        print(' '.join(map(str, arr)))\n",
    "        return\n",
    "    for i in range(len(data)):\n",
    "        arr.append(data[i])\n",
    "        dfs()\n",
    "        arr.pop()\n",
    "        \n",
    "dfs()    "
   ]
  },
  {
   "cell_type": "markdown",
   "metadata": {},
   "source": [
    "# 15657 : N과 M(8)"
   ]
  },
  {
   "cell_type": "markdown",
   "metadata": {},
   "source": [
    "- N개의 자연수 중에서 M개를 고른 수열\n",
    "- 같은 수를 여러 번 골라도 된다.\n",
    "- 고른 수열은 비내림차순이어야 한다."
   ]
  },
  {
   "cell_type": "code",
   "execution_count": null,
   "metadata": {},
   "outputs": [],
   "source": [
    "n,m=map(int, input().split())\n",
    "data=sorted(list(map(int, input().split())))\n",
    "arr=[]\n",
    "\n",
    "def dfs(idx):\n",
    "    if len(arr)==m:\n",
    "        print(' '.join(map(str, arr)))\n",
    "        return\n",
    "    for i in range(idx, len(data)):\n",
    "        arr.append(data[i])\n",
    "        dfs(i)\n",
    "        arr.pop()\n",
    "        \n",
    "dfs(0)"
   ]
  },
  {
   "cell_type": "markdown",
   "metadata": {},
   "source": [
    "# 15663 : N과 M(9)"
   ]
  },
  {
   "cell_type": "markdown",
   "metadata": {},
   "source": [
    "- N개의 자연수 중에서 M개를 고른 수열"
   ]
  },
  {
   "cell_type": "code",
   "execution_count": null,
   "metadata": {},
   "outputs": [],
   "source": [
    "n,m=map(int, input().split())\n",
    "data=sorted(list(map(int, input().split())))\n",
    "used=[0]*len(data)\n",
    "arr=[]\n",
    "result=[]\n",
    "\n",
    "def dfs():\n",
    "    if len(arr)==m:\n",
    "        tmp=' '.join(map(str, arr))\n",
    "        if tmp not in result:            \n",
    "            result.append(tmp)\n",
    "        return\n",
    "    for i in range(len(data)):\n",
    "        if not used[i]:\n",
    "            used[i]=1\n",
    "            arr.append(data[i])\n",
    "            dfs()\n",
    "            used[i]=0\n",
    "            arr.pop()\n",
    "dfs()\n",
    "for i in result:\n",
    "    print(i)"
   ]
  },
  {
   "cell_type": "markdown",
   "metadata": {},
   "source": [
    "# 15664 : N과 M(10)"
   ]
  },
  {
   "cell_type": "markdown",
   "metadata": {},
   "source": [
    "- N개의 자연수 중에서 M개를 고른 수열\n",
    "- 고른 수열은 비내림차순이어야 한다."
   ]
  },
  {
   "cell_type": "code",
   "execution_count": null,
   "metadata": {},
   "outputs": [],
   "source": [
    "n,m=map(int, input().split())\n",
    "data=sorted(list(map(int, input().split())))\n",
    "arr=[]\n",
    "result=[]\n",
    "\n",
    "def dfs(idx):\n",
    "    if len(arr)==m:\n",
    "        tmp=' '.join(map(str, arr))\n",
    "        if tmp not in result:\n",
    "            result.append(tmp)\n",
    "        return\n",
    "    for i in range(idx, len(data)):\n",
    "        arr.append(data[i])\n",
    "        dfs(i+1)\n",
    "        arr.pop()\n",
    "        \n",
    "dfs(0)\n",
    "for i in result:\n",
    "    print(i)"
   ]
  },
  {
   "cell_type": "markdown",
   "metadata": {},
   "source": [
    "# 15665 : N과 M(11)"
   ]
  },
  {
   "cell_type": "markdown",
   "metadata": {},
   "source": [
    "- N개의 자연수 중에서 M개를 고른 수열\n",
    "- 같은 수를 여러 번 골라도 된다."
   ]
  },
  {
   "cell_type": "code",
   "execution_count": 3,
   "metadata": {},
   "outputs": [
    {
     "name": "stdout",
     "output_type": "stream",
     "text": [
      "4 2\n",
      "9 7 9 1\n",
      "1 1\n",
      "1 7\n",
      "1 9\n",
      "7 1\n",
      "7 7\n",
      "7 9\n",
      "9 1\n",
      "9 7\n",
      "9 9\n"
     ]
    }
   ],
   "source": [
    "n,m=map(int, input().split())\n",
    "data=sorted(set(map(int, input().split())))\n",
    "arr=[]\n",
    "\n",
    "def dfs():\n",
    "    if len(arr)==m:\n",
    "        print(' '.join(map(str, arr)))\n",
    "        return\n",
    "    for i in range(len(data)):\n",
    "        arr.append(data[i])\n",
    "        dfs()\n",
    "        arr.pop()\n",
    "        \n",
    "dfs()"
   ]
  },
  {
   "cell_type": "markdown",
   "metadata": {},
   "source": [
    "# 15665 : N과 M(11)"
   ]
  },
  {
   "cell_type": "markdown",
   "metadata": {},
   "source": [
    "- N개의 자연수 중에서 M개를 고른 수열\n",
    "- 같은 수를 여러 번 골라도 된다.\n",
    "- 고른 수열은 비내림차순이어야 한다."
   ]
  },
  {
   "cell_type": "code",
   "execution_count": 8,
   "metadata": {},
   "outputs": [
    {
     "name": "stdout",
     "output_type": "stream",
     "text": [
      "4 4\n",
      "1 1 2 2\n",
      "1 1 1 1\n",
      "1 1 1 2\n",
      "1 1 2 2\n",
      "1 2 2 2\n",
      "2 2 2 2\n"
     ]
    }
   ],
   "source": [
    "n,m=map(int, input().split())\n",
    "data=sorted(set(map(int, input().split())))\n",
    "arr=[]\n",
    "\n",
    "def dfs(idx):\n",
    "    if len(arr)==m:\n",
    "        print(' '.join(map(str, arr)))\n",
    "        return\n",
    "    for i in range(idx, len(data)):\n",
    "        arr.append(data[i])\n",
    "        dfs(i)\n",
    "        arr.pop()\n",
    "    \n",
    "dfs(0)"
   ]
  }
 ],
 "metadata": {
  "kernelspec": {
   "display_name": "Python 3",
   "language": "python",
   "name": "python3"
  },
  "language_info": {
   "codemirror_mode": {
    "name": "ipython",
    "version": 3
   },
   "file_extension": ".py",
   "mimetype": "text/x-python",
   "name": "python",
   "nbconvert_exporter": "python",
   "pygments_lexer": "ipython3",
   "version": "3.7.6"
  }
 },
 "nbformat": 4,
 "nbformat_minor": 4
}
