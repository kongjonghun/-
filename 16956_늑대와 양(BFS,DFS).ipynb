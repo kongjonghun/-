{
 "cells": [
  {
   "cell_type": "markdown",
   "metadata": {},
   "source": [
    "# 16956 : 늑대와 양"
   ]
  },
  {
   "cell_type": "markdown",
   "metadata": {},
   "source": [
    "https://www.acmicpc.net/problem/16956"
   ]
  },
  {
   "cell_type": "code",
   "execution_count": 9,
   "metadata": {},
   "outputs": [
    {
     "name": "stdout",
     "output_type": "stream",
     "text": [
      "5 5\n",
      ".S...\n",
      "...S.\n",
      "S....\n",
      "...S.\n",
      ".S...\n",
      "1\n",
      "DSDDD\n",
      "DDDSD\n",
      "SDDDD\n",
      "DDDSD\n",
      "DSDDD\n"
     ]
    }
   ],
   "source": [
    "R, C = map(int, input().split())\n",
    "M = [list(input()) for i in range(R)]\n",
    "\n",
    "dx, dy = [0,1,0,-1], [1,0,-1,0]\n",
    "ck=False\n",
    "for i in range(R):\n",
    "    for j in range(C):\n",
    "        if M[i][j]=='W':\n",
    "            for w in range(4):\n",
    "                ii, jj = i+dx[w], j+dy[w]\n",
    "                if 0<=ii<R and 0<=jj<C and M[ii][jj] =='S':\n",
    "                    ck=True\n",
    "                    break\n",
    "if ck:\n",
    "    print(0)\n",
    "else:\n",
    "    print(1)\n",
    "    for i in range(R):\n",
    "        for j in range(C):\n",
    "            if M[i][j] not in 'SW':\n",
    "                M[i][j]='D'\n",
    "    for i in M:\n",
    "        print(''.join(i))                "
   ]
  }
 ],
 "metadata": {
  "kernelspec": {
   "display_name": "Python 3",
   "language": "python",
   "name": "python3"
  },
  "language_info": {
   "codemirror_mode": {
    "name": "ipython",
    "version": 3
   },
   "file_extension": ".py",
   "mimetype": "text/x-python",
   "name": "python",
   "nbconvert_exporter": "python",
   "pygments_lexer": "ipython3",
   "version": "3.7.6"
  }
 },
 "nbformat": 4,
 "nbformat_minor": 4
}
