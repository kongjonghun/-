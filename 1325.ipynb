{
 "cells": [
  {
   "cell_type": "markdown",
   "metadata": {},
   "source": [
    "# 1325 : 효율적인 해킹"
   ]
  },
  {
   "cell_type": "markdown",
   "metadata": {},
   "source": [
    "https://www.acmicpc.net/problem/1325"
   ]
  },
  {
   "cell_type": "markdown",
   "metadata": {},
   "source": [
    "- 방문하게 되는 노드의 개수 계산"
   ]
  },
  {
   "cell_type": "markdown",
   "metadata": {},
   "source": [
    "### 풀이1 : BFS (15860ms)"
   ]
  },
  {
   "cell_type": "markdown",
   "metadata": {},
   "source": [
    "![title](1325.jpg)"
   ]
  },
  {
   "cell_type": "code",
   "execution_count": 40,
   "metadata": {},
   "outputs": [
    {
     "name": "stdout",
     "output_type": "stream",
     "text": [
      "5 4\n",
      "3 1\n",
      "3 2\n",
      "4 3\n",
      "5 3\n",
      "1 2 "
     ]
    }
   ],
   "source": [
    "from collections import deque\n",
    "\n",
    "n, m = map(int, input().split())\n",
    "adj=[[] for _ in range(n+1)]\n",
    "result=[]\n",
    "\n",
    "def BFS(i):\n",
    "    q=deque([i])\n",
    "    cnt=0\n",
    "    while q:\n",
    "        node=q.popleft()\n",
    "        if not visited[node]:\n",
    "            visited[node]=True\n",
    "            cnt+=1\n",
    "            for i in adj[node]:\n",
    "                if not visited[i]:\n",
    "                    q.append(i)                \n",
    "    return cnt\n",
    "    \n",
    "for _ in range(m):                           # m개의 신뢰관계\n",
    "    to_n, from_n = map(int, input().split()) # From_node, to_node 설정\n",
    "    adj[from_n].append(to_n)                 # 단반향 그래프이므로, adj[to_n].append(from_n) 필요 X\n",
    "\n",
    "for i in range(1, n+1):       # n개의 컴퓨터(노드)\n",
    "    visited=[False]*(n+1)    # n개 컴퓨터 탐색할때마다 visited 초기화\n",
    "    result.append(BFS(i))    # 각 컴퓨터(i) 별 감염 컴퓨터 개수(cnt) result 리스트에 추가\n",
    "\n",
    "max_cnt=max(result)           # result 리스트 중 최대 값 (최대 감염 컴퓨터 개수)\n",
    "for i in range(len(result)):\n",
    "    if result[i]==max_cnt:   # 최대 값일경우 컴퓨터 번호 출력(오름차순)\n",
    "        print(i+1, end=' ')  # result는 0부터 index 시작이므로"
   ]
  },
  {
   "cell_type": "markdown",
   "metadata": {},
   "source": [
    "### 풀이 2 : BFS - sum(list) 이용 (14480ms)"
   ]
  },
  {
   "cell_type": "code",
   "execution_count": 64,
   "metadata": {},
   "outputs": [
    {
     "name": "stdout",
     "output_type": "stream",
     "text": [
      "5 4\n",
      "3 1\n",
      "3 2\n",
      "4 3\n",
      "5 3\n",
      "1 2 "
     ]
    }
   ],
   "source": [
    "from collections import deque\n",
    "\n",
    "n, m = map(int, input().split())\n",
    "adj=[[] for _ in range(n+1)]\n",
    "result=[]\n",
    "\n",
    "def BFS(i):\n",
    "    q=deque([i])    \n",
    "    while q:\n",
    "        node=q.popleft()\n",
    "        if not visited[node]:\n",
    "            visited[node]=True            \n",
    "            for i in adj[node]:\n",
    "                if not visited[i]:\n",
    "                    q.append(i)                    \n",
    "    \n",
    "for _ in range(m): \n",
    "    to_n, from_n = map(int, input().split())\n",
    "    adj[from_n].append(to_n)        \n",
    "\n",
    "for i in range(1, n+1):  \n",
    "    visited=[False]*(n+1)    \n",
    "    BFS(i)                       # 다른부분 \n",
    "    result.append(sum(visited))  # 다른부분 : sum(visited)- True의 개수 합하여 방문 노드 개수 세기\n",
    "\n",
    "max_cnt=max(result)          \n",
    "for i in range(len(result)):\n",
    "    if result[i]==max_cnt:  \n",
    "        print(i+1, end=' ')    "
   ]
  },
  {
   "cell_type": "markdown",
   "metadata": {},
   "source": [
    "### 풀이4 : DFS - 메모리 초과(PyPy3), 시간 초과(Python)"
   ]
  },
  {
   "cell_type": "markdown",
   "metadata": {},
   "source": [
    "- DFS는 재귀함수로 메모리 소모가 크고, 시간이 오래걸리므로, BFS 가능하다면 BFS로 하는게 효율적!"
   ]
  },
  {
   "cell_type": "code",
   "execution_count": 63,
   "metadata": {},
   "outputs": [
    {
     "name": "stdout",
     "output_type": "stream",
     "text": [
      "5 4\n",
      "3 1\n",
      "3 2\n",
      "4 3\n",
      "5 3\n",
      "1 2 "
     ]
    }
   ],
   "source": [
    "import sys\n",
    "sys.setrecursionlimit(1000000)\n",
    "\n",
    "n, m=map(int, input().split())\n",
    "adj=[[] for _ in range(n+1)]\n",
    "result=[]\n",
    "\n",
    "def DFS(i):       \n",
    "    visited[i]=True\n",
    "    for j in adj[i]:\n",
    "        if not visited[j]:            \n",
    "            DFS(j)    \n",
    "                \n",
    "for _ in range(m):\n",
    "    to_n, from_n = map(int, input().split())\n",
    "    adj[from_n].append(to_n)\n",
    "\n",
    "for i in range(1, n+1):    \n",
    "    visited=[False]*(n+1)\n",
    "    DFS(i)\n",
    "    result.append(sum(visited))\n",
    "    \n",
    "max_cnt=max(result)\n",
    "for i in range(n):\n",
    "    if result[i]==max_cnt:\n",
    "        print(i+1, end=' ')"
   ]
  }
 ],
 "metadata": {
  "kernelspec": {
   "display_name": "Python 3",
   "language": "python",
   "name": "python3"
  },
  "language_info": {
   "codemirror_mode": {
    "name": "ipython",
    "version": 3
   },
   "file_extension": ".py",
   "mimetype": "text/x-python",
   "name": "python",
   "nbconvert_exporter": "python",
   "pygments_lexer": "ipython3",
   "version": "3.7.6"
  }
 },
 "nbformat": 4,
 "nbformat_minor": 4
}
