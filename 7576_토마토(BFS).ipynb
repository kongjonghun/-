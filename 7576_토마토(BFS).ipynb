{
 "cells": [
  {
   "cell_type": "code",
   "execution_count": 6,
   "metadata": {},
   "outputs": [],
   "source": [
    "from collections import deque\n",
    "\n",
    "M, N = map(int, input().split())\n",
    "graph=[list(map(int, input().split())) for _ in range(N)]\n",
    "q=deque([])\n",
    "\n",
    "for i in range(N):            # 시작지점 위치 K개 저장\n",
    "    for j in range(M):\n",
    "        if graph[i][j]==1:\n",
    "            q.append([i,j])\n",
    "\n",
    "def BFS():    \n",
    "    while q:\n",
    "        nx, ny=q.popleft()   # 시작지점 K개에서 시작해서 BFS 수행\n",
    "        for i,j in [(nx+1, ny),(nx-1, ny),(nx, ny+1),(nx, ny-1)]:\n",
    "            if 0<=i<N and 0<=j<M and graph[i][j]==0:\n",
    "                graph[i][j]=graph[nx][ny]+1\n",
    "                q.append([i,j])                                        \n",
    "BFS()\n",
    "all_max=0\n",
    "for i in graph:   # 그래프의 행 순회\n",
    "    if 0 in i:    # 0이 존재한다면 토마토가 모두 익지 못하는 상황\n",
    "        print(-1)\n",
    "        exit(0)\n",
    "    all_max=max(max(i), all_max)  # 그래프의 행을 탐색하며 (행 중 가장 큰것) 그것 중 가장 큰 것\n",
    "print(all_max-1)"
   ]
  },
  {
   "cell_type": "markdown",
   "metadata": {},
   "source": [
    "- exit(0) 필수!!!   \n",
    "→ 종료안하면 print(-1) 이후 print(all_max-1) 출력!"
   ]
  }
 ],
 "metadata": {
  "kernelspec": {
   "display_name": "Python 3",
   "language": "python",
   "name": "python3"
  },
  "language_info": {
   "codemirror_mode": {
    "name": "ipython",
    "version": 3
   },
   "file_extension": ".py",
   "mimetype": "text/x-python",
   "name": "python",
   "nbconvert_exporter": "python",
   "pygments_lexer": "ipython3",
   "version": "3.7.6"
  }
 },
 "nbformat": 4,
 "nbformat_minor": 4
}
