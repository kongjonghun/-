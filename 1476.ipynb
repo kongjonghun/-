{
 "cells": [
  {
   "cell_type": "markdown",
   "metadata": {},
   "source": [
    "# 1476 : 날짜 계산"
   ]
  },
  {
   "cell_type": "markdown",
   "metadata": {},
   "source": [
    "https://www.acmicpc.net/problem/1476"
   ]
  },
  {
   "cell_type": "code",
   "execution_count": 4,
   "metadata": {},
   "outputs": [
    {
     "name": "stdout",
     "output_type": "stream",
     "text": [
      "15 28 19\n",
      "7980\n"
     ]
    }
   ],
   "source": [
    "ESM = list(map(int, input().split()))\n",
    "data=[1,1,1]\n",
    "year=1\n",
    "while True:\n",
    "    if ESM==data: # 탈출문\n",
    "        print(year)\n",
    "        break\n",
    "    for i in range(3): # 1년 추가시 E,S,M +=1\n",
    "        data[i]+=1     \n",
    "    year+=1             # 1년 당 +=1\n",
    "    if data[0]>15:     # 초기화\n",
    "        data[0]=1\n",
    "    if data[1]>28:\n",
    "        data[1]=1\n",
    "    if data[2]>19:\n",
    "        data[2]=1        "
   ]
  }
 ],
 "metadata": {
  "kernelspec": {
   "display_name": "Python 3",
   "language": "python",
   "name": "python3"
  },
  "language_info": {
   "codemirror_mode": {
    "name": "ipython",
    "version": 3
   },
   "file_extension": ".py",
   "mimetype": "text/x-python",
   "name": "python",
   "nbconvert_exporter": "python",
   "pygments_lexer": "ipython3",
   "version": "3.7.6"
  }
 },
 "nbformat": 4,
 "nbformat_minor": 4
}
