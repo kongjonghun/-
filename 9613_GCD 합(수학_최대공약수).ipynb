{
 "cells": [
  {
   "cell_type": "code",
   "execution_count": 4,
   "metadata": {},
   "outputs": [
    {
     "name": "stdout",
     "output_type": "stream",
     "text": [
      "3\n",
      "4 10 20 30 40\n",
      "70\n",
      "3 7 5 12\n",
      "3\n",
      "3 125 15 25\n",
      "35\n"
     ]
    }
   ],
   "source": [
    "import math\n",
    "\n",
    "for _ in range(int(input())):\n",
    "    lst=list(map(int, input().split()))\n",
    "    n, lst= lst[0], lst[1:]\n",
    "    sum=0\n",
    "    for i in range(n-1):\n",
    "        for j in range(i+1, n):\n",
    "            sum+=math.gcd(lst[i], lst[j])\n",
    "    print(sum)"
   ]
  },
  {
   "cell_type": "code",
   "execution_count": 5,
   "metadata": {},
   "outputs": [
    {
     "name": "stdout",
     "output_type": "stream",
     "text": [
      "3\n",
      "4 10 20 30 40\n",
      "70\n",
      "3 7 5 12\n",
      "3\n",
      "3 125 15 25\n",
      "35\n"
     ]
    }
   ],
   "source": [
    "def gcd(a,b):\n",
    "    if a%b==0:\n",
    "        return b\n",
    "    else:\n",
    "        return gcd(b, a%b)\n",
    "\n",
    "for _ in range(int(input())):\n",
    "    lst=list(map(int, input().split()))\n",
    "    n, lst= lst[0], lst[1:]\n",
    "    sum=0\n",
    "    for i in range(n-1):\n",
    "        for j in range(i+1, n):\n",
    "            sum+=gcd(lst[i], lst[j])\n",
    "    print(sum)"
   ]
  }
 ],
 "metadata": {
  "kernelspec": {
   "display_name": "Python 3",
   "language": "python",
   "name": "python3"
  },
  "language_info": {
   "codemirror_mode": {
    "name": "ipython",
    "version": 3
   },
   "file_extension": ".py",
   "mimetype": "text/x-python",
   "name": "python",
   "nbconvert_exporter": "python",
   "pygments_lexer": "ipython3",
   "version": "3.7.6"
  }
 },
 "nbformat": 4,
 "nbformat_minor": 4
}
