{
 "cells": [
  {
   "cell_type": "code",
   "execution_count": 2,
   "metadata": {
    "scrolled": true
   },
   "outputs": [
    {
     "name": "stdout",
     "output_type": "stream",
     "text": [
      "5\n",
      "7\n",
      "3 8\n",
      "8 1 0\n",
      "2 7 4 4\n",
      "4 5 2 6 5\n",
      "30\n"
     ]
    }
   ],
   "source": [
    "# dp[i][j] : i,j 도착했을 때 최대값\n",
    "# dp[i][j]=dp[i-1][j-1]\n",
    "\n",
    "n=int(input())\n",
    "A=[[0 for _ in range(n+1)] for _ in range(n+1)]\n",
    "dp=[[0 for _ in range(n+1)] for _ in range(n+1)]\n",
    "\n",
    "for i in range(1, n+1):\n",
    "    tmp=list(map(int, input().split()))\n",
    "    for j in range(len(tmp)):\n",
    "        A[i][j+1]=tmp[j]\n",
    "        \n",
    "for i in range(1, n+1):\n",
    "    for j in range(1, i+1):\n",
    "        dp[i][j]=max(dp[i-1][j-1], dp[i-1][j]) + A[i][j]\n",
    "\n",
    "print(max(dp[n]))"
   ]
  }
 ],
 "metadata": {
  "kernelspec": {
   "display_name": "Python 3",
   "language": "python",
   "name": "python3"
  },
  "language_info": {
   "codemirror_mode": {
    "name": "ipython",
    "version": 3
   },
   "file_extension": ".py",
   "mimetype": "text/x-python",
   "name": "python",
   "nbconvert_exporter": "python",
   "pygments_lexer": "ipython3",
   "version": "3.7.6"
  }
 },
 "nbformat": 4,
 "nbformat_minor": 4
}
