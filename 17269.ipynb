{
 "cells": [
  {
   "cell_type": "markdown",
   "metadata": {},
   "source": [
    "# 17269 : 이름궁합 테스트"
   ]
  },
  {
   "cell_type": "markdown",
   "metadata": {},
   "source": [
    "https://www.acmicpc.net/problem/17269"
   ]
  },
  {
   "cell_type": "code",
   "execution_count": 19,
   "metadata": {},
   "outputs": [
    {
     "name": "stdout",
     "output_type": "stream",
     "text": [
      "8 14\n",
      "LEESIYUN MIYAWAKISAKURA\n",
      "27%\n"
     ]
    }
   ],
   "source": [
    "#import sys\n",
    "#input = sys.stdin.readline\n",
    "\n",
    "N, M =map(int, input().split())\n",
    "A, B =input().split()\n",
    "\n",
    "alpha=[3,2,1,2,4,3,1,3,1,1,3,1,3,2,1,2,2,2,1,2,1,1,1,2,2,1]\n",
    "\n",
    "min_len = min(len(A), len(B))\n",
    "\n",
    "sum=''\n",
    "for i in range(min_len):  # 문자열 합치기\n",
    "    sum+=A[i]+B[i]\n",
    "\n",
    "sum+=A[min_len:]+B[min_len:]  \n",
    "\n",
    "alpha_data=[0 for _ in range(len(A)+len(B))]\n",
    "\n",
    "for i in range(len(A)+len(B)):\n",
    "    alpha_data[i] = alpha[ord(sum[i])-ord('A')]\n",
    "\n",
    "while len(alpha_data)>2:\n",
    "    for i in range(len(alpha_data)-1):\n",
    "        data=alpha_data[i]+alpha_data[i+1]\n",
    "        alpha_data[i]=data%10\n",
    "        \n",
    "    del alpha_data[-1]\n",
    "\n",
    "# 출력 1\n",
    "if alpha_data[0]==0:\n",
    "    print(\"{}%\".format(str(alpha_data[1])))\n",
    "else:\n",
    "    print(\"{}%\".format(str(alpha_data[0])+str(alpha_data[1])))\n",
    "    \n",
    "# 출력 2\n",
    "if alpha_data[0]==0:\n",
    "    print(\"{}%\".format(alpha_data[1]))\n",
    "else:\n",
    "    print(\"{}%\".format(alpha_data[0]*10+alpha_data[1]))"
   ]
  }
 ],
 "metadata": {
  "kernelspec": {
   "display_name": "Python 3",
   "language": "python",
   "name": "python3"
  },
  "language_info": {
   "codemirror_mode": {
    "name": "ipython",
    "version": 3
   },
   "file_extension": ".py",
   "mimetype": "text/x-python",
   "name": "python",
   "nbconvert_exporter": "python",
   "pygments_lexer": "ipython3",
   "version": "3.7.6"
  }
 },
 "nbformat": 4,
 "nbformat_minor": 4
}
