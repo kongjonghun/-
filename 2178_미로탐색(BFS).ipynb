{
 "cells": [
  {
   "cell_type": "markdown",
   "metadata": {},
   "source": [
    "# 2178 : 미로탐색"
   ]
  },
  {
   "cell_type": "markdown",
   "metadata": {},
   "source": [
    "## BFS"
   ]
  },
  {
   "cell_type": "code",
   "execution_count": null,
   "metadata": {},
   "outputs": [],
   "source": [
    "from collections import deque\n",
    "\n",
    "N, M =map(int, input().split())\n",
    "graph=[list(map(int, input())) for _ in range(N)]\n",
    "visited=[[False]*M for _ in range(N)]\n",
    "dist=[[1]*M for _ in range(N)]\n",
    "\n",
    "def BFS(x,y):\n",
    "    q=deque([[x,y]])\n",
    "    while q:\n",
    "        nx,ny=q.popleft()\n",
    "        if graph[nx][ny]==1 and not visited[nx][ny]:\n",
    "            visited[nx][ny]=True\n",
    "            for i,j in [(nx+1, ny),(nx, ny+1),(nx-1, ny),(nx, ny-1)]:\n",
    "                if 0<=i<N and 0<=j<M and graph[i][j]==1 and not visited[i][j]:         \n",
    "                    dist[i][j]=dist[nx][ny]+1\n",
    "                    q.append([i,j])\n",
    "            \n",
    "BFS(0,0)\n",
    "print(dist[-1][-1])"
   ]
  },
  {
   "cell_type": "code",
   "execution_count": 3,
   "metadata": {},
   "outputs": [
    {
     "name": "stdout",
     "output_type": "stream",
     "text": [
      "4 6\n",
      "110110\n",
      "110110\n",
      "111111\n",
      "111101\n",
      "[1, 2, 0, 8, 9, 0]\n",
      "[2, 3, 0, 7, 8, 0]\n",
      "[3, 4, 5, 6, 7, 8]\n",
      "[4, 5, 6, 7, 0, 9]\n",
      "9\n"
     ]
    }
   ],
   "source": [
    "from collections import deque\n",
    "\n",
    "N, M =map(int, input().split())\n",
    "graph=[list(map(int, input())) for _ in range(N)]\n",
    "visited=[[0]*M for _ in range(N)]\n",
    "\n",
    "def BFS(x,y):\n",
    "    q=deque([[x,y]])\n",
    "    visited[x][y]=1\n",
    "    while q:\n",
    "        nx,ny=q.popleft()    \n",
    "        for i,j in [(nx+1, ny),(nx, ny+1),(nx-1, ny),(nx, ny-1)]:\n",
    "            if 0<=i<N and 0<=j<M and graph[i][j]==1 and not visited[i][j]:\n",
    "                visited[i][j]=visited[nx][ny]+1                \n",
    "                q.append([i,j])\n",
    "            \n",
    "BFS(0,0)\n",
    "for i in visited:\n",
    "    print(i)\n",
    "print(visited[-1][-1])"
   ]
  },
  {
   "cell_type": "markdown",
   "metadata": {},
   "source": [
    "### DFS : X 안됨"
   ]
  },
  {
   "cell_type": "code",
   "execution_count": 4,
   "metadata": {},
   "outputs": [
    {
     "name": "stdout",
     "output_type": "stream",
     "text": [
      "4 6\n",
      "110110\n",
      "110110\n",
      "111111\n",
      "111101\n",
      "1 8 1 12 13 1\n",
      "2 7 1 11 14 1\n",
      "3 6 7 10 15 16\n",
      "4 5 8 9 1 17\n"
     ]
    }
   ],
   "source": [
    "N, M =map(int, input().split())\n",
    "graph=[list(map(int, input())) for _ in range(N)]\n",
    "visited=[[False]*M for _ in range(N)]\n",
    "dist=[[1]*M for _ in range(N)]\n",
    "\n",
    "def DFS(x,y):\n",
    "    visited[x][y]=True\n",
    "    for i,j in [(x+1,y),(x-1,y),(x,y+1),(x,y-1)]:\n",
    "        if 0<=i<N and 0<=j<M and graph[i][j]==1 and not visited[i][j]:\n",
    "            dist[i][j]=dist[x][y]+1    \n",
    "            DFS(i,j)                   \n",
    "            \n",
    "DFS(0,0)\n",
    "for i in dist:\n",
    "    print(' '.join(map(str, i)))"
   ]
  }
 ],
 "metadata": {
  "kernelspec": {
   "display_name": "Python 3",
   "language": "python",
   "name": "python3"
  },
  "language_info": {
   "codemirror_mode": {
    "name": "ipython",
    "version": 3
   },
   "file_extension": ".py",
   "mimetype": "text/x-python",
   "name": "python",
   "nbconvert_exporter": "python",
   "pygments_lexer": "ipython3",
   "version": "3.7.6"
  }
 },
 "nbformat": 4,
 "nbformat_minor": 4
}
