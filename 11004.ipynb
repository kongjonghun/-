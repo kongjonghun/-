{
 "cells": [
  {
   "cell_type": "markdown",
   "metadata": {},
   "source": [
    "\n",
    "# 11004 : k번째 수"
   ]
  },
  {
   "cell_type": "markdown",
   "metadata": {},
   "source": [
    "#### 풀이1 : 기본 정렬 라이브러리"
   ]
  },
  {
   "cell_type": "code",
   "execution_count": 5,
   "metadata": {},
   "outputs": [
    {
     "name": "stdout",
     "output_type": "stream",
     "text": [
      "5 2\n",
      "4 1 2 3 5\n",
      "2\n"
     ]
    }
   ],
   "source": [
    "n,k = map(int, input().split())\n",
    "data=list(map(int, input().split()))\n",
    "\n",
    "data = sorted(data)\n",
    "print(data[k-1])"
   ]
  },
  {
   "cell_type": "markdown",
   "metadata": {},
   "source": [
    "#### 풀이2 : 병합정렬(nlogn)"
   ]
  },
  {
   "cell_type": "code",
   "execution_count": 7,
   "metadata": {},
   "outputs": [
    {
     "name": "stdout",
     "output_type": "stream",
     "text": [
      "5 2\n",
      "4 1 3 5 2\n",
      "2\n"
     ]
    }
   ],
   "source": [
    "def merge(left,right):\n",
    "    merged=[]\n",
    "    left_pt,right_pt=0,0\n",
    "    while len(left)>left_pt and len(right)>right_pt:\n",
    "        if left[left_pt]<right[right_pt]:\n",
    "            merged.append(left[left_pt])\n",
    "            left_pt+=1\n",
    "        else:\n",
    "            merged.append(right[right_pt])\n",
    "            right_pt+=1\n",
    "            \n",
    "    while len(left)>left_pt:\n",
    "            merged.append(left[left_pt])\n",
    "            left_pt+=1\n",
    "            \n",
    "    while len(right)>right_pt:\n",
    "            merged.append(right[right_pt])\n",
    "            right_pt+=1\n",
    "    \n",
    "    return merged\n",
    "                    \n",
    "def merge_split(array):\n",
    "    if len(array)<=1:\n",
    "        return array\n",
    "    mid = len(array)//2\n",
    "    left=merge_split(array[:mid])\n",
    "    right=merge_split(array[mid:])\n",
    "    return merge(left, right)\n",
    "\n",
    "n,k=map(int, input().split())\n",
    "data=list(map(int, input().split()))\n",
    "\n",
    "data=merge_split(data)\n",
    "print(data[k-1])"
   ]
  }
 ],
 "metadata": {
  "kernelspec": {
   "display_name": "Python 3",
   "language": "python",
   "name": "python3"
  },
  "language_info": {
   "codemirror_mode": {
    "name": "ipython",
    "version": 3
   },
   "file_extension": ".py",
   "mimetype": "text/x-python",
   "name": "python",
   "nbconvert_exporter": "python",
   "pygments_lexer": "ipython3",
   "version": "3.7.6"
  }
 },
 "nbformat": 4,
 "nbformat_minor": 4
}
