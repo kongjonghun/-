{
 "cells": [
  {
   "cell_type": "code",
   "execution_count": 5,
   "metadata": {},
   "outputs": [
    {
     "name": "stdout",
     "output_type": "stream",
     "text": [
      "50\n",
      "25\n",
      "26\n"
     ]
    }
   ],
   "source": [
    "a = 100\n",
    "i = 0\n",
    "result = 0\n",
    "for i in range(1,3):\n",
    "    result = a >> i\n",
    "    print(result)\n",
    "    result += 1\n",
    "print(result)\n"
   ]
  },
  {
   "cell_type": "markdown",
   "metadata": {},
   "source": [
    "<img src=\"2014.png\">"
   ]
  },
  {
   "cell_type": "code",
   "execution_count": 6,
   "metadata": {},
   "outputs": [
    {
     "name": "stdout",
     "output_type": "stream",
     "text": [
      "4 19\n",
      "2 3  5 7\n",
      "27\n"
     ]
    }
   ],
   "source": [
    "import copy\n",
    "import heapq\n",
    "k, n=map(int, input().split())\n",
    "data=list(map(int, input().split())) \n",
    "lst=copy.deepcopy(data)\n",
    "ck=set()\n",
    "heapq.heapify(lst)\n",
    "\n",
    "cnt=1\n",
    "while cnt<=n:\n",
    "    min_data=heapq.heappop(lst)\n",
    "    if min_data in ck:\n",
    "        continue    \n",
    "    ck.add(min_data)\n",
    "    cnt+=1\n",
    "    for i in data:\n",
    "        heapq.heappush(lst, min_data*i)\n",
    "\n",
    "print(max(ck))  # print(min_data)"
   ]
  },
  {
   "cell_type": "markdown",
   "metadata": {},
   "source": [
    "- 최적화"
   ]
  },
  {
   "cell_type": "code",
   "execution_count": 8,
   "metadata": {},
   "outputs": [
    {
     "name": "stdout",
     "output_type": "stream",
     "text": [
      "4 19\n",
      "2 3 5 7\n",
      "27\n"
     ]
    }
   ],
   "source": [
    "import copy\n",
    "import heapq\n",
    "k, n =map(int, input().split())\n",
    "data=list(map(int, input().split()))\n",
    "lst=copy.deepcopy(data)\n",
    "ck=set()\n",
    "heapq.heapify(lst)\n",
    "\n",
    "cnt=1\n",
    "while cnt<=n:\n",
    "    min_data=heapq.heappop(lst)\n",
    "    if min_data in ck:\n",
    "        continue    \n",
    "    ck.add(min_data)\n",
    "    cnt+=1\n",
    "    for i in data:\n",
    "        if min_data*i <2**32:                    ### 최적화\n",
    "            heapq.heappush(lst, min_data*i)\n",
    "\n",
    "print(max(ck))  # print(min_data)"
   ]
  }
 ],
 "metadata": {
  "kernelspec": {
   "display_name": "Python 3",
   "language": "python",
   "name": "python3"
  },
  "language_info": {
   "codemirror_mode": {
    "name": "ipython",
    "version": 3
   },
   "file_extension": ".py",
   "mimetype": "text/x-python",
   "name": "python",
   "nbconvert_exporter": "python",
   "pygments_lexer": "ipython3",
   "version": "3.7.6"
  }
 },
 "nbformat": 4,
 "nbformat_minor": 4
}
