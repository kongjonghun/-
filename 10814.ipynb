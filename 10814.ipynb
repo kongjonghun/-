{
 "cells": [
  {
   "cell_type": "markdown",
   "metadata": {},
   "source": [
    "# 10814 : 나이순 정렬"
   ]
  },
  {
   "cell_type": "markdown",
   "metadata": {},
   "source": [
    "온라인 저지에 가입한 사람들의 나이와 이름이 가입한 순서대로 주어진다. 이때, 회원들을 나이가 증가하는 순으로, 나이가 같으면 먼저 가입한 사람이 앞에 오는 순서로 정렬하는 프로그램을 작성하시오."
   ]
  },
  {
   "cell_type": "markdown",
   "metadata": {},
   "source": [
    "### list.sort() vs sorted()\n",
    "- list.sort(key='', reverse = True/False) : 리스트 정렬만 가능 / 기존 리스트 변경\n",
    "- sorted(이터러블, key='', reverse = True/False) : 모든 이터러블 가능(dictionary, list, tuple 등) / 리스트로 반환 / 새로운 리스트 생성  \n",
    "! key=lambda x:연산식 : 연산식 기준으로 정렬  \n",
    "! 튜플 sort, sorted할 경우 정렬 내 입력 순서로 정렬  \n",
    "! 튜플의 첫 번째 원소로 정렬, 이후 같은 값이 나오면 두 번째 원소 정렬하는 방식  \n",
    "  ex) tuple_list.sort(key=lambda x: (x[0], x[1]))"
   ]
  },
  {
   "cell_type": "markdown",
   "metadata": {},
   "source": [
    "### 풀이1 : sort()"
   ]
  },
  {
   "cell_type": "code",
   "execution_count": 25,
   "metadata": {},
   "outputs": [
    {
     "name": "stdout",
     "output_type": "stream",
     "text": [
      "3\n",
      "21 j\n",
      "21 d\n",
      "20 sun\n",
      "20 sun\n",
      "21 j\n",
      "21 d\n"
     ]
    }
   ],
   "source": [
    "count = int(input())\n",
    "data=[]\n",
    "for i in range(count):\n",
    "    n,m = input().split()\n",
    "    data.append((int(n), m))\n",
    "\n",
    "data.sort(key=lambda x:x[0]) ### sort(key)\n",
    "for i in data:\n",
    "    print(i[0],i[1])"
   ]
  },
  {
   "cell_type": "markdown",
   "metadata": {},
   "source": [
    "### 풀이2 : sorted"
   ]
  },
  {
   "cell_type": "code",
   "execution_count": 31,
   "metadata": {},
   "outputs": [
    {
     "name": "stdout",
     "output_type": "stream",
     "text": [
      "3\n",
      "21 j\n",
      "21 d\n",
      "20 sun\n",
      "20 sun\n",
      "21 j\n",
      "21 d\n"
     ]
    }
   ],
   "source": [
    "count = int(input())\n",
    "data=[]\n",
    "for i in range(count):\n",
    "    input_data = input().split()\n",
    "    data.append((int(input_data[0]),input_data[1]))\n",
    "\n",
    "data = sorted(data, key=lambda x:x[0])\n",
    "for i in data:\n",
    "    print(i[0],i[1])"
   ]
  },
  {
   "cell_type": "markdown",
   "metadata": {},
   "source": [
    "### 튜플 정렬  \n",
    "data = [(21,f), (21,a), (21,h), (20,a)]  \n",
    "  \n",
    "- data.sort(key=lambda x:x[0]) → 첫번째 기준 정렬 후, 입력 순서대로 정렬  \n",
    "(20, a), (21, f), (21, a), (21, h)  \n",
    "- data.sort() →  첫번째 기준 정렬 후, 두번째 기준 정렬  \n",
    "(20, a), (21, a), (21, h), (21, f)"
   ]
  },
  {
   "cell_type": "code",
   "execution_count": 32,
   "metadata": {},
   "outputs": [
    {
     "name": "stdout",
     "output_type": "stream",
     "text": [
      "3\n",
      "21 j\n",
      "21 d\n",
      "20 sun\n",
      "20 sun\n",
      "21 j\n",
      "21 d\n"
     ]
    }
   ],
   "source": [
    "count = int(input())\n",
    "data=[]\n",
    "for i in range(count):\n",
    "    n,m = input().split()\n",
    "    data.append((int(n), m))\n",
    "\n",
    "data.sort(key=lambda x:x[0]) ### sort(key)\n",
    "for i in data:\n",
    "    print(i[0],i[1])"
   ]
  },
  {
   "cell_type": "code",
   "execution_count": 27,
   "metadata": {},
   "outputs": [
    {
     "name": "stdout",
     "output_type": "stream",
     "text": [
      "3\n",
      "21 j\n",
      "21 d\n",
      "20 sun\n",
      "20 sun\n",
      "21 d\n",
      "21 j\n"
     ]
    }
   ],
   "source": [
    "count = int(input())\n",
    "data=[]\n",
    "for i in range(count):\n",
    "    n,m = input().split()\n",
    "    data.append((int(n), m))\n",
    "\n",
    "data.sort() ### sort()\n",
    "for i in data:\n",
    "    print(i[0],i[1])"
   ]
  }
 ],
 "metadata": {
  "kernelspec": {
   "display_name": "Python 3",
   "language": "python",
   "name": "python3"
  },
  "language_info": {
   "codemirror_mode": {
    "name": "ipython",
    "version": 3
   },
   "file_extension": ".py",
   "mimetype": "text/x-python",
   "name": "python",
   "nbconvert_exporter": "python",
   "pygments_lexer": "ipython3",
   "version": "3.7.6"
  }
 },
 "nbformat": 4,
 "nbformat_minor": 4
}
