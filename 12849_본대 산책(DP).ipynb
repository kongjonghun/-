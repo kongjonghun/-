{
 "cells": [
  {
   "cell_type": "markdown",
   "metadata": {},
   "source": [
    "<img src=\"12849.jpg\" width=\"70%\" height=\"70%\">"
   ]
  },
  {
   "cell_type": "markdown",
   "metadata": {},
   "source": [
    "- 4040ms"
   ]
  },
  {
   "cell_type": "code",
   "execution_count": 2,
   "metadata": {},
   "outputs": [
    {
     "name": "stdout",
     "output_type": "stream",
     "text": [
      "10\n",
      "9857\n"
     ]
    }
   ],
   "source": [
    "D=int(input())\n",
    "DP=[1,0,0,0,0,0,0,0]\n",
    "\n",
    "def next_minute(state):\n",
    "    tmp=[0 for _ in range(8)]\n",
    "    tmp[0]=state[1]+state[2]\n",
    "    tmp[1]=state[0]+state[2]+state[3]\n",
    "    tmp[2]=state[0]+state[1]+state[3]+state[4]\n",
    "    tmp[3]=state[1]+state[2]+state[4]+state[5]\n",
    "    tmp[4]=state[2]+state[3]+state[5]+state[7]\n",
    "    tmp[5]=state[3]+state[4]+state[6]\n",
    "    tmp[6]=state[5]+state[7]\n",
    "    tmp[7]=state[4]+state[6]\n",
    "    return tmp\n",
    "\n",
    "for _ in range(D):\n",
    "    DP=next_minute(DP)\n",
    "\n",
    "print(DP[0]%1000000007)"
   ]
  },
  {
   "cell_type": "markdown",
   "metadata": {},
   "source": [
    "- 140ms"
   ]
  },
  {
   "cell_type": "markdown",
   "metadata": {},
   "source": [
    "- 해쉬 처리 같은 경우, 연산마다 처리하면 속도 up"
   ]
  },
  {
   "cell_type": "code",
   "execution_count": null,
   "metadata": {},
   "outputs": [],
   "source": [
    "D=int(input())\n",
    "DP=[1,0,0,0,0,0,0,0]\n",
    "\n",
    "def next_minute(state):\n",
    "    tmp=[0 for _ in range(8)]\n",
    "    tmp[0]=state[1]+state[2]\n",
    "    tmp[1]=state[0]+state[2]+state[3]\n",
    "    tmp[2]=state[0]+state[1]+state[3]+state[4]\n",
    "    tmp[3]=state[1]+state[2]+state[4]+state[5]\n",
    "    tmp[4]=state[2]+state[3]+state[5]+state[7]\n",
    "    tmp[5]=state[3]+state[4]+state[6]\n",
    "    tmp[6]=state[5]+state[7]\n",
    "    tmp[7]=state[4]+state[6]\n",
    "    for i in range(8):\n",
    "        tmp[i]%=1000000007\n",
    "    return tmp\n",
    "\n",
    "for _ in range(D):\n",
    "    DP=next_minute(DP) \n",
    "\n",
    "print(DP[0])"
   ]
  }
 ],
 "metadata": {
  "kernelspec": {
   "display_name": "Python 3",
   "language": "python",
   "name": "python3"
  },
  "language_info": {
   "codemirror_mode": {
    "name": "ipython",
    "version": 3
   },
   "file_extension": ".py",
   "mimetype": "text/x-python",
   "name": "python",
   "nbconvert_exporter": "python",
   "pygments_lexer": "ipython3",
   "version": "3.7.6"
  }
 },
 "nbformat": 4,
 "nbformat_minor": 4
}
