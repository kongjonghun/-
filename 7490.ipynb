{
 "cells": [
  {
   "cell_type": "markdown",
   "metadata": {},
   "source": [
    "# 7490 : 0 만들기"
   ]
  },
  {
   "cell_type": "markdown",
   "metadata": {},
   "source": [
    "https://www.acmicpc.net/problem/7490"
   ]
  },
  {
   "cell_type": "code",
   "execution_count": 9,
   "metadata": {
    "scrolled": true
   },
   "outputs": [
    {
     "name": "stdout",
     "output_type": "stream",
     "text": [
      "2\n",
      "3\n",
      "1+2-3\n",
      "7\n",
      "1+2-3+4-5-6+7\n",
      "1+2-3-4+5+6-7\n",
      "1-2 3+4+5+6+7\n",
      "1-2 3-4 5+6 7\n",
      "1-2+3+4-5+6-7\n",
      "1-2-3-4-5+6+7\n"
     ]
    }
   ],
   "source": [
    "import copy\n",
    "\n",
    "def recursive(array, n):\n",
    "    if len(array)==n:\n",
    "        operator_list.append(copy.deepcopy(array))\n",
    "        return \n",
    "    array.append(' ')\n",
    "    recursive(array, n)\n",
    "    array.pop()\n",
    "    \n",
    "    array.append('+')\n",
    "    recursive(array, n)\n",
    "    array.pop()\n",
    "    \n",
    "    array.append('-')\n",
    "    recursive(array, n)\n",
    "    array.pop()\n",
    "            \n",
    "test_case=int(input())\n",
    "for _ in range(test_case):\n",
    "    operator_list=[]\n",
    "    n = int(input())\n",
    "    array=[i for i in range(1,n+1)] # 숫자 리스트\n",
    "    recursive([],n-1)               # 연산자 리스트\n",
    "    #print(operator_list)\n",
    "    \n",
    "    for operator in operator_list:\n",
    "        string=\"\"\n",
    "        for i in range(n-1):\n",
    "            string += str(array[i])+operator[i]\n",
    "        string += str(array[-1])\n",
    "        if eval(string.replace(\" \", \"\"))==0:\n",
    "            print(string)                                \n",
    "    print()"
   ]
  },
  {
   "cell_type": "code",
   "execution_count": null,
   "metadata": {},
   "outputs": [],
   "source": [
    "public int vartest(int a){\n",
    "    a++;\n",
    "    return a;\n",
    "}\n",
    "public static void main(String[] args){\n",
    "    int a =1;\n",
    "    Test myTest = new Test();\n",
    "    a = myTest.vartest(a);\n",
    "    System.out.println(a);\n",
    "} "
   ]
  }
 ],
 "metadata": {
  "kernelspec": {
   "display_name": "Python 3",
   "language": "python",
   "name": "python3"
  },
  "language_info": {
   "codemirror_mode": {
    "name": "ipython",
    "version": 3
   },
   "file_extension": ".py",
   "mimetype": "text/x-python",
   "name": "python",
   "nbconvert_exporter": "python",
   "pygments_lexer": "ipython3",
   "version": "3.7.6"
  }
 },
 "nbformat": 4,
 "nbformat_minor": 4
}
