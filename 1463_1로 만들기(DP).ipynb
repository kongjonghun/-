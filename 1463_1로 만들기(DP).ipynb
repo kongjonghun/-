{
 "cells": [
  {
   "cell_type": "code",
   "execution_count": null,
   "metadata": {},
   "outputs": [],
   "source": [
    "Top-down 방식 : 재귀\n",
    "Bottom-up 방식 : 반복문!!\n",
    "\n",
    "dp[i] : i일때 최소 연산 횟수\n",
    "    \n",
    "# dp[i]는 dp[i//3], dp[i//2], dp[i-1] 중 가장 작은 값 + 1\n",
    "dp[i]=min(dp[i//3], dp[i//2], dp[i-1])+1    \n",
    "\n",
    "ex) i==6\n",
    " dp[6]=min(dp[2], dp[3], dp[5])+1  \n",
    "# 6일때 최소 연산 횟수 = (3나눌때 최소 연산 횟수, 2나눌때 최소 연산 횟수, -1일때 최소 연산 횟수) + 1\n",
    "# 여기서 맨 뒤 + 1은 min(i//3, i//2, i-1) 연산에 한 번의 연산을 더 해주어야 dp[i]가 되기 때문"
   ]
  },
  {
   "cell_type": "code",
   "execution_count": 13,
   "metadata": {},
   "outputs": [
    {
     "name": "stdout",
     "output_type": "stream",
     "text": [
      "10\n",
      "3\n"
     ]
    }
   ],
   "source": [
    "n=int(input())\n",
    "dp=[0,0,1,1]                          # 0,1,2,3일 때 최소 연산 횟수\n",
    "\n",
    "for i in range(4, n+1):\n",
    "    dp.append(dp[i-1]+1)              # i-1인 경우를 우선 저장(dp[i] = dp[i-1] + 1)\n",
    "        \n",
    "    if i%2==0:\n",
    "        dp[i]=min(dp[i], dp[i//2]+1)    # min(dp[i-1], dp[i//2]) : i-1인경우와 i//2인경우 중 작은 값\n",
    "    if i%3==0:\n",
    "        dp[i]=min(dp[i], dp[i//3]+1)    # min(dp[i-1] or dp[i//2], dp[i//3]) : (i-1, i//2) 중 작은 값과 i//3인경우 중 작은 값\n",
    "\n",
    "print(dp[n])                            # 주의!! dp[-1] : X , i=0,1,2의 경우 dp[-1]이면 dp[3]인 1이 출력되므로 dp[n]으로 출력!"
   ]
  }
 ],
 "metadata": {
  "kernelspec": {
   "display_name": "Python 3",
   "language": "python",
   "name": "python3"
  },
  "language_info": {
   "codemirror_mode": {
    "name": "ipython",
    "version": 3
   },
   "file_extension": ".py",
   "mimetype": "text/x-python",
   "name": "python",
   "nbconvert_exporter": "python",
   "pygments_lexer": "ipython3",
   "version": "3.7.6"
  }
 },
 "nbformat": 4,
 "nbformat_minor": 4
}
