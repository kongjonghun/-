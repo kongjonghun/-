{
 "cells": [
  {
   "cell_type": "markdown",
   "metadata": {},
   "source": [
    "# 2751 : 수 정렬하기2"
   ]
  },
  {
   "cell_type": "markdown",
   "metadata": {},
   "source": [
    "https://www.acmicpc.net/problem/2751"
   ]
  },
  {
   "cell_type": "markdown",
   "metadata": {},
   "source": [
    "### 풀이1"
   ]
  },
  {
   "cell_type": "code",
   "execution_count": 15,
   "metadata": {},
   "outputs": [
    {
     "name": "stdout",
     "output_type": "stream",
     "text": [
      "3\n",
      "-5\n",
      "2\n",
      "-19\n",
      "-19\n",
      "-5\n",
      "2\n"
     ]
    }
   ],
   "source": [
    "n = int(input())\n",
    "array=[]\n",
    "\n",
    "for _ in range(n):\n",
    "    array.append(int(input()))\n",
    "array.sort()                    # array=sorted(array)\n",
    "\n",
    "for i in range(len(array)):\n",
    "    print(array[i])"
   ]
  },
  {
   "cell_type": "markdown",
   "metadata": {},
   "source": [
    "### 풀이2 : 퀵정렬 / 메모리, 시간초과"
   ]
  },
  {
   "cell_type": "code",
   "execution_count": 21,
   "metadata": {
    "scrolled": true
   },
   "outputs": [
    {
     "name": "stdout",
     "output_type": "stream",
     "text": [
      "5\n",
      "5\n",
      "4\n",
      "3\n",
      "2\n",
      "1\n",
      "1\n",
      "2\n",
      "3\n",
      "4\n",
      "5\n"
     ]
    }
   ],
   "source": [
    "def qsort(array):\n",
    "    if len(array)<=1:\n",
    "        return array\n",
    "    pivot=array[0]\n",
    "    right = [i for i in array[1:] if i>pivot]\n",
    "    left = [i for i in array[1:] if i<pivot]\n",
    "    \n",
    "    return qsort(left) + [pivot] + qsort(right)        \n",
    "\n",
    "array=[]\n",
    "n = int(input())\n",
    "\n",
    "for _ in range(n):\n",
    "    array.append(int(input()))\n",
    "    \n",
    "for i in qsort(array):\n",
    "    print(i)"
   ]
  },
  {
   "cell_type": "markdown",
   "metadata": {},
   "source": [
    "### 풀이3 : 병합정렬(nlogn)"
   ]
  },
  {
   "cell_type": "code",
   "execution_count": 26,
   "metadata": {},
   "outputs": [
    {
     "name": "stdout",
     "output_type": "stream",
     "text": [
      "5\n",
      "5\n",
      "4\n",
      "3\n",
      "2\n",
      "1\n",
      "1\n",
      "2\n",
      "3\n",
      "4\n",
      "5\n"
     ]
    }
   ],
   "source": [
    "def merge(left, right):\n",
    "    merged=[]\n",
    "    left_pt,right_pt=0,0\n",
    "    # 왼쪽, 오른쪽 데이터 남았을때\n",
    "    while len(left)>left_pt and len(right)>right_pt:\n",
    "        if left[left_pt] < right[right_pt]: # 작은 데이터 먼저 append\n",
    "            merged.append(left[left_pt])\n",
    "            left_pt+=1\n",
    "        else:\n",
    "            merged.append(right[right_pt])\n",
    "            right_pt+=1\n",
    "    # 오른쪽 데이터 없고, 왼쪽 데이터 남았을때\n",
    "    while len(left)>left_pt:\n",
    "        merged.append(left[left_pt])\n",
    "        left_pt+=1\n",
    "    # 왼쪽 데이터 없고, 오른쪽 데이터 남았을때\n",
    "    while len(right)>right_pt:\n",
    "        merged.append(right[right_pt])\n",
    "        right_pt+=1\n",
    "    \n",
    "    return merged\n",
    "\n",
    "\n",
    "def merge_split(array):\n",
    "    if len(array)<=1:\n",
    "        return array\n",
    "    med=len(array)//2\n",
    "    left=merge_split(array[:med])\n",
    "    right=merge_split(array[med:])\n",
    "    return merge(left, right)\n",
    "\n",
    "n=int(input())\n",
    "data=[]\n",
    "for _ in range(n):\n",
    "    data.append(int(input()))\n",
    "for i in merge_split(data):\n",
    "    print(i)"
   ]
  },
  {
   "cell_type": "markdown",
   "metadata": {},
   "source": [
    "### 풀이3 : 병합정렬2(nlogn)"
   ]
  },
  {
   "cell_type": "code",
   "execution_count": 27,
   "metadata": {},
   "outputs": [
    {
     "name": "stdout",
     "output_type": "stream",
     "text": [
      "5\n",
      "5\n",
      "4\n",
      "3\n",
      "2\n",
      "1\n",
      "1\n",
      "2\n",
      "3\n",
      "4\n",
      "5\n"
     ]
    }
   ],
   "source": [
    "def merge_sort(array):\n",
    "    if len(array)<=1:\n",
    "        return array\n",
    "    mid = len(array)//2\n",
    "    left=merge_sort(array[:mid])\n",
    "    right=merge_sort(array[mid:])\n",
    "    i,j,k=0,0,0\n",
    "    while len(left)>i and len(right)>j:\n",
    "        if left[i] < right[j]:\n",
    "            array[k]=left[i]\n",
    "            i+=1\n",
    "        else:\n",
    "            array[k]=right[j]\n",
    "            j+=1\n",
    "        k+=1\n",
    "    if i==len(left):\n",
    "        while j<len(right):\n",
    "            array[k]=right[j]\n",
    "            j+=1\n",
    "            k+=1\n",
    "    elif j==len(right):\n",
    "        while i<len(left):\n",
    "            array[k]=left[i]\n",
    "            i+=1\n",
    "            k+=1\n",
    "    return array\n",
    "\n",
    "n=int(input())\n",
    "array=[]\n",
    "for _ in range(n):\n",
    "    array.append(int(input()))\n",
    "\n",
    "array = merge_sort(array)\n",
    "for i in array:\n",
    "    print(i)"
   ]
  }
 ],
 "metadata": {
  "kernelspec": {
   "display_name": "Python 3",
   "language": "python",
   "name": "python3"
  },
  "language_info": {
   "codemirror_mode": {
    "name": "ipython",
    "version": 3
   },
   "file_extension": ".py",
   "mimetype": "text/x-python",
   "name": "python",
   "nbconvert_exporter": "python",
   "pygments_lexer": "ipython3",
   "version": "3.7.6"
  }
 },
 "nbformat": 4,
 "nbformat_minor": 4
}
