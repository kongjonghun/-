{
 "cells": [
  {
   "cell_type": "markdown",
   "metadata": {},
   "source": [
    "- 시간초과 "
   ]
  },
  {
   "cell_type": "code",
   "execution_count": null,
   "metadata": {},
   "outputs": [],
   "source": [
    "def era_prime(n):\n",
    "    A,p=[0 for _ in range(n+1)], []\n",
    "    for i in range(2, n):\n",
    "        if A[i]==0:\n",
    "            p.append(i)\n",
    "        else: continue\n",
    "        for j in range(i**i, n, i):\n",
    "            A[j]=1\n",
    "    return p\n",
    "        \n",
    "while True:\n",
    "    num=int(input())\n",
    "    if num==0: break    \n",
    "    lst=era_prime(num)\n",
    "    result,tf=[],False        \n",
    "    for i in range(num,-1,-1):\n",
    "        for j in range(num):\n",
    "            if lst[i]+lst[j]==num:\n",
    "                result.append((lst[j]-lst[i], lst[i], lst[j]))\n",
    "                tf=True\n",
    "    if tf:\n",
    "        print('{0} = {1} + {2}'.format(num, max(result)[1], max(result)[2]))\n",
    "    else:\n",
    "        print('Goldbach\\'s conjecture is wrong.')                                "
   ]
  },
  {
   "cell_type": "markdown",
   "metadata": {},
   "source": [
    "- 에라토스테네스의 체 && 최적화"
   ]
  },
  {
   "cell_type": "code",
   "execution_count": 3,
   "metadata": {},
   "outputs": [
    {
     "name": "stdout",
     "output_type": "stream",
     "text": [
      "8\n",
      "8 = 3 + 5\n",
      "20\n",
      "20 = 3 + 17\n",
      "42\n",
      "42 = 5 + 37\n",
      "0\n"
     ]
    }
   ],
   "source": [
    "import math\n",
    "\n",
    "## 에라토스테네스의 체 : 소수인 경우만 True\n",
    "A=[True for _ in range(1000001)]\n",
    "for i in range(2, int(math.sqrt(1000000))+1):\n",
    "    if A[i]:        \n",
    "        for j in range(i*i, 1000000, i):\n",
    "            A[j]=False    \n",
    "\n",
    "while True:\n",
    "    num=int(input())\n",
    "    if num==0: break\n",
    "    tf=False\n",
    "    for i in range(3, num//2+1):\n",
    "        if A[i] and A[num-i]:   ## 핵심 부분 i와 num-i의 합은 num이므로, A[i]와 A[num-i]가 모두 True인 경우 중 가장 큰 차이일때\n",
    "            print(\"{0} = {1} + {2}\".format(num, i, num-i))\n",
    "            tf=True\n",
    "            break\n",
    "    if not tf:        \n",
    "        print('Goldbach\\'s conjecture is wrong.')"
   ]
  }
 ],
 "metadata": {
  "kernelspec": {
   "display_name": "Python 3",
   "language": "python",
   "name": "python3"
  },
  "language_info": {
   "codemirror_mode": {
    "name": "ipython",
    "version": 3
   },
   "file_extension": ".py",
   "mimetype": "text/x-python",
   "name": "python",
   "nbconvert_exporter": "python",
   "pygments_lexer": "ipython3",
   "version": "3.7.6"
  }
 },
 "nbformat": 4,
 "nbformat_minor": 4
}
