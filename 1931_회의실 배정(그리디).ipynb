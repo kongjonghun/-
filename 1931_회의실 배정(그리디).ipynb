{
 "cells": [
  {
   "cell_type": "code",
   "execution_count": 5,
   "metadata": {},
   "outputs": [
    {
     "name": "stdout",
     "output_type": "stream",
     "text": [
      "11\n",
      "1 4\n",
      "3 5\n",
      "0 6\n",
      "5 7\n",
      "3 8\n",
      "5 9\n",
      "6 10\n",
      "8 11\n",
      "8 12\n",
      "2 13\n",
      "12 14\n",
      "[5, 7]\n",
      "[8, 11]\n",
      "[12, 14]\n"
     ]
    }
   ],
   "source": [
    "n=int(input())\n",
    "time=[]\n",
    "for _ in range(n):\n",
    "    start,end=map(int, input().split())\n",
    "    time.append([start,end])\n",
    "\n",
    "time.sort(key=lambda x:x[0])\n",
    "time.sort(key=lambda x:x[1])\n",
    "\n",
    "last=0\n",
    "cnt=0\n",
    "for i in time:\n",
    "    if i[0]>=last:        \n",
    "        cnt+=1\n",
    "        last=i[1]\n",
    "print(cnt)"
   ]
  },
  {
   "cell_type": "code",
   "execution_count": null,
   "metadata": {},
   "outputs": [],
   "source": []
  }
 ],
 "metadata": {
  "kernelspec": {
   "display_name": "Python 3",
   "language": "python",
   "name": "python3"
  },
  "language_info": {
   "codemirror_mode": {
    "name": "ipython",
    "version": 3
   },
   "file_extension": ".py",
   "mimetype": "text/x-python",
   "name": "python",
   "nbconvert_exporter": "python",
   "pygments_lexer": "ipython3",
   "version": "3.7.6"
  }
 },
 "nbformat": 4,
 "nbformat_minor": 4
}
