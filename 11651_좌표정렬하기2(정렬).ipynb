{
 "cells": [
  {
   "cell_type": "code",
   "execution_count": 7,
   "metadata": {},
   "outputs": [
    {
     "name": "stdout",
     "output_type": "stream",
     "text": [
      "5\n",
      "0 4\n",
      "2 4\n",
      "1 4\n",
      "1 -1\n",
      "2 -1\n",
      "1 -1\n",
      "2 -1\n",
      "0 4\n",
      "1 4\n",
      "2 4\n"
     ]
    }
   ],
   "source": [
    "n=int(input())\n",
    "data=[]\n",
    "for _ in range(n):\n",
    "    x,y=map(int, input().split())\n",
    "    data.append((y, x))\n",
    "    \n",
    "data.sort()\n",
    "for i in data:\n",
    "    print(i[1], i[0])"
   ]
  }
 ],
 "metadata": {
  "kernelspec": {
   "display_name": "Python 3",
   "language": "python",
   "name": "python3"
  },
  "language_info": {
   "codemirror_mode": {
    "name": "ipython",
    "version": 3
   },
   "file_extension": ".py",
   "mimetype": "text/x-python",
   "name": "python",
   "nbconvert_exporter": "python",
   "pygments_lexer": "ipython3",
   "version": "3.7.6"
  }
 },
 "nbformat": 4,
 "nbformat_minor": 4
}
