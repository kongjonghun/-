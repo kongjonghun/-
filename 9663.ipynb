{
 "cells": [
  {
   "cell_type": "markdown",
   "metadata": {},
   "source": [
    "# 9663 : N-Queen"
   ]
  },
  {
   "cell_type": "markdown",
   "metadata": {},
   "source": [
    "https://www.acmicpc.net/problem/9663"
   ]
  },
  {
   "cell_type": "markdown",
   "metadata": {},
   "source": [
    "### Pruning (가지치기) for N Queen 문제\n",
    "- 한 행에는 하나의 퀸 밖에 위치할 수 없음 (퀸은 수평 이동이 가능하므로)\n",
    "- 맨 위에 있는 행부터 퀸을 배치하고, 다음 행에 해당 퀸이 이동할 수 없는 위치를 찾아 퀸을 배치\n",
    "- 만약 앞선 행에 배치한 퀸으로 인해, 다음 행에 해당 퀸들이 이동할 수 없는 위치가 없을 경우에는, 더 이상 퀸을 배치하지 않고, 이전 행의 퀸의 배치를 바꿈\n",
    "  - 즉, 맨 위의 행부터 전체 행까지 퀸의 배치가 가능한 경우의 수를 상태 공간 트리 형태로 만든 후, 각 경우를 맨 위의 행부터 DFS 방식으로 접근, 해당 경우가 진행이 어려울 경우, 더 이상 진행하지 않고, 다른 경우를 체크하는 방식\n",
    "<img src=\"https://www.fun-coding.org/00_Images/backtracking.png\">"
   ]
  },
  {
   "cell_type": "markdown",
   "metadata": {},
   "source": [
    "### Promising for N Queen 문제\n",
    "- 해당 루트가 조건에 맞는지를 검사하는 기법을 활용하여,\n",
    "- 현재까지 앞선 행에서 배치한 퀸이 이동할 수 없는 위치가 있는지를 다음과 같은 조건으로 확인\n",
    "  - 한 행에 어차피 하나의 퀸만 배치 가능하므로 수평 체크는 별도로 필요하지 않음\n",
    "<img src=\"https://www.fun-coding.org/00_Images/nqueen.png\">"
   ]
  },
  {
   "cell_type": "markdown",
   "metadata": {},
   "source": [
    "### 시간초과 : input()"
   ]
  },
  {
   "cell_type": "code",
   "execution_count": 4,
   "metadata": {},
   "outputs": [
    {
     "name": "stdout",
     "output_type": "stream",
     "text": [
      "8\n",
      "92\n"
     ]
    }
   ],
   "source": [
    "def available(row_num):\n",
    "    for i in range(row_num):                      # row_num(현재의 행)과 그전까지의 행들의 열을 비교하여 \n",
    "        if row[i]==row[row_num] or abs(row[i]-row[row_num]) == row_num-i:  # 수직 탐색 or 대각선 탐색  \n",
    "            return False\n",
    "    return True\n",
    "\n",
    "def dfs(row_num):\n",
    "    global result\n",
    "    \n",
    "    if row_num==N:  # 가능 경우의수 세주기 / N-1까지 성공하면 모든 행이 수행(행은 index 0부터 시작이므로)\n",
    "        result+=1\n",
    "    else:\n",
    "        for i in range(N):\n",
    "            row[row_num] = i     # 행 당 모든 열을 순회 하며\n",
    "            if available(row_num):  # 백트레킹 : False이면 해당 컬럼 위치 불가능, 다음 열로 이동 / 가능이면 다음 행으로 이동\n",
    "                dfs(row_num + 1)\n",
    "    \n",
    "N = int(input())\n",
    "row=[0]*N  # row의 인덱스는 각 행을 의미하고, 각 데이터는 각 행의 퀸의 가용 위치\n",
    "result=0     # 경우의 수\n",
    "dfs(0)       # dfs로 탐색\n",
    "print(result)"
   ]
  },
  {
   "cell_type": "markdown",
   "metadata": {},
   "source": [
    "### 가능 : sys.stdin.readline"
   ]
  },
  {
   "cell_type": "code",
   "execution_count": null,
   "metadata": {},
   "outputs": [],
   "source": [
    "import sys\n",
    "input =sys.stdin.readline\n",
    "\n",
    "def available(row_num):\n",
    "    for i in range(row_num):                      # row_num(현재의 행)과 그전까지의 행들의 열을 비교하여 \n",
    "        if row[i]==row[row_num]:  # 수직 탐색 or 대각선 탐색  \n",
    "            return False\n",
    "        if abs(row[i]-row[row_num]) == row_num-i:\n",
    "            return False\n",
    "    return True\n",
    "\n",
    "def dfs(row_num):\n",
    "    global result\n",
    "    \n",
    "    if row_num==N:  # 가능 경우의수 세주기 / N-1까지 성공하면 모든 행이 수행(행은 index 0부터 시작이므로)\n",
    "        result+=1\n",
    "    else:\n",
    "        for i in range(N):\n",
    "            row[row_num] = i     # 행 당 모든 열을 순회 하며\n",
    "            if available(row_num):  # 백트레킹 : False이면 해당 컬럼 위치 불가능, 다음 열로 이동 / 가능이면 다음 행으로 이동\n",
    "                dfs(row_num + 1)\n",
    "    \n",
    "N = int(input())\n",
    "row=[0]*N  # row의 인덱스는 각 행을 의미하고, 각 데이터는 각 행의 퀸의 가용 위치\n",
    "result=0     # 경우의 수\n",
    "dfs(0)       # dfs로 탐색\n",
    "print(result)"
   ]
  }
 ],
 "metadata": {
  "kernelspec": {
   "display_name": "Python 3",
   "language": "python",
   "name": "python3"
  },
  "language_info": {
   "codemirror_mode": {
    "name": "ipython",
    "version": 3
   },
   "file_extension": ".py",
   "mimetype": "text/x-python",
   "name": "python",
   "nbconvert_exporter": "python",
   "pygments_lexer": "ipython3",
   "version": "3.7.6"
  }
 },
 "nbformat": 4,
 "nbformat_minor": 4
}
