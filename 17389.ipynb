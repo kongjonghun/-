{
 "cells": [
  {
   "cell_type": "markdown",
   "metadata": {},
   "source": [
    "# 17389 : 보너스 점수"
   ]
  },
  {
   "cell_type": "markdown",
   "metadata": {},
   "source": [
    "https://www.acmicpc.net/problem/17389"
   ]
  },
  {
   "cell_type": "markdown",
   "metadata": {},
   "source": [
    ">enumerate : 열거하다 / 인덱스와 값 전달  \n",
    ">enumerate(순서있는 자료형) : 인덱스 값을 포함하는 enumerate 객체를 리턴    \n",
    ">* 순서있는 자료형 : list, set, tuple dictionary, string"
   ]
  },
  {
   "cell_type": "code",
   "execution_count": 1,
   "metadata": {},
   "outputs": [
    {
     "name": "stdout",
     "output_type": "stream",
     "text": [
      "8\n",
      "XOOOXOOX\n",
      "26\n"
     ]
    }
   ],
   "source": [
    "# import sys\n",
    "# input = sys.stdin.readline\n",
    "\n",
    "n=int(input())\n",
    "s=input()\n",
    "bonus,sum=0,0\n",
    "\n",
    "for i in range(len(s)):\n",
    "    if s[i]=='X':\n",
    "        bonus=0\n",
    "    else:        \n",
    "        sum+=(i+1)\n",
    "        sum+=bonus\n",
    "        bonus+=1\n",
    "        \n",
    "print(sum)"
   ]
  },
  {
   "cell_type": "code",
   "execution_count": 7,
   "metadata": {},
   "outputs": [
    {
     "name": "stdout",
     "output_type": "stream",
     "text": [
      "8\n",
      "XOOOXOOX\n",
      "26\n"
     ]
    }
   ],
   "source": [
    "n=int(input())\n",
    "s=input()\n",
    "bonus,sum=0,0\n",
    "\n",
    "for idx, OX in enumerate(s):\n",
    "    if OX=='X':\n",
    "        bonus=0\n",
    "    else:\n",
    "        sum+=idx+1+bonus        \n",
    "        bonus+=1\n",
    "print(sum)"
   ]
  }
 ],
 "metadata": {
  "kernelspec": {
   "display_name": "Python 3",
   "language": "python",
   "name": "python3"
  },
  "language_info": {
   "codemirror_mode": {
    "name": "ipython",
    "version": 3
   },
   "file_extension": ".py",
   "mimetype": "text/x-python",
   "name": "python",
   "nbconvert_exporter": "python",
   "pygments_lexer": "ipython3",
   "version": "3.7.6"
  }
 },
 "nbformat": 4,
 "nbformat_minor": 4
}
