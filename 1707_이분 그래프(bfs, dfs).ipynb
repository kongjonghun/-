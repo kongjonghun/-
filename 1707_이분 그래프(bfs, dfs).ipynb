{
 "cells": [
  {
   "cell_type": "markdown",
   "metadata": {},
   "source": [
    "<b>이분 그래프</b>는 그래프 형태의 자료구조인데 정점을 2그룹으로 나눌 수 있으되 같은 그룹의 정점끼리는 간선으로 이어지지 않은 경우를 의미한다."
   ]
  },
  {
   "cell_type": "markdown",
   "metadata": {},
   "source": [
    "1. 최초 탐색 시작할 정점의 색상을 빨간색으로 칠한다.(숫자 1로 표현)\n",
    "2. 최초 정점의 인접 정점의 색상을 파란색으로 칠한다.(숫자 -1로 표현)\n",
    "3. 해당 인접 정점들을 차례로 탐색을 시작하며 자신과 인접한 정점을 빨간색으로 칠한다.(숫자 1로 표현)\n",
    "4. 이와 같은 방식을 탐색을 지속하며 반복하여 2개의 색상으로 모두 칠한다.\n",
    "5. 색상을 칠하다가 <u>이웃 정점이 같은 색으로 칠해져 있다면</u> 이분 그래프가 될 수 없다."
   ]
  },
  {
   "cell_type": "markdown",
   "metadata": {},
   "source": [
    "<img src=\"1707.png\" width=\"20%\" height=\"20%\">"
   ]
  },
  {
   "cell_type": "markdown",
   "metadata": {},
   "source": [
    "<img src=\"1707_4.jpg\" width=\"30%\" height=\"30%\">"
   ]
  },
  {
   "cell_type": "code",
   "execution_count": 8,
   "metadata": {},
   "outputs": [
    {
     "name": "stdout",
     "output_type": "stream",
     "text": [
      "2\n",
      "3 2\n",
      "1 3\n",
      "2 3\n",
      "YES\n",
      "4 4\n",
      "1 2\n",
      "2 3\n",
      "3 4\n",
      "4 2\n",
      "NO\n"
     ]
    }
   ],
   "source": [
    "from collections import deque\n",
    "# import sys\n",
    "# input=sys.stdin.readline\n",
    "\n",
    "def bfs(node):\n",
    "    q=deque([node])    \n",
    "    visited[node]=1\n",
    "    while q:\n",
    "        n=q.popleft()\n",
    "        for i in adj[n]:\n",
    "            if not visited[i]:                \n",
    "                visited[i]=-visited[n]\n",
    "                q.append(i)\n",
    "            else:\n",
    "                if visited[i]==visited[n]:\n",
    "                    return False           # 인접 노드 같은 색 있으므로 False 반환\n",
    "    return True                            # 인접 노드 같은 색 없으므로 True 반환\n",
    "\n",
    "for _ in range(int(input())):\n",
    "    v,e=map(int, input().split())\n",
    "    adj=[[] for _ in range(v+1)]\n",
    "    visited=[0]*(v+1)\n",
    "    TF=True\n",
    "    for _ in range(e):\n",
    "        a,b=map(int, input().split())\n",
    "        adj[a].append(b)\n",
    "        adj[b].append(a)\n",
    "    for i in range(1, v+1):  # for문으로 모든 노드를 탐색하는 이유 : 이미 주어진 그래프가 두 그룹으로 나누어져있을경우 두 그래프 모두 탐색하기 위함\n",
    "        if not visited[i]:\n",
    "            if not bfs(i):   # 인접한 노드가 같은 색(값)을 가진 경우 -> 바로 끝내 너네는 NO야!!\n",
    "                TF=False\n",
    "                break\n",
    "    print(\"YES\" if TF else \"NO\")        "
   ]
  },
  {
   "cell_type": "markdown",
   "metadata": {},
   "source": [
    "<img src=\"1707_2.jpg\" width=\"40%\" height=\"40%\">\n",
    "<img src=\"1707_3.jpg\" width=\"40%\" height=\"40%\">"
   ]
  },
  {
   "cell_type": "code",
   "execution_count": null,
   "metadata": {},
   "outputs": [],
   "source": [
    "def bfs(node):\n",
    "    q=deque([node])    \n",
    "    visited[node]=1\n",
    "    while q:\n",
    "        n=q.popleft()\n",
    "        for i in adj[n]:\n",
    "            if not visited[i]:                \n",
    "                visited[i]=-visited[n]\n",
    "                q.append(i)\n",
    "            else:\n",
    "                if visited[i]==visited[n]:\n",
    "                    return False           # 인접 노드 같은 색 있으므로 False 반환\n",
    "    return True                            # 인접 노드 같은 색 없으므로 True 반환"
   ]
  },
  {
   "cell_type": "markdown",
   "metadata": {},
   "source": [
    "- (인근 노드 중) 방문하지 않은 곳만 다루기"
   ]
  },
  {
   "cell_type": "code",
   "execution_count": null,
   "metadata": {},
   "outputs": [],
   "source": [
    "def bfs(i):\n",
    "    q=deque([i])\n",
    "    visited[i]=True\n",
    "    while q:\n",
    "        n=q.popleft()\n",
    "        for j in graph[n]:\n",
    "            if not visited[j]:\n",
    "                visited[j]=True\n",
    "                q.append(j)"
   ]
  },
  {
   "cell_type": "markdown",
   "metadata": {},
   "source": [
    "- (인근 노드 중) 방문하지 않은 곳 / 방문한 곳 모두 다루기"
   ]
  },
  {
   "cell_type": "code",
   "execution_count": null,
   "metadata": {},
   "outputs": [],
   "source": [
    "def bfs(node):\n",
    "    q=deque([node])    \n",
    "    visited[node]=1\n",
    "    while q:\n",
    "        n=q.popleft()\n",
    "        for i in adj[n]:\n",
    "            if not visited[i]:                \n",
    "                visited[i]=-visited[n]\n",
    "                q.append(i)\n",
    "            else:\n",
    "                if visited[i]==visited[n]:\n",
    "                        ~~~~"
   ]
  }
 ],
 "metadata": {
  "kernelspec": {
   "display_name": "ugeos",
   "language": "python",
   "name": "ugeos"
  },
  "language_info": {
   "codemirror_mode": {
    "name": "ipython",
    "version": 3
   },
   "file_extension": ".py",
   "mimetype": "text/x-python",
   "name": "python",
   "nbconvert_exporter": "python",
   "pygments_lexer": "ipython3",
   "version": "3.9.2"
  }
 },
 "nbformat": 4,
 "nbformat_minor": 4
}
