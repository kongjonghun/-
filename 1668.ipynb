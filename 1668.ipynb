{
 "cells": [
  {
   "cell_type": "markdown",
   "metadata": {},
   "source": [
    "# 1668 : 트로피 진열"
   ]
  },
  {
   "cell_type": "markdown",
   "metadata": {},
   "source": [
    "https://www.acmicpc.net/problem/1668"
   ]
  },
  {
   "cell_type": "markdown",
   "metadata": {},
   "source": [
    "<b>array.reverse()</b>  \n",
    "- 이 메소드는 아무런 값도 반환하지 않지만, 리스트에 있는 값의 순서를 거꾸로 뒤집습니다.  \n",
    "- 즉, 리스트 원본에 대해 변형을 일으킵니다.\n",
    "\n",
    "<b>reversed(array)</b>\n",
    "- 이 메소드는 순서가 거꾸로 뒤집힌 리스트를 반환합니다.\n",
    "- 즉, 리스트 원본은 유지하고, 변형된 리스트를 반환합니다."
   ]
  },
  {
   "cell_type": "code",
   "execution_count": 1,
   "metadata": {},
   "outputs": [
    {
     "name": "stdout",
     "output_type": "stream",
     "text": [
      "[4, 3, 2, 1]\n",
      "[1, 2, 3, 4]\n",
      "\n",
      "[4, 3, 2, 1]\n"
     ]
    }
   ],
   "source": [
    "array=[1,2,3,4]\n",
    "print(list(reversed(array))) # 변형된 새로운 리스트 반환\n",
    "print(array) # 원본은 유지\n",
    "\n",
    "print()\n",
    "\n",
    "array.reverse() # 원본 리스트 변형\n",
    "print(array)"
   ]
  },
  {
   "cell_type": "code",
   "execution_count": 3,
   "metadata": {
    "scrolled": true
   },
   "outputs": [
    {
     "name": "stdout",
     "output_type": "stream",
     "text": [
      "5\n",
      "1\n",
      "2\n",
      "3\n",
      "4\n",
      "5\n",
      "5\n",
      "1\n"
     ]
    }
   ],
   "source": [
    "n=int(input())\n",
    "array=[]\n",
    "\n",
    "def trophy(array):\n",
    "    cnt,max=0,0\n",
    "    for i in range(0,len(array)):            \n",
    "        if array[i]>max:\n",
    "            max = array[i]\n",
    "            cnt+=1    \n",
    "    return cnt\n",
    "    \n",
    "for _ in range(n):\n",
    "    array.append(int(input()))\n",
    "\n",
    "print(trophy(array))\n",
    "array.reverse()\n",
    "print(trophy(array))"
   ]
  },
  {
   "cell_type": "code",
   "execution_count": 5,
   "metadata": {},
   "outputs": [
    {
     "name": "stdout",
     "output_type": "stream",
     "text": [
      "5\n",
      "1\n",
      "2\n",
      "3\n",
      "4\n",
      "5\n",
      "5\n",
      "1\n"
     ]
    }
   ],
   "source": [
    "n=int(input())\n",
    "array=[]\n",
    "\n",
    "def trophy(array):\n",
    "    max=array[0]\n",
    "    cnt=1\n",
    "    for i in range(1,len(array)):            \n",
    "        if array[i]>max:\n",
    "            max = array[i]\n",
    "            cnt+=1    \n",
    "    return cnt\n",
    "    \n",
    "for _ in range(n):\n",
    "    array.append(int(input()))\n",
    "\n",
    "print(trophy(array))\n",
    "array.reverse()\n",
    "print(trophy(array))"
   ]
  }
 ],
 "metadata": {
  "kernelspec": {
   "display_name": "Python 3",
   "language": "python",
   "name": "python3"
  },
  "language_info": {
   "codemirror_mode": {
    "name": "ipython",
    "version": 3
   },
   "file_extension": ".py",
   "mimetype": "text/x-python",
   "name": "python",
   "nbconvert_exporter": "python",
   "pygments_lexer": "ipython3",
   "version": "3.7.6"
  }
 },
 "nbformat": 4,
 "nbformat_minor": 4
}
