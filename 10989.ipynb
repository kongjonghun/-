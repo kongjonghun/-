{
 "cells": [
  {
   "cell_type": "markdown",
   "metadata": {},
   "source": [
    "# 10989 : 수 정렬하기3"
   ]
  },
  {
   "cell_type": "markdown",
   "metadata": {},
   "source": [
    "- 파이썬 : <u>대략 1초에 2천만개</u> 연산 수행\n",
    "- 기본 정렬 알고리즘 시간복잡도 : O(nlogn)\n",
    "- if 데이터개수 : 1천만개? 1천만 * log(1천만) → 시간 오버\n",
    "- <b>O(N)의 시간복잡도 정렬 알고리즘</b> 필요 → <b>계수 정렬</b>"
   ]
  },
  {
   "cell_type": "markdown",
   "metadata": {},
   "source": [
    "### 계수정렬(Counting Sort)\n",
    "   - 배열의 인덱스를 특정한 데이터의 값으로 여기는 정렬 방법\n",
    "   - 배열의 크기는 데이터의 범위를 포함할 수 있도록 설정\n",
    "   - 데이터가 등장한 횟수를 인덱스에 저장\n",
    "<img src=\"https://img1.daumcdn.net/thumb/R720x0.q80/?scode=mtistory2&fname=http%3A%2F%2Fcfile3.uf.tistory.com%2Fimage%2F99DB50335C417AC2074DFD\">"
   ]
  },
  {
   "cell_type": "markdown",
   "metadata": {},
   "source": [
    "→ 5 7 7 7 8 8 9 10"
   ]
  },
  {
   "cell_type": "markdown",
   "metadata": {},
   "source": [
    "array = [0 for i in range(10001)]  \n",
    "array = [0]*10001  \n",
    "→ array = [0,0,0,0,0,0,0,........0]"
   ]
  },
  {
   "cell_type": "code",
   "execution_count": 8,
   "metadata": {},
   "outputs": [
    {
     "data": {
      "text/plain": [
       "10001"
      ]
     },
     "execution_count": 8,
     "metadata": {},
     "output_type": "execute_result"
    }
   ],
   "source": [
    "array = [0 for i in range(10001)]\n",
    "array = [0]*10001"
   ]
  },
  {
   "cell_type": "code",
   "execution_count": null,
   "metadata": {},
   "outputs": [],
   "source": [
    "import sys\n",
    "\n",
    "n = int(sys.stdin.readline())\n",
    "array=[0 for i in range(10001)]\n",
    "\n",
    "for i in range(n):\n",
    "    data = int(sys.stdin.readline())\n",
    "    array[data]+=1\n",
    "\n",
    "for i in range(len(array)):\n",
    "    if array[i] != 0:\n",
    "        for j in range(array[i]):\n",
    "            print(i)"
   ]
  },
  {
   "cell_type": "code",
   "execution_count": 4,
   "metadata": {},
   "outputs": [
    {
     "name": "stdout",
     "output_type": "stream",
     "text": [
      "10\n",
      "5\n",
      "2\n",
      "3\n",
      "1\n",
      "4\n",
      "2\n",
      "3\n",
      "5\n",
      "1\n",
      "7\n",
      "1\n",
      "1\n",
      "2\n",
      "2\n",
      "3\n",
      "3\n",
      "4\n",
      "5\n",
      "5\n",
      "7\n"
     ]
    }
   ],
   "source": [
    "n = int(input())\n",
    "array=[0 for i in range(10001)]\n",
    "\n",
    "for i in range(n):\n",
    "    data = int(input())\n",
    "    array[data]+=1\n",
    "\n",
    "for i in range(len(array)):\n",
    "    if array[i] != 0:\n",
    "        for j in range(array[i]):\n",
    "            print(i)"
   ]
  }
 ],
 "metadata": {
  "kernelspec": {
   "display_name": "Python 3",
   "language": "python",
   "name": "python3"
  },
  "language_info": {
   "codemirror_mode": {
    "name": "ipython",
    "version": 3
   },
   "file_extension": ".py",
   "mimetype": "text/x-python",
   "name": "python",
   "nbconvert_exporter": "python",
   "pygments_lexer": "ipython3",
   "version": "3.7.6"
  }
 },
 "nbformat": 4,
 "nbformat_minor": 4
}
