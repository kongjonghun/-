{
 "cells": [
  {
   "cell_type": "code",
   "execution_count": null,
   "metadata": {},
   "outputs": [],
   "source": [
    "# 9095번_1,2,3더하기\n",
    "dp[i]=dp[i-1]+dp[i-2]+dp[i-3]\n",
    "\n",
    "# 9095번_1,2,3더하기3\n",
    "dp[i]=dp[i-1]%1000000009+dp[i-2]%1000000009+dp[i-3]%1000000009"
   ]
  },
  {
   "cell_type": "code",
   "execution_count": 1,
   "metadata": {},
   "outputs": [
    {
     "name": "stdout",
     "output_type": "stream",
     "text": [
      "3\n",
      "4\n",
      "7\n",
      "7\n",
      "44\n",
      "10\n",
      "274\n"
     ]
    }
   ],
   "source": [
    "dp=[0]*1000001\n",
    "dp[0]=1\n",
    "dp[1]=1\n",
    "dp[2]=2\n",
    "\n",
    "for i in range(3,1000001):\n",
    "    dp[i]=dp[i-1]%1000000009+dp[i-2]%1000000009+dp[i-3]%1000000009\n",
    "    \n",
    "test_case=int(input())\n",
    "for _ in range(test_case):\n",
    "    num=int(input())\n",
    "    print(dp[num]%1000000009)"
   ]
  }
 ],
 "metadata": {
  "kernelspec": {
   "display_name": "Python 3",
   "language": "python",
   "name": "python3"
  },
  "language_info": {
   "codemirror_mode": {
    "name": "ipython",
    "version": 3
   },
   "file_extension": ".py",
   "mimetype": "text/x-python",
   "name": "python",
   "nbconvert_exporter": "python",
   "pygments_lexer": "ipython3",
   "version": "3.7.6"
  }
 },
 "nbformat": 4,
 "nbformat_minor": 4
}
