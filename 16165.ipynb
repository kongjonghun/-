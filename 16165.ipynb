{
 "cells": [
  {
   "cell_type": "markdown",
   "metadata": {},
   "source": [
    "# 16165 : 걸그룹 마스터 준석이"
   ]
  },
  {
   "cell_type": "markdown",
   "metadata": {},
   "source": [
    "> <b>list.sort()</b> : 리스트에만 적용 가능!!  \n",
    ">\n",
    "> <b>sorted(iterable)</b> : iterable(list, dict, set, str, tuple) 모두 가능!!"
   ]
  },
  {
   "cell_type": "markdown",
   "metadata": {},
   "source": [
    "### sys.stdin.readline 사용 X : 맞음"
   ]
  },
  {
   "cell_type": "code",
   "execution_count": null,
   "metadata": {},
   "outputs": [],
   "source": [
    "from collections import defaultdict\n",
    "N, M = map(int, input().split())\n",
    "group_mem=defaultdict(list)\n",
    "mem_group={}\n",
    "\n",
    "for _ in range(N):\n",
    "    group_name=input()\n",
    "    group_mem[group_name]\n",
    "    member_num=int(input())    \n",
    "    \n",
    "    for i in range(member_num):\n",
    "        mem_name = input()\n",
    "        group_mem[group_name].append(mem_name)\n",
    "        mem_group[mem_name]=group_name\n",
    "\n",
    "for i in range(M):\n",
    "    name, q = input(), int(input())\n",
    "    if q==1:\n",
    "        print(mem_group[name])\n",
    "    else:\n",
    "        for j in sorted(group_mem[name]):\n",
    "            print(j)        "
   ]
  },
  {
   "cell_type": "markdown",
   "metadata": {},
   "source": [
    "### sys.stdin.readline 사용 O : 출력 형식 오류"
   ]
  },
  {
   "cell_type": "code",
   "execution_count": 11,
   "metadata": {},
   "outputs": [
    {
     "name": "stdout",
     "output_type": "stream",
     "text": [
      "3 4\n",
      "twice\n",
      "9\n",
      "jihyo\n",
      "dahyeon\n",
      "mina\n",
      "momo\n",
      "chaeyoung\n",
      "jeongyeon\n",
      "tzuyu\n",
      "sana\n",
      "nayeon\n",
      "blackpink\n",
      "4\n",
      "jisu\n",
      "lisa\n",
      "rose\n",
      "jenny\n",
      "redvelvet\n",
      "5\n",
      "wendy\n",
      "irene\n",
      "seulgi\n",
      "yeri\n",
      "joy\n",
      "sana\n",
      "1\n",
      "twice\n",
      "wendy\n",
      "1\n",
      "redvelvet\n",
      "twice\n",
      "0\n",
      "chaeyoung\n",
      "dahyeon\n",
      "jeongyeon\n",
      "jihyo\n",
      "mina\n",
      "momo\n",
      "nayeon\n",
      "sana\n",
      "tzuyu\n",
      "rose\n",
      "1\n",
      "blackpink\n"
     ]
    }
   ],
   "source": [
    "import sys\n",
    "from collections import defaultdict\n",
    "input=sys.stdin.readline.strip()\n",
    "\n",
    "N, M = map(int, input().split())\n",
    "group_mem=defaultdict(list)\n",
    "mem_group={}\n",
    "\n",
    "for _ in range(N):\n",
    "    group_name=input()\n",
    "    group_mem[group_name]\n",
    "    member_num=int(input())    \n",
    "    \n",
    "    for i in range(member_num):\n",
    "        mem_name = input()\n",
    "        group_mem[group_name].append(mem_name)\n",
    "        mem_group[mem_name]=group_name\n",
    "\n",
    "for i in range(M):\n",
    "    name, q = input(), int(input())\n",
    "    if q==1:\n",
    "        print(mem_group[name])\n",
    "    else:\n",
    "        for j in sorted(group_mem[name]):\n",
    "            print(j)        "
   ]
  }
 ],
 "metadata": {
  "kernelspec": {
   "display_name": "Python 3",
   "language": "python",
   "name": "python3"
  },
  "language_info": {
   "codemirror_mode": {
    "name": "ipython",
    "version": 3
   },
   "file_extension": ".py",
   "mimetype": "text/x-python",
   "name": "python",
   "nbconvert_exporter": "python",
   "pygments_lexer": "ipython3",
   "version": "3.7.6"
  }
 },
 "nbformat": 4,
 "nbformat_minor": 4
}
