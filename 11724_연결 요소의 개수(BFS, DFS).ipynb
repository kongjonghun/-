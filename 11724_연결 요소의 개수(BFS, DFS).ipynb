{
 "cells": [
  {
   "cell_type": "markdown",
   "metadata": {},
   "source": [
    "# DFS"
   ]
  },
  {
   "cell_type": "code",
   "execution_count": 3,
   "metadata": {},
   "outputs": [
    {
     "name": "stdout",
     "output_type": "stream",
     "text": [
      "6 8\n",
      "1 2\n",
      "2 5\n",
      "5 1\n",
      "3 4\n",
      "4 6\n",
      "5 4\n",
      "2 4\n",
      "2 3\n",
      "1\n"
     ]
    }
   ],
   "source": [
    "import sys\n",
    "sys.setrecursionlimit(10000)\n",
    "\n",
    "n,m=map(int, input().split())\n",
    "adj=[[] for _ in range(n+1)]\n",
    "visited=[False]*(n+1)\n",
    "\n",
    "def dfs(i):\n",
    "    visited[i]=True\n",
    "    for j in adj[i]:\n",
    "        if not visited[j]:\n",
    "            dfs(j)            \n",
    "\n",
    "for _ in range(m):\n",
    "    u, v = map(int, input().split())\n",
    "    adj[u].append(v)\n",
    "    adj[v].append(u)\n",
    "\n",
    "cnt=0\n",
    "for i in range(1, n+1):\n",
    "    if not visited[i]:\n",
    "        dfs(i)\n",
    "        cnt+=1\n",
    "print(cnt)"
   ]
  },
  {
   "cell_type": "markdown",
   "metadata": {},
   "source": [
    "# BFS"
   ]
  },
  {
   "cell_type": "code",
   "execution_count": 7,
   "metadata": {},
   "outputs": [
    {
     "name": "stdout",
     "output_type": "stream",
     "text": [
      "6 8\n",
      "1 2\n",
      "2 5\n",
      "5 1\n",
      "3 4\n",
      "4 6\n",
      "5 4\n",
      "2 4\n",
      "2 3\n",
      "1\n"
     ]
    }
   ],
   "source": [
    "from collections import deque\n",
    "\n",
    "n,m=map(int, input().split())\n",
    "adj=[[] for _ in range(n+1)]\n",
    "visited=[False]*(n+1)\n",
    "\n",
    "def bfs(i):\n",
    "    q=deque([i])\n",
    "    visited[i]=True\n",
    "    while q:\n",
    "        n=q.popleft()\n",
    "        for j in adj[n]:\n",
    "            if not visited[j]:\n",
    "                visited[j]=True\n",
    "                q.append(j)\n",
    "            \n",
    "for _ in range(m):\n",
    "    u, v = map(int, input().split())\n",
    "    adj[u].append(v)\n",
    "    adj[v].append(u)\n",
    "    \n",
    "cnt=0\n",
    "for i in range(1, n+1):\n",
    "    if not visited[i]:\n",
    "        bfs(i)\n",
    "        cnt+=1\n",
    "print(cnt)"
   ]
  }
 ],
 "metadata": {
  "kernelspec": {
   "display_name": "Python 3",
   "language": "python",
   "name": "python3"
  },
  "language_info": {
   "codemirror_mode": {
    "name": "ipython",
    "version": 3
   },
   "file_extension": ".py",
   "mimetype": "text/x-python",
   "name": "python",
   "nbconvert_exporter": "python",
   "pygments_lexer": "ipython3",
   "version": "3.7.6"
  }
 },
 "nbformat": 4,
 "nbformat_minor": 4
}
